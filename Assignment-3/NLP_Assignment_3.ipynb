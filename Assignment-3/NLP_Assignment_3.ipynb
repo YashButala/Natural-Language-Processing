{
  "nbformat": 4,
  "nbformat_minor": 0,
  "metadata": {
    "colab": {
      "name": "17CS30038_NLP_Assignment_3.ipynb",
      "provenance": [],
      "collapsed_sections": []
    },
    "kernelspec": {
      "name": "python3",
      "display_name": "Python 3"
    }
  },
  "cells": [
    {
      "cell_type": "markdown",
      "metadata": {
        "id": "zyJ25uz0kSaw"
      },
      "source": [
        "# Assignment 3 on Natural Language Processing\n",
        "\n",
        "## Date : 30th Sept, 2020\n",
        "\n",
        "### Instructor : Prof. Sudeshna Sarkar\n",
        "\n",
        "### Teaching Assistants : Alapan Kuila, Aniruddha Roy, Anusha Potnuru, Uppada Vishnu"
      ]
    },
    {
      "cell_type": "markdown",
      "metadata": {
        "id": "Ao1nhg9RknmF"
      },
      "source": [
        "The central idea of this assignment is to use Naive Bayes classifier and LSTM based classifier and compare the models by accuracy on IMDB dataset.\n",
        "\n"
      ]
    },
    {
      "cell_type": "markdown",
      "metadata": {
        "id": "ONM5Q4SCe9Mr"
      },
      "source": [
        "Please submit with outputs. "
      ]
    },
    {
      "cell_type": "code",
      "metadata": {
        "id": "ElRkQElWUMjG"
      },
      "source": [
        "import re\n",
        "import pandas as pd\n",
        "import numpy as np\n",
        "from sklearn.preprocessing import LabelEncoder\n",
        "from sklearn.model_selection import train_test_split\n",
        "from keras.preprocessing.text import Tokenizer\n",
        "from keras.preprocessing.sequence import pad_sequences\n",
        "import keras\n",
        "from sklearn.metrics import classification_report"
      ],
      "execution_count": null,
      "outputs": []
    },
    {
      "cell_type": "code",
      "metadata": {
        "id": "fhHRim2AUm4z",
        "outputId": "ebcc5afd-998c-4a5b-9ae3-6c03c870e41d",
        "colab": {
          "resources": {
            "http://localhost:8080/nbextensions/google.colab/files.js": {
              "data": "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",
              "ok": true,
              "headers": [
                [
                  "content-type",
                  "application/javascript"
                ]
              ],
              "status": 200,
              "status_text": ""
            }
          },
          "base_uri": "https://localhost:8080/",
          "height": 70
        }
      },
      "source": [
        "from google.colab import files\n",
        "uploaded = files.upload()"
      ],
      "execution_count": null,
      "outputs": [
        {
          "output_type": "display_data",
          "data": {
            "text/html": [
              "\n",
              "     <input type=\"file\" id=\"files-40cc2302-71e7-42db-84f4-56ad49fe0ed8\" name=\"files[]\" multiple disabled\n",
              "        style=\"border:none\" />\n",
              "     <output id=\"result-40cc2302-71e7-42db-84f4-56ad49fe0ed8\">\n",
              "      Upload widget is only available when the cell has been executed in the\n",
              "      current browser session. Please rerun this cell to enable.\n",
              "      </output>\n",
              "      <script src=\"/nbextensions/google.colab/files.js\"></script> "
            ],
            "text/plain": [
              "<IPython.core.display.HTML object>"
            ]
          },
          "metadata": {
            "tags": []
          }
        },
        {
          "output_type": "stream",
          "text": [
            "Saving IMDBDataset.csv to IMDBDataset.csv\n"
          ],
          "name": "stdout"
        }
      ]
    },
    {
      "cell_type": "code",
      "metadata": {
        "id": "_C-8-I6lQeDW",
        "outputId": "44f2c35f-0254-4a2c-890d-6f1f72b9604b",
        "colab": {
          "base_uri": "https://localhost:8080/",
          "height": 191
        }
      },
      "source": [
        "data = pd.read_csv(\"IMDBDataset.csv\")\n",
        "data.head()"
      ],
      "execution_count": null,
      "outputs": [
        {
          "output_type": "execute_result",
          "data": {
            "text/html": [
              "<div>\n",
              "<style scoped>\n",
              "    .dataframe tbody tr th:only-of-type {\n",
              "        vertical-align: middle;\n",
              "    }\n",
              "\n",
              "    .dataframe tbody tr th {\n",
              "        vertical-align: top;\n",
              "    }\n",
              "\n",
              "    .dataframe thead th {\n",
              "        text-align: right;\n",
              "    }\n",
              "</style>\n",
              "<table border=\"1\" class=\"dataframe\">\n",
              "  <thead>\n",
              "    <tr style=\"text-align: right;\">\n",
              "      <th></th>\n",
              "      <th>review</th>\n",
              "      <th>sentiment</th>\n",
              "    </tr>\n",
              "  </thead>\n",
              "  <tbody>\n",
              "    <tr>\n",
              "      <th>0</th>\n",
              "      <td>One of the other reviewers has mentioned that ...</td>\n",
              "      <td>positive</td>\n",
              "    </tr>\n",
              "    <tr>\n",
              "      <th>1</th>\n",
              "      <td>A wonderful little production. &lt;br /&gt;&lt;br /&gt;The...</td>\n",
              "      <td>positive</td>\n",
              "    </tr>\n",
              "    <tr>\n",
              "      <th>2</th>\n",
              "      <td>I thought this was a wonderful way to spend ti...</td>\n",
              "      <td>positive</td>\n",
              "    </tr>\n",
              "    <tr>\n",
              "      <th>3</th>\n",
              "      <td>Basically there's a family where a little boy ...</td>\n",
              "      <td>negative</td>\n",
              "    </tr>\n",
              "    <tr>\n",
              "      <th>4</th>\n",
              "      <td>Petter Mattei's \"Love in the Time of Money\" is...</td>\n",
              "      <td>positive</td>\n",
              "    </tr>\n",
              "  </tbody>\n",
              "</table>\n",
              "</div>"
            ],
            "text/plain": [
              "                                              review sentiment\n",
              "0  One of the other reviewers has mentioned that ...  positive\n",
              "1  A wonderful little production. <br /><br />The...  positive\n",
              "2  I thought this was a wonderful way to spend ti...  positive\n",
              "3  Basically there's a family where a little boy ...  negative\n",
              "4  Petter Mattei's \"Love in the Time of Money\" is...  positive"
            ]
          },
          "metadata": {
            "tags": []
          },
          "execution_count": 215
        }
      ]
    },
    {
      "cell_type": "markdown",
      "metadata": {
        "id": "lK_Hn2f6VMP7"
      },
      "source": [
        "# Preprocessing\n",
        "PrePrecessing that needs to be done on lower cased corpus\n",
        "\n",
        "1. Remove html tags\n",
        "2. Remove URLS\n",
        "3. Remove non alphanumeric character\n",
        "4. Remove Stopwords\n",
        "5. Perform stemming and lemmatization\n",
        "\n",
        "You can use regex from re. "
      ]
    },
    {
      "cell_type": "code",
      "metadata": {
        "id": "5B5lHZPsVOXv",
        "outputId": "b1c6a488-aeac-4320-f48e-1ab45e6a1706",
        "colab": {
          "base_uri": "https://localhost:8080/",
          "height": 248
        }
      },
      "source": [
        "import nltk\n",
        "nltk.download('stopwords')\n",
        "nltk.download('punkt')\n",
        "from nltk.corpus import stopwords\n",
        "from nltk.stem import PorterStemmer \n",
        "from nltk.tokenize import word_tokenize \n",
        "\n",
        "TAG_RE = re.compile(r'<[^>]+>')\n",
        "sw = set(stopwords.words('english')) \n",
        "ps = PorterStemmer() \n",
        "sum = 0 \n",
        "cnt = 0\n",
        "ma = 0\n",
        "vocab = set() \n",
        "poscnt = 0\n",
        "negcnt = 0\n",
        "\n",
        "for index,row in data.iterrows(): \n",
        "  txt = row['review']\n",
        "  tmp = row['sentiment']\n",
        "  txt1 = TAG_RE.sub('', txt)                       #remove html\n",
        "  txt2 = re.sub(r'''(?i)\\b((?:https?://|www\\d{0,3}[.]|[a-z0-9.\\-]+[.][a-z]{2,4}/)(?:[^\\s()<>]+|\\(([^\\s()<>]+|(\\([^\\s()<>]+\\)))*\\))+(?:\\(([^\\s()<>]+|(\\([^\\s()<>]+\\)))*\\)|[^\\s`!()\\[\\]{};:'\".,<>?«»“”‘’]))''', \" \", txt1)\n",
        "  #remove url\n",
        "  txt3 = re.sub(r'[^A-Za-z0-9 ]+', '', txt2)       #remove non alhpa-numeric\n",
        "  txt4 = word_tokenize(txt3)                       #remove stopwords\n",
        "  txt4 = [w for w in txt4 if w not in sw]  \n",
        "  txt5 = []                                        #stemming\n",
        "  for w in txt4:\n",
        "    txt5.append(ps.stem(w))\n",
        "    vocab.add(w)\n",
        "  if tmp == 'positive':\n",
        "    poscnt += len(txt5)\n",
        "  else:\n",
        "    negcnt += len(txt5)\n",
        "  sum = sum+len(txt5)\n",
        "  cnt = cnt+1\n",
        "  ma = max(ma,len(txt5))\n",
        "  row['review'] = \" \".join(txt5)\n",
        "  if index<9:\n",
        "    print(row['review'])\n",
        "  "
      ],
      "execution_count": null,
      "outputs": [
        {
          "output_type": "stream",
          "text": [
            "[nltk_data] Downloading package stopwords to /root/nltk_data...\n",
            "[nltk_data]   Package stopwords is already up-to-date!\n",
            "[nltk_data] Downloading package punkt to /root/nltk_data...\n",
            "[nltk_data]   Package punkt is already up-to-date!\n",
            "one review mention watch 1 Oz episod youll hook right exactli happen meth first thing struck Oz brutal unflinch scene violenc set right word GO trust show faint heart timid thi show pull punch regard drug sex violenc hardcor classic use wordit call OZ nicknam given oswald maximum secur state penitentari It focu mainli emerald citi experi section prison cell glass front face inward privaci high agenda Em citi home manyaryan muslim gangsta latino christian italian irish moreso scuffl death stare dodgi deal shadi agreement never far awayi would say main appeal show due fact goe show wouldnt dare forget pretti pictur paint mainstream audienc forget charm forget romanceoz doesnt mess around first episod I ever saw struck nasti surreal I couldnt say I readi I watch I develop tast Oz got accustom high level graphic violenc violenc injust crook guard wholl sold nickel inmat wholl kill order get away well manner middl class inmat turn prison bitch due lack street skill prison experi watch Oz may becom comfort uncomfort viewingthat get touch darker side\n",
            "A wonder littl product film techniqu unassum oldtimebbc fashion give comfort sometim discomfort sen realism entir piec actor extrem well chosen michael sheen got polari voic pat truli see seamless edit guid refer william diari entri well worth watch terrificli written perform piec A master product one great master comedi life realism realli come home littl thing fantasi guard rather use tradit dream techniqu remain solid disappear It play knowledg sen particularli scene concern orton halliwel set particularli flat halliwel mural decor everi surfac terribl well done\n",
            "I thought wonder way spend time hot summer weekend sit air condit theater watch lightheart comedi plot simplist dialogu witti charact likabl even well bread suspect serial killer may disappoint realiz match point 2 risk addict I thought proof woodi allen still fulli control style mani us grown lovethi Id laugh one woodi comedi year dare I say decad ive never impress scarlet johanson manag tone sexi imag jump right averag spirit young womanthi may crown jewel career wittier devil wear prada interest superman great comedi go see friend\n",
            "basic famili littl boy jake think zombi closet parent fight timethi movi slower soap opera suddenli jake decid becom rambo kill zombieok first go make film must decid thriller drama As drama movi watchabl parent divorc argu like real life jake closet total ruin film I expect see boogeyman similar movi instead watch drama meaningless thriller spots3 10 well play parent descent dialog As shot jake ignor\n",
            "petter mattei love time money visual stun film watch Mr mattei offer us vivid portrait human relat thi movi seem tell us money power success peopl differ situat encount thi variat arthur schnitzler play theme director transfer action present time new york differ charact meet connect one connect one way anoth next person one seem know previou point contact stylishli film sophist luxuri look We taken see peopl live world live habitatth thing one get soul pictur differ stage lone one inhabit A big citi exactli best place human relat find sincer fulfil one discern case peopl encounterth act good Mr mattei direct steve buscemi rosario dawson carol kane michael imperioli adrian grenier rest talent cast make charact come alivew wish Mr mattei good luck await anxiou next work\n",
            "probabl alltim favorit movi stori selfless sacrif dedic nobl cau preachi bore It never get old despit seen 15 time last 25 year paul luka perform bring tear eye bett davi one truli sympathet role delight kid grandma say like dressedup midget children make fun watch mother slow awaken happen world roof believ startl If I dozen thumb theyd movi\n",
            "I sure would like see resurrect date seahunt seri tech today would bring back kid excit mei grew black white TV seahunt gunsmok hero everi weekyou vote comeback new sea huntw need chang pace TV would work world water adventureoh way thank outlet like view mani viewpoint TV mani moviesso ole way I believ ive got I wan na saywould nice read plu point sea huntif rhyme would 10 line would let submitor leav doubt quitif I must go let\n",
            "thi show amaz fresh innov idea 70 first air first 7 8 year brilliant thing drop By 1990 show realli funni anymor continu declin complet wast time todayit truli disgrac far show fallen write pain bad perform almost bad mildli entertain respit guesthost show probabl wouldnt still air I find hard believ creator handselect origin cast also chose band hack follow one recogn brillianc see fit replac mediocr I felt I must give 2 star respect origin cast made show huge success As show aw I cant believ still air\n",
            "encourag posit comment film I look forward watch film bad mistak ive seen 950 film truli one worst aw almost everi way edit pace storylin act soundtrack film song lame countri tune play less four time film look cheap nasti bore extrem rare I happi see end credit film thing prevent give 1score harvey keitel far best perform least seem make bit effort one keitel obsess\n"
          ],
          "name": "stdout"
        }
      ]
    },
    {
      "cell_type": "code",
      "metadata": {
        "id": "DyaSkfcvYGXk",
        "outputId": "85b72885-6157-4afa-a65b-9a5502e1d5fb",
        "colab": {
          "base_uri": "https://localhost:8080/",
          "height": 98
        }
      },
      "source": [
        "# Print Statistics of Data like avg length of sentence , proposition of data w.r.t class labels\n",
        "print('Avg length = ', sum/cnt)\n",
        "print('Max length of sentence: ',ma)\n",
        "print('Size of vocabulary ',len(vocab))\n",
        "print('Number of words in positive class',poscnt)\n",
        "print('Number of words in negative class',negcnt)"
      ],
      "execution_count": null,
      "outputs": [
        {
          "output_type": "stream",
          "text": [
            "Avg length =  124.58464\n",
            "Max length of sentence:  1444\n",
            "Size of vocabulary  182686\n",
            "Number of words in positive class 3144844\n",
            "Number of words in negative class 3084388\n"
          ],
          "name": "stdout"
        }
      ]
    },
    {
      "cell_type": "markdown",
      "metadata": {
        "id": "_FkJ-e2pUwun"
      },
      "source": [
        "# Naive Bayes classifier"
      ]
    },
    {
      "cell_type": "code",
      "metadata": {
        "id": "eVq-mN28U_J4"
      },
      "source": [
        "# get reviews column from df\n",
        "reviews = data['review']\n",
        "\n",
        "# get labels column from df\n",
        "labels = data['sentiment']"
      ],
      "execution_count": null,
      "outputs": []
    },
    {
      "cell_type": "code",
      "metadata": {
        "id": "Ljo5NquhXTXr"
      },
      "source": [
        "# Use label encoder to encode labels. Convert to 0/1\n",
        "encoder = LabelEncoder()\n",
        "encoded_labels = encoder.fit_transform(labels)\n",
        "#print(encoded_labels)\n",
        "# print(enc.classes_)"
      ],
      "execution_count": null,
      "outputs": []
    },
    {
      "cell_type": "code",
      "metadata": {
        "id": "wzG-C_EVWWET",
        "outputId": "4971d217-6d05-4049-eabd-46be50460972",
        "colab": {
          "base_uri": "https://localhost:8080/",
          "height": 50
        }
      },
      "source": [
        "# Split the data into train and test (80% - 20%). \n",
        "# Use stratify in train_test_split so that both train and test have similar ratio of positive and negative samples.\n",
        "# train_sentences, test_sentences, train_labels, test_labels\n",
        "from sklearn.model_selection import train_test_split\n",
        "X_train, X_test, y_train, y_test = train_test_split(data['review'], encoded_labels,test_size=0.2,stratify=encoded_labels )\n",
        "print(len(X_train))\n",
        "print(len(X_test))"
      ],
      "execution_count": null,
      "outputs": [
        {
          "output_type": "stream",
          "text": [
            "40000\n",
            "10000\n"
          ],
          "name": "stdout"
        }
      ]
    },
    {
      "cell_type": "markdown",
      "metadata": {
        "id": "Bz1YdsSkiWCX"
      },
      "source": [
        "Here there are two approaches possible for building vocabulary for the naive Bayes.\n",
        "1. Take the whole data (train + test) to build the vocab. In this way while testing there is no word which will be out of vocabulary.\n",
        "2. Take the train data to build vocab. In this case, some words from the test set may not be in vocab and hence one needs to perform smoothing so that one the probability term is not zero.\n",
        " \n",
        "You are supposed to go by the 2nd approach.\n",
        " \n",
        "Also building vocab by taking all words in the train set is memory intensive, hence you are required to build vocab by choosing the top 2000 - 3000 frequent words in the training corpus.\n",
        "\n",
        "> $ P(x_i | w_j) = \\frac{ N_{x_i,w_j}\\, +\\, \\alpha }{ N_{w_j}\\, +\\, \\alpha*d} $\n",
        "\n",
        "\n",
        "$N_{x_i,w_j}$ : Number of times feature $x_i$ appears in samples of class $w_j$\n",
        "\n",
        "$N_{w_j}$ : Total count of features in class $w_j$\n",
        "\n",
        "$\\alpha$ : Parameter for additive smoothing. Here consider $\\alpha$ = 1\n",
        "\n",
        "$d$ : Dimentionality of the feature vector  $x = [x_1,x_2,...,x_d]$. In our case its the vocab size.\n",
        "\n",
        "\n",
        "\n",
        "\n"
      ]
    },
    {
      "cell_type": "code",
      "metadata": {
        "id": "1cllNfGmUr77"
      },
      "source": [
        "from sklearn.feature_extraction.text import CountVectorizer\n",
        "# Use Count vectorizer to get frequency of the words\n",
        "\n",
        "X_train_pos = []\n",
        "X_train_neg = []\n",
        "i = 0\n",
        "for row in X_train:\n",
        "  if y_train[i]==1:\n",
        "    X_train_pos.append(row)\n",
        "  else:\n",
        "    X_train_neg.append(row)\n",
        "  i += 1\n",
        "#max_features parameter : If not None, build a vocabulary that only consider the top max_features ordered by term frequency across the corpus.\n",
        "vec1 = CountVectorizer(max_features = 3000)\n",
        "XP = vec1.fit_transform(X_train_pos)\n",
        "\n",
        "vec2 = CountVectorizer(max_features = 3000)\n",
        "XN = vec2.fit_transform(X_train_neg)\n"
      ],
      "execution_count": null,
      "outputs": []
    },
    {
      "cell_type": "code",
      "metadata": {
        "id": "qzRvPjWaWUnm",
        "outputId": "7754d4d8-8cf6-4a80-e498-cf6b570cd3f4",
        "colab": {
          "base_uri": "https://localhost:8080/",
          "height": 135
        }
      },
      "source": [
        "# Use laplace smoothing for words in test set not present in vocab of train set\n",
        "word_list = vec1.get_feature_names()\n",
        "count_list = XP.toarray().sum(axis=0)\n",
        "freq_pos = dict(zip(word_list,count_list))\n",
        "print(freq_pos)\n",
        "\n",
        "word_list1 = vec2.get_feature_names()\n",
        "count_list1 = XN.toarray().sum(axis=0)\n",
        "freq_neg = dict(zip(word_list1,count_list1))\n",
        "print(freq_neg)\n",
        "\n",
        "pos_cnt = count_list.sum(axis = 0)\n",
        "neg_cnt = count_list1.sum(axis = 0)\n",
        "\n",
        "print(pos_cnt)\n",
        "print(neg_cnt)\n",
        "prob_unk_pos = 1.0/(pos_cnt+3000.0)\n",
        "prob_unk_neg = 1.0/(neg_cnt+3000.0)\n",
        "print(prob_unk_pos)\n",
        "print(prob_unk_neg)"
      ],
      "execution_count": null,
      "outputs": [
        {
          "output_type": "stream",
          "text": [
            "{'10': 1653, '100': 308, '1010': 292, '11': 165, '12': 335, '13': 137, '14': 131, '15': 299, '18': 108, '1930': 188, '1940': 158, '1950': 267, '1960': 146, '1970': 230, '1980': 243, '1990': 135, '20': 458, '2000': 111, '2001': 163, '2005': 135, '2006': 117, '20th': 132, '25': 130, '30': 365, '40': 305, '50': 363, '60': 356, '70': 573, '710': 209, '80': 677, '810': 249, '90': 327, '910': 187, 'abandon': 212, 'abc': 118, 'abil': 475, 'abl': 1141, 'absolut': 1278, 'absorb': 137, 'absurd': 182, 'abu': 340, 'academi': 305, 'accent': 367, 'accept': 702, 'access': 126, 'accid': 461, 'accompani': 204, 'accomplish': 236, 'accord': 196, 'account': 233, 'accu': 188, 'accur': 342, 'achiev': 558, 'across': 813, 'act': 5306, 'action': 2699, 'activ': 233, 'actor': 4843, 'actress': 1213, 'actual': 3201, 'ad': 638, 'adam': 290, 'adapt': 676, 'add': 968, 'addict': 253, 'addit': 408, 'address': 149, 'admir': 417, 'admit': 550, 'adopt': 148, 'ador': 263, 'adult': 755, 'advanc': 228, 'advantag': 161, 'adventur': 738, 'adverti': 140, 'advi': 125, 'advic': 135, 'affair': 349, 'affect': 512, 'afraid': 237, 'africa': 166, 'african': 175, 'afternoon': 151, 'afterward': 143, 'age': 1392, 'agent': 352, 'ago': 915, 'agr': 628, 'ahead': 324, 'aid': 254, 'aim': 184, 'aint': 109, 'air': 686, 'aka': 186, 'al': 245, 'alan': 284, 'albeit': 161, 'albert': 234, 'album': 153, 'alcohol': 157, 'alex': 206, 'alexand': 147, 'alfr': 126, 'alic': 247, 'alien': 476, 'alik': 112, 'aliv': 386, 'allen': 219, 'alli': 103, 'allow': 896, 'alltim': 122, 'almost': 2440, 'alon': 747, 'along': 1608, 'alreadi': 943, 'also': 8414, 'alter': 138, 'altern': 207, 'although': 2129, 'alway': 3219, 'amanda': 109, 'amaz': 1768, 'amazingli': 167, 'ambigu': 154, 'ambiti': 124, 'america': 653, 'american': 2125, 'among': 776, 'amongst': 145, 'amount': 472, 'amu': 445, 'an': 588, 'ancient': 152, 'anderson': 203, 'andi': 263, 'andor': 155, 'andr': 118, 'andrew': 263, 'angel': 411, 'anger': 201, 'angl': 297, 'angri': 217, 'ani': 174, 'anim': 1882, 'ann': 506, 'anna': 219, 'announc': 126, 'annoy': 416, 'anoth': 3116, 'answer': 508, 'anthoni': 222, 'antic': 107, 'anticip': 115, 'anybodi': 188, 'anymor': 253, 'anyon': 1962, 'anyth': 1617, 'anyway': 636, 'anywh': 211, 'apart': 750, 'appar': 607, 'appeal': 561, 'appear': 1844, 'appli': 139, 'appreci': 875, 'approach': 499, 'appropri': 284, 'area': 406, 'arent': 547, 'argento': 114, 'argu': 174, 'argument': 139, 'arm': 309, 'armi': 384, 'around': 2607, 'arrang': 140, 'arrest': 160, 'arriv': 490, 'art': 1288, 'arthur': 305, 'artist': 745, 'as': 2332, 'asian': 144, 'asid': 355, 'ask': 1065, 'aspect': 718, 'aspir': 125, 'ass': 149, 'assassin': 230, 'assign': 135, 'assist': 233, 'associ': 222, 'assum': 260, 'assur': 128, 'astonish': 135, 'at': 1066, 'atmosph': 885, 'attach': 132, 'attack': 539, 'attempt': 1025, 'attend': 211, 'attent': 817, 'attitud': 311, 'attract': 542, 'audienc': 2036, 'aunt': 169, 'australia': 165, 'australian': 271, 'authent': 225, 'author': 386, 'avail': 497, 'averag': 453, 'avoid': 348, 'aw': 255, 'awar': 276, 'award': 628, 'away': 2002, 'awe': 108, 'awesom': 584, 'awkward': 194, 'babi': 533, 'back': 3927, 'backdrop': 148, 'background': 591, 'bad': 2867, 'badli': 163, 'bag': 121, 'balanc': 287, 'ball': 254, 'band': 543, 'bank': 205, 'bar': 317, 'barbara': 257, 'bare': 308, 'barri': 201, 'base': 1324, 'baseb': 192, 'basi': 120, 'basic': 858, 'bate': 112, 'bath': 128, 'batman': 392, 'battl': 736, 'bbc': 203, 'be': 166, 'beach': 192, 'bean': 106, 'bear': 278, 'beast': 119, 'beat': 482, 'beauti': 3694, 'becam': 597, 'becau': 306, 'becom': 2854, 'bed': 375, 'befor': 270, 'befriend': 115, 'beg': 106, 'began': 281, 'begin': 2317, 'behavior': 249, 'behind': 940, 'belief': 203, 'believ': 2937, 'bell': 151, 'belong': 227, 'belov': 164, 'ben': 454, 'benefit': 157, 'bergman': 163, 'besid': 323, 'best': 6593, 'bet': 176, 'betray': 178, 'bett': 124, 'better': 3692, 'betti': 344, 'beyond': 619, 'bia': 112, 'big': 2712, 'bigger': 207, 'biggest': 327, 'bill': 656, 'billi': 380, 'bird': 182, 'birth': 174, 'birthday': 139, 'bit': 2830, 'bite': 129, 'bitter': 167, 'bizarr': 380, 'black': 1650, 'blade': 137, 'blake': 123, 'blame': 193, 'bland': 111, 'blast': 117, 'bleak': 138, 'blend': 235, 'bless': 106, 'blind': 242, 'block': 120, 'blockbust': 154, 'blond': 196, 'blood': 665, 'bloodi': 203, 'blow': 316, 'blown': 167, 'blue': 510, 'bmovi': 112, 'board': 287, 'boat': 210, 'bob': 217, 'bobbi': 149, 'bodi': 747, 'bollywood': 128, 'bomb': 251, 'bond': 602, 'bone': 121, 'bonu': 109, 'book': 1900, 'boot': 145, 'border': 149, 'bore': 780, 'born': 353, 'borrow': 172, 'boss': 375, 'bother': 255, 'bottom': 184, 'bought': 351, 'bound': 174, 'bourn': 155, 'box': 543, 'boy': 1866, 'boyfriend': 300, 'brad': 147, 'brain': 337, 'brand': 129, 'brando': 124, 'brave': 177, 'brazil': 148, 'break': 791, 'breath': 251, 'breathtak': 199, 'brian': 289, 'bride': 116, 'bridg': 211, 'brief': 338, 'bright': 187, 'brillianc': 132, 'brilliant': 1419, 'brilliantli': 303, 'bring': 1563, 'britain': 140, 'british': 801, 'broadcast': 159, 'broadway': 205, 'broke': 129, 'broken': 217, 'brook': 257, 'brother': 1320, 'brought': 724, 'brown': 307, 'bruce': 328, 'bruno': 148, 'brutal': 468, 'bu': 135, 'buck': 184, 'bud': 125, 'buddi': 314, 'budget': 864, 'buff': 170, 'bug': 226, 'build': 718, 'built': 175, 'bullet': 116, 'bulli': 140, 'bunch': 363, 'buri': 120, 'burn': 349, 'burt': 137, 'burton': 174, 'busi': 672, 'buster': 120, 'buy': 791, 'by': 455, 'cabl': 200, 'cage': 196, 'cain': 154, 'california': 170, 'call': 1850, 'calm': 113, 'came': 1408, 'cameo': 323, 'camera': 1071, 'cameron': 108, 'camp': 422, 'campbel': 111, 'campi': 112, 'canadian': 176, 'cancel': 143, 'candi': 162, 'cant': 2407, 'capabl': 214, 'capit': 118, 'captain': 288, 'captiv': 272, 'captur': 916, 'car': 988, 'card': 168, 'care': 1402, 'career': 886, 'carl': 109, 'carol': 150, 'carpent': 220, 'carri': 772, 'cartoon': 614, 'case': 1176, 'cash': 128, 'cassavet': 133, 'cast': 3731, 'castl': 276, 'casual': 109, 'cat': 467, 'catch': 561, 'categori': 144, 'catherin': 135, 'cau': 807, 'caught': 533, 'celebr': 315, 'cell': 186, 'center': 337, 'central': 379, 'centuri': 502, 'certain': 709, 'certainli': 1345, 'cgi': 153, 'chain': 154, 'chair': 124, 'challeng': 431, 'champion': 106, 'chan': 220, 'chanc': 1073, 'chang': 1796, 'channel': 357, 'chao': 116, 'chaplin': 257, 'chapter': 130, 'charact': 11142, 'charg': 254, 'charismat': 121, 'charl': 452, 'charli': 430, 'charm': 924, 'chase': 539, 'che': 130, 'cheap': 286, 'cheat': 161, 'check': 764, 'cheer': 203, 'cheesi': 350, 'chemistri': 425, 'chicago': 108, 'chick': 154, 'chief': 225, 'child': 1002, 'childhood': 353, 'children': 1352, 'chill': 314, 'china': 194, 'chine': 272, 'choic': 609, 'choo': 287, 'choreograph': 103, 'chose': 129, 'chosen': 197, 'chri': 355, 'christi': 138, 'christian': 260, 'christma': 407, 'christoph': 350, 'chuck': 107, 'church': 261, 'cia': 113, 'cinderella': 150, 'cinema': 1347, 'cinemat': 359, 'cinematograph': 138, 'cinematographi': 876, 'circl': 135, 'circumst': 224, 'citi': 1256, 'citizen': 186, 'civil': 325, 'claim': 372, 'clair': 131, 'clark': 198, 'class': 708, 'classic': 2141, 'clean': 296, 'clear': 600, 'clearli': 622, 'clever': 535, 'cleverli': 110, 'clich': 334, 'climax': 347, 'climb': 114, 'clint': 151, 'clip': 201, 'close': 1268, 'closer': 186, 'closeup': 140, 'cloth': 286, 'club': 355, 'clue': 206, 'coach': 138, 'code': 151, 'coincid': 154, 'cold': 470, 'cole': 137, 'collabor': 126, 'collect': 509, 'colleg': 368, 'colonel': 112, 'color': 762, 'colour': 231, 'columbo': 189, 'combat': 114, 'combin': 581, 'come': 5535, 'comedi': 3119, 'comedian': 187, 'comfort': 274, 'comic': 982, 'command': 271, 'comment': 1247, 'commentari': 310, 'commerci': 269, 'commit': 421, 'common': 430, 'commun': 494, 'compani': 498, 'companion': 141, 'compar': 883, 'comparison': 248, 'compass': 139, 'compel': 438, 'compet': 222, 'competit': 152, 'complain': 246, 'complaint': 219, 'complet': 1822, 'complex': 620, 'complic': 260, 'compo': 214, 'comput': 291, 'con': 154, 'concentr': 165, 'concept': 393, 'concern': 509, 'concert': 193, 'conclu': 344, 'condit': 228, 'confess': 169, 'confid': 177, 'conflict': 401, 'confront': 309, 'confu': 578, 'connect': 517, 'conneri': 160, 'consequ': 235, 'consid': 1394, 'consist': 313, 'constant': 214, 'constantli': 334, 'construct': 203, 'contact': 174, 'contain': 609, 'contemporari': 242, 'content': 331, 'contest': 130, 'context': 192, 'continu': 883, 'contract': 113, 'contrast': 335, 'contribut': 241, 'contriv': 118, 'control': 549, 'controversi': 219, 'convent': 248, 'conver': 307, 'convey': 291, 'convict': 191, 'convinc': 732, 'convincingli': 104, 'cook': 216, 'cool': 775, 'cooper': 202, 'cop': 643, 'cope': 127, 'copi': 688, 'core': 183, 'corner': 134, 'corni': 168, 'corp': 158, 'corpor': 156, 'correct': 237, 'corrupt': 225, 'cost': 213, 'costar': 144, 'costum': 507, 'could': 4898, 'couldnt': 758, 'count': 302, 'countri': 1029, 'coupl': 1413, 'cour': 2110, 'courag': 213, 'court': 190, 'cousin': 165, 'cover': 621, 'cowboy': 176, 'cox': 107, 'crack': 196, 'craft': 286, 'craig': 134, 'crap': 232, 'crash': 265, 'crazi': 541, 'creat': 1458, 'creation': 170, 'creativ': 403, 'creator': 157, 'creatur': 329, 'credibl': 191, 'credit': 860, 'creep': 107, 'creepi': 537, 'crew': 502, 'cri': 699, 'crime': 776, 'crimin': 426, 'crisi': 118, 'critic': 1028, 'crook': 127, 'cross': 360, 'crowd': 295, 'crude': 131, 'cruel': 136, 'crush': 128, 'crystal': 115, 'cult': 317, 'cultur': 707, 'cup': 111, 'cur': 176, 'cure': 133, 'curiou': 219, 'current': 356, 'curti': 112, 'cusack': 116, 'custer': 162, 'custom': 124, 'cut': 852, 'cute': 458, 'cynic': 229, 'da': 122, 'dad': 384, 'daili': 175, 'damag': 150, 'damn': 272, 'dan': 243, 'danc': 1246, 'dancer': 216, 'danger': 495, 'daniel': 263, 'danni': 348, 'dare': 298, 'dark': 1362, 'darker': 125, 'date': 715, 'daughter': 979, 'dave': 141, 'davi': 428, 'david': 1008, 'dawn': 127, 'day': 3238, 'de': 659, 'dead': 1119, 'deadli': 139, 'deal': 1227, 'dealt': 133, 'dean': 174, 'death': 1741, 'debat': 118, 'debut': 301, 'decad': 426, 'decent': 513, 'deci': 330, 'decid': 1211, 'dedic': 165, 'deep': 639, 'deeper': 198, 'deepli': 336, 'defeat': 160, 'defend': 160, 'defin': 229, 'definit': 1899, 'degr': 178, 'delib': 153, 'delic': 109, 'delici': 129, 'delight': 671, 'deliv': 915, 'deliveri': 132, 'demand': 287, 'demon': 290, 'demonstr': 224, 'deni': 210, 'denni': 198, 'dentist': 119, 'depart': 233, 'depend': 240, 'depict': 657, 'depress': 367, 'depth': 438, 'describ': 548, 'descript': 147, 'desert': 287, 'deserv': 1045, 'design': 520, 'desir': 459, 'despair': 115, 'desper': 404, 'despit': 1048, 'destin': 110, 'destini': 115, 'destroy': 347, 'destruct': 152, 'detail': 860, 'detect': 472, 'determin': 265, 'detract': 121, 'devast': 121, 'develop': 1098, 'devic': 175, 'devil': 215, 'devot': 202, 'dialog': 533, 'dialogu': 914, 'diamond': 118, 'dick': 195, 'dictat': 115, 'didnt': 2698, 'die': 1412, 'differ': 2877, 'difficult': 621, 'difficulti': 141, 'dig': 147, 'digit': 125, 'dimen': 104, 'dinner': 157, 'dinosaur': 104, 'direct': 2679, 'directli': 151, 'director': 3350, 'directori': 107, 'dirti': 337, 'disagr': 190, 'disappear': 240, 'disappoint': 931, 'disast': 149, 'disc': 122, 'discov': 824, 'discoveri': 132, 'discuss': 348, 'disea': 114, 'disgui': 117, 'disgust': 174, 'dislik': 168, 'dismiss': 133, 'disney': 560, 'display': 401, 'distanc': 108, 'distant': 134, 'distinct': 189, 'distract': 197, 'distribut': 117, 'disturb': 536, 'diver': 155, 'divorc': 162, 'do': 292, 'doctor': 640, 'document': 121, 'documentari': 1024, 'doe': 138, 'doesnt': 3017, 'dog': 726, 'doll': 180, 'dollar': 234, 'domin': 253, 'donald': 183, 'done': 2333, 'dont': 5298, 'doom': 156, 'door': 363, 'dorothi': 105, 'doubl': 282, 'doubt': 688, 'dougla': 242, 'dozen': 184, 'dr': 589, 'dracula': 115, 'drag': 304, 'dragon': 125, 'drama': 1424, 'dramat': 635, 'draw': 412, 'drawn': 308, 'dread': 145, 'dream': 1016, 'dress': 408, 'drew': 210, 'dri': 134, 'drink': 298, 'drive': 628, 'driven': 190, 'driver': 188, 'drop': 325, 'drug': 666, 'drunk': 153, 'dub': 303, 'due': 772, 'dull': 205, 'dumb': 213, 'duo': 104, 'dure': 165, 'duti': 162, 'dvd': 2348, 'dynam': 155, 'ear': 130, 'earli': 1424, 'earlier': 513, 'earn': 181, 'earth': 588, 'easi': 769, 'easier': 105, 'easili': 710, 'east': 158, 'eastwood': 242, 'eat': 391, 'eccentr': 130, 'ed': 220, 'eddi': 286, 'edg': 511, 'edi': 108, 'edit': 709, 'educ': 272, 'edward': 216, 'eeri': 163, 'effect': 2531, 'effort': 657, 'eg': 111, 'eight': 175, 'either': 1030, 'el': 1260, 'elderli': 119, 'elect': 122, 'electr': 104, 'eleg': 149, 'element': 964, 'elev': 125, 'elizabeth': 202, 'em': 108, 'embarrass': 130, 'embrac': 103, 'emerg': 206, 'emili': 133, 'emma': 150, 'emot': 1801, 'emphasi': 109, 'empir': 109, 'employ': 246, 'empti': 177, 'enchant': 122, 'encount': 367, 'encourag': 163, 'end': 7061, 'endear': 162, 'endur': 146, 'enemi': 310, 'energi': 255, 'engag': 515, 'engin': 115, 'england': 276, 'english': 870, 'engross': 116, 'enhanc': 171, 'enjoy': 4346, 'enorm': 134, 'enough': 2293, 'ensembl': 175, 'ensu': 131, 'enter': 392, 'entertain': 2432, 'entir': 1354, 'entri': 179, 'environ': 234, 'epic': 349, 'episod': 2440, 'equal': 558, 'era': 623, 'eric': 221, 'erot': 187, 'escap': 801, 'especi': 2409, 'essenc': 145, 'essenti': 363, 'establish': 284, 'etc': 712, 'etern': 113, 'europ': 255, 'european': 260, 'eva': 111, 'eve': 114, 'even': 7740, 'event': 1096, 'eventu': 685, 'ever': 4229, 'everi': 3099, 'everybodi': 349, 'everyday': 181, 'everyon': 1915, 'everyth': 1853, 'everywh': 141, 'evid': 316, 'evil': 912, 'evok': 126, 'evolv': 125, 'exact': 133, 'exactli': 749, 'exagg': 131, 'examin': 151, 'exampl': 1054, 'excel': 2787, 'except': 1172, 'excess': 140, 'exchang': 120, 'excit': 726, 'excu': 156, 'execut': 449, 'exist': 608, 'expect': 2229, 'expen': 153, 'experi': 1532, 'experienc': 245, 'expert': 146, 'explain': 586, 'explan': 165, 'explicit': 112, 'explo': 231, 'explod': 108, 'exploit': 298, 'explor': 477, 'expo': 190, 'express': 658, 'exquisit': 114, 'extend': 153, 'extent': 128, 'extra': 444, 'extraordinari': 268, 'extrem': 1182, 'eye': 1636, 'fabul': 203, 'face': 1737, 'facial': 151, 'fact': 2627, 'factor': 196, 'factori': 126, 'fade': 121, 'fail': 594, 'failur': 141, 'fair': 308, 'fairi': 143, 'fairli': 448, 'faith': 455, 'fake': 237, 'fal': 131, 'fall': 1487, 'fallen': 107, 'fame': 285, 'famili': 3068, 'familiar': 561, 'famou': 760, 'fan': 2787, 'fanci': 113, 'fantasi': 538, 'fantast': 984, 'far': 2012, 'fare': 155, 'farm': 142, 'fascin': 604, 'fashion': 385, 'fast': 506, 'fat': 158, 'fatal': 169, 'fate': 298, 'father': 1895, 'fault': 216, 'favor': 195, 'favorit': 1658, 'favourit': 438, 'fbi': 114, 'fear': 655, 'featur': 1593, 'feed': 105, 'feel': 4384, 'feet': 177, 'felix': 154, 'fell': 257, 'fellow': 352, 'felt': 997, 'femal': 648, 'festiv': 448, 'fianc': 131, 'fiction': 553, 'field': 297, 'fifti': 111, 'fight': 1424, 'figur': 819, 'fill': 677, 'film': 38903, 'filmmak': 857, 'filmth': 114, 'final': 2562, 'financ': 158, 'find': 4789, 'fine': 1297, 'finest': 365, 'finger': 160, 'finish': 496, 'fire': 566, 'first': 7112, 'fish': 168, 'fit': 787, 'five': 551, 'fix': 116, 'flash': 173, 'flashback': 311, 'flat': 227, 'flaw': 600, 'flawless': 169, 'flesh': 184, 'fli': 514, 'flick': 937, 'flight': 160, 'float': 118, 'floor': 206, 'flow': 252, 'flynn': 171, 'focu': 876, 'folk': 340, 'follow': 1968, 'fond': 125, 'fonda': 111, 'food': 250, 'fool': 195, 'foot': 140, 'footag': 406, 'footbal': 178, 'forc': 1181, 'ford': 320, 'foreign': 286, 'forest': 120, 'forev': 329, 'forget': 682, 'forgiv': 200, 'forgot': 106, 'forgotten': 292, 'form': 848, 'format': 168, 'former': 436, 'formula': 248, 'forth': 130, 'fortun': 318, 'forward': 413, 'foster': 124, 'found': 2127, 'four': 717, 'fourth': 143, 'fox': 320, 'frame': 363, 'franc': 332, 'franci': 115, 'frank': 464, 'franki': 150, 'frankli': 134, 'freak': 152, 'fred': 208, 'free': 427, 'freedom': 301, 'freeman': 134, 'french': 812, 'frequent': 227, 'fresh': 406, 'friday': 126, 'friend': 2768, 'friendli': 144, 'friendship': 417, 'frighten': 255, 'front': 450, 'frustrat': 271, 'fu': 163, 'fulci': 201, 'fulfil': 156, 'full': 1415, 'fulli': 386, 'fun': 2493, 'function': 107, 'funer': 114, 'funni': 3172, 'funnier': 129, 'funniest': 410, 'futur': 812, 'ga': 130, 'gag': 340, 'gain': 228, 'game': 1540, 'gandhi': 110, 'gang': 372, 'gangster': 302, 'garden': 110, 'garfield': 131, 'gari': 250, 'gate': 113, 'gather': 146, 'gave': 919, 'gay': 475, 'gem': 533, 'gene': 219, 'gener': 1536, 'geniu': 482, 'genr': 1059, 'gentl': 132, 'genuin': 513, 'georg': 792, 'german': 651, 'germani': 220, 'get': 10080, 'ghost': 341, 'giallo': 140, 'giant': 283, 'gift': 238, 'girl': 2787, 'girlfriend': 449, 'give': 4654, 'given': 1305, 'glad': 427, 'glass': 221, 'glenn': 119, 'glimp': 202, 'glori': 145, 'gloriou': 124, 'glover': 123, 'go': 6413, 'goal': 149, 'god': 654, 'godfath': 112, 'goe': 1786, 'gold': 231, 'golden': 294, 'gon': 142, 'gone': 547, 'good': 11659, 'gordon': 173, 'gore': 492, 'gorgeou': 413, 'gori': 152, 'got': 2579, 'gothic': 126, 'gotten': 206, 'govern': 414, 'grab': 199, 'grace': 350, 'grade': 191, 'gradual': 149, 'graduat': 123, 'grand': 304, 'grandfath': 150, 'grant': 322, 'graphic': 373, 'grasp': 106, 'grate': 103, 'gratuit': 118, 'grave': 124, 'great': 10232, 'greater': 201, 'greatest': 894, 'greatli': 175, 'greek': 145, 'green': 369, 'grew': 234, 'grey': 139, 'grim': 169, 'grip': 296, 'gritti': 230, 'gross': 123, 'ground': 315, 'group': 974, 'grow': 640, 'grown': 185, 'gruesom': 136, 'guarant': 150, 'guard': 182, 'guess': 868, 'guest': 237, 'guid': 199, 'guilt': 146, 'guilti': 170, 'gun': 512, 'gut': 162, 'guy': 2715, 'ha': 115, 'hadnt': 187, 'hain': 103, 'hair': 351, 'hal': 138, 'half': 976, 'hall': 251, 'halloween': 170, 'hamlet': 120, 'hammer': 106, 'han': 112, 'hand': 1432, 'handl': 427, 'handsom': 228, 'hang': 276, 'hank': 204, 'happen': 2493, 'happi': 1054, 'happili': 114, 'hard': 1789, 'hardi': 125, 'hardli': 340, 'harri': 662, 'harsh': 185, 'hasnt': 284, 'hat': 206, 'hate': 839, 'hatr': 114, 'haunt': 501, 'havent': 727, 'hawk': 184, 'hbo': 139, 'he': 4200, 'head': 1365, 'health': 148, 'hear': 802, 'heard': 866, 'heart': 1392, 'heartbreak': 150, 'heartwarm': 138, 'heat': 130, 'heaven': 262, 'heavi': 319, 'heavili': 138, 'heck': 128, 'hed': 116, 'height': 125, 'heist': 139, 'held': 279, 'helen': 211, 'hell': 664, 'help': 2434, 'henc': 117, 'henri': 346, 'hero': 989, 'heroic': 121, 'heroin': 300, 'hesit': 118, 'hey': 225, 'hi': 1325, 'hidden': 291, 'hide': 312, 'high': 1528, 'higher': 193, 'highest': 108, 'highli': 1283, 'highlight': 325, 'hilari': 1205, 'hill': 222, 'hint': 206, 'hippi': 136, 'hire': 242, 'histor': 494, 'histori': 1194, 'hit': 1117, 'hitch': 108, 'hitchcock': 382, 'hitler': 182, 'hoffman': 206, 'hold': 903, 'hole': 303, 'holiday': 141, 'holli': 168, 'hollywood': 1520, 'holm': 294, 'homag': 124, 'home': 1716, 'homosexu': 144, 'honest': 415, 'honesti': 109, 'honestli': 206, 'hong': 179, 'honor': 229, 'hood': 167, 'hook': 276, 'hope': 1910, 'hor': 390, 'horribl': 355, 'horrif': 122, 'horrifi': 123, 'horror': 2400, 'hospit': 368, 'host': 182, 'hot': 491, 'hotel': 328, 'hou': 1598, 'hour': 1118, 'howard': 290, 'howev': 2534, 'huge': 761, 'hugh': 158, 'human': 2138, 'humbl': 103, 'humor': 1472, 'humour': 431, 'hundr': 192, 'hunt': 311, 'hunter': 233, 'hurt': 388, 'husband': 922, 'hyster': 144, 'ian': 117, 'ice': 214, 'icon': 165, 'id': 887, 'idea': 1528, 'ideal': 243, 'ident': 347, 'identifi': 217, 'idiot': 160, 'ie': 217, 'if': 3218, 'ignor': 398, 'ii': 269, 'ill': 792, 'illustr': 130, 'im': 2920, 'imag': 849, 'imageri': 169, 'imagin': 1126, 'imdb': 384, 'imit': 133, 'immedi': 462, 'immen': 169, 'immigr': 130, 'impact': 389, 'impli': 113, 'import': 1051, 'importantli': 122, 'imposs': 387, 'impress': 1325, 'improv': 254, 'in': 4441, 'incid': 255, 'includ': 1743, 'incr': 1043, 'increa': 127, 'increasingli': 117, 'ind': 607, 'independ': 349, 'indi': 161, 'india': 189, 'indian': 468, 'indic': 133, 'individu': 430, 'industri': 342, 'inevit': 206, 'infam': 112, 'influenc': 393, 'inform': 554, 'ingredi': 106, 'inhabit': 141, 'initi': 366, 'inner': 185, 'innoc': 639, 'innov': 145, 'insan': 269, 'insid': 571, 'insight': 306, 'insist': 138, 'inspector': 119, 'inspir': 733, 'instal': 132, 'instanc': 225, 'instantli': 131, 'instead': 1070, 'instinct': 108, 'institut': 118, 'insult': 104, 'integr': 183, 'intellectu': 178, 'intellig': 756, 'inten': 662, 'intend': 350, 'intent': 375, 'interact': 311, 'interest': 3558, 'intern': 359, 'internet': 134, 'interpret': 322, 'interview': 412, 'intim': 125, 'intrigu': 487, 'introduc': 452, 'introduct': 150, 'invad': 104, 'invent': 280, 'investig': 337, 'invi': 123, 'invit': 219, 'involv': 1521, 'irish': 166, 'iron': 354, 'ironi': 137, 'irrit': 136, 'is': 693, 'island': 477, 'isnt': 2126, 'isol': 159, 'issu': 630, 'it': 9460, 'itali': 162, 'italian': 550, 'iti': 116, 'itth': 107, 'ive': 2409, 'jack': 864, 'jacki': 230, 'jackson': 365, 'jail': 126, 'jake': 129, 'jame': 1026, 'jami': 137, 'jane': 439, 'japan': 825, 'jason': 292, 'jay': 132, 'jazz': 114, 'jealou': 113, 'jean': 328, 'jeff': 231, 'jennif': 251, 'jeremi': 107, 'jerk': 103, 'jerri': 251, 'jesu': 119, 'jew': 107, 'jewel': 114, 'jewish': 173, 'jim': 382, 'jimmi': 276, 'joan': 264, 'job': 2336, 'joe': 536, 'john': 1943, 'johnni': 324, 'johnson': 167, 'join': 337, 'joke': 809, 'jon': 151, 'jonathan': 154, 'jone': 307, 'joseph': 197, 'journalist': 105, 'journey': 542, 'joy': 359, 'jr': 291, 'judg': 454, 'juli': 325, 'julia': 179, 'jump': 388, 'jungl': 125, 'justic': 359, 'justifi': 135, 'justin': 123, 'kane': 143, 'karen': 127, 'kate': 166, 'keaton': 210, 'keep': 2255, 'kelli': 371, 'kennedi': 151, 'kept': 527, 'kevin': 263, 'key': 369, 'khan': 130, 'kick': 414, 'kid': 2256, 'kidnap': 193, 'kill': 2092, 'killer': 841, 'kim': 151, 'kind': 2162, 'kinda': 191, 'king': 809, 'kiss': 271, 'knew': 758, 'knight': 122, 'knock': 180, 'know': 5739, 'knowledg': 269, 'known': 904, 'kong': 205, 'korean': 149, 'kubrick': 134, 'kudo': 125, 'kung': 150, 'kurt': 119, 'kyle': 104, 'la': 471, 'lack': 954, 'ladi': 853, 'lake': 125, 'lame': 121, 'land': 490, 'landscap': 225, 'lane': 200, 'lang': 119, 'languag': 505, 'larg': 637, 'larger': 119, 'larri': 188, 'last': 2546, 'late': 1142, 'later': 1923, 'latest': 173, 'latter': 286, 'laugh': 2067, 'laughter': 179, 'laura': 162, 'law': 395, 'lawrenc': 108, 'lawyer': 189, 'lay': 137, 'layer': 158, 'le': 255, 'lead': 2145, 'leader': 281, 'leagu': 173, 'learn': 1253, 'least': 1687, 'leav': 1822, 'led': 329, 'lee': 487, 'left': 1472, 'leg': 162, 'legend': 293, 'legendari': 206, 'lemmon': 128, 'lend': 118, 'length': 257, 'lesbian': 155, 'lesli': 138, 'less': 1303, 'lesser': 127, 'lesson': 386, 'let': 1862, 'letter': 173, 'level': 907, 'lewi': 177, 'liber': 139, 'librari': 124, 'lie': 543, 'life': 5940, 'lifestyl': 123, 'lifetim': 147, 'lift': 137, 'light': 1170, 'lightheart': 139, 'likabl': 336, 'like': 15919, 'lili': 151, 'limit': 461, 'lincoln': 147, 'line': 2180, 'link': 193, 'lion': 157, 'lip': 118, 'lisa': 149, 'list': 500, 'listen': 507, 'liter': 431, 'littl': 5183, 'live': 4109, 'lloyd': 164, 'lo': 171, 'load': 211, 'local': 785, 'locat': 663, 'lock': 225, 'logic': 207, 'london': 400, 'lone': 372, 'long': 2642, 'longer': 395, 'loo': 314, 'look': 6330, 'lord': 291, 'lose': 665, 'loss': 274, 'lost': 1173, 'lot': 4010, 'loud': 259, 'loui': 320, 'lovabl': 174, 'love': 9648, 'lover': 569, 'low': 702, 'lowbudget': 163, 'lower': 122, 'loyal': 108, 'loyalti': 111, 'luca': 128, 'luci': 147, 'luck': 202, 'lucki': 243, 'luke': 196, 'lust': 119, 'lynch': 246, 'lyric': 166, 'machin': 314, 'maci': 124, 'mad': 552, 'made': 5599, 'madonna': 113, 'magazin': 135, 'magic': 639, 'magnif': 403, 'main': 1729, 'mainli': 309, 'mainstream': 191, 'maintain': 225, 'major': 899, 'make': 10547, 'maker': 281, 'makeup': 239, 'male': 507, 'man': 5061, 'manag': 1229, 'manhattan': 114, 'mani': 6009, 'manipul': 233, 'mann': 112, 'manner': 442, 'mar': 116, 'march': 143, 'margaret': 104, 'mari': 561, 'maria': 147, 'marin': 158, 'mario': 119, 'marion': 103, 'mark': 723, 'market': 268, 'marri': 787, 'marriag': 425, 'martha': 107, 'martial': 212, 'martin': 308, 'marvel': 379, 'mask': 198, 'mass': 169, 'massacr': 122, 'massiv': 145, 'master': 808, 'masterpiec': 795, 'match': 733, 'mate': 119, 'materi': 529, 'matrix': 119, 'matt': 217, 'matter': 1091, 'matthau': 193, 'matthew': 121, 'matur': 273, 'max': 236, 'may': 3055, 'mayb': 1418, 'me': 270, 'mean': 1989, 'meant': 402, 'meanwhil': 191, 'measur': 137, 'mechan': 113, 'media': 239, 'medic': 132, 'mediocr': 125, 'medium': 121, 'meet': 1480, 'melodrama': 180, 'melodramat': 108, 'member': 728, 'memor': 769, 'memori': 620, 'men': 1644, 'menac': 176, 'mental': 394, 'mention': 1015, 'mere': 383, 'merit': 129, 'mesmer': 114, 'mess': 236, 'messag': 809, 'met': 257, 'metal': 134, 'metaphor': 142, 'method': 168, 'mexican': 120, 'mexico': 135, 'mgm': 176, 'michael': 1155, 'michel': 234, 'mickey': 176, 'middl': 563, 'midnight': 159, 'might': 1939, 'mike': 239, 'mildr': 104, 'mile': 280, 'militari': 280, 'miller': 158, 'million': 336, 'mind': 1739, 'mine': 304, 'miniseri': 174, 'minor': 422, 'minut': 1623, 'mirror': 184, 'miss': 1741, 'mission': 257, 'mistak': 335, 'mix': 624, 'mixtur': 106, 'miyazaki': 127, 'mob': 160, 'model': 271, 'modern': 881, 'mom': 304, 'moment': 2356, 'money': 1089, 'monk': 158, 'monkey': 156, 'monster': 557, 'month': 336, 'mood': 443, 'moon': 221, 'moor': 240, 'moral': 590, 'morgan': 196, 'morn': 222, 'mostli': 698, 'mother': 1521, 'motion': 312, 'motiv': 281, 'mou': 136, 'mountain': 263, 'mouth': 209, 'move': 2191, 'movement': 288, 'movi': 34762, 'movieth': 114, 'mr': 1488, 'ms': 272, 'much': 7194, 'multipl': 146, 'muppet': 182, 'murder': 1718, 'murphi': 176, 'museum': 108, 'music': 4143, 'musician': 184, 'must': 2580, 'musts': 147, 'my': 1557, 'mysteri': 1043, 'na': 235, 'nail': 162, 'naiv': 184, 'nake': 244, 'name': 2105, 'nanci': 178, 'narr': 375, 'narrat': 342, 'nasti': 241, 'natali': 105, 'nation': 475, 'nativ': 203, 'natur': 1398, 'navi': 150, 'nazi': 274, 'near': 580, 'nearli': 564, 'neat': 131, 'necessari': 282, 'necessarili': 163, 'ned': 145, 'need': 2454, 'neg': 331, 'neighbor': 210, 'neighborhood': 126, 'neither': 272, 'nelson': 105, 'network': 218, 'never': 5013, 'nevertheless': 224, 'new': 3717, 'newman': 104, 'news': 230, 'newspap': 113, 'next': 1269, 'nice': 1980, 'nick': 191, 'night': 1811, 'nightmar': 279, 'nine': 117, 'no': 932, 'nobl': 130, 'nobodi': 291, 'nod': 104, 'noi': 104, 'noir': 431, 'nomin': 441, 'non': 109, 'none': 492, 'nonetheless': 157, 'nonsen': 105, 'normal': 576, 'norman': 133, 'north': 214, 'nose': 105, 'notabl': 247, 'notch': 174, 'note': 801, 'noth': 1969, 'notic': 661, 'notion': 127, 'notori': 137, 'novel': 894, 'nowaday': 154, 'nowher': 200, 'nuanc': 133, 'nuclear': 131, 'nude': 105, 'nuditi': 280, 'number': 1090, 'numer': 207, 'nur': 204, 'object': 301, 'obscur': 123, 'observ': 285, 'obsess': 393, 'obviou': 1253, 'occa': 166, 'occas': 333, 'occur': 306, 'ocean': 143, 'odd': 555, 'of': 1293, 'offend': 137, 'offer': 910, 'offic': 820, 'offici': 195, 'often': 1480, 'oh': 535, 'oil': 115, 'ok': 407, 'okay': 308, 'old': 3198, 'older': 584, 'oliv': 185, 'on': 775, 'onc': 295, 'one': 21474, 'onelin': 108, 'onli': 306, 'onto': 228, 'open': 1687, 'oper': 194, 'opera': 372, 'opinion': 913, 'oppo': 145, 'opportun': 369, 'opposit': 303, 'or': 360, 'order': 958, 'ordinari': 260, 'organ': 183, 'origin': 2553, 'oscar': 876, 'otherwi': 389, 'outcom': 112, 'outrag': 172, 'outsid': 550, 'outstand': 510, 'over': 876, 'overcom': 201, 'overli': 168, 'overlook': 224, 'overthetop': 133, 'overwhelm': 156, 'owe': 117, 'owen': 133, 'owner': 342, 'oz': 143, 'pace': 891, 'pacino': 127, 'pack': 294, 'page': 348, 'paid': 139, 'pain': 589, 'paint': 336, 'pair': 313, 'pan': 123, 'paper': 156, 'parallel': 178, 'parent': 814, 'pari': 417, 'park': 458, 'parker': 200, 'parodi': 206, 'part': 4159, 'parti': 555, 'particip': 146, 'particular': 675, 'particularli': 911, 'partner': 299, 'pass': 651, 'passion': 500, 'past': 1147, 'pat': 116, 'path': 219, 'pathet': 106, 'patient': 328, 'patrick': 221, 'patriot': 114, 'paul': 736, 'pauli': 114, 'pay': 599, 'peac': 239, 'peak': 137, 'pearl': 108, 'penn': 112, 'peopl': 6876, 'perfect': 2097, 'perfectli': 775, 'perform': 5456, 'perhap': 1293, 'period': 701, 'person': 2783, 'persona': 131, 'perspect': 274, 'pet': 142, 'peter': 797, 'philip': 166, 'phillip': 103, 'philosoph': 133, 'philosophi': 104, 'phone': 242, 'photo': 136, 'photograph': 328, 'photographi': 376, 'physic': 450, 'piano': 114, 'pick': 813, 'pictur': 1690, 'pie': 106, 'piec': 1347, 'pilot': 282, 'pioneer': 105, 'pirat': 104, 'pitch': 147, 'piti': 179, 'pitt': 162, 'place': 2421, 'plagu': 111, 'plain': 279, 'plan': 667, 'plane': 289, 'planet': 395, 'plant': 147, 'play': 7865, 'player': 488, 'plea': 783, 'pleasant': 228, 'pleasantli': 154, 'pleasur': 388, 'plenti': 589, 'plot': 3848, 'plu': 464, 'poetic': 120, 'poetri': 122, 'poignant': 189, 'point': 2659, 'poison': 103, 'polic': 896, 'polish': 154, 'polit': 848, 'politician': 107, 'ponyo': 117, 'pool': 107, 'poor': 623, 'poorli': 105, 'pop': 374, 'popul': 135, 'popular': 583, 'porn': 144, 'portrait': 200, 'portray': 1866, 'pose': 134, 'posit': 561, 'possess': 238, 'possibl': 1223, 'post': 275, 'poster': 142, 'potenti': 344, 'powel': 203, 'power': 1845, 'practic': 324, 'prai': 247, 'preci': 166, 'predict': 494, 'prefer': 301, 'pregnant': 105, 'prejud': 132, 'premi': 367, 'premier': 153, 'prepar': 337, 'presenc': 369, 'present': 1347, 'presid': 263, 'press': 140, 'pressur': 117, 'pretend': 171, 'pretti': 2347, 'prevent': 152, 'preview': 119, 'previou': 721, 'price': 302, 'pride': 121, 'priest': 193, 'prime': 202, 'princ': 278, 'princess': 194, 'princip': 140, 'print': 228, 'prior': 158, 'prison': 612, 'privat': 250, 'prize': 109, 'probabl': 2159, 'problem': 1458, 'proceed': 122, 'process': 296, 'produc': 1207, 'product': 1599, 'profess': 411, 'professor': 154, 'profound': 133, 'program': 310, 'programm': 111, 'progress': 303, 'project': 446, 'promi': 350, 'promin': 117, 'promot': 172, 'proof': 104, 'propaganda': 132, 'proper': 163, 'properli': 107, 'prostitut': 152, 'protagonist': 331, 'protect': 275, 'proud': 185, 'prove': 767, 'provid': 1020, 'provok': 161, 'psycho': 153, 'psycholog': 353, 'public': 522, 'publish': 114, 'pull': 769, 'punch': 196, 'punish': 144, 'punk': 146, 'puppet': 124, 'purcha': 202, 'pure': 633, 'purpo': 350, 'pursu': 170, 'push': 365, 'put': 2322, 'puzzl': 138, 'qualiti': 1045, 'queen': 327, 'quest': 166, 'question': 1092, 'quick': 253, 'quickli': 450, 'quiet': 299, 'quinn': 105, 'quirki': 180, 'quit': 3358, 'quot': 233, 'rabbit': 126, 'race': 444, 'rachel': 157, 'racism': 133, 'radio': 359, 'rage': 142, 'rai': 416, 'rain': 265, 'ralph': 140, 'ramon': 138, 'ran': 190, 'random': 149, 'rang': 309, 'rank': 245, 'rape': 298, 'rare': 752, 'rate': 1306, 'rather': 2002, 'raw': 197, 'ray': 426, 'reach': 451, 'react': 132, 'reaction': 326, 'read': 1867, 'reader': 108, 'readi': 271, 'real': 3845, 'reali': 230, 'realism': 280, 'realist': 880, 'realiti': 989, 'realiz': 1102, 'realli': 8572, 'reallif': 121, 'reason': 1789, 'rebel': 149, 'recal': 292, 'receiv': 490, 'recent': 973, 'recogn': 341, 'recognit': 121, 'recommend': 2349, 'record': 532, 'recreat': 149, 'red': 592, 'redeem': 113, 'redempt': 153, 'reed': 113, 'refer': 590, 'reflect': 398, 'refresh': 277, 'refu': 317, 'regard': 406, 'regardless': 117, 'regret': 205, 'regular': 257, 'reject': 165, 'rel': 356, 'relat': 689, 'relationship': 1349, 'relax': 181, 'relea': 1758, 'relev': 148, 'reli': 176, 'relief': 188, 'religi': 240, 'religion': 165, 'remain': 793, 'remak': 392, 'remark': 555, 'rememb': 1895, 'remind': 877, 'reminisc': 193, 'remot': 138, 'remov': 127, 'render': 145, 'rendit': 138, 'rent': 634, 'rental': 105, 'repeat': 320, 'replac': 259, 'report': 314, 'repr': 385, 'repress': 107, 'reput': 169, 'requir': 330, 'rescu': 253, 'research': 175, 'resembl': 267, 'reserv': 115, 'resid': 178, 'resist': 140, 'resolut': 115, 'resolv': 111, 'resourc': 106, 'respect': 752, 'respon': 422, 'respond': 107, 'rest': 1179, 'restaur': 119, 'restor': 192, 'result': 737, 'retain': 106, 'retir': 134, 'return': 1048, 'reveal': 699, 'revel': 180, 'reveng': 335, 'rever': 164, 'review': 1395, 'revolut': 158, 'revolv': 224, 'reward': 202, 'reynold': 143, 'rich': 579, 'richard': 718, 'ride': 604, 'ridicul': 357, 'right': 2824, 'ring': 461, 'rip': 193, 'rise': 303, 'risk': 196, 'rita': 115, 'rival': 215, 'river': 287, 'rivet': 156, 'road': 410, 'rob': 286, 'robert': 1031, 'robin': 270, 'robinson': 106, 'robot': 227, 'rock': 831, 'roger': 261, 'role': 3933, 'roll': 454, 'roman': 114, 'romanc': 685, 'romant': 908, 'ron': 109, 'room': 757, 'root': 214, 'rose': 281, 'rough': 184, 'round': 273, 'routin': 188, 'row': 112, 'roy': 207, 'royal': 108, 'ruin': 275, 'rule': 406, 'run': 1822, 'rural': 124, 'rush': 253, 'russel': 210, 'russia': 104, 'russian': 332, 'ruth': 114, 'ruthless': 118, 'ryan': 295, 'sacrif': 150, 'sad': 865, 'sadli': 305, 'safe': 202, 'said': 1510, 'sailor': 109, 'sake': 107, 'salli': 139, 'sam': 360, 'san': 167, 'sandra': 117, 'sarah': 150, 'sat': 145, 'satir': 342, 'satisfi': 403, 'saturday': 167, 'savag': 119, 'save': 827, 'saw': 2786, 'say': 5260, 'scale': 158, 'scare': 472, 'scari': 511, 'scarlett': 139, 'scenario': 153, 'scene': 7731, 'sceneri': 346, 'scheme': 153, 'school': 1365, 'scienc': 341, 'scientist': 259, 'scifi': 423, 'score': 1187, 'scott': 484, 'scream': 343, 'screen': 2095, 'screenplay': 492, 'screenwrit': 109, 'script': 1558, 'sea': 304, 'sean': 230, 'search': 491, 'season': 998, 'seat': 289, 'second': 1613, 'secret': 610, 'secretari': 117, 'section': 203, 'secur': 158, 'see': 11738, 'seek': 389, 'seem': 4926, 'seemingli': 307, 'seen': 5274, 'segment': 335, 'select': 172, 'self': 320, 'selfish': 110, 'sell': 346, 'sen': 1773, 'send': 321, 'sensat': 121, 'sensibl': 113, 'sensit': 289, 'sent': 366, 'sentenc': 119, 'sentiment': 250, 'separ': 274, 'sequel': 523, 'sequenc': 1306, 'seri': 3069, 'serial': 303, 'seriou': 1344, 'serv': 459, 'servant': 108, 'servic': 234, 'set': 3150, 'settl': 161, 'seven': 240, 'sever': 1364, 'sex': 1006, 'sexi': 381, 'sexual': 782, 'shadow': 274, 'shake': 132, 'shakespear': 285, 'shall': 128, 'shame': 492, 'shape': 198, 'share': 538, 'sharp': 257, 'shed': 134, 'sheer': 210, 'sheriff': 165, 'shi': 152, 'shift': 148, 'shine': 373, 'ship': 334, 'shock': 714, 'shoe': 150, 'shoot': 657, 'shop': 290, 'short': 1747, 'shortli': 111, 'shot': 1940, 'shoulder': 120, 'shouldnt': 221, 'show': 8729, 'showca': 169, 'shown': 875, 'shut': 104, 'sick': 350, 'side': 1245, 'sidney': 151, 'sight': 312, 'sign': 309, 'signif': 199, 'silenc': 153, 'silent': 498, 'silli': 506, 'silver': 127, 'similar': 893, 'simon': 237, 'simpl': 1050, 'simpli': 1325, 'sin': 140, 'sinatra': 201, 'sinc': 2291, 'sincer': 186, 'sing': 786, 'singer': 291, 'singl': 599, 'sinist': 135, 'sink': 113, 'sir': 214, 'sister': 988, 'sit': 706, 'sitcom': 175, 'site': 209, 'situat': 1099, 'six': 278, 'sixti': 113, 'size': 105, 'ski': 136, 'skill': 427, 'skin': 157, 'skip': 168, 'sky': 123, 'slapstick': 182, 'slasher': 241, 'sleazi': 119, 'sleep': 328, 'slight': 128, 'slightli': 438, 'slip': 133, 'slow': 720, 'slowli': 372, 'small': 1415, 'smart': 357, 'smile': 392, 'smith': 391, 'smoke': 169, 'smooth': 118, 'snow': 105, 'so': 1535, 'soap': 180, 'social': 568, 'societi': 719, 'soft': 179, 'sold': 116, 'soldier': 671, 'sole': 144, 'solid': 552, 'solv': 196, 'somebodi': 128, 'somehow': 468, 'someon': 1377, 'someth': 3399, 'sometim': 1156, 'somewh': 279, 'somewhat': 801, 'son': 1270, 'song': 1702, 'soon': 1005, 'sophist': 153, 'soprano': 107, 'sorri': 281, 'sort': 1121, 'soul': 526, 'sound': 1537, 'soundtrack': 855, 'sourc': 201, 'south': 418, 'southern': 161, 'soviet': 188, 'space': 568, 'spanish': 200, 'spare': 109, 'speak': 779, 'special': 1650, 'specif': 259, 'spectacular': 277, 'speech': 262, 'speed': 203, 'spell': 168, 'spend': 513, 'spent': 314, 'spi': 259, 'spielberg': 106, 'spike': 113, 'spin': 133, 'spirit': 630, 'spiritu': 153, 'spite': 162, 'splendid': 135, 'split': 135, 'spoil': 321, 'spoiler': 451, 'spoken': 118, 'spoof': 160, 'sport': 333, 'spot': 436, 'spread': 116, 'spring': 134, 'st': 122, 'staff': 106, 'stage': 749, 'stand': 1087, 'standard': 537, 'standout': 114, 'stanley': 147, 'stanwyck': 187, 'star': 3171, 'stark': 122, 'start': 2799, 'state': 847, 'statement': 179, 'station': 339, 'statu': 236, 'stay': 868, 'steal': 538, 'steel': 139, 'stellar': 116, 'step': 479, 'stephen': 253, 'stereotyp': 322, 'steve': 295, 'steven': 211, 'stewart': 451, 'stick': 358, 'still': 5034, 'stir': 107, 'stock': 152, 'stole': 106, 'stolen': 136, 'stone': 295, 'stood': 132, 'stoog': 120, 'stop': 952, 'store': 389, 'stori': 10959, 'storm': 151, 'storylin': 540, 'storytel': 201, 'straight': 472, 'strang': 893, 'stranger': 261, 'streep': 138, 'street': 811, 'strength': 358, 'stress': 113, 'stretch': 150, 'strike': 349, 'string': 151, 'strip': 121, 'strong': 1173, 'stronger': 119, 'strongli': 240, 'struck': 134, 'structur': 231, 'struggl': 644, 'stuck': 217, 'student': 579, 'studi': 424, 'studio': 587, 'stuff': 820, 'stumbl': 177, 'stun': 551, 'stunt': 226, 'stupid': 500, 'style': 1454, 'stylish': 154, 'sub': 104, 'subject': 842, 'subplot': 227, 'subsequ': 175, 'substanc': 111, 'subtitl': 287, 'subtl': 510, 'subtleti': 116, 'succ': 190, 'succeed': 225, 'success': 1178, 'suck': 206, 'sudden': 179, 'suddenli': 340, 'suffer': 552, 'suggest': 628, 'suicid': 325, 'suit': 382, 'suitabl': 143, 'sullivan': 129, 'sum': 158, 'summari': 131, 'summer': 363, 'sun': 163, 'sunday': 170, 'super': 245, 'superb': 858, 'superbl': 171, 'superior': 300, 'superman': 115, 'supernatur': 142, 'suppli': 113, 'suppo': 692, 'support': 1420, 'supposedli': 151, 'sure': 2228, 'surf': 117, 'surfac': 240, 'surpass': 109, 'surpri': 1896, 'surprisingli': 474, 'surreal': 288, 'surround': 387, 'surviv': 528, 'survivor': 106, 'susan': 174, 'suspect': 429, 'suspen': 813, 'sutherland': 135, 'swedish': 112, 'sweep': 116, 'sweet': 631, 'swim': 166, 'switch': 142, 'sword': 135, 'symbol': 341, 'sympathet': 228, 'sympathi': 178, 'system': 356, 'ta': 130, 'tabl': 181, 'tag': 104, 'take': 5317, 'taken': 865, 'tale': 1004, 'talent': 1297, 'talk': 1396, 'tap': 116, 'tape': 357, 'target': 207, 'tarzan': 162, 'task': 192, 'tast': 452, 'taylor': 259, 'tea': 137, 'teach': 303, 'teacher': 310, 'team': 859, 'tear': 466, 'technic': 361, 'techniqu': 263, 'technolog': 221, 'ted': 197, 'teen': 431, 'teenag': 659, 'televi': 802, 'tell': 2509, 'ten': 787, 'tend': 359, 'tender': 151, 'tension': 455, 'term': 517, 'terri': 108, 'terribl': 470, 'terrif': 553, 'terrifi': 189, 'territori': 139, 'terror': 274, 'terrorist': 162, 'test': 270, 'texa': 205, 'text': 105, 'thank': 932, 'theater': 736, 'theatr': 280, 'theatric': 224, 'theme': 1196, 'theori': 166, 'therefor': 279, 'theyr': 747, 'theyv': 158, 'thi': 10391, 'thief': 135, 'thin': 149, 'thing': 5501, 'think': 6718, 'third': 530, 'thirti': 123, 'thoma': 280, 'thoroughli': 323, 'though': 3551, 'thought': 2820, 'thousand': 215, 'threat': 118, 'threaten': 225, 'three': 1860, 'thrill': 377, 'thriller': 829, 'throughout': 1160, 'throw': 442, 'thrown': 226, 'thu': 333, 'thumb': 131, 'ticket': 122, 'tie': 263, 'tight': 197, 'till': 182, 'tim': 245, 'time': 12444, 'timeless': 162, 'tini': 205, 'tire': 294, 'titan': 140, 'titl': 1188, 'to': 1067, 'today': 1490, 'todd': 123, 'togeth': 1932, 'told': 935, 'toler': 105, 'tom': 643, 'tommi': 118, 'ton': 141, 'tone': 504, 'toni': 521, 'took': 895, 'top': 1480, 'topic': 200, 'torn': 147, 'tortur': 313, 'total': 1212, 'touch': 1381, 'tough': 384, 'tour': 168, 'tourist': 124, 'toward': 762, 'tower': 127, 'town': 1048, 'toy': 172, 'traci': 124, 'track': 499, 'trade': 146, 'trademark': 107, 'tradit': 501, 'tragedi': 376, 'tragic': 394, 'trail': 142, 'trailer': 301, 'train': 713, 'transfer': 140, 'transform': 302, 'transit': 120, 'translat': 232, 'transport': 117, 'trap': 343, 'trash': 183, 'travel': 546, 'treasur': 211, 'treat': 644, 'treatment': 189, 'tree': 156, 'trek': 211, 'tremend': 217, 'tri': 3869, 'trial': 200, 'tribut': 164, 'trick': 260, 'trilog': 199, 'trio': 108, 'trip': 477, 'triumph': 146, 'troubl': 642, 'truck': 115, 'true': 2206, 'truli': 1599, 'trust': 288, 'truth': 725, 'tune': 317, 'turn': 2868, 'tv': 2287, 'twenti': 198, 'twice': 301, 'twin': 154, 'twist': 1039, 'two': 5517, 'type': 1033, 'typic': 803, 'ugli': 162, 'uk': 174, 'ultim': 641, 'unabl': 189, 'unbeliev': 198, 'uncl': 296, 'uncomfort': 117, 'underground': 135, 'underr': 339, 'underst': 128, 'understand': 1749, 'understood': 164, 'unexpect': 296, 'unfold': 269, 'unforgett': 201, 'unfortun': 752, 'union': 172, 'uniqu': 804, 'unit': 321, 'univ': 557, 'unknown': 265, 'unless': 209, 'unlik': 761, 'unnecessari': 118, 'unrealist': 113, 'unusu': 402, 'up': 124, 'uplift': 106, 'upon': 728, 'upper': 109, 'upset': 138, 'urban': 222, 'urg': 115, 'us': 3643, 'usa': 172, 'use': 3863, 'user': 112, 'usual': 1540, 'utter': 128, 'utterli': 227, 'vacat': 136, 'vagu': 119, 'valu': 678, 'vampir': 422, 'van': 299, 'vari': 121, 'varieti': 194, 'variou': 545, 'vast': 103, 'vega': 126, 'vehicl': 177, 'velvet': 106, 'veri': 529, 'version': 1818, 'versu': 108, 'veteran': 237, 'vh': 303, 'via': 155, 'viciou': 108, 'victim': 535, 'victor': 209, 'victoria': 192, 'video': 1178, 'vietnam': 173, 'view': 2096, 'viewer': 1679, 'villag': 298, 'villain': 673, 'vincent': 170, 'violenc': 784, 'violent': 445, 'virgin': 147, 'virtual': 200, 'vision': 345, 'visit': 457, 'visual': 1028, 'vivid': 131, 'voic': 1144, 'von': 195, 'vote': 276, 'voyag': 124, 'vs': 306, 'vulner': 155, 'wa': 187, 'wagon': 114, 'wait': 936, 'wake': 190, 'walk': 761, 'walker': 133, 'wall': 335, 'wallac': 140, 'walter': 260, 'wan': 104, 'wander': 125, 'want': 4718, 'war': 2479, 'ward': 126, 'warm': 310, 'warn': 381, 'warner': 206, 'warrior': 116, 'washington': 181, 'wasnt': 1313, 'wast': 304, 'watch': 10022, 'watchabl': 139, 'water': 609, 'watson': 118, 'wave': 233, 'wax': 120, 'way': 6768, 'wayn': 228, 'we': 1436, 'weak': 457, 'wealthi': 143, 'weapon': 200, 'wear': 393, 'web': 108, 'wed': 295, 'week': 552, 'weekend': 144, 'weight': 117, 'weird': 453, 'welcom': 232, 'well': 9022, 'went': 1079, 'werent': 280, 'werewolf': 111, 'west': 423, 'western': 821, 'weve': 197, 'whatev': 406, 'whenev': 190, 'wherea': 126, 'whether': 685, 'whi': 456, 'whilst': 232, 'white': 1078, 'whole': 1996, 'whose': 872, 'wick': 119, 'wide': 296, 'widow': 169, 'wife': 1768, 'wild': 406, 'wilder': 126, 'willi': 234, 'william': 810, 'wilson': 185, 'win': 843, 'wind': 344, 'window': 235, 'wing': 163, 'winner': 241, 'winter': 201, 'wise': 268, 'wish': 1069, 'wit': 622, 'witch': 229, 'within': 682, 'without': 2552, 'witti': 290, 'wolf': 125, 'woman': 2110, 'women': 1272, 'wonder': 3513, 'wont': 1024, 'wood': 380, 'woodi': 126, 'wor': 347, 'word': 1311, 'work': 5731, 'worker': 187, 'world': 3689, 'worri': 263, 'worst': 338, 'worth': 1940, 'worthi': 278, 'worthwhil': 134, 'would': 8310, 'wouldnt': 600, 'wound': 193, 'wow': 212, 'wrap': 196, 'write': 1172, 'writer': 874, 'writerdirector': 108, 'written': 1077, 'wrong': 1053, 'wrote': 347, 'wwii': 165, 'ye': 1019, 'yeah': 223, 'year': 5802, 'yet': 2314, 'york': 701, 'youd': 197, 'youll': 1098, 'young': 3528, 'younger': 486, 'youth': 342, 'youv': 523, 'zero': 130, 'zombi': 422, 'zone': 132}\n",
            "{'10': 1749, '100': 349, '11': 131, '110': 190, '12': 414, '13': 166, '13th': 101, '14': 106, '15': 457, '1930': 114, '1950': 197, '1960': 148, '1970': 242, '1980': 215, '1990': 117, '1st': 111, '20': 612, '2000': 114, '2001': 105, '210': 125, '23': 97, '24': 93, '25': 157, '30': 542, '3000': 129, '310': 164, '40': 298, '410': 189, '45': 162, '50': 387, '60': 295, '70': 491, '80': 684, '90': 591, 'abandon': 221, 'abil': 425, 'abl': 887, 'abomin': 105, 'absolut': 1680, 'absurd': 365, 'abu': 300, 'abysm': 149, 'academi': 148, 'accent': 698, 'accept': 550, 'accid': 427, 'accompani': 147, 'accomplish': 152, 'accord': 235, 'account': 228, 'accu': 148, 'accur': 231, 'achiev': 305, 'across': 765, 'act': 8100, 'action': 2619, 'activ': 192, 'actor': 5625, 'actress': 1077, 'actual': 4713, 'ad': 631, 'adam': 257, 'adapt': 556, 'add': 905, 'addict': 157, 'addit': 302, 'address': 126, 'adequ': 110, 'admir': 277, 'admit': 532, 'adopt': 114, 'ador': 111, 'adult': 536, 'advanc': 180, 'advantag': 104, 'adventur': 351, 'adverti': 198, 'advi': 168, 'advic': 289, 'affair': 330, 'affect': 224, 'afford': 109, 'afor': 125, 'afraid': 273, 'africa': 128, 'african': 155, 'afternoon': 119, 'afterward': 117, 'age': 854, 'agent': 381, 'ago': 667, 'agr': 604, 'ahead': 251, 'aid': 141, 'aim': 291, 'aint': 188, 'air': 604, 'airplan': 110, 'airport': 132, 'aka': 188, 'al': 205, 'ala': 204, 'alan': 176, 'alcohol': 157, 'alex': 154, 'alic': 127, 'alien': 781, 'aliv': 367, 'allen': 228, 'alli': 120, 'allow': 725, 'almost': 2503, 'alon': 758, 'along': 1296, 'alreadi': 1182, 'alright': 207, 'also': 5562, 'alter': 110, 'altern': 182, 'although': 1553, 'altogeth': 94, 'alway': 1780, 'amateur': 275, 'amateurish': 299, 'amaz': 563, 'amazingli': 122, 'america': 448, 'american': 1722, 'ami': 103, 'among': 472, 'amongst': 120, 'amount': 506, 'amu': 540, 'an': 472, 'ancient': 198, 'anderson': 129, 'andi': 173, 'andor': 150, 'andrew': 105, 'angel': 362, 'anger': 134, 'angl': 292, 'angri': 303, 'ani': 277, 'anim': 1303, 'ann': 303, 'anna': 136, 'announc': 112, 'annoy': 1428, 'anoth': 3377, 'answer': 441, 'anthoni': 173, 'anticip': 111, 'anybodi': 296, 'anymor': 266, 'anyon': 2244, 'anyth': 2934, 'anyway': 888, 'anywh': 272, 'apart': 669, 'ape': 160, 'apolog': 107, 'appal': 204, 'appar': 1259, 'appeal': 524, 'appear': 2025, 'appli': 122, 'appreci': 415, 'approach': 329, 'appropri': 175, 'area': 333, 'arent': 829, 'argu': 177, 'argument': 133, 'arm': 401, 'armi': 346, 'arnold': 134, 'around': 3036, 'arrest': 147, 'arriv': 347, 'arrog': 118, 'art': 985, 'arthur': 157, 'artifici': 95, 'artist': 529, 'as': 1958, 'asham': 195, 'asian': 256, 'asid': 382, 'ask': 1249, 'asleep': 256, 'aspect': 574, 'aspir': 101, 'ass': 208, 'assassin': 207, 'assault': 120, 'assign': 125, 'assist': 230, 'associ': 196, 'assum': 419, 'assur': 100, 'at': 1295, 'atmosph': 455, 'atroci': 268, 'attach': 154, 'attack': 765, 'attempt': 1970, 'attend': 195, 'attent': 610, 'attitud': 212, 'attract': 588, 'audienc': 2044, 'audio': 105, 'austen': 115, 'australian': 152, 'authent': 103, 'author': 291, 'automat': 108, 'avail': 222, 'averag': 623, 'avoid': 1030, 'aw': 2468, 'awak': 113, 'awar': 194, 'award': 343, 'away': 2211, 'awesom': 208, 'awkward': 228, 'babe': 115, 'babi': 552, 'back': 3651, 'background': 495, 'bad': 11333, 'badli': 801, 'bag': 178, 'balanc': 108, 'baldwin': 119, 'ball': 270, 'ban': 112, 'banal': 99, 'band': 409, 'bang': 111, 'bank': 218, 'bar': 362, 'barbara': 104, 'bare': 662, 'barney': 94, 'barri': 103, 'base': 1195, 'basement': 118, 'bash': 103, 'basi': 130, 'basic': 1342, 'bat': 202, 'bath': 127, 'bathroom': 96, 'batman': 201, 'battl': 517, 'bbc': 143, 'be': 176, 'beach': 216, 'bear': 298, 'beast': 174, 'beat': 466, 'beaten': 107, 'beauti': 1299, 'becam': 473, 'becau': 362, 'becom': 2142, 'bed': 357, 'beer': 157, 'befor': 179, 'beg': 146, 'began': 235, 'begin': 2053, 'behav': 174, 'behavior': 223, 'behind': 897, 'belief': 208, 'believ': 3163, 'bell': 146, 'belong': 259, 'belov': 113, 'ben': 323, 'benefit': 131, 'besid': 350, 'best': 3197, 'bet': 228, 'betray': 127, 'better': 5201, 'beyond': 837, 'bibl': 145, 'big': 2628, 'bigger': 206, 'biggest': 490, 'biker': 101, 'bill': 511, 'billi': 251, 'bin': 133, 'bird': 160, 'birth': 109, 'birthday': 93, 'bit': 2357, 'bite': 162, 'bizarr': 418, 'black': 1668, 'blade': 110, 'blah': 223, 'blair': 187, 'blame': 443, 'bland': 350, 'blank': 135, 'blast': 97, 'blatant': 113, 'blind': 235, 'block': 125, 'blockbust': 186, 'blond': 325, 'blood': 1017, 'bloodi': 309, 'blow': 400, 'blown': 121, 'blue': 359, 'bmovi': 314, 'bo': 97, 'board': 298, 'boat': 285, 'bob': 204, 'bobbi': 104, 'bodi': 1026, 'boll': 179, 'bollywood': 136, 'bomb': 355, 'bond': 180, 'bone': 210, 'book': 2452, 'boom': 101, 'boot': 129, 'border': 116, 'bore': 3072, 'boredom': 170, 'born': 204, 'borrow': 175, 'boss': 251, 'bother': 880, 'bottl': 109, 'bottom': 386, 'bought': 380, 'box': 672, 'boy': 1444, 'boyfriend': 363, 'brain': 573, 'brand': 107, 'brave': 129, 'break': 728, 'breast': 187, 'breath': 180, 'brian': 173, 'bride': 102, 'bridg': 174, 'brief': 288, 'briefli': 117, 'bright': 229, 'brilliant': 418, 'bring': 1017, 'british': 573, 'broadcast': 101, 'broadway': 116, 'broke': 98, 'broken': 216, 'bronson': 103, 'brook': 134, 'brother': 977, 'brought': 436, 'brown': 190, 'bruce': 283, 'brutal': 277, 'bu': 141, 'buck': 253, 'buddi': 285, 'budget': 1681, 'buff': 122, 'bug': 142, 'build': 681, 'built': 174, 'bullet': 194, 'bunch': 932, 'buri': 152, 'burn': 445, 'burst': 105, 'burton': 106, 'bush': 145, 'busi': 518, 'butcher': 121, 'butt': 122, 'button': 150, 'buy': 746, 'by': 488, 'cabin': 143, 'cabl': 207, 'cage': 191, 'cain': 126, 'california': 123, 'call': 2475, 'came': 1274, 'cameo': 240, 'camera': 1661, 'camerawork': 126, 'cameron': 128, 'camp': 423, 'campi': 195, 'canada': 96, 'canadian': 177, 'cancel': 94, 'candi': 198, 'cannib': 214, 'cant': 3644, 'capabl': 214, 'capit': 108, 'captain': 285, 'captiv': 106, 'captur': 426, 'car': 1272, 'card': 186, 'cardboard': 173, 'care': 1850, 'career': 771, 'caricatur': 129, 'carol': 96, 'carpent': 95, 'carrey': 109, 'carri': 658, 'cartoon': 542, 'case': 1387, 'cash': 259, 'cast': 3030, 'castl': 137, 'cat': 428, 'catch': 406, 'categori': 218, 'catherin': 140, 'cathol': 116, 'cau': 834, 'caught': 354, 'cave': 198, 'celebr': 194, 'cell': 174, 'celluloid': 119, 'center': 248, 'central': 265, 'centuri': 343, 'certain': 531, 'certainli': 1010, 'cg': 94, 'cgi': 373, 'chain': 110, 'chair': 157, 'challeng': 222, 'chan': 131, 'chanc': 753, 'chang': 1400, 'channel': 546, 'chaplin': 101, 'charact': 11254, 'charg': 206, 'charisma': 109, 'charl': 292, 'charli': 273, 'charm': 465, 'chase': 724, 'cheap': 1083, 'cheat': 264, 'check': 741, 'chee': 181, 'cheer': 148, 'cheesi': 700, 'chemistri': 291, 'chest': 120, 'chew': 116, 'chick': 338, 'chief': 137, 'child': 853, 'childhood': 146, 'childish': 111, 'children': 1029, 'chill': 105, 'china': 97, 'chine': 187, 'choic': 480, 'choo': 295, 'chop': 172, 'chose': 183, 'chosen': 158, 'chri': 269, 'christ': 110, 'christian': 481, 'christma': 394, 'christoph': 250, 'chuck': 163, 'chuckl': 140, 'church': 286, 'cia': 93, 'cinema': 947, 'cinemat': 338, 'cinematographi': 640, 'circl': 114, 'circumst': 161, 'citi': 699, 'citizen': 130, 'civil': 162, 'claim': 476, 'clark': 143, 'class': 621, 'classic': 1146, 'clean': 248, 'clear': 675, 'clearli': 778, 'clever': 392, 'clich': 985, 'clichd': 253, 'cliff': 96, 'climax': 292, 'climb': 99, 'clip': 207, 'clone': 134, 'close': 1130, 'closer': 107, 'closet': 99, 'closeup': 168, 'cloth': 427, 'clown': 136, 'club': 339, 'clue': 298, 'clumsi': 121, 'co': 114, 'coach': 124, 'code': 154, 'coff': 103, 'coher': 171, 'coincid': 141, 'cold': 307, 'collect': 361, 'colleg': 446, 'color': 452, 'colour': 137, 'combin': 375, 'come': 5276, 'comedi': 2497, 'comedian': 198, 'comfort': 123, 'comic': 765, 'command': 188, 'comment': 1328, 'commentari': 243, 'commerci': 340, 'commit': 377, 'common': 398, 'commun': 354, 'compani': 459, 'compar': 799, 'comparison': 244, 'compel': 260, 'compet': 243, 'competit': 97, 'complain': 195, 'complet': 2985, 'complex': 220, 'complic': 159, 'compo': 139, 'comput': 509, 'con': 109, 'conceiv': 144, 'concentr': 115, 'concept': 553, 'concern': 432, 'concert': 100, 'conclu': 385, 'conclud': 116, 'condit': 151, 'confess': 156, 'conflict': 267, 'confront': 157, 'confu': 904, 'connect': 498, 'consequ': 143, 'consid': 1403, 'consist': 484, 'conspiraci': 133, 'constant': 214, 'constantli': 316, 'construct': 185, 'contact': 140, 'contain': 582, 'contemporari': 120, 'content': 313, 'contest': 150, 'context': 188, 'continu': 904, 'contrast': 124, 'contribut': 156, 'contriv': 302, 'control': 459, 'controversi': 141, 'conveni': 157, 'convent': 155, 'conver': 267, 'convey': 168, 'convict': 136, 'convinc': 740, 'convolut': 120, 'cook': 141, 'cool': 844, 'cooper': 102, 'cop': 869, 'copi': 574, 'core': 152, 'corner': 134, 'corni': 230, 'corp': 215, 'corpor': 120, 'correct': 236, 'corrupt': 162, 'cost': 507, 'costar': 119, 'costum': 496, 'could': 7200, 'couldnt': 1677, 'couldv': 178, 'count': 437, 'countless': 103, 'countri': 667, 'coupl': 1636, 'cour': 1764, 'court': 116, 'cousin': 151, 'cover': 888, 'cowboy': 124, 'crack': 166, 'craft': 122, 'crap': 1258, 'crappi': 367, 'crash': 345, 'crawl': 96, 'crazi': 464, 'creat': 1057, 'creation': 116, 'creativ': 339, 'creator': 171, 'creatur': 559, 'credibl': 299, 'credit': 1085, 'creep': 123, 'creepi': 464, 'crew': 560, 'cri': 477, 'crime': 528, 'crimin': 319, 'cring': 180, 'critic': 673, 'critter': 125, 'cross': 321, 'crowd': 197, 'crude': 162, 'cruel': 164, 'crui': 102, 'crush': 124, 'cue': 103, 'cult': 358, 'cultur': 394, 'cur': 255, 'cure': 128, 'curio': 130, 'curiou': 228, 'current': 247, 'cut': 1333, 'cute': 435, 'cynic': 127, 'dad': 343, 'damag': 150, 'damm': 117, 'damn': 397, 'dan': 164, 'danc': 777, 'dancer': 135, 'danger': 403, 'daniel': 146, 'danni': 174, 'dare': 192, 'dark': 1076, 'date': 541, 'daughter': 910, 'dave': 111, 'davi': 164, 'david': 550, 'dawn': 110, 'day': 2517, 'de': 419, 'dead': 1600, 'deadli': 158, 'deal': 761, 'dean': 156, 'dear': 147, 'death': 1476, 'debat': 95, 'debut': 132, 'decad': 288, 'decent': 1279, 'deci': 253, 'decid': 1538, 'dedic': 99, 'deep': 446, 'deepli': 145, 'defeat': 130, 'defend': 129, 'defin': 124, 'definit': 971, 'degr': 184, 'delib': 96, 'delight': 143, 'deliv': 772, 'deliveri': 131, 'demand': 206, 'demi': 109, 'demon': 442, 'demonstr': 161, 'deni': 151, 'denni': 124, 'depart': 211, 'depend': 171, 'depict': 406, 'depress': 349, 'depth': 414, 'derek': 127, 'deriv': 129, 'descend': 111, 'describ': 593, 'descript': 169, 'desert': 331, 'deserv': 859, 'design': 491, 'desir': 284, 'desper': 433, 'despit': 917, 'destroy': 580, 'destruct': 123, 'detail': 522, 'detect': 310, 'determin': 158, 'develop': 1208, 'devic': 212, 'devil': 250, 'devoid': 128, 'devot': 105, 'dialog': 975, 'dialogu': 1633, 'diamond': 121, 'dian': 105, 'dick': 145, 'didnt': 4316, 'die': 1618, 'differ': 1737, 'difficult': 458, 'dig': 144, 'digit': 109, 'dimens': 94, 'dinner': 121, 'dinosaur': 198, 'dire': 138, 'direct': 2862, 'directli': 160, 'director': 3914, 'directori': 93, 'dirti': 194, 'disagr': 108, 'disappear': 301, 'disappoint': 1873, 'disast': 415, 'disbelief': 168, 'discov': 518, 'discuss': 239, 'disea': 103, 'disgrac': 116, 'disgui': 131, 'disgust': 373, 'disjoint': 159, 'dislik': 231, 'disney': 400, 'display': 316, 'distanc': 97, 'distinct': 113, 'distract': 243, 'distribut': 122, 'disturb': 430, 'diver': 107, 'divorc': 110, 'do': 637, 'doctor': 588, 'documentari': 614, 'doe': 214, 'doesnt': 4132, 'dog': 773, 'doll': 142, 'dollar': 372, 'domin': 140, 'donald': 124, 'done': 2340, 'dont': 7968, 'doom': 150, 'door': 468, 'doubl': 259, 'doubt': 697, 'dougla': 135, 'downhil': 128, 'downright': 180, 'dozen': 247, 'dr': 586, 'dracula': 168, 'drag': 541, 'dragon': 207, 'drama': 850, 'dramat': 490, 'draw': 303, 'drawn': 238, 'dread': 430, 'dream': 551, 'dreari': 116, 'dreck': 95, 'dress': 482, 'drew': 114, 'dri': 206, 'drink': 334, 'drive': 638, 'drivel': 156, 'driver': 215, 'drop': 443, 'drown': 114, 'drug': 652, 'drunk': 255, 'dub': 359, 'dude': 261, 'due': 656, 'duke': 127, 'dull': 1043, 'dumb': 771, 'dump': 144, 'dure': 135, 'duti': 101, 'dvd': 1531, 'ear': 167, 'earli': 1024, 'earlier': 462, 'earn': 169, 'earth': 717, 'easi': 457, 'easili': 583, 'east': 142, 'eat': 517, 'eaten': 115, 'ed': 386, 'eddi': 220, 'edg': 214, 'edit': 1084, 'editor': 139, 'educ': 170, 'edward': 158, 'effect': 3022, 'effort': 942, 'eg': 150, 'eight': 132, 'either': 1735, 'el': 1901, 'elabor': 107, 'electr': 140, 'element': 783, 'elev': 109, 'elizabeth': 129, 'elsewh': 119, 'elvi': 100, 'embarrass': 648, 'emerg': 149, 'emot': 901, 'emperor': 105, 'employ': 236, 'empti': 305, 'encount': 257, 'encourag': 112, 'end': 7415, 'endless': 258, 'endur': 170, 'enemi': 222, 'energi': 239, 'engag': 332, 'engin': 132, 'england': 137, 'english': 659, 'enjoy': 2326, 'enorm': 94, 'enough': 3136, 'enter': 314, 'entertain': 1836, 'enthusiast': 102, 'entir': 1732, 'entri': 151, 'environ': 132, 'epic': 243, 'episod': 1444, 'equal': 394, 'equip': 119, 'era': 306, 'eric': 171, 'erot': 149, 'error': 176, 'escap': 659, 'especi': 1461, 'essenti': 259, 'establish': 240, 'etc': 921, 'etern': 106, 'europ': 122, 'european': 208, 'evan': 108, 'even': 12147, 'event': 795, 'eventu': 541, 'ever': 5130, 'everi': 3141, 'everybodi': 327, 'everyon': 1589, 'everyth': 1829, 'everywh': 133, 'evid': 356, 'evil': 1217, 'ex': 104, 'exact': 177, 'exactli': 833, 'exagg': 164, 'examin': 116, 'exampl': 1325, 'excel': 634, 'except': 1623, 'excess': 151, 'exchang': 115, 'excit': 715, 'excu': 582, 'execut': 571, 'exerci': 157, 'exist': 673, 'expect': 2449, 'expen': 169, 'experi': 1080, 'experienc': 166, 'expert': 162, 'explain': 982, 'explan': 362, 'explo': 247, 'explod': 159, 'exploit': 416, 'explor': 251, 'expo': 163, 'express': 486, 'extend': 113, 'extent': 132, 'extra': 396, 'extrem': 1151, 'eye': 1302, 'face': 1604, 'facial': 124, 'fact': 3120, 'factor': 208, 'fade': 141, 'fail': 1619, 'failur': 284, 'fair': 463, 'fairi': 97, 'fairli': 490, 'faith': 268, 'fake': 609, 'fal': 167, 'fall': 1629, 'fallen': 126, 'fame': 157, 'famili': 1789, 'familiar': 333, 'famou': 437, 'fan': 2405, 'fanci': 116, 'fantasi': 404, 'fantast': 243, 'far': 2553, 'farc': 112, 'fare': 175, 'farm': 106, 'fascin': 252, 'fashion': 337, 'fast': 574, 'fat': 332, 'fatal': 131, 'fate': 173, 'father': 1199, 'fault': 288, 'favor': 323, 'favorit': 468, 'favour': 111, 'favourit': 123, 'fbi': 156, 'fear': 418, 'featur': 1318, 'feed': 144, 'feel': 3723, 'feet': 224, 'fell': 328, 'fellow': 205, 'felt': 1245, 'femal': 934, 'festiv': 262, 'fianc': 120, 'fiction': 426, 'field': 302, 'fifteen': 120, 'fight': 1575, 'fighter': 124, 'figur': 951, 'fill': 643, 'filler': 95, 'film': 34372, 'filmmak': 1172, 'filmth': 135, 'final': 2137, 'financ': 170, 'find': 3745, 'fine': 746, 'finger': 191, 'finish': 649, 'fire': 738, 'first': 6410, 'fish': 233, 'fit': 582, 'five': 728, 'fix': 141, 'flame': 93, 'flash': 243, 'flashback': 347, 'flat': 604, 'flaw': 434, 'flesh': 227, 'fli': 534, 'flick': 1539, 'flight': 154, 'flip': 102, 'float': 124, 'floor': 249, 'flop': 148, 'flow': 185, 'focu': 612, 'folk': 373, 'follow': 1496, 'food': 231, 'fool': 365, 'foot': 177, 'footag': 661, 'footbal': 186, 'forc': 1205, 'ford': 153, 'foreign': 195, 'forest': 191, 'forev': 246, 'forget': 606, 'forgett': 241, 'forgiv': 178, 'forgot': 195, 'forgotten': 229, 'form': 565, 'format': 109, 'former': 343, 'formula': 287, 'forth': 158, 'fortun': 220, 'forward': 624, 'foster': 94, 'found': 1969, 'four': 668, 'fourth': 118, 'fox': 181, 'frame': 273, 'franc': 149, 'franchi': 175, 'franco': 124, 'frank': 233, 'frankenstein': 104, 'frankli': 243, 'freak': 275, 'fred': 184, 'freddi': 215, 'free': 533, 'french': 479, 'frequent': 188, 'fresh': 205, 'friday': 204, 'friend': 2298, 'frighten': 173, 'front': 529, 'frustrat': 252, 'fu': 101, 'fulci': 113, 'full': 1196, 'fulli': 234, 'fun': 1556, 'function': 98, 'fund': 159, 'funni': 3549, 'funnier': 151, 'funniest': 149, 'futur': 511, 'fx': 144, 'ga': 136, 'gabriel': 112, 'gadget': 105, 'gag': 374, 'gain': 167, 'game': 1111, 'gang': 437, 'gangster': 231, 'garbag': 609, 'garden': 133, 'gari': 146, 'gather': 127, 'gave': 987, 'gay': 637, 'gem': 136, 'gene': 108, 'gener': 1565, 'geniu': 266, 'genr': 868, 'genuin': 313, 'georg': 605, 'german': 458, 'germani': 115, 'get': 12102, 'ghost': 524, 'giant': 447, 'gift': 145, 'giggl': 98, 'girl': 3187, 'girlfriend': 535, 'give': 4462, 'given': 1467, 'glad': 277, 'glass': 189, 'glimp': 117, 'go': 7686, 'goal': 123, 'god': 1156, 'godfath': 100, 'godzilla': 97, 'goe': 1966, 'gold': 221, 'golden': 150, 'gon': 250, 'gone': 647, 'good': 11517, 'goofi': 176, 'gordon': 160, 'gore': 1022, 'gorgeou': 154, 'gori': 229, 'got': 3160, 'gotten': 219, 'govern': 328, 'grab': 205, 'grace': 328, 'grade': 382, 'graduat': 115, 'grand': 176, 'grant': 297, 'graphic': 309, 'grate': 104, 'gratuit': 230, 'grave': 233, 'gray': 96, 'great': 4139, 'greater': 97, 'greatest': 304, 'greek': 105, 'green': 309, 'grew': 133, 'grip': 107, 'gross': 174, 'ground': 361, 'group': 1012, 'grow': 398, 'grown': 160, 'grudg': 109, 'gruesom': 148, 'guarant': 113, 'guard': 209, 'guess': 1618, 'guest': 165, 'guid': 146, 'guilti': 151, 'gun': 796, 'gut': 148, 'guy': 4481, 'ha': 265, 'hack': 171, 'hackney': 103, 'hadnt': 235, 'hair': 500, 'half': 1835, 'halfway': 227, 'hall': 130, 'halloween': 180, 'ham': 128, 'hammer': 140, 'hand': 1535, 'handl': 346, 'handsom': 140, 'hang': 390, 'hank': 103, 'happen': 3058, 'happi': 584, 'happili': 97, 'hard': 1986, 'hardcor': 104, 'hardi': 132, 'hardli': 554, 'harri': 323, 'harsh': 140, 'hasnt': 238, 'hat': 189, 'hate': 1179, 'haunt': 265, 'havent': 600, 'he': 3098, 'head': 1759, 'hear': 795, 'heard': 865, 'heart': 645, 'heat': 117, 'heaven': 206, 'heavi': 276, 'heavili': 140, 'heck': 251, 'hed': 161, 'held': 209, 'helen': 103, 'helicopt': 135, 'hell': 1097, 'help': 1871, 'henc': 137, 'henri': 181, 'hero': 1064, 'heroic': 95, 'heroin': 271, 'hey': 385, 'hi': 876, 'hidden': 182, 'hide': 320, 'hideou': 148, 'high': 1533, 'higher': 173, 'highli': 452, 'highlight': 233, 'hilari': 609, 'hill': 306, 'hint': 250, 'hip': 122, 'hippi': 113, 'hire': 358, 'histor': 407, 'histori': 798, 'hit': 1016, 'hitchcock': 195, 'hitler': 183, 'hold': 731, 'hole': 549, 'holi': 108, 'holiday': 128, 'hollow': 115, 'hollywood': 1301, 'holm': 103, 'homag': 123, 'home': 1275, 'homosexu': 148, 'honest': 323, 'honestli': 488, 'honor': 129, 'hood': 150, 'hook': 173, 'hope': 2050, 'hor': 303, 'horrend': 193, 'horribl': 2000, 'horrid': 164, 'horrif': 150, 'horrifi': 116, 'horror': 3156, 'hospit': 296, 'host': 161, 'hostag': 97, 'hot': 594, 'hotel': 225, 'hou': 1657, 'hour': 2101, 'howard': 186, 'howev': 2513, 'huge': 878, 'huh': 120, 'hulk': 94, 'human': 1272, 'humili': 98, 'humor': 1090, 'humour': 310, 'hundr': 275, 'hunt': 290, 'hunter': 259, 'hurt': 393, 'husband': 698, 'hype': 194, 'hyster': 144, 'ice': 185, 'icon': 103, 'id': 1149, 'idea': 2579, 'ideal': 95, 'ident': 212, 'identifi': 135, 'idiot': 607, 'ie': 245, 'if': 4194, 'ignor': 457, 'ii': 278, 'iii': 100, 'ill': 1046, 'illeg': 97, 'illog': 122, 'im': 4298, 'imag': 552, 'imageri': 115, 'imagin': 1098, 'imdb': 660, 'imit': 189, 'immedi': 369, 'impact': 190, 'implau': 162, 'impli': 123, 'import': 625, 'imposs': 430, 'impress': 947, 'improv': 303, 'in': 3887, 'inan': 144, 'inappropri': 124, 'incid': 206, 'includ': 1355, 'incoh': 191, 'incompet': 151, 'incomprehen': 119, 'inconsist': 141, 'incr': 809, 'increa': 97, 'ind': 459, 'independ': 277, 'indi': 181, 'india': 95, 'indian': 388, 'indic': 224, 'individu': 209, 'industri': 323, 'inept': 238, 'inevit': 125, 'inexpl': 158, 'infam': 105, 'infect': 105, 'influenc': 184, 'inform': 390, 'inhabit': 104, 'initi': 269, 'inject': 111, 'innoc': 327, 'innov': 94, 'insan': 279, 'insert': 131, 'insid': 456, 'insight': 191, 'insist': 155, 'inspir': 416, 'instal': 135, 'instanc': 268, 'instantli': 108, 'instead': 2201, 'insult': 546, 'integr': 99, 'intellectu': 170, 'intellig': 596, 'inten': 243, 'intend': 430, 'intent': 506, 'interact': 173, 'interest': 3911, 'intern': 206, 'internet': 121, 'interpret': 162, 'interview': 350, 'intrigu': 346, 'introduc': 420, 'introduct': 120, 'invent': 213, 'invest': 139, 'investig': 345, 'invi': 132, 'invit': 167, 'involv': 1611, 'ireland': 114, 'irish': 139, 'iron': 309, 'ironi': 99, 'irrelev': 97, 'irrit': 415, 'is': 853, 'island': 630, 'isnt': 2954, 'isol': 113, 'issu': 493, 'it': 8482, 'italian': 417, 'iti': 111, 'itth': 139, 'ive': 2763, 'jack': 565, 'jacki': 123, 'jackson': 192, 'jail': 148, 'jame': 596, 'jane': 324, 'japan': 534, 'jar': 93, 'jason': 246, 'jaw': 137, 'jay': 99, 'jean': 142, 'jeff': 153, 'jennif': 172, 'jerk': 174, 'jerri': 234, 'jess': 138, 'jessica': 130, 'jesu': 224, 'jet': 107, 'jew': 97, 'jewish': 135, 'jim': 308, 'jimmi': 121, 'joan': 130, 'job': 1399, 'joe': 392, 'john': 1307, 'johnni': 178, 'johnson': 137, 'join': 275, 'joke': 1685, 'jone': 336, 'joseph': 126, 'josh': 98, 'journey': 164, 'joy': 157, 'jr': 197, 'judg': 369, 'juli': 155, 'julia': 98, 'jump': 549, 'jungl': 198, 'junk': 231, 'justic': 233, 'justifi': 177, 'juvenil': 100, 'kane': 129, 'karen': 123, 'kate': 147, 'keaton': 179, 'keep': 1738, 'kelli': 173, 'kept': 673, 'kevin': 245, 'key': 274, 'khan': 97, 'kick': 458, 'kid': 2626, 'kidnap': 256, 'kill': 3619, 'killer': 1435, 'kim': 130, 'kind': 2542, 'kinda': 216, 'king': 620, 'kiss': 233, 'kitchen': 99, 'knew': 682, 'knife': 144, 'knight': 103, 'knock': 232, 'know': 6173, 'knowledg': 207, 'known': 651, 'kong': 119, 'la': 513, 'lab': 125, 'label': 115, 'lack': 1893, 'lacklust': 102, 'ladi': 744, 'laid': 110, 'lake': 192, 'lame': 943, 'land': 491, 'landscap': 105, 'lane': 141, 'languag': 350, 'larg': 584, 'larri': 157, 'last': 2255, 'late': 755, 'later': 1324, 'latest': 136, 'latter': 216, 'laugh': 2588, 'laughabl': 705, 'laughter': 180, 'laura': 106, 'laurel': 125, 'law': 341, 'lawrenc': 97, 'lawyer': 144, 'lay': 157, 'lazi': 200, 'le': 134, 'lead': 2033, 'leader': 262, 'leagu': 112, 'learn': 893, 'least': 3150, 'leav': 1665, 'led': 220, 'lee': 550, 'left': 1786, 'leg': 251, 'legend': 219, 'length': 203, 'leonard': 101, 'lesbian': 270, 'less': 1529, 'lesser': 96, 'lesson': 237, 'let': 2459, 'letter': 206, 'level': 848, 'lewi': 203, 'liber': 148, 'lie': 506, 'life': 3460, 'lifetim': 137, 'lift': 179, 'light': 1002, 'likabl': 246, 'like': 19188, 'limit': 376, 'linda': 125, 'line': 2880, 'link': 141, 'lion': 104, 'lip': 117, 'lisa': 127, 'list': 648, 'listen': 421, 'liter': 422, 'littl': 4704, 'live': 2543, 'lloyd': 100, 'lo': 153, 'load': 281, 'local': 834, 'locat': 563, 'lock': 233, 'logic': 384, 'london': 299, 'lone': 221, 'long': 2572, 'longer': 369, 'loo': 400, 'look': 9093, 'lord': 261, 'lose': 579, 'loser': 209, 'loss': 187, 'lost': 1104, 'lot': 3633, 'lou': 102, 'loud': 346, 'loui': 108, 'lousi': 308, 'love': 4463, 'lover': 375, 'low': 1471, 'lowbudget': 296, 'lower': 225, 'lowest': 107, 'luck': 172, 'lucki': 134, 'ludicr': 235, 'lugosi': 114, 'luke': 96, 'lynch': 149, 'machin': 369, 'mad': 469, 'made': 6651, 'madefortv': 104, 'magazin': 121, 'magic': 366, 'magnif': 95, 'main': 1967, 'mainli': 273, 'mainstream': 109, 'maintain': 97, 'major': 961, 'make': 12260, 'maker': 520, 'makeup': 384, 'male': 606, 'man': 3732, 'manag': 1139, 'mani': 4604, 'maniac': 111, 'manipul': 175, 'manner': 359, 'mansion': 111, 'mar': 116, 'mari': 368, 'mark': 543, 'market': 257, 'marri': 515, 'marriag': 199, 'martial': 239, 'martin': 275, 'mask': 320, 'mason': 108, 'mass': 166, 'massacr': 179, 'massiv': 193, 'master': 418, 'masterpiec': 308, 'match': 422, 'mate': 140, 'materi': 688, 'matrix': 137, 'matt': 174, 'matter': 1067, 'matur': 102, 'max': 151, 'may': 2187, 'mayb': 2163, 'me': 223, 'mean': 2733, 'meander': 116, 'meaningless': 148, 'meant': 507, 'meanwhil': 164, 'measur': 109, 'meat': 120, 'mechan': 110, 'media': 172, 'medic': 167, 'mediocr': 484, 'medium': 94, 'meet': 1012, 'mel': 111, 'melodrama': 126, 'melodramat': 114, 'melt': 106, 'member': 640, 'memor': 336, 'memori': 346, 'men': 1332, 'menac': 187, 'mental': 409, 'mention': 1380, 'merci': 116, 'mere': 417, 'merit': 192, 'mess': 895, 'messag': 648, 'met': 194, 'metal': 130, 'method': 141, 'mexican': 173, 'mexico': 109, 'michael': 854, 'michel': 129, 'middl': 703, 'might': 2598, 'mike': 247, 'mild': 95, 'mildli': 226, 'mile': 287, 'militari': 356, 'miller': 98, 'million': 480, 'min': 146, 'mind': 1529, 'mindless': 168, 'mine': 231, 'minim': 150, 'miniseri': 111, 'minor': 335, 'minut': 3942, 'mirror': 162, 'miscast': 217, 'miser': 277, 'mislead': 99, 'miss': 1521, 'mission': 216, 'mistak': 558, 'mitchel': 115, 'mix': 485, 'mob': 116, 'mock': 108, 'model': 317, 'modern': 552, 'mom': 303, 'moment': 1812, 'money': 2392, 'monkey': 229, 'monoton': 106, 'monster': 1122, 'montag': 108, 'month': 307, 'mood': 297, 'moon': 270, 'moor': 253, 'moral': 414, 'morgan': 113, 'morn': 214, 'moron': 263, 'mostli': 744, 'mother': 973, 'motion': 340, 'motiv': 418, 'mountain': 209, 'mouth': 383, 'move': 1513, 'movement': 198, 'movi': 44610, 'moviei': 126, 'movieth': 173, 'mr': 1126, 'ms': 259, 'mst3k': 232, 'much': 7853, 'muddl': 123, 'multipl': 146, 'mummi': 170, 'murder': 1448, 'murphi': 151, 'music': 2537, 'must': 2369, 'mutant': 117, 'my': 1277, 'myer': 100, 'mysteri': 889, 'na': 391, 'nail': 129, 'naiv': 127, 'nake': 432, 'name': 2391, 'narr': 293, 'narrat': 280, 'nasti': 326, 'nation': 328, 'nativ': 286, 'natur': 773, 'nazi': 199, 'near': 643, 'nearli': 605, 'necessari': 186, 'necessarili': 124, 'neck': 130, 'need': 2791, 'needless': 125, 'neg': 307, 'neighbor': 127, 'neighborhood': 93, 'neither': 528, 'nelson': 95, 'nerd': 123, 'network': 183, 'never': 5264, 'new': 2731, 'news': 222, 'newspap': 96, 'next': 1385, 'nice': 1445, 'nick': 198, 'night': 1636, 'nightmar': 263, 'nine': 109, 'ninja': 182, 'no': 1772, 'nobodi': 461, 'nod': 97, 'noi': 206, 'noir': 110, 'nomin': 184, 'non': 120, 'none': 1007, 'nonexist': 226, 'nonsen': 412, 'noon': 107, 'normal': 527, 'norri': 117, 'north': 135, 'nose': 168, 'notabl': 170, 'note': 655, 'noth': 4578, 'notic': 633, 'notori': 110, 'novel': 781, 'nowher': 482, 'nuclear': 137, 'nude': 156, 'nuditi': 567, 'number': 928, 'numer': 214, 'nur': 162, 'nut': 131, 'object': 283, 'obnoxi': 215, 'obscur': 139, 'observ': 169, 'obsess': 263, 'obviou': 2121, 'occa': 178, 'occas': 295, 'occur': 274, 'ocean': 139, 'odd': 486, 'oddli': 109, 'of': 1223, 'offen': 277, 'offend': 192, 'offer': 731, 'offic': 657, 'offici': 113, 'often': 998, 'oh': 1510, 'oil': 96, 'ok': 1086, 'okay': 754, 'old': 3112, 'older': 379, 'oliv': 105, 'on': 758, 'onc': 253, 'one': 20739, 'onedimens': 94, 'onelin': 123, 'onli': 464, 'onto': 288, 'open': 1567, 'oper': 230, 'opera': 281, 'opinion': 691, 'oppo': 132, 'opportun': 336, 'opposit': 211, 'or': 660, 'order': 885, 'ordinari': 180, 'organ': 199, 'origin': 3403, 'oscar': 338, 'otherwi': 637, 'outer': 145, 'outfit': 146, 'outrag': 171, 'outsid': 469, 'outstand': 100, 'over': 720, 'overact': 246, 'overdon': 117, 'overli': 189, 'overr': 122, 'overthetop': 172, 'owner': 188, 'pace': 712, 'pacino': 106, 'pack': 212, 'packag': 96, 'pad': 149, 'page': 212, 'paid': 410, 'pain': 1087, 'paint': 403, 'pair': 260, 'pan': 123, 'pant': 101, 'paper': 242, 'par': 141, 'parallel': 96, 'parent': 608, 'pari': 192, 'park': 392, 'parker': 94, 'parodi': 294, 'part': 3854, 'parti': 539, 'particip': 131, 'particular': 461, 'particularli': 748, 'partner': 209, 'pass': 751, 'passabl': 107, 'passeng': 101, 'passion': 249, 'past': 835, 'pat': 105, 'path': 132, 'pathet': 678, 'patient': 169, 'patrick': 128, 'pau': 97, 'paul': 428, 'pay': 812, 'peac': 151, 'peopl': 7533, 'per': 113, 'perfect': 567, 'perfectli': 232, 'perform': 2854, 'perhap': 1241, 'period': 506, 'person': 2248, 'perspect': 134, 'pet': 108, 'peter': 500, 'phillip': 115, 'phone': 389, 'phoni': 94, 'photo': 125, 'photograph': 245, 'photographi': 261, 'phrase': 116, 'physic': 354, 'piano': 95, 'pick': 843, 'pictur': 1238, 'pie': 115, 'piec': 1680, 'pile': 287, 'pilot': 254, 'pitch': 135, 'piti': 305, 'place': 2219, 'plagu': 135, 'plain': 642, 'plan': 677, 'plane': 404, 'planet': 336, 'plant': 124, 'plastic': 161, 'plausibl': 110, 'play': 5624, 'player': 372, 'plea': 1023, 'pleasant': 96, 'pleasur': 197, 'plenti': 443, 'plod': 116, 'plot': 6582, 'plu': 502, 'point': 3521, 'pointless': 670, 'poison': 96, 'polic': 798, 'polit': 615, 'pool': 119, 'poor': 2366, 'poorli': 990, 'pop': 421, 'popul': 144, 'popular': 377, 'porn': 393, 'porno': 141, 'portion': 108, 'portray': 1084, 'pose': 142, 'posit': 736, 'possess': 285, 'possibl': 1644, 'post': 286, 'poster': 152, 'potenti': 656, 'pound': 96, 'power': 1048, 'practic': 377, 'prai': 219, 'pray': 112, 'preciou': 117, 'predat': 205, 'predict': 1141, 'prefer': 301, 'pregnant': 167, 'premi': 775, 'premier': 94, 'prepar': 283, 'presenc': 315, 'present': 960, 'presid': 226, 'press': 147, 'presum': 182, 'pretend': 282, 'pretenti': 311, 'pretti': 3413, 'prevent': 157, 'preview': 152, 'previou': 608, 'price': 187, 'pride': 98, 'priest': 258, 'prime': 128, 'princ': 104, 'princess': 94, 'princip': 107, 'print': 172, 'prior': 144, 'prison': 501, 'privat': 211, 'probabl': 2327, 'problem': 2070, 'proceed': 152, 'process': 241, 'produc': 1585, 'product': 1873, 'profess': 368, 'professor': 172, 'program': 281, 'progress': 201, 'project': 611, 'prom': 112, 'promi': 586, 'promot': 221, 'proof': 151, 'prop': 133, 'propaganda': 192, 'proper': 194, 'properli': 141, 'prostitut': 165, 'protagonist': 297, 'protect': 218, 'proud': 107, 'prove': 624, 'provid': 629, 'psychic': 95, 'psycho': 217, 'psycholog': 210, 'psychot': 98, 'public': 498, 'pull': 722, 'pulp': 104, 'pun': 94, 'punch': 225, 'punish': 147, 'punk': 104, 'puppet': 218, 'purcha': 129, 'pure': 515, 'purpo': 534, 'pursu': 114, 'push': 299, 'put': 2587, 'puzzl': 120, 'qualifi': 110, 'qualiti': 1236, 'queen': 268, 'quest': 97, 'question': 954, 'quick': 274, 'quickli': 522, 'quiet': 122, 'quirki': 106, 'quit': 2570, 'quot': 200, 'race': 361, 'racial': 103, 'racism': 120, 'racist': 165, 'radio': 199, 'rage': 117, 'rai': 351, 'rain': 136, 'rambl': 102, 'ran': 205, 'randi': 98, 'random': 429, 'randomli': 98, 'rang': 226, 'ranger': 154, 'rank': 194, 'rant': 103, 'rape': 477, 'rare': 386, 'rat': 153, 'rate': 1676, 'rather': 2194, 'rave': 134, 'ray': 260, 'reach': 398, 'react': 109, 'reaction': 253, 'read': 2297, 'reader': 105, 'readi': 254, 'real': 3335, 'reali': 191, 'realism': 141, 'realist': 402, 'realiti': 588, 'realiz': 922, 'realli': 9713, 'reason': 3077, 'rebel': 111, 'recal': 187, 'receiv': 327, 'recent': 625, 'recogn': 216, 'recommend': 1331, 'record': 364, 'recov': 116, 'recreat': 94, 'recycl': 130, 'red': 514, 'redeem': 593, 'reduc': 152, 'reel': 103, 'refer': 572, 'reflect': 181, 'refu': 233, 'regard': 337, 'regardless': 115, 'regret': 195, 'regular': 201, 'rehash': 105, 'reject': 165, 'rel': 292, 'relat': 423, 'relationship': 704, 'relea': 1178, 'relev': 144, 'reli': 223, 'relief': 178, 'religi': 247, 'religion': 168, 'remain': 589, 'remak': 680, 'remark': 234, 'rememb': 1306, 'remind': 541, 'reminisc': 103, 'remot': 420, 'remov': 234, 'render': 133, 'rent': 1345, 'rental': 241, 'repeat': 373, 'repeatedli': 120, 'repetit': 185, 'replac': 298, 'report': 375, 'repr': 235, 'reput': 162, 'requir': 359, 'rescu': 309, 'research': 272, 'resembl': 345, 'resid': 143, 'resist': 128, 'resolut': 95, 'resort': 144, 'respect': 577, 'respon': 408, 'rest': 1679, 'restaur': 93, 'result': 826, 'resurrect': 109, 'retard': 228, 'retir': 111, 'return': 747, 'reveal': 470, 'revel': 149, 'reveng': 413, 'rever': 127, 'review': 1928, 'revolut': 109, 'revolv': 223, 'rich': 411, 'richard': 527, 'rick': 113, 'rid': 119, 'ride': 409, 'ridicul': 1407, 'right': 2555, 'ring': 320, 'rip': 496, 'ripoff': 272, 'rise': 290, 'risk': 156, 'rival': 122, 'river': 189, 'road': 370, 'rob': 227, 'robert': 770, 'robin': 191, 'robot': 295, 'rock': 645, 'rocket': 111, 'roger': 250, 'role': 2476, 'roll': 473, 'roman': 93, 'romanc': 405, 'romant': 429, 'romero': 96, 'ron': 136, 'room': 785, 'root': 245, 'rose': 115, 'rotten': 104, 'rough': 114, 'round': 239, 'routin': 207, 'row': 147, 'roy': 105, 'rubber': 116, 'rubbish': 340, 'ruin': 553, 'rule': 305, 'run': 2251, 'rush': 234, 'russel': 127, 'russian': 310, 'ryan': 179, 'sacrif': 143, 'sad': 791, 'sadist': 131, 'sadli': 513, 'safe': 192, 'said': 1871, 'sake': 247, 'salli': 103, 'sam': 342, 'san': 119, 'sand': 105, 'santa': 193, 'sarah': 115, 'sat': 345, 'satan': 185, 'satir': 230, 'satisfi': 194, 'saturday': 172, 'savag': 122, 'save': 1847, 'saw': 2323, 'say': 6563, 'scale': 166, 'scare': 584, 'scarecrow': 178, 'scari': 872, 'scenario': 188, 'scene': 8816, 'sceneri': 319, 'scheme': 120, 'school': 1393, 'scienc': 447, 'scientif': 110, 'scientist': 486, 'scifi': 608, 'score': 733, 'scott': 346, 'scratch': 120, 'scream': 662, 'screen': 1909, 'screenplay': 547, 'screenwrit': 241, 'screw': 182, 'script': 3450, 'scriptwrit': 101, 'sea': 242, 'seagal': 323, 'seal': 98, 'sean': 202, 'search': 357, 'season': 414, 'seat': 171, 'second': 1703, 'secret': 480, 'section': 177, 'secur': 220, 'seduc': 111, 'see': 10288, 'seed': 94, 'seek': 258, 'seem': 6325, 'seemingli': 266, 'seen': 5150, 'segment': 190, 'select': 142, 'self': 287, 'sell': 325, 'sen': 2019, 'send': 334, 'senseless': 104, 'sensibl': 96, 'sent': 241, 'sentenc': 176, 'sentiment': 182, 'separ': 199, 'sequel': 1064, 'sequenc': 1190, 'seri': 1845, 'serial': 295, 'seriou': 1810, 'serv': 461, 'servic': 208, 'set': 2762, 'settl': 122, 'setup': 139, 'seven': 226, 'sever': 1269, 'sex': 1612, 'sexi': 320, 'sexual': 658, 'shadow': 207, 'shake': 175, 'shakespear': 166, 'shallow': 309, 'shame': 662, 'shape': 154, 'share': 320, 'shark': 166, 'sharp': 107, 'shed': 121, 'sheer': 190, 'shelf': 99, 'shell': 118, 'sheriff': 218, 'shine': 181, 'ship': 427, 'shirt': 134, 'shock': 788, 'shoddi': 112, 'shoe': 110, 'shoot': 1013, 'shop': 262, 'short': 1418, 'shortli': 98, 'shot': 2642, 'shouldnt': 314, 'shout': 162, 'show': 6864, 'showca': 105, 'shower': 179, 'shown': 717, 'shut': 194, 'sick': 495, 'side': 949, 'sidekick': 109, 'sight': 268, 'sign': 402, 'signif': 162, 'silenc': 117, 'silent': 255, 'silli': 1053, 'silver': 126, 'similar': 617, 'simon': 126, 'simpl': 530, 'simpli': 1754, 'simplist': 94, 'simpson': 130, 'sin': 135, 'sinc': 2156, 'sincer': 132, 'sing': 540, 'singer': 219, 'singl': 825, 'sinist': 95, 'sink': 183, 'sir': 94, 'sister': 623, 'sit': 1235, 'sitcom': 182, 'site': 208, 'situat': 765, 'six': 259, 'size': 165, 'sketch': 104, 'ski': 107, 'skill': 364, 'skin': 207, 'skip': 396, 'skit': 103, 'slap': 210, 'slapstick': 162, 'slasher': 514, 'slaughter': 126, 'slave': 127, 'sleazi': 130, 'sleep': 509, 'slight': 115, 'slightest': 126, 'slightli': 394, 'slip': 110, 'sloppi': 135, 'slow': 945, 'slowli': 271, 'small': 1028, 'smart': 322, 'smash': 93, 'smile': 275, 'smith': 256, 'smoke': 254, 'snake': 313, 'sneak': 107, 'snow': 129, 'so': 2055, 'soap': 262, 'socal': 171, 'social': 328, 'societi': 358, 'soft': 177, 'sold': 124, 'soldier': 581, 'sole': 232, 'solid': 207, 'solv': 178, 'somebodi': 316, 'somehow': 687, 'someon': 2288, 'someth': 4579, 'sometim': 758, 'somewh': 450, 'somewhat': 655, 'son': 930, 'song': 1118, 'soon': 766, 'sophist': 107, 'sore': 100, 'sorri': 901, 'sort': 1513, 'soul': 340, 'sound': 2067, 'soundtrack': 513, 'sourc': 205, 'south': 281, 'southern': 139, 'space': 724, 'spacey': 96, 'spanish': 189, 'spare': 152, 'spark': 121, 'speak': 925, 'special': 1877, 'specif': 187, 'spectacular': 107, 'speech': 198, 'speed': 211, 'spell': 168, 'spend': 803, 'spent': 611, 'spi': 118, 'spider': 97, 'spielberg': 103, 'spin': 136, 'spirit': 405, 'spiritu': 100, 'spit': 102, 'spite': 141, 'splatter': 113, 'split': 124, 'spoil': 284, 'spoiler': 675, 'spoken': 101, 'spoof': 240, 'sport': 225, 'spot': 375, 'spread': 99, 'squad': 93, 'squar': 115, 'st': 137, 'stab': 186, 'staff': 101, 'stage': 560, 'stalk': 142, 'stan': 108, 'stand': 943, 'standard': 647, 'star': 2930, 'stare': 216, 'start': 3540, 'state': 761, 'statement': 211, 'station': 266, 'statu': 179, 'stay': 1044, 'steal': 432, 'steam': 114, 'steer': 94, 'step': 339, 'stephen': 227, 'stereotyp': 674, 'steve': 308, 'steven': 331, 'stewart': 133, 'stick': 619, 'stiff': 135, 'still': 3463, 'stilt': 111, 'stink': 182, 'stinker': 179, 'stock': 330, 'stole': 102, 'stolen': 155, 'stomach': 157, 'stone': 266, 'stop': 1299, 'store': 515, 'stori': 8402, 'storm': 142, 'storylin': 705, 'storytel': 135, 'straight': 696, 'strain': 98, 'strand': 103, 'strang': 813, 'stranger': 175, 'street': 560, 'strength': 148, 'stress': 96, 'stretch': 270, 'strictli': 119, 'strike': 213, 'string': 157, 'strip': 164, 'strong': 457, 'strongli': 124, 'structur': 176, 'struggl': 408, 'stuck': 311, 'student': 615, 'studi': 287, 'studio': 474, 'stuff': 1038, 'stumbl': 184, 'stun': 193, 'stunt': 233, 'stupid': 2470, 'style': 995, 'stylish': 93, 'sub': 121, 'subject': 707, 'subpar': 107, 'subplot': 265, 'subsequ': 97, 'substanc': 221, 'subtitl': 163, 'subtl': 145, 'succeed': 191, 'success': 817, 'suck': 986, 'sucker': 94, 'sudden': 170, 'suddenli': 470, 'suffer': 594, 'suggest': 599, 'suicid': 282, 'suit': 416, 'suitabl': 97, 'sum': 296, 'summari': 176, 'summer': 215, 'sun': 142, 'sunday': 109, 'super': 282, 'superb': 151, 'superfici': 116, 'superior': 234, 'superman': 179, 'supernatur': 164, 'suppli': 106, 'suppo': 2276, 'support': 736, 'supposedli': 405, 'sure': 2488, 'surfac': 126, 'surpri': 1206, 'surprisingli': 244, 'surreal': 126, 'surround': 259, 'surviv': 442, 'survivor': 153, 'susan': 101, 'suspect': 362, 'suspen': 756, 'suspend': 103, 'suspici': 94, 'sutherland': 93, 'swear': 184, 'sweet': 234, 'swim': 116, 'switch': 224, 'sword': 163, 'symbol': 198, 'sympathet': 135, 'sympathi': 198, 'synopsi': 97, 'system': 249, 'ta': 195, 'tabl': 183, 'tag': 105, 'take': 4981, 'taken': 743, 'tale': 442, 'talent': 1423, 'talk': 1864, 'tall': 100, 'tame': 112, 'tank': 129, 'tape': 266, 'tarantino': 122, 'target': 275, 'tarzan': 125, 'task': 144, 'tast': 435, 'tasteless': 101, 'taylor': 154, 'tea': 149, 'teach': 229, 'teacher': 328, 'team': 642, 'tear': 240, 'technic': 316, 'techniqu': 186, 'technolog': 180, 'ted': 102, 'tediou': 295, 'teen': 454, 'teenag': 620, 'teeth': 190, 'televi': 621, 'tell': 2401, 'ten': 809, 'tend': 199, 'tension': 396, 'term': 440, 'termin': 123, 'terribl': 2520, 'terrif': 136, 'terrifi': 103, 'territori': 94, 'terror': 260, 'terrorist': 186, 'test': 245, 'texa': 180, 'text': 149, 'thank': 676, 'theater': 827, 'theatr': 297, 'theatric': 168, 'theme': 681, 'theori': 184, 'therefor': 280, 'theyd': 129, 'theyll': 115, 'theyr': 1234, 'theyv': 228, 'thi': 10223, 'thin': 314, 'thing': 7356, 'think': 7081, 'third': 501, 'thirti': 146, 'thoma': 186, 'thoroughli': 179, 'though': 3113, 'thought': 3042, 'thousand': 268, 'thread': 95, 'threat': 113, 'threaten': 207, 'three': 1647, 'threw': 135, 'thrill': 269, 'thriller': 593, 'throat': 130, 'throughout': 907, 'throw': 720, 'thrown': 423, 'thu': 287, 'thug': 115, 'thumb': 131, 'ticket': 134, 'tie': 303, 'tight': 116, 'till': 146, 'tim': 226, 'time': 11444, 'tini': 178, 'tire': 459, 'tiresom': 103, 'titl': 1481, 'to': 1238, 'today': 510, 'togeth': 1449, 'toilet': 163, 'told': 728, 'toler': 213, 'tom': 477, 'tomato': 95, 'tommi': 130, 'ton': 133, 'tone': 355, 'toni': 184, 'took': 897, 'top': 1110, 'topic': 186, 'topless': 109, 'tortur': 535, 'toss': 123, 'total': 2000, 'touch': 519, 'tough': 325, 'tour': 114, 'toward': 643, 'town': 896, 'toy': 192, 'track': 466, 'trade': 109, 'tradit': 218, 'tragedi': 167, 'tragic': 168, 'trailer': 398, 'train': 646, 'transfer': 117, 'transform': 209, 'translat': 228, 'trap': 276, 'trash': 603, 'trashi': 111, 'travel': 388, 'travesti': 109, 'treasur': 122, 'treat': 413, 'treatment': 171, 'tree': 262, 'trek': 176, 'tri': 5994, 'trial': 113, 'tribe': 99, 'trick': 243, 'trilog': 113, 'trip': 325, 'tripe': 109, 'trite': 162, 'troubl': 523, 'truck': 233, 'true': 1279, 'truli': 1140, 'trust': 255, 'truth': 491, 'tune': 200, 'turkey': 255, 'turn': 3048, 'tv': 2083, 'twenti': 231, 'twice': 287, 'twin': 175, 'twist': 895, 'two': 4811, 'type': 1030, 'typic': 616, 'ugli': 412, 'uk': 162, 'ultim': 475, 'unabl': 205, 'unbear': 143, 'unbeliev': 610, 'uncl': 186, 'uncomfort': 125, 'unconvinc': 238, 'underground': 155, 'understand': 1636, 'understood': 114, 'unfold': 100, 'unfortun': 1468, 'unfunni': 378, 'unimagin': 107, 'uninspir': 228, 'unint': 309, 'uninterest': 261, 'uniqu': 257, 'unit': 237, 'univ': 391, 'unknown': 223, 'unless': 800, 'unlik': 602, 'unnecessari': 296, 'unorigin': 142, 'unplea': 130, 'unrealist': 274, 'unusu': 150, 'unwatch': 166, 'up': 125, 'updat': 96, 'upon': 687, 'upset': 163, 'urban': 95, 'urg': 106, 'us': 2476, 'usa': 128, 'use': 4162, 'useless': 181, 'user': 131, 'usual': 1478, 'utter': 358, 'utterli': 449, 'uwe': 132, 'vacat': 151, 'vagu': 211, 'valu': 876, 'vampir': 684, 'van': 555, 'varieti': 128, 'variou': 433, 'vega': 103, 'vehicl': 239, 'ventur': 98, 'veri': 433, 'version': 1635, 'veteran': 156, 'vh': 137, 'via': 124, 'victim': 695, 'victor': 105, 'video': 1535, 'vietnam': 154, 'view': 1250, 'viewer': 1368, 'villag': 205, 'villain': 698, 'vincent': 116, 'violenc': 824, 'violent': 386, 'virgin': 148, 'virtual': 247, 'viru': 155, 'visibl': 95, 'vision': 228, 'visit': 293, 'visual': 598, 'voic': 905, 'voiceov': 124, 'vomit': 101, 'vote': 357, 'vs': 231, 'wa': 332, 'wait': 1162, 'wake': 182, 'walk': 1296, 'walker': 119, 'wall': 349, 'walter': 95, 'wan': 147, 'wander': 263, 'wannab': 153, 'want': 5699, 'war': 1223, 'warm': 135, 'warn': 679, 'warrior': 184, 'wash': 130, 'washington': 137, 'wasnt': 2275, 'wast': 3133, 'watch': 11572, 'watchabl': 326, 'water': 569, 'wave': 172, 'way': 6377, 'wayn': 192, 'we': 1229, 'weak': 866, 'wealthi': 100, 'weapon': 312, 'wear': 663, 'wed': 238, 'week': 483, 'weekend': 176, 'weight': 118, 'weird': 598, 'welcom': 143, 'well': 6108, 'went': 1353, 'werent': 486, 'werewolf': 238, 'west': 258, 'western': 503, 'wet': 100, 'weve': 213, 'whale': 103, 'whatev': 615, 'whatsoev': 404, 'whenev': 227, 'wherea': 123, 'whether': 635, 'whi': 1574, 'whilst': 196, 'whine': 118, 'white': 1045, 'whoever': 186, 'whole': 2834, 'whose': 633, 'wide': 199, 'widow': 98, 'wife': 1369, 'wig': 95, 'wild': 295, 'willi': 128, 'william': 534, 'wilson': 143, 'win': 505, 'wind': 297, 'window': 283, 'wing': 139, 'winner': 125, 'wise': 180, 'wish': 988, 'wit': 470, 'witch': 307, 'within': 561, 'without': 2539, 'witti': 137, 'wolf': 155, 'woman': 2098, 'women': 1496, 'wonder': 2028, 'wont': 1045, 'wood': 677, 'wooden': 429, 'woodi': 142, 'wor': 1877, 'word': 1484, 'work': 4736, 'worker': 119, 'world': 2129, 'worri': 265, 'worst': 3854, 'worth': 1681, 'worthi': 255, 'worthless': 158, 'worthwhil': 165, 'would': 10831, 'wouldnt': 1065, 'wouldv': 201, 'wound': 198, 'wow': 366, 'wrap': 160, 'wreck': 179, 'wrestl': 126, 'wretch': 100, 'write': 1985, 'writer': 1324, 'writerdirector': 158, 'written': 1170, 'wrong': 1737, 'wrote': 467, 'yawn': 101, 'ye': 1139, 'yeah': 509, 'year': 3936, 'yell': 200, 'yellow': 96, 'yet': 1860, 'york': 405, 'youd': 409, 'youll': 1015, 'young': 2077, 'younger': 317, 'youth': 205, 'youv': 608, 'zero': 364, 'zombi': 1177, 'zone': 108}\n",
            "1987635\n",
            "1974420\n",
            "5.023522644784202e-07\n",
            "5.057094598011551e-07\n"
          ],
          "name": "stdout"
        }
      ]
    },
    {
      "cell_type": "code",
      "metadata": {
        "id": "iE7pxWIYW1z0"
      },
      "source": [
        "# Build the model. Don't use the model from sklearn\n",
        "import math\n",
        "def classify(sent):\n",
        "  pos_prob = 1.0\n",
        "  neg_prob = 1.0\n",
        "  txt = word_tokenize(sent)\n",
        "  for w in txt:\n",
        "    if w in freq_pos.keys():\n",
        "      pos_prob += math.log(1+freq_pos[w])\n",
        "      pos_prob -= math.log(pos_cnt+3000.0)\n",
        "    else:\n",
        "      pos_prob += math.log(prob_unk_pos)\n",
        "    if w in freq_neg.keys():\n",
        "      neg_prob += math.log(1+freq_neg[w])\n",
        "      neg_prob -= math.log(neg_cnt+3000.0)\n",
        "    else:\n",
        "      neg_prob += math.log(prob_unk_neg)\n",
        "  if pos_prob > neg_prob:\n",
        "    return 1\n",
        "  else:\n",
        "    return 0\n"
      ],
      "execution_count": null,
      "outputs": []
    },
    {
      "cell_type": "code",
      "metadata": {
        "id": "AtQSl1zvW4DD",
        "outputId": "d5d38be8-d904-47bf-eaf4-654722679e99",
        "colab": {
          "base_uri": "https://localhost:8080/",
          "height": 33
        }
      },
      "source": [
        "# Test the model on test set and report Accuracy\n",
        "n = 0\n",
        "d = 0\n",
        "i = 0\n",
        "for row in X_test:\n",
        "  tmp = classify(row)\n",
        "  if tmp == y_test[i]:\n",
        "    n += 1\n",
        "  d += 1\n",
        "  i += 1\n",
        "print('Accuaracy of the model is ',n/d)"
      ],
      "execution_count": null,
      "outputs": [
        {
          "output_type": "stream",
          "text": [
            "Accuaracy of the model is  0.8123\n"
          ],
          "name": "stdout"
        }
      ]
    },
    {
      "cell_type": "markdown",
      "metadata": {
        "id": "WlNql0acU7sa"
      },
      "source": [
        "# *LSTM* based Classifier\n",
        "\n",
        "Use the above train and test splits."
      ]
    },
    {
      "cell_type": "code",
      "metadata": {
        "id": "SkqnvbUOXoN0"
      },
      "source": [
        "# Hyperparameters of the model\n",
        "vocab_size = 3000 # choose based on statistics\n",
        "oov_tok = '<OOK>'\n",
        "embedding_dim = 100\n",
        "max_length = 150 # choose based on statistics, for example 150 to 200\n",
        "padding_type='post'\n",
        "trunc_type='post'"
      ],
      "execution_count": null,
      "outputs": []
    },
    {
      "cell_type": "code",
      "metadata": {
        "id": "UeycEg9nZAOF"
      },
      "source": [
        "# tokenize sentences\n",
        "train_sentences = X_train\n",
        "test_sentences = X_test\n",
        "tokenizer = Tokenizer(num_words = vocab_size, oov_token=oov_tok)\n",
        "tokenizer.fit_on_texts(train_sentences)\n",
        "word_index = tokenizer.word_index\n",
        "\n",
        "# convert train dataset to sequence and pad sequences\n",
        "train_sequences = tokenizer.texts_to_sequences(train_sentences)\n",
        "train_padded = pad_sequences(train_sequences, padding='post', maxlen=max_length)\n",
        "\n",
        "# convert Test dataset to sequence and pad sequences\n",
        "test_sequences = tokenizer.texts_to_sequences(test_sentences)\n",
        "test_padded = pad_sequences(test_sequences, padding='post', maxlen=max_length)"
      ],
      "execution_count": null,
      "outputs": []
    },
    {
      "cell_type": "code",
      "metadata": {
        "id": "Mtw3w895ZP39",
        "outputId": "0bea26ba-3c59-46ec-952f-c083ac424b6e",
        "colab": {
          "base_uri": "https://localhost:8080/",
          "height": 277
        }
      },
      "source": [
        "# model initialization\n",
        "model = keras.Sequential([\n",
        "    keras.layers.Embedding(vocab_size, embedding_dim, input_length=max_length),\n",
        "    keras.layers.Bidirectional(keras.layers.LSTM(64)),\n",
        "    keras.layers.Dense(24, activation='relu'),\n",
        "    keras.layers.Dense(1, activation='sigmoid')\n",
        "])\n",
        "\n",
        "# compile model\n",
        "model.compile(loss='binary_crossentropy',\n",
        "              optimizer='adam',\n",
        "              metrics=['accuracy'])\n",
        "\n",
        "# model summary\n",
        "model.summary()"
      ],
      "execution_count": null,
      "outputs": [
        {
          "output_type": "stream",
          "text": [
            "Model: \"sequential_2\"\n",
            "_________________________________________________________________\n",
            "Layer (type)                 Output Shape              Param #   \n",
            "=================================================================\n",
            "embedding_2 (Embedding)      (None, 150, 100)          1800000   \n",
            "_________________________________________________________________\n",
            "bidirectional_2 (Bidirection (None, 128)               84480     \n",
            "_________________________________________________________________\n",
            "dense_4 (Dense)              (None, 24)                3096      \n",
            "_________________________________________________________________\n",
            "dense_5 (Dense)              (None, 1)                 25        \n",
            "=================================================================\n",
            "Total params: 1,887,601\n",
            "Trainable params: 1,887,601\n",
            "Non-trainable params: 0\n",
            "_________________________________________________________________\n"
          ],
          "name": "stdout"
        }
      ]
    },
    {
      "cell_type": "code",
      "metadata": {
        "id": "skmaDJMnZTzc",
        "outputId": "108875be-549f-480c-e60f-34296c33abfd",
        "colab": {
          "base_uri": "https://localhost:8080/",
          "height": 180
        }
      },
      "source": [
        "num_epochs = 5\n",
        "history = model.fit(train_padded, y_train, \n",
        "                    epochs=num_epochs, verbose=1, \n",
        "                    validation_split=0.1)"
      ],
      "execution_count": null,
      "outputs": [
        {
          "output_type": "stream",
          "text": [
            "Epoch 1/5\n",
            "1125/1125 [==============================] - 194s 173ms/step - loss: 0.3518 - accuracy: 0.8481 - val_loss: 0.2909 - val_accuracy: 0.8770\n",
            "Epoch 2/5\n",
            "1125/1125 [==============================] - 197s 175ms/step - loss: 0.2123 - accuracy: 0.9197 - val_loss: 0.3319 - val_accuracy: 0.8740\n",
            "Epoch 3/5\n",
            "1125/1125 [==============================] - 194s 173ms/step - loss: 0.1477 - accuracy: 0.9462 - val_loss: 0.4363 - val_accuracy: 0.8702\n",
            "Epoch 4/5\n",
            "1125/1125 [==============================] - 197s 175ms/step - loss: 0.0993 - accuracy: 0.9657 - val_loss: 0.4462 - val_accuracy: 0.8520\n",
            "Epoch 5/5\n",
            "1125/1125 [==============================] - 196s 174ms/step - loss: 0.0704 - accuracy: 0.9766 - val_loss: 0.4412 - val_accuracy: 0.8585\n"
          ],
          "name": "stdout"
        }
      ]
    },
    {
      "cell_type": "code",
      "metadata": {
        "id": "TjEhWEr5Zq7M",
        "outputId": "0d1fd87e-d9c1-4523-afdd-fea2b000cdd8",
        "colab": {
          "base_uri": "https://localhost:8080/",
          "height": 163
        }
      },
      "source": [
        "# Calculate accuracy on Test data\n",
        "\n",
        "prediction = model.predict(test_padded)\n",
        "\n",
        "# Get probabilities\n",
        "y_pred = (prediction>0.5)\n",
        "\n",
        "# Get labels based on probability 1 if p>= 0.5 else 0\n",
        "\n",
        "print(classification_report(y_test, y_pred))\n",
        "\n",
        "# Accuracy : one can use classification_report from sklearn"
      ],
      "execution_count": null,
      "outputs": [
        {
          "output_type": "stream",
          "text": [
            "              precision    recall  f1-score   support\n",
            "\n",
            "           0       0.90      0.83      0.86      5000\n",
            "           1       0.84      0.91      0.87      5000\n",
            "\n",
            "    accuracy                           0.87     10000\n",
            "   macro avg       0.87      0.87      0.87     10000\n",
            "weighted avg       0.87      0.87      0.87     10000\n",
            "\n"
          ],
          "name": "stdout"
        }
      ]
    },
    {
      "cell_type": "markdown",
      "metadata": {
        "id": "TIICV-ySOYL0"
      },
      "source": [
        "## Get predictions for random examples"
      ]
    },
    {
      "cell_type": "code",
      "metadata": {
        "id": "m2RmfNL3OYL0",
        "outputId": "d46b4899-705f-4897-cea5-7c0d949df2b7",
        "colab": {
          "base_uri": "https://localhost:8080/",
          "height": 66
        }
      },
      "source": [
        "# reviews on which we need to predict\n",
        "sentence = [\"The movie was very touching and heart whelming\", \n",
        "            \"I have never seen a terrible movie like this\", \n",
        "            \"the movie plot is terrible but it had good acting\"]\n",
        "\n",
        "# convert to a sequence\n",
        "sequences =  tokenizer.texts_to_sequences(sentence)\n",
        "\n",
        "\n",
        "# pad the sequence\n",
        "padded = pad_sequences(sequences, padding='post', maxlen=max_length) \n",
        "\n",
        "# Get probabilities\n",
        "\n",
        "#pred = (model.predict(padded)>0.5)\n",
        "\n",
        "# Get labels based on probability 1 if p>= 0.5 else 0\n",
        "\n",
        "for i in pred:\n",
        "  if i:\n",
        "    print('Guessed positive')\n",
        "  else:\n",
        "    print('Guesses negative')\n"
      ],
      "execution_count": null,
      "outputs": [
        {
          "output_type": "stream",
          "text": [
            "Guessed positive\n",
            "Guesses negative\n",
            "Guesses negative\n"
          ],
          "name": "stdout"
        }
      ]
    }
  ]
}