{
  "nbformat": 4,
  "nbformat_minor": 0,
  "metadata": {
    "kernelspec": {
      "display_name": "Python 3",
      "language": "python",
      "name": "python3"
    },
    "language_info": {
      "codemirror_mode": {
        "name": "ipython",
        "version": 3
      },
      "file_extension": ".py",
      "mimetype": "text/x-python",
      "name": "python",
      "nbconvert_exporter": "python",
      "pygments_lexer": "ipython3",
      "version": "3.4.2"
    },
    "colab": {
      "name": "Assignment4_17CS30038.ipynb",
      "provenance": []
    }
  },
  "cells": [
    {
      "cell_type": "code",
      "metadata": {
        "id": "QIfoFSzK0XrF",
        "outputId": "8077b969-4570-4e4b-8bea-72a50752af55",
        "colab": {
          "base_uri": "https://localhost:8080/",
          "height": 212
        }
      },
      "source": [
        "!pip install sklearn-crfsuite\n",
        "!pip install conllu\n",
        "!pip install pyconll"
      ],
      "execution_count": null,
      "outputs": [
        {
          "output_type": "stream",
          "text": [
            "Requirement already satisfied: sklearn-crfsuite in /usr/local/lib/python3.6/dist-packages (0.3.6)\n",
            "Requirement already satisfied: python-crfsuite>=0.8.3 in /usr/local/lib/python3.6/dist-packages (from sklearn-crfsuite) (0.9.7)\n",
            "Requirement already satisfied: six in /usr/local/lib/python3.6/dist-packages (from sklearn-crfsuite) (1.15.0)\n",
            "Requirement already satisfied: tabulate in /usr/local/lib/python3.6/dist-packages (from sklearn-crfsuite) (0.8.7)\n",
            "Requirement already satisfied: tqdm>=2.0 in /usr/local/lib/python3.6/dist-packages (from sklearn-crfsuite) (4.41.1)\n",
            "Requirement already satisfied: conllu in /usr/local/lib/python3.6/dist-packages (4.2.1)\n",
            "Requirement already satisfied: pyconll in /usr/local/lib/python3.6/dist-packages (2.3.3)\n",
            "Requirement already satisfied: requests>=2.21 in /usr/local/lib/python3.6/dist-packages (from pyconll) (2.23.0)\n",
            "Requirement already satisfied: idna<3,>=2.5 in /usr/local/lib/python3.6/dist-packages (from requests>=2.21->pyconll) (2.10)\n",
            "Requirement already satisfied: chardet<4,>=3.0.2 in /usr/local/lib/python3.6/dist-packages (from requests>=2.21->pyconll) (3.0.4)\n",
            "Requirement already satisfied: certifi>=2017.4.17 in /usr/local/lib/python3.6/dist-packages (from requests>=2.21->pyconll) (2020.6.20)\n",
            "Requirement already satisfied: urllib3!=1.25.0,!=1.25.1,<1.26,>=1.21.1 in /usr/local/lib/python3.6/dist-packages (from requests>=2.21->pyconll) (1.24.3)\n"
          ],
          "name": "stdout"
        }
      ]
    },
    {
      "cell_type": "code",
      "metadata": {
        "id": "-1Uci5ByzC4q"
      },
      "source": [
        "%matplotlib inline\n",
        "import matplotlib.pyplot as plt\n",
        "plt.style.use('ggplot')\n",
        "from conllu import parse"
      ],
      "execution_count": null,
      "outputs": []
    },
    {
      "cell_type": "code",
      "metadata": {
        "id": "3FAIbf0QzC4z"
      },
      "source": [
        "import conllu \n",
        "from pathlib import Path\n",
        "\n",
        "from itertools import chain\n",
        "\n",
        "import nltk\n",
        "import sklearn\n",
        "import scipy.stats\n",
        "from sklearn.metrics import make_scorer\n",
        "from sklearn.model_selection import cross_val_score\n",
        "from sklearn.model_selection import RandomizedSearchCV\n",
        "\n",
        "import sklearn_crfsuite\n",
        "from sklearn_crfsuite import scorers\n",
        "from sklearn_crfsuite import metrics"
      ],
      "execution_count": null,
      "outputs": []
    },
    {
      "cell_type": "markdown",
      "metadata": {
        "id": "M9LKnzXXzC47"
      },
      "source": [
        "## READ THE DATASET"
      ]
    },
    {
      "cell_type": "code",
      "metadata": {
        "id": "KNQUUKtXzC48",
        "outputId": "33a8c56f-0a4c-4ad6-daa5-36304c0d069e",
        "colab": {
          "resources": {
            "http://localhost:8080/nbextensions/google.colab/files.js": {
              "data": "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",
              "ok": true,
              "headers": [
                [
                  "content-type",
                  "application/javascript"
                ]
              ],
              "status": 200,
              "status_text": ""
            }
          },
          "base_uri": "https://localhost:8080/",
          "height": 102
        }
      },
      "source": [
        "from google.colab import files\n",
        "uploaded = files.upload()"
      ],
      "execution_count": null,
      "outputs": [
        {
          "output_type": "display_data",
          "data": {
            "text/html": [
              "\n",
              "     <input type=\"file\" id=\"files-2cf536f4-a6cc-43af-97a4-e412c5659677\" name=\"files[]\" multiple disabled\n",
              "        style=\"border:none\" />\n",
              "     <output id=\"result-2cf536f4-a6cc-43af-97a4-e412c5659677\">\n",
              "      Upload widget is only available when the cell has been executed in the\n",
              "      current browser session. Please rerun this cell to enable.\n",
              "      </output>\n",
              "      <script src=\"/nbextensions/google.colab/files.js\"></script> "
            ],
            "text/plain": [
              "<IPython.core.display.HTML object>"
            ]
          },
          "metadata": {
            "tags": []
          }
        },
        {
          "output_type": "stream",
          "text": [
            "Saving hi-ud-test .conllu to hi-ud-test .conllu\n",
            "Saving hi-ud-train.conllu to hi-ud-train.conllu\n"
          ],
          "name": "stdout"
        }
      ]
    },
    {
      "cell_type": "code",
      "metadata": {
        "id": "PX74_NHBXKeV"
      },
      "source": [
        "def breaker(data,delim):  \n",
        "  cur_sent = []\n",
        "  list_of_sent = []\n",
        "  for word in data:\n",
        "    if word == ',,' or word == '\\t\\t':\n",
        "      list_of_sent.append(cur_sent)\n",
        "      cur_sent = []\n",
        "    else:\n",
        "      word_split = word.split(delim)\n",
        "      cur_sent.append(word_split[1:])\n",
        "  list_of_sent.append(cur_sent)\n",
        "  list_of_sent[0] = list_of_sent[0][1:]\n",
        "  return list_of_sent"
      ],
      "execution_count": null,
      "outputs": []
    },
    {
      "cell_type": "code",
      "metadata": {
        "id": "Q34lnw4ozC5C"
      },
      "source": [
        "train_sents = open('hi-ud-train.conllu','r').read().strip().split('\\n')\n",
        "test_sents = open('hi-ud-test .conllu','r').read().strip().split('\\n')\n",
        "\n",
        "train_sents = breaker(train_sents,',')\n",
        "test_sents = breaker(test_sents,'\\t') \n"
      ],
      "execution_count": null,
      "outputs": []
    },
    {
      "cell_type": "markdown",
      "metadata": {
        "id": "UxeSZztdzC5N"
      },
      "source": [
        "\n",
        "## Features Chosen:\n",
        "**Word**           - The Word Itself  \n",
        "**Word.Lower()**   - The Word reduced to lowercase  \n",
        "**Word.isTitle()** - True if first character is in UpperCase  \n",
        "**Word.isUpper()** - True if all characters of the string are UpperCase  \n",
        "**Word.hasUpper()** - Boolean True if atleast one character of the string is UpperCase  \n",
        "**Word.isDigit()** - True if all characters of the string are Digits  \n",
        "**Prefix-1**       - Word[0:1]  \n",
        "**Prefix-2**       - Word[0:2]  \n",
        "**Prefix-3**       - Word[0:3]   \n",
        "**Suffix-1**       - Word[-3:0]  \n",
        "**Suffix-2**       - Word[-2:0]  \n",
        "**Suffix-3**       - Word[-1:0]  \n",
        "**has_Hyphen**     - Whether word has hyphen in it  \n",
        "\n",
        "**BOS**               - If Word is the Beginning of the Sentence  \n",
        "**-1:Word.Lower()**   - Previous Word reduced to LowerCase   \n",
        "**-1:Word.isTitle()** - Boolean True if first character of the Previous Word is in UpperCase  \n",
        "**-1:Word.isUpper()** - Boolean True if all characters of the Previous word are UpperCase  \n",
        "**-1:Word.Suffix-3**: - Take suffix of the previous word Word[-3:0]  \n",
        "\n",
        "**EOS**               - If Word is the End of the Sentence  \n",
        "**+1:Word.Lower()**   - Next Word reduced to LowerCase  \n",
        "**+1:Word.isTitle()** - Boolean True if first character of the Next Word is in UpperCase  \n",
        "**+1:Word.isUpper()** - Boolean True if all characters of the Next word are UpperCase   experiment with it.  \n",
        "**+1:Word.Prefix-3**: - Take prefix of the next word Word[0:3]\n",
        "\n",
        "sklearn-crfsuite (and python-crfsuite) supports several feature formats; here we use feature dicts."
      ]
    },
    {
      "cell_type": "code",
      "metadata": {
        "id": "cbgb3ncxzC5O"
      },
      "source": [
        "def word2features(sent, i):\n",
        "    Word = sent[i][0]\n",
        "    \n",
        "    features = {\n",
        "        'Word':           Word,\n",
        "        'Word.Lower()':   Word.lower(),\n",
        "        'Word.isTitle()': Word.istitle(),\n",
        "        'Word.isUpper()': Word.isupper(),\n",
        "        'Word.hasupper':       any(x.isupper() for x in Word),\n",
        "        'Word.isDigit()': Word.isdigit(),\n",
        "        'Prefix-1':       Word[0] if len(Word)>0 else '',\n",
        "        'Prefix-2':       Word[:2] if len(Word)>1 else '',\n",
        "        'Prefix-3':       Word[:3] if len(Word)>2 else '',\n",
        "        'Suffix-1':       Word[-1] if len(Word)>0 else '',\n",
        "        'Suffix-2':       Word[-2:] if len(Word)>1 else '',\n",
        "        'Suffix-3':       Word[-3:] if len(Word)>2 else '',\n",
        "        'has_Hyphen':     '-' in Word,\n",
        "    }\n",
        "    if i > 0:\n",
        "        word1 = sent[i-1][0]\n",
        "        features.update({\n",
        "            '-1:word.lower()': word1.lower(),\n",
        "            '-1:word.istitle()': word1.istitle(),\n",
        "            '-1:word.isupper()': word1.isupper(),\n",
        "            '-1:Suffix-3': word1[-3:] if len(word1)>2 else '',\n",
        "        })\n",
        "    else:\n",
        "        features['BOS'] = True\n",
        "        \n",
        "    if i < len(sent)-1:\n",
        "        word1 = sent[i+1][0]\n",
        "        features.update({\n",
        "            '+1:word.lower()': word1.lower(),\n",
        "            '+1:word.istitle()': word1.istitle(),\n",
        "            '+1:word.isupper()': word1.isupper(),\n",
        "            '+1:Prefix-3': word1[:3] if len(word1)>2 else '',\n",
        "        })\n",
        "    else:\n",
        "        features['EOS'] = True\n",
        "                \n",
        "    return features\n",
        "\n",
        "\n",
        "def sent2features(sent):\n",
        "    return [word2features(sent, i) for i in range(len(sent))]\n",
        "\n",
        "def sent2labels(sent):\n",
        "    return [label[1] for label in sent]\n"
      ],
      "execution_count": null,
      "outputs": []
    },
    {
      "cell_type": "markdown",
      "metadata": {
        "id": "NkODPh3LzC5c"
      },
      "source": [
        "Extract features from the data:"
      ]
    },
    {
      "cell_type": "code",
      "metadata": {
        "id": "OC9wa-OyzC5d",
        "outputId": "fea38e3e-3d9d-4d38-c773-316ef7bc08d4",
        "colab": {
          "base_uri": "https://localhost:8080/",
          "height": 50
        }
      },
      "source": [
        "%%time\n",
        "X_train = [sent2features(s) for s in train_sents]\n",
        "y_train = [ sent2labels(s) for s in train_sents]\n",
        "\n",
        "X_test = [sent2features(s) for s in test_sents]\n",
        "y_test = [sent2labels(s) for s in test_sents]"
      ],
      "execution_count": null,
      "outputs": [
        {
          "output_type": "stream",
          "text": [
            "CPU times: user 55.7 ms, sys: 2.02 ms, total: 57.7 ms\n",
            "Wall time: 58.1 ms\n"
          ],
          "name": "stdout"
        }
      ]
    },
    {
      "cell_type": "markdown",
      "metadata": {
        "id": "Cqt0Q3WLzC5i"
      },
      "source": [
        "## Training\n"
      ]
    },
    {
      "cell_type": "code",
      "metadata": {
        "id": "zmEfQlgIzC5j",
        "outputId": "120698aa-8339-4dae-f16e-5eee3d5d8011",
        "colab": {
          "base_uri": "https://localhost:8080/",
          "height": 50
        }
      },
      "source": [
        "%%time\n",
        "crf = sklearn_crfsuite.CRF(\n",
        "    algorithm='lbfgs', \n",
        "    c1=0.1, \n",
        "    c2=0.1, \n",
        "    max_iterations=300, \n",
        "    all_possible_transitions=True\n",
        ")\n",
        "crf.fit(X_train, y_train)"
      ],
      "execution_count": null,
      "outputs": [
        {
          "output_type": "stream",
          "text": [
            "CPU times: user 3.14 s, sys: 3.71 ms, total: 3.14 s\n",
            "Wall time: 3.14 s\n"
          ],
          "name": "stdout"
        }
      ]
    },
    {
      "cell_type": "markdown",
      "metadata": {
        "id": "ratYLyzsNON3"
      },
      "source": [
        "RUNNING MODEL ON TRAINING DATA"
      ]
    },
    {
      "cell_type": "code",
      "metadata": {
        "id": "jT2IGTOeNM8X",
        "outputId": "dc0c01ce-871c-4765-e353-d33d930bfe26",
        "colab": {
          "base_uri": "https://localhost:8080/",
          "height": 488
        }
      },
      "source": [
        "print(\"MODEL PREDICTION ON TRAINING DATA\".center(53))\n",
        "print(\"-\"*53)\n",
        "\n",
        "Y_TrainPredicted = crf.predict(X_train)\n",
        "\n",
        "print(metrics.flat_classification_report(y_train, Y_TrainPredicted))\n",
        "\n",
        "print('precision: ',  metrics.flat_precision_score(y_train, Y_TrainPredicted, average = 'weighted'))\n",
        "print('recall:    ',  metrics.flat_recall_score(y_train, Y_TrainPredicted, average = 'weighted'))\n",
        "print('f1-score:  ',  metrics.flat_f1_score(y_train, Y_TrainPredicted, average = 'weighted'))\n",
        "print('accuracy:  ',  metrics.flat_accuracy_score(y_train, Y_TrainPredicted))"
      ],
      "execution_count": null,
      "outputs": [
        {
          "output_type": "stream",
          "text": [
            "          MODEL PREDICTION ON TRAINING DATA          \n",
            "-----------------------------------------------------\n",
            "              precision    recall  f1-score   support\n",
            "\n",
            "         ADJ       1.00      1.00      1.00       570\n",
            "         ADP       1.00      1.00      1.00      1387\n",
            "         ADV       1.00      0.99      1.00       111\n",
            "         AUX       0.99      1.00      1.00       730\n",
            "       CCONJ       1.00      1.00      1.00       150\n",
            "       COMMA       1.00      1.00      1.00       114\n",
            "         DET       1.00      1.00      1.00       231\n",
            "        NOUN       1.00      1.00      1.00      1597\n",
            "         NUM       1.00      1.00      1.00       152\n",
            "        PART       1.00      1.00      1.00       163\n",
            "        PRON       1.00      1.00      1.00       431\n",
            "       PROPN       1.00      1.00      1.00       708\n",
            "       PUNCT       1.00      1.00      1.00       564\n",
            "       SCONJ       1.00      1.00      1.00        61\n",
            "        VERB       1.00      0.99      0.99       640\n",
            "           X       1.00      1.00      1.00         2\n",
            "\n",
            "    accuracy                           1.00      7611\n",
            "   macro avg       1.00      1.00      1.00      7611\n",
            "weighted avg       1.00      1.00      1.00      7611\n",
            "\n",
            "precision:  0.9986955909001712\n",
            "recall:     0.9986861122060176\n",
            "f1-score:   0.9986855439419041\n",
            "accuracy:   0.9986861122060176\n"
          ],
          "name": "stdout"
        }
      ]
    },
    {
      "cell_type": "markdown",
      "metadata": {
        "id": "EDvyvMmRPPRs"
      },
      "source": [
        "RUNNING MODEL ON TEST DATA"
      ]
    },
    {
      "cell_type": "code",
      "metadata": {
        "id": "fXy3anD7zC6i",
        "outputId": "07b6cc74-48b7-4589-eb2c-0161dd3d207b",
        "colab": {
          "base_uri": "https://localhost:8080/",
          "height": 456
        }
      },
      "source": [
        "print(\"MODEL PREDICTION ON TESTING DATA\".center(53))\n",
        "print(\"-\"*53)\n",
        "\n",
        "Y_TestPredicted = crf.predict(X_test)\n",
        "\n",
        "print(metrics.flat_classification_report(y_test, Y_TestPredicted))\n",
        "\n",
        "print('precision: ',  metrics.flat_precision_score(y_test, Y_TestPredicted, average = 'weighted'))\n",
        "print('recall:    ',  metrics.flat_recall_score(y_test, Y_TestPredicted, average = 'weighted'))\n",
        "print('f1-score:  ',  metrics.flat_f1_score(y_test, Y_TestPredicted, average = 'weighted'))\n",
        "print('accuracy:  ',  metrics.flat_accuracy_score(y_test, Y_TestPredicted))"
      ],
      "execution_count": null,
      "outputs": [
        {
          "output_type": "stream",
          "text": [
            "           MODEL PREDICTION ON TESTING DATA          \n",
            "-----------------------------------------------------\n",
            "              precision    recall  f1-score   support\n",
            "\n",
            "         ADJ       0.68      0.72      0.70        94\n",
            "         ADP       0.96      0.97      0.97       309\n",
            "         ADV       0.64      0.43      0.51        21\n",
            "         AUX       0.91      0.94      0.93       139\n",
            "       CCONJ       1.00      1.00      1.00        25\n",
            "         DET       0.82      0.89      0.85        36\n",
            "        NOUN       0.79      0.86      0.82       329\n",
            "         NUM       0.92      0.92      0.92        25\n",
            "        PART       0.97      0.97      0.97        33\n",
            "        PRON       0.91      0.82      0.86        65\n",
            "       PROPN       0.61      0.55      0.58       145\n",
            "       PUNCT       1.00      0.84      0.91       135\n",
            "       SCONJ       0.75      1.00      0.86         3\n",
            "        VERB       0.85      0.86      0.85        99\n",
            "\n",
            "    accuracy                           0.85      1458\n",
            "   macro avg       0.84      0.84      0.84      1458\n",
            "weighted avg       0.85      0.85      0.85      1458\n",
            "\n",
            "precision:  0.8500794578408285\n",
            "recall:     0.8491083676268861\n",
            "f1-score:   0.8478175053484878\n",
            "accuracy:   0.8491083676268861\n"
          ],
          "name": "stdout"
        }
      ]
    },
    {
      "cell_type": "markdown",
      "metadata": {
        "id": "m0f-Ow9dPvMf"
      },
      "source": [
        "Print Transitions"
      ]
    },
    {
      "cell_type": "code",
      "metadata": {
        "id": "Pf0W3NYZPppd"
      },
      "source": [
        "# This function prints the transition from POS_Tag1 -> POS_Tag2 with its corresponding weight\n",
        "def printTransitions(transitions):\n",
        "    for edge, weight in transitions:\n",
        "        print(\"%-6s =>  %-9s %0.5f\" % (edge[0], edge[1], weight))"
      ],
      "execution_count": null,
      "outputs": []
    },
    {
      "cell_type": "markdown",
      "metadata": {
        "id": "tlQJWYzeQ_DJ"
      },
      "source": [
        "PRINTING 10 MOST AND LEAST FREQUENT TRANSITION FEATURES"
      ]
    },
    {
      "cell_type": "code",
      "metadata": {
        "id": "2BhYHOjAQ9CO",
        "outputId": "02cbe80d-a5a0-433a-b533-ac27619dbf58",
        "colab": {
          "base_uri": "https://localhost:8080/",
          "height": 472
        }
      },
      "source": [
        "from collections import Counter\n",
        "print(\"Top 10 Most Common POS Transition Features:\")\n",
        "print(\"-\"*43)\n",
        "printTransitions(Counter(crf.transition_features_).most_common(10))\n",
        "print(\"\\n\")\n",
        "\n",
        "print(\"Top 10 Least Common POS Transition Features:\")\n",
        "print(\"-\"*44)\n",
        "printTransitions(Counter(crf.transition_features_).most_common()[-10:])\n",
        "print(\"\\n\")"
      ],
      "execution_count": null,
      "outputs": [
        {
          "output_type": "stream",
          "text": [
            "Top 10 Most Common POS Transition Features:\n",
            "-------------------------------------------\n",
            "VERB   =>  AUX       4.21551\n",
            "PROPN  =>  PROPN     3.27241\n",
            "ADJ    =>  NOUN      2.76868\n",
            "DET    =>  NOUN      2.37537\n",
            "NUM    =>  NOUN      2.28368\n",
            "AUX    =>  AUX       2.02066\n",
            "NOUN   =>  ADP       1.99948\n",
            "PROPN  =>  ADP       1.95803\n",
            "VERB   =>  SCONJ     1.83607\n",
            "PART   =>  NUM       1.65821\n",
            "\n",
            "\n",
            "Top 10 Least Common POS Transition Features:\n",
            "--------------------------------------------\n",
            "ADP    =>  CCONJ     -1.12419\n",
            "CCONJ  =>  AUX       -1.16132\n",
            "AUX    =>  PART      -1.17216\n",
            "ADV    =>  AUX       -1.28991\n",
            "PROPN  =>  PART      -1.34432\n",
            "AUX    =>  ADP       -1.37030\n",
            "PROPN  =>  AUX       -1.51801\n",
            "ADJ    =>  PRON      -1.89973\n",
            "DET    =>  ADP       -1.94040\n",
            "ADJ    =>  ADP       -2.26893\n",
            "\n",
            "\n"
          ],
          "name": "stdout"
        }
      ]
    },
    {
      "cell_type": "code",
      "metadata": {
        "id": "gtVDw0X_s4OR"
      },
      "source": [
        ""
      ],
      "execution_count": null,
      "outputs": []
    }
  ]
}