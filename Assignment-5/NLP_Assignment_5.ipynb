{
  "nbformat": 4,
  "nbformat_minor": 0,
  "metadata": {
    "accelerator": "GPU",
    "colab": {
      "name": "17CS30038_Assignment_5_NLP.ipynb",
      "provenance": [],
      "collapsed_sections": []
    },
    "kernelspec": {
      "display_name": "Python 3",
      "name": "python3"
    }
  },
  "cells": [
    {
      "cell_type": "markdown",
      "metadata": {
        "id": "zyJ25uz0kSaw"
      },
      "source": [
        "\n",
        "\n",
        "\n",
        "# Assignment 5 on Natural Language Processing\n",
        "\n",
        "## Date : 3rd Nov, 2020\n",
        "\n",
        "### Instructor : Prof. Sudeshna Sarkar\n",
        "\n",
        "### Teaching Assistants : Alapan Kuila, Aniruddha Roy, Anusha Potnuru, Uppada Vishnu"
      ]
    },
    {
      "cell_type": "markdown",
      "metadata": {
        "id": "Ao1nhg9RknmF"
      },
      "source": [
        "The central idea of this assignment is to explore various language models specifically LSTM based and transformer. We will explore how the size of the model effects the sequence generated. We will see both character based and word based models.\n",
        "\n"
      ]
    },
    {
      "cell_type": "markdown",
      "metadata": {
        "id": "ONM5Q4SCe9Mr"
      },
      "source": [
        "Please submit with outputs. Submissions without predicted outputs will be penalized."
      ]
    },
    {
      "cell_type": "markdown",
      "metadata": {
        "id": "IXdkhxZAXnTW"
      },
      "source": [
        "# Word Based LSTM model"
      ]
    },
    {
      "cell_type": "code",
      "metadata": {
        "id": "FbU5DRolXseI"
      },
      "source": [
        "from keras.models import Sequential\n",
        "from keras.layers import Dense\n",
        "from keras.layers import Dropout\n",
        "from keras.layers import LSTM\n",
        "from keras.layers import Embedding\n",
        "from keras.callbacks import ModelCheckpoint\n",
        "from keras.utils import np_utils\n",
        "import numpy\n",
        "import re\n",
        "import pandas as pd\n",
        "import numpy as np\n",
        "from sklearn.model_selection import train_test_split\n",
        "from keras.preprocessing.text import Tokenizer\n",
        "from keras.preprocessing.sequence import pad_sequences\n",
        "from keras.preprocessing.text import text_to_word_sequence\n",
        "import keras"
      ],
      "execution_count": 129,
      "outputs": []
    },
    {
      "cell_type": "markdown",
      "metadata": {
        "id": "d2NR3RFFYOT8"
      },
      "source": [
        "Do basic pre processing which includes lowering etc\n",
        "Check the dataset and apply suitable preprocessing."
      ]
    },
    {
      "cell_type": "code",
      "metadata": {
        "id": "VHM1f5PT-c1x",
        "outputId": "1f773e2b-d9ae-4322-90f5-5843f312e5c5",
        "colab": {
          "resources": {
            "http://localhost:8080/nbextensions/google.colab/files.js": {
              "data": "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",
              "ok": true,
              "headers": [
                [
                  "content-type",
                  "application/javascript"
                ]
              ],
              "status": 200,
              "status_text": ""
            }
          },
          "base_uri": "https://localhost:8080/",
          "height": 72
        }
      },
      "source": [
        "from google.colab import files\n",
        "uploaded = files.upload()"
      ],
      "execution_count": 117,
      "outputs": [
        {
          "output_type": "display_data",
          "data": {
            "text/html": [
              "\n",
              "     <input type=\"file\" id=\"files-40fdb7ed-7f63-4700-88a9-2880b13a827b\" name=\"files[]\" multiple disabled\n",
              "        style=\"border:none\" />\n",
              "     <output id=\"result-40fdb7ed-7f63-4700-88a9-2880b13a827b\">\n",
              "      Upload widget is only available when the cell has been executed in the\n",
              "      current browser session. Please rerun this cell to enable.\n",
              "      </output>\n",
              "      <script src=\"/nbextensions/google.colab/files.js\"></script> "
            ],
            "text/plain": [
              "<IPython.core.display.HTML object>"
            ]
          },
          "metadata": {
            "tags": []
          }
        },
        {
          "output_type": "stream",
          "text": [
            "Saving corpus.txt to corpus (2).txt\n"
          ],
          "name": "stdout"
        }
      ]
    },
    {
      "cell_type": "code",
      "metadata": {
        "id": "iQvfF2NjXxGj",
        "outputId": "2483daa4-73e5-44a8-8190-6c2086d19651",
        "colab": {
          "base_uri": "https://localhost:8080/"
        }
      },
      "source": [
        "# Load the data and preprocess data and store corpus in raw_text\n",
        "import os\n",
        "import re\n",
        "filename = \"corpus.txt\"\n",
        "fd = open(filename ,encoding=\"utf8\")\n",
        "text = fd.read()\n",
        "data = text \n",
        "tmp = ''\n",
        "\n",
        "text = text.lower()                               #convert to each alphabet lower case\n",
        "text = text.split('\\n')                           #split to sentences          \n",
        "for i in range(len(text)):                        #remove non alphanumeric by using regex\n",
        "    text[i] = re.sub(r'[^\\w\\s]', ' ', text[i])\n",
        "    text[i] = re.sub(r'\\w*\\d\\w*', ' ', text[i])\n",
        "    tmp += ' ' + text[i] + '\\n'\n",
        "text = tmp                                        #get combined sentence \n",
        "print(text)"
      ],
      "execution_count": 237,
      "outputs": [
        {
          "output_type": "stream",
          "text": [
            " chapter i \n",
            " down the rabbit hole alice was beginning to get very tired of sitting by her sister on the bank  and of having nothing to do  once or twice she had peeped into the book her sister was reading  but it had no pictures or conversations in it   and what is the use of a book   thought alice  without pictures or conversations   so she was considering in her own mind  as well as she could  for the hot day made her feel very sleepy and stupid   whether the pleasure of making a daisy chain would be worth the trouble of getting up and picking the daisies  when suddenly a white rabbit with pink eyes ran close by her \n",
            " there was nothing so  very  remarkable in that  nor did alice think it so  very  much out of the way to hear the rabbit say to itself   oh dear \n",
            " oh dear \n",
            " i shall be late    when she thought it over afterwards  it occurred to her that she ought to have wondered at this  but at the time it all seemed quite natural   but when the rabbit actually  took a watch out of its waistcoat pocket   and looked at it  and then hurried on  alice started to her feet  for it flashed across her mind that she had never before seen a rabbit with either a waistcoat pocket  or a watch to take out of it  and burning with curiosity  she ran across the field after it  and fortunately was just in time to see it pop down a large rabbit hole under the hedge \n",
            " in another moment down went alice after it  never once considering how in the world she was to get out again \n",
            " the rabbit hole went straight on like a tunnel for some way  and then dipped suddenly down  so suddenly that alice had not a moment to think about stopping herself before she found herself falling down a very deep well \n",
            " either the well was very deep  or she fell very slowly  for she had plenty of time as she went down to look about her and to wonder what was going to happen next \n",
            " first  she tried to look down and make out what she was coming to  but it was too dark to see anything  then she looked at the sides of the well  and noticed that they were filled with cupboards and book shelves  here and there she saw maps and pictures hung upon pegs \n",
            " she took down a jar from one of the shelves as she passed  it was labelled  orange marmalade   but to her great disappointment it was empty  she did not like to drop the jar for fear of killing somebody underneath  so managed to put it into one of the cupboards as she fell past it \n",
            "  well   thought alice to herself   after such a fall as this  i shall think nothing of tumbling down stairs \n",
            " how brave they ll all think me at home \n",
            " why  i wouldn t say anything about it  even if i fell off the top of the house    which was very likely true  \n",
            " down  down  down \n",
            " would the fall  never  come to an end \n",
            "  i wonder how many miles i ve fallen by this time   she said aloud \n",
            "  i must be getting somewhere near the centre of the earth \n",
            " let me see  that would be four thousand miles down  i think    for  you see  alice had learnt several things of this sort in her lessons in the schoolroom  and though this was not a  very  good opportunity for showing off her knowledge  as there was no one to listen to her  still it was good practice to say it over    yes  that s about the right distance but then i wonder what latitude or longitude i ve got to    alice had no idea what latitude was  or longitude either  but thought they were nice grand words to say  \n",
            " presently she began again \n",
            "  i wonder if i shall fall right  through  the earth \n",
            " how funny it ll seem to come out among the people that walk with their heads downward \n",
            " the antipathies  i think    she was rather glad there  was  no one listening  this time  as it didn t sound at all the right word    but i shall have to ask them what the name of the country is  you know \n",
            " please  ma am  is this new zealand or australia    and she tried to curtsey as she spoke fancy  curtseying  as you re falling through the air \n",
            " do you think you could manage it  \n",
            "  and what an ignorant little girl she ll think me for asking \n",
            " no  it ll never do to ask  perhaps i shall see it written up somewhere   down  down  down \n",
            " there was nothing else to do  so alice soon began talking again \n",
            "  dinah ll miss me very much to night  i should think    dinah was the cat  \n",
            "  i hope they ll remember her saucer of milk at tea time \n",
            " dinah my dear \n",
            " i wish you were down here with me \n",
            " there are no mice in the air  i m afraid  but you might catch a bat  and that s very like a mouse  you know \n",
            " but do cats eat bats  i wonder   and here alice began to get rather sleepy  and went on saying to herself  in a dreamy sort of way   do cats eat bats \n",
            " do cats eat bats   and sometimes   do bats eat cats   for  you see  as she couldn t answer either question  it didn t much matter which way she put it \n",
            " she felt that she was dozing off  and had just begun to dream that she was walking hand in hand with dinah  and saying to her very earnestly   now  dinah  tell me the truth  did you ever eat a bat   when suddenly  thump \n",
            " thump \n",
            " down she came upon a heap of sticks and dry leaves  and the fall was over \n",
            " alice was not a bit hurt  and she jumped up on to her feet in a moment  she looked up  but it was all dark overhead  before her was another long passage  and the white rabbit was still in sight  hurrying down it \n",
            " there was not a moment to be lost  away went alice like the wind  and was just in time to hear it say  as it turned a corner   oh my ears and whiskers  how late it s getting   she was close behind it when she turned the corner  but the rabbit was no longer to be seen  she found herself in a long  low hall  which was lit up by a row of lamps hanging from the roof \n",
            " there were doors all round the hall  but they were all locked  and when alice had been all the way down one side and up the other  trying every door  she walked sadly down the middle  wondering how she was ever to get out again \n",
            " suddenly she came upon a little three legged table  all made of solid glass  there was nothing on it except a tiny golden key  and alice s first thought was that it might belong to one of the doors of the hall  but  alas \n",
            " either the locks were too large  or the key was too small  but at any rate it would not open any of them \n",
            " however  on the second time round  she came upon a low curtain she had not noticed before  and behind it was a little door about fifteen inches high  she tried the little golden key in the lock  and to her great delight it fitted \n",
            " alice opened the door and found that it led into a small passage  not much larger than a rat hole  she knelt down and looked along the passage into the loveliest garden you ever saw \n",
            " how she longed to get out of that dark hall  and wander about among those beds of bright flowers and those cool fountains  but she could not even get her head through the doorway   and even if my head would go through   thought poor alice   it would be of very little use without my shoulders \n",
            " oh  how i wish i could shut up like a telescope \n",
            " i think i could  if i only knew how to begin   for  you see  so many out of the way things had happened lately  that alice had begun to think that very few things indeed were really impossible \n",
            " there seemed to be no use in waiting by the little door  so she went back to the table  half hoping she might find another key on it  or at any rate a book of rules for shutting people up like telescopes  this time she found a little bottle on it    which certainly was not here before   said alice   and round the neck of the bottle was a paper label  with the words  drink me   beautifully printed on it in large letters \n",
            " it was all very well to say  drink me   but the wise little alice was not going to do  that  in a hurry \n",
            "  no  i ll look first   she said   and see whether it s marked   poison   or not   for she had read several nice little histories about children who had got burnt  and eaten up by wild beasts and other unpleasant things  all because they  would  not remember the simple rules their friends had taught them  such as  that a red hot poker will burn you if you hold it too long  and that if you cut your finger  very  deeply with a knife  it usually bleeds  and she had never forgotten that  if you drink much from a bottle marked  poison   it is almost certain to disagree with you  sooner or later \n",
            " however  this bottle was  not  marked  poison   so alice ventured to taste it  and finding it very nice   it had  in fact  a sort of mixed flavour of cherry tart  custard  pine apple  roast turkey  toffee  and hot buttered toast   she very soon finished it off \n",
            "  what a curious feeling   said alice   i must be shutting up like a telescope   and so it was indeed  she was now only ten inches high  and her face brightened up at the thought that she was now the right size for going through the little door into that lovely garden \n",
            " first  however  she waited for a few minutes to see if she was going to shrink any further  she felt a little nervous about this   for it might end  you know   said alice to herself   in my going out altogether  like a candle \n",
            " i wonder what i should be like then   and she tried to fancy what the flame of a candle is like after the candle is blown out  for she could not remember ever having seen such a thing \n",
            " after a while  finding that nothing more happened  she decided on going into the garden at once  but  alas for poor alice \n",
            " when she got to the door  she found she had forgotten the little golden key  and when she went back to the table for it  she found she could not possibly reach it  she could see it quite plainly through the glass  and she tried her best to climb up one of the legs of the table  but it was too slippery  and when she had tired herself out with trying  the poor little thing sat down and cried \n",
            "  come  there s no use in crying like that   said alice to herself  rather sharply   i advise you to leave off this minute   she generally gave herself very good advice   though she very seldom followed it   and sometimes she scolded herself so severely as to bring tears into her eyes  and once she remembered trying to box her own ears for having cheated herself in a game of croquet she was playing against herself  for this curious child was very fond of pretending to be two people \n",
            "  but it s no use now   thought poor alice   to pretend to be two people \n",
            " why  there s hardly enough of me left to make  one  respectable person   soon her eye fell on a little glass box that was lying under the table  she opened it  and found in it a very small cake  on which the words  eat me  were beautifully marked in currants \n",
            "  well  i ll eat it   said alice   and if it makes me grow larger  i can reach the key  and if it makes me grow smaller  i can creep under the door  so either way i ll get into the garden  and i don t care which happens   she ate a little bit  and said anxiously to herself   which way \n",
            " which way    holding her hand on the top of her head to feel which way it was growing  and she was quite surprised to find that she remained the same size  to be sure  this generally happens when one eats cake  but alice had got so much into the way of expecting nothing but out of the way things to happen  that it seemed quite dull and stupid for life to go on in the common way \n",
            " so she set to work  and very soon finished off the cake \n",
            " chapter ii \n",
            " the pool of tears  curiouser and curiouser   cried alice  she was so much surprised  that for the moment she quite forgot how to speak good english    now i m opening out like the largest telescope that ever was \n",
            " good bye  feet    for when she looked down at her feet  they seemed to be almost out of sight  they were getting so far off  \n",
            "  oh  my poor little feet  i wonder who will put on your shoes and stockings for you now  dears \n",
            " i m sure  i  shan t be able \n",
            " i shall be a great deal too far off to trouble myself about you  you must manage the best way you can  but i must be kind to them   thought alice   or perhaps they won t walk the way i want to go \n",
            " let me see  i ll give them a new pair of boots every christmas   and she went on planning to herself how she would manage it \n",
            "  they must go by the carrier   she thought   and how funny it ll seem  sending presents to one s own feet \n",
            " and how odd the directions will look \n",
            "  alice s right foot  esq   hearthrug  near the fender     with alice s love   \n",
            " oh dear  what nonsense i m talking   just then her head struck against the roof of the hall  in fact she was now more than nine feet high  and she at once took up the little golden key and hurried off to the garden door \n",
            " poor alice \n",
            " it was as much as she could do  lying down on one side  to look through into the garden with one eye  but to get through was more hopeless than ever  she sat down and began to cry again \n",
            "  you ought to be ashamed of yourself   said alice   a great girl like you    she might well say this    to go on crying in this way \n",
            " stop this moment  i tell you   but she went on all the same  shedding gallons of tears  until there was a large pool all round her  about four inches deep and reaching half down the hall \n",
            " after a time she heard a little pattering of feet in the distance  and she hastily dried her eyes to see what was coming \n",
            " it was the white rabbit returning  splendidly dressed  with a pair of white kid gloves in one hand and a large fan in the other  he came trotting along in a great hurry  muttering to himself as he came   oh \n",
            " the duchess  the duchess \n",
            " oh \n",
            " won t she be savage if i ve kept her waiting   alice felt so desperate that she was ready to ask help of any one  so  when the rabbit came near her  she began  in a low  timid voice   if you please  sir   the rabbit started violently  dropped the white kid gloves and the fan  and skurried away into the darkness as hard as he could go \n",
            " alice took up the fan and gloves  and  as the hall was very hot  she kept fanning herself all the time she went on talking   dear  dear \n",
            " how queer everything is to day \n",
            " and yesterday things went on just as usual \n",
            " i wonder if i ve been changed in the night \n",
            " let me think  was i the same when i got up this morning \n",
            " i almost think i can remember feeling a little different \n",
            " but if i m not the same  the next question is  who in the world am i \n",
            " ah   that s  the great puzzle   and she began thinking over all the children she knew that were of the same age as herself  to see if she could have been changed for any of them \n",
            "  i m sure i m not ada   she said   for her hair goes in such long ringlets  and mine doesn t go in ringlets at all  and i m sure i can t be mabel  for i know all sorts of things  and she  oh \n",
            " she knows such a very little \n",
            " besides   she s  she  and  i m  i  and oh dear  how puzzling it all is \n",
            " i ll try if i know all the things i used to know \n",
            " let me see  four times five is twelve  and four times six is thirteen  and four times seven is oh dear \n",
            " i shall never get to twenty at that rate \n",
            " however  the multiplication table doesn t signify  let s try geography \n",
            " london is the capital of paris  and paris is the capital of rome  and rome no   that s  all wrong  i m certain \n",
            " i must have been changed for mabel \n",
            " i ll try and say   how doth the little     and she crossed her hands on her lap as if she were saying lessons  and began to repeat it  but her voice sounded hoarse and strange  and the words did not come the same as they used to do    how doth the little crocodile improve his shining tail  and pour the waters of the nile on every golden scale \n",
            "  how cheerfully he seems to grin  how neatly spread his claws  and welcome little fishes in with gently smiling jaws    i m sure those are not the right words   said poor alice  and her eyes filled with tears again as she went on   i must be mabel after all  and i shall have to go and live in that poky little house  and have next to no toys to play with  and oh \n",
            " ever so many lessons to learn \n",
            " no  i ve made up my mind about it  if i m mabel  i ll stay down here \n",
            " it ll be no use their putting their heads down and saying  come up again  dear   i shall only look up and say  who am i then \n",
            " tell me that first  and then  if i like being that person  i ll come up  if not  i ll stay down here till i m somebody else  but  oh dear   cried alice  with a sudden burst of tears   i do wish they  would  put their heads down \n",
            " i am so  very  tired of being all alone here   as she said this she looked down at her hands  and was surprised to see that she had put on one of the rabbit s little white kid gloves while she was talking \n",
            "  how  can  i have done that   she thought \n",
            "  i must be growing small again   she got up and went to the table to measure herself by it  and found that  as nearly as she could guess  she was now about two feet high  and was going on shrinking rapidly  she soon found out that the cause of this was the fan she was holding  and she dropped it hastily  just in time to avoid shrinking away altogether \n",
            "  that  was  a narrow escape   said alice  a good deal frightened at the sudden change  but very glad to find herself still in existence   and now for the garden   and she ran with all speed back to the little door  but  alas \n",
            " the little door was shut again  and the little golden key was lying on the glass table as before   and things are worse than ever   thought the poor child   for i never was so small as this before  never \n",
            " and i declare it s too bad  that it is   as she said these words her foot slipped  and in another moment  splash \n",
            " she was up to her chin in salt water \n",
            " her first idea was that she had somehow fallen into the sea   and in that case i can go back by railway   she said to herself \n",
            "  alice had been to the seaside once in her life  and had come to the general conclusion  that wherever you go to on the english coast you find a number of bathing machines in the sea  some children digging in the sand with wooden spades  then a row of lodging houses  and behind them a railway station  \n",
            " however  she soon made out that she was in the pool of tears which she had wept when she was nine feet high \n",
            "  i wish i hadn t cried so much   said alice  as she swam about  trying to find her way out \n",
            "  i shall be punished for it now  i suppose  by being drowned in my own tears \n",
            " that  will  be a queer thing  to be sure \n",
            " however  everything is queer to day   just then she heard something splashing about in the pool a little way off  and she swam nearer to make out what it was  at first she thought it must be a walrus or hippopotamus  but then she remembered how small she was now  and she soon made out that it was only a mouse that had slipped in like herself \n",
            "  would it be of any use  now   thought alice   to speak to this mouse \n",
            " everything is so out of the way down here  that i should think very likely it can talk  at any rate  there s no harm in trying   so she began   o mouse  do you know the way out of this pool \n",
            " i am very tired of swimming about here  o mouse    alice thought this must be the right way of speaking to a mouse  she had never done such a thing before  but she remembered having seen in her brother s latin grammar   a mouse of a mouse to a mouse a mouse o mouse    the mouse looked at her rather inquisitively  and seemed to her to wink with one of its little eyes  but it said nothing \n",
            "  perhaps it doesn t understand english   thought alice   i daresay it s a french mouse  come over with william the conqueror    for  with all her knowledge of history  alice had no very clear notion how long ago anything had happened  \n",
            " so she began again   où est ma chatte   which was the first sentence in her french lesson book \n",
            " the mouse gave a sudden leap out of the water  and seemed to quiver all over with fright \n",
            "  oh  i beg your pardon   cried alice hastily  afraid that she had hurt the poor animal s feelings \n",
            "  i quite forgot you didn t like cats    not like cats   cried the mouse  in a shrill  passionate voice \n",
            "  would  you  like cats if you were me    well  perhaps not   said alice in a soothing tone   don t be angry about it \n",
            " and yet i wish i could show you our cat dinah  i think you d take a fancy to cats if you could only see her \n",
            " she is such a dear quiet thing   alice went on  half to herself  as she swam lazily about in the pool   and she sits purring so nicely by the fire  licking her paws and washing her face and she is such a nice soft thing to nurse and she s such a capital one for catching mice oh  i beg your pardon   cried alice again  for this time the mouse was bristling all over  and she felt certain it must be really offended \n",
            "  we won t talk about her any more if you d rather not    we indeed   cried the mouse  who was trembling down to the end of his tail \n",
            "  as if  i  would talk on such a subject \n",
            " our family always  hated  cats  nasty  low  vulgar things \n",
            " don t let me hear the name again    i won t indeed   said alice  in a great hurry to change the subject of conversation \n",
            "  are you are you fond of of dogs   the mouse did not answer  so alice went on eagerly   there is such a nice little dog near our house i should like to show you \n",
            " a little bright eyed terrier  you know  with oh  such long curly brown hair \n",
            " and it ll fetch things when you throw them  and it ll sit up and beg for its dinner  and all sorts of things i can t remember half of them and it belongs to a farmer  you know  and he says it s so useful  it s worth a hundred pounds \n",
            " he says it kills all the rats and oh dear   cried alice in a sorrowful tone   i m afraid i ve offended it again   for the mouse was swimming away from her as hard as it could go  and making quite a commotion in the pool as it went \n",
            " so she called softly after it   mouse dear \n",
            " do come back again  and we won t talk about cats or dogs either  if you don t like them   when the mouse heard this  it turned round and swam slowly back to her  its face was quite pale  with passion  alice thought   and it said in a low trembling voice   let us get to the shore  and then i ll tell you my history  and you ll understand why it is i hate cats and dogs   it was high time to go  for the pool was getting quite crowded with the birds and animals that had fallen into it  there were a duck and a dodo  a lory and an eaglet  and several other curious creatures \n",
            " alice led the way  and the whole party swam to the shore \n",
            " chapter iii \n",
            " a caucus race and a long tale they were indeed a queer looking party that assembled on the bank the birds with draggled feathers  the animals with their fur clinging close to them  and all dripping wet  cross  and uncomfortable \n",
            " the first question of course was  how to get dry again  they had a consultation about this  and after a few minutes it seemed quite natural to alice to find herself talking familiarly with them  as if she had known them all her life \n",
            " indeed  she had quite a long argument with the lory  who at last turned sulky  and would only say   i am older than you  and must know better   and this alice would not allow without knowing how old it was  and  as the lory positively refused to tell its age  there was no more to be said \n",
            " at last the mouse  who seemed to be a person of authority among them  called out   sit down  all of you  and listen to me \n",
            "  i ll  soon make you dry enough   they all sat down at once  in a large ring  with the mouse in the middle \n",
            " alice kept her eyes anxiously fixed on it  for she felt sure she would catch a bad cold if she did not get dry very soon \n",
            "  ahem   said the mouse with an important air   are you all ready \n",
            " this is the driest thing i know \n",
            " silence all round  if you please \n",
            "  william the conqueror  whose cause was favoured by the pope  was soon submitted to by the english  who wanted leaders  and had been of late much accustomed to usurpation and conquest \n",
            " edwin and morcar  the earls of mercia and northumbria     ugh   said the lory  with a shiver \n",
            "  i beg your pardon   said the mouse  frowning  but very politely   did you speak    not i   said the lory hastily \n",
            "  i thought you did   said the mouse \n",
            "   i proceed \n",
            "  edwin and morcar  the earls of mercia and northumbria  declared for him  and even stigand  the patriotic archbishop of canterbury  found it advisable     found  what    said the duck \n",
            "  found  it    the mouse replied rather crossly   of course you know what  it  means    i know what  it  means well enough  when  i  find a thing   said the duck   it s generally a frog or a worm \n",
            " the question is  what did the archbishop find   the mouse did not notice this question  but hurriedly went on     found it advisable to go with edgar atheling to meet william and offer him the crown \n",
            " william s conduct at first was moderate \n",
            " but the insolence of his normans   how are you getting on now  my dear   it continued  turning to alice as it spoke \n",
            "  as wet as ever   said alice in a melancholy tone   it doesn t seem to dry me at all    in that case   said the dodo solemnly  rising to its feet   i move that the meeting adjourn  for the immediate adoption of more energetic remedies    speak english   said the eaglet \n",
            "  i don t know the meaning of half those long words  and  what s more  i don t believe you do either   and the eaglet bent down its head to hide a smile  some of the other birds tittered audibly \n",
            "  what i was going to say   said the dodo in an offended tone   was  that the best thing to get us dry would be a caucus race    what  is  a caucus race   said alice  not that she wanted much to know  but the dodo had paused as if it thought that  somebody  ought to speak  and no one else seemed inclined to say anything \n",
            "  why   said the dodo   the best way to explain it is to do it    and  as you might like to try the thing yourself  some winter day  i will tell you how the dodo managed it  \n",
            " first it marked out a race course  in a sort of circle    the exact shape doesn t matter   it said   and then all the party were placed along the course  here and there \n",
            " there was no  one  two  three  and away   but they began running when they liked  and left off when they liked  so that it was not easy to know when the race was over \n",
            " however  when they had been running half an hour or so  and were quite dry again  the dodo suddenly called out  the race is over   and they all crowded round it  panting  and asking   but who has won   this question the dodo could not answer without a great deal of thought  and it sat for a long time with one finger pressed upon its forehead  the position in which you usually see shakespeare  in the pictures of him   while the rest waited in silence \n",
            " at last the dodo said    everybody  has won  and all must have prizes    but who is to give the prizes   quite a chorus of voices asked \n",
            "  why   she   of course   said the dodo  pointing to alice with one finger  and the whole party at once crowded round her  calling out in a confused way   prizes \n",
            " prizes   alice had no idea what to do  and in despair she put her hand in her pocket  and pulled out a box of comfits   luckily the salt water had not got into it   and handed them round as prizes \n",
            " there was exactly one a piece  all round \n",
            "  but she must have a prize herself  you know   said the mouse \n",
            "  of course   the dodo replied very gravely \n",
            "  what else have you got in your pocket   he went on  turning to alice \n",
            "  only a thimble   said alice sadly \n",
            "  hand it over here   said the dodo \n",
            " then they all crowded round her once more  while the dodo solemnly presented the thimble  saying  we beg your acceptance of this elegant thimble   and  when it had finished this short speech  they all cheered \n",
            " alice thought the whole thing very absurd  but they all looked so grave that she did not dare to laugh  and  as she could not think of anything to say  she simply bowed  and took the thimble  looking as solemn as she could \n",
            " the next thing was to eat the comfits  this caused some noise and confusion  as the large birds complained that they could not taste theirs  and the small ones choked and had to be patted on the back \n",
            " however  it was over at last  and they sat down again in a ring  and begged the mouse to tell them something more \n",
            "  you promised to tell me your history  you know   said alice   and why it is you hate c and d   she added in a whisper  half afraid that it would be offended again \n",
            "  mine is a long and a sad tale   said the mouse  turning to alice  and sighing \n",
            "  it  is  a long tail  certainly   said alice  looking down with wonder at the mouse s tail   but why do you call it sad   and she kept on puzzling about it while the mouse was speaking  so that her idea of the tale was something like this    fury said to a mouse  that he met in the house   let us both go to law   i  will prosecute  you   come  i ll take no denial  we must have a trial  for really this morning i ve nothing to do   said the mouse to the cur   such a trial  dear sir  with no jury or judge  would be wasting our breath    i ll be judge  i ll be jury   said cunning old fury   i ll try the whole cause  and condemn you to death     you are not attending   said the mouse to alice severely \n",
            "  what are you thinking of    i beg your pardon   said alice very humbly   you had got to the fifth bend  i think    i had  not    cried the mouse  sharply and very angrily \n",
            "  a knot   said alice  always ready to make herself useful  and looking anxiously about her \n",
            "  oh  do let me help to undo it    i shall do nothing of the sort   said the mouse  getting up and walking away \n",
            "  you insult me by talking such nonsense    i didn t mean it   pleaded poor alice \n",
            "  but you re so easily offended  you know   the mouse only growled in reply \n",
            "  please come back and finish your story   alice called after it  and the others all joined in chorus   yes  please do   but the mouse only shook its head impatiently  and walked a little quicker \n",
            "  what a pity it wouldn t stay   sighed the lory  as soon as it was quite out of sight  and an old crab took the opportunity of saying to her daughter  ah  my dear \n",
            " let this be a lesson to you never to lose  your  temper    hold your tongue  ma   said the young crab  a little snappishly \n",
            "  you re enough to try the patience of an oyster    i wish i had our dinah here  i know i do   said alice aloud  addressing nobody in particular \n",
            "  she d soon fetch it back    and who is dinah  if i might venture to ask the question   said the lory \n",
            " alice replied eagerly  for she was always ready to talk about her pet   dinah s our cat \n",
            " and she s such a capital one for catching mice you can t think \n",
            " and oh  i wish you could see her after the birds \n",
            " why  she ll eat a little bird as soon as look at it   this speech caused a remarkable sensation among the party \n",
            " some of the birds hurried off at once  one old magpie began wrapping itself up very carefully  remarking   i really must be getting home  the night air doesn t suit my throat   and a canary called out in a trembling voice to its children   come away  my dears \n",
            " it s high time you were all in bed   on various pretexts they all moved off  and alice was soon left alone \n",
            "  i wish i hadn t mentioned dinah   she said to herself in a melancholy tone \n",
            "  nobody seems to like her  down here  and i m sure she s the best cat in the world \n",
            " oh  my dear dinah \n",
            " i wonder if i shall ever see you any more   and here poor alice began to cry again  for she felt very lonely and low spirited \n",
            " in a little while  however  she again heard a little pattering of footsteps in the distance  and she looked up eagerly  half hoping that the mouse had changed his mind  and was coming back to finish his story \n",
            " chapter iv \n",
            " the rabbit sends in a little bill it was the white rabbit  trotting slowly back again  and looking anxiously about as it went  as if it had lost something  and she heard it muttering to itself  the duchess \n",
            " the duchess \n",
            " oh my dear paws \n",
            " oh my fur and whiskers \n",
            " she ll get me executed  as sure as ferrets are ferrets \n",
            " where  can  i have dropped them  i wonder   alice guessed in a moment that it was looking for the fan and the pair of white kid gloves  and she very good naturedly began hunting about for them  but they were nowhere to be seen everything seemed to have changed since her swim in the pool  and the great hall  with the glass table and the little door  had vanished completely \n",
            " very soon the rabbit noticed alice  as she went hunting about  and called out to her in an angry tone   why  mary ann  what  are  you doing out here \n",
            " run home this moment  and fetch me a pair of gloves and a fan \n",
            " quick  now   and alice was so much frightened that she ran off at once in the direction it pointed to  without trying to explain the mistake it had made \n",
            "  he took me for his housemaid   she said to herself as she ran \n",
            "  how surprised he ll be when he finds out who i am \n",
            " but i d better take him his fan and gloves that is  if i can find them   as she said this  she came upon a neat little house  on the door of which was a bright brass plate with the name  w \n",
            " rabbit   engraved upon it \n",
            " she went in without knocking  and hurried upstairs  in great fear lest she should meet the real mary ann  and be turned out of the house before she had found the fan and gloves \n",
            "  how queer it seems   alice said to herself   to be going messages for a rabbit \n",
            " i suppose dinah ll be sending me on messages next   and she began fancying the sort of thing that would happen    miss alice \n",
            " come here directly  and get ready for your walk    coming in a minute  nurse \n",
            " but i ve got to see that the mouse doesn t get out   only i don t think   alice went on   that they d let dinah stop in the house if it began ordering people about like that   by this time she had found her way into a tidy little room with a table in the window  and on it  as she had hoped  a fan and two or three pairs of tiny white kid gloves  she took up the fan and a pair of the gloves  and was just going to leave the room  when her eye fell upon a little bottle that stood near the looking glass \n",
            " there was no label this time with the words  drink me   but nevertheless she uncorked it and put it to her lips \n",
            "  i know  something  interesting is sure to happen   she said to herself   whenever i eat or drink anything  so i ll just see what this bottle does \n",
            " i do hope it ll make me grow large again  for really i m quite tired of being such a tiny little thing   it did so indeed  and much sooner than she had expected  before she had drunk half the bottle  she found her head pressing against the ceiling  and had to stoop to save her neck from being broken \n",
            " she hastily put down the bottle  saying to herself  that s quite enough i hope i shan t grow any more as it is  i can t get out at the door i do wish i hadn t drunk quite so much   alas \n",
            " it was too late to wish that \n",
            " she went on growing  and growing  and very soon had to kneel down on the floor  in another minute there was not even room for this  and she tried the effect of lying down with one elbow against the door  and the other arm curled round her head \n",
            " still she went on growing  and  as a last resource  she put one arm out of the window  and one foot up the chimney  and said to herself  now i can do no more  whatever happens \n",
            " what  will  become of me   luckily for alice  the little magic bottle had now had its full effect  and she grew no larger  still it was very uncomfortable  and  as there seemed to be no sort of chance of her ever getting out of the room again  no wonder she felt unhappy \n",
            "  it was much pleasanter at home   thought poor alice   when one wasn t always growing larger and smaller  and being ordered about by mice and rabbits \n",
            " i almost wish i hadn t gone down that rabbit hole and yet and yet it s rather curious  you know  this sort of life \n",
            " i do wonder what  can  have happened to me \n",
            " when i used to read fairy tales  i fancied that kind of thing never happened  and now here i am in the middle of one \n",
            " there ought to be a book written about me  that there ought \n",
            " and when i grow up  i ll write one but i m grown up now   she added in a sorrowful tone   at least there s no room to grow up any more  here     but then   thought alice   shall i  never  get any older than i am now \n",
            " that ll be a comfort  one way never to be an old woman but then always to have lessons to learn \n",
            " oh  i shouldn t like  that     oh  you foolish alice   she answered herself \n",
            "  how can you learn lessons in here \n",
            " why  there s hardly room for  you   and no room at all for any lesson books   and so she went on  taking first one side and then the other  and making quite a conversation of it altogether  but after a few minutes she heard a voice outside  and stopped to listen \n",
            "  mary ann \n",
            " mary ann   said the voice \n",
            "  fetch me my gloves this moment   then came a little pattering of feet on the stairs \n",
            " alice knew it was the rabbit coming to look for her  and she trembled till she shook the house  quite forgetting that she was now about a thousand times as large as the rabbit  and had no reason to be afraid of it \n",
            " presently the rabbit came up to the door  and tried to open it  but  as the door opened inwards  and alice s elbow was pressed hard against it  that attempt proved a failure \n",
            " alice heard it say to itself  then i ll go round and get in at the window     that  you won t   thought alice  and  after waiting till she fancied she heard the rabbit just under the window  she suddenly spread out her hand  and made a snatch in the air \n",
            " she did not get hold of anything  but she heard a little shriek and a fall  and a crash of broken glass  from which she concluded that it was just possible it had fallen into a cucumber frame  or something of the sort \n",
            " next came an angry voice the rabbit s  pat \n",
            " pat \n",
            " where are you   and then a voice she had never heard before   sure then i m here \n",
            " digging for apples  yer honour    digging for apples  indeed   said the rabbit angrily \n",
            "  here \n",
            " come and help me out of  this     sounds of more broken glass  \n",
            "  now tell me  pat  what s that in the window    sure  it s an arm  yer honour    he pronounced it  arrum     an arm  you goose \n",
            " who ever saw one that size \n",
            " why  it fills the whole window    sure  it does  yer honour  but it s an arm for all that    well  it s got no business there  at any rate  go and take it away   there was a long silence after this  and alice could only hear whispers now and then  such as   sure  i don t like it  yer honour  at all  at all    do as i tell you  you coward   and at last she spread out her hand again  and made another snatch in the air \n",
            " this time there were  two  little shrieks  and more sounds of broken glass \n",
            "  what a number of cucumber frames there must be   thought alice \n",
            "  i wonder what they ll do next \n",
            " as for pulling me out of the window  i only wish they  could   i m sure  i  don t want to stay in here any longer   she waited for some time without hearing anything more  at last came a rumbling of little cartwheels  and the sound of a good many voices all talking together  she made out the words   where s the other ladder  why  i hadn t to bring but one  bill s got the other bill \n",
            " fetch it here  lad  here  put  em up at this corner no  tie  em together first they don t reach half high enough yet oh \n",
            " they ll do well enough  don t be particular here  bill \n",
            " catch hold of this rope will the roof bear  mind that loose slate oh  it s coming down \n",
            " heads below    a loud crash   now  who did that  it was bill  i fancy who s to go down the chimney  nay   i  shan t \n",
            "  you  do it   that  i won t  then  bill s to go down here  bill \n",
            " the master says you re to go down the chimney    oh \n",
            " so bill s got to come down the chimney  has he   said alice to herself \n",
            "  shy  they seem to put everything upon bill \n",
            " i wouldn t be in bill s place for a good deal  this fireplace is narrow  to be sure  but i  think  i can kick a little   she drew her foot as far down the chimney as she could  and waited till she heard a little animal  she couldn t guess of what sort it was  scratching and scrambling about in the chimney close above her  then  saying to herself  this is bill   she gave one sharp kick  and waited to see what would happen next \n",
            " the first thing she heard was a general chorus of  there goes bill   then the rabbit s voice along  catch him  you by the hedge   then silence  and then another confusion of voices  hold up his head brandy now don t choke him how was it  old fellow \n",
            " what happened to you \n",
            " tell us all about it   last came a little feeble  squeaking voice    that s bill   thought alice    well  i hardly know no more  thank ye  i m better now but i m a deal too flustered to tell you all i know is  something comes at me like a jack in the box  and up i goes like a sky rocket    so you did  old fellow   said the others \n",
            "  we must burn the house down   said the rabbit s voice  and alice called out as loud as she could   if you do  i ll set dinah at you   there was a dead silence instantly  and alice thought to herself   i wonder what they  will  do next \n",
            " if they had any sense  they d take the roof off   after a minute or two  they began moving about again  and alice heard the rabbit say   a barrowful will do  to begin with    a barrowful of  what    thought alice  but she had not long to doubt  for the next moment a shower of little pebbles came rattling in at the window  and some of them hit her in the face \n",
            "  i ll put a stop to this   she said to herself  and shouted out   you d better not do that again   which produced another dead silence \n",
            " alice noticed with some surprise that the pebbles were all turning into little cakes as they lay on the floor  and a bright idea came into her head \n",
            "  if i eat one of these cakes   she thought   it s sure to make  some  change in my size  and as it can t possibly make me larger  it must make me smaller  i suppose   so she swallowed one of the cakes  and was delighted to find that she began shrinking directly \n",
            " as soon as she was small enough to get through the door  she ran out of the house  and found quite a crowd of little animals and birds waiting outside \n",
            " the poor little lizard  bill  was in the middle  being held up by two guinea pigs  who were giving it something out of a bottle \n",
            " they all made a rush at alice the moment she appeared  but she ran off as hard as she could  and soon found herself safe in a thick wood \n",
            "  the first thing i ve got to do   said alice to herself  as she wandered about in the wood   is to grow to my right size again  and the second thing is to find my way into that lovely garden \n",
            " i think that will be the best plan   it sounded an excellent plan  no doubt  and very neatly and simply arranged  the only difficulty was  that she had not the smallest idea how to set about it  and while she was peering about anxiously among the trees  a little sharp bark just over her head made her look up in a great hurry \n",
            " an enormous puppy was looking down at her with large round eyes  and feebly stretching out one paw  trying to touch her \n",
            "  poor little thing   said alice  in a coaxing tone  and she tried hard to whistle to it  but she was terribly frightened all the time at the thought that it might be hungry  in which case it would be very likely to eat her up in spite of all her coaxing \n",
            " hardly knowing what she did  she picked up a little bit of stick  and held it out to the puppy  whereupon the puppy jumped into the air off all its feet at once  with a yelp of delight  and rushed at the stick  and made believe to worry it  then alice dodged behind a great thistle  to keep herself from being run over  and the moment she appeared on the other side  the puppy made another rush at the stick  and tumbled head over heels in its hurry to get hold of it  then alice  thinking it was very like having a game of play with a cart horse  and expecting every moment to be trampled under its feet  ran round the thistle again  then the puppy began a series of short charges at the stick  running a very little way forwards each time and a long way back  and barking hoarsely all the while  till at last it sat down a good way off  panting  with its tongue hanging out of its mouth  and its great eyes half shut \n",
            " this seemed to alice a good opportunity for making her escape  so she set off at once  and ran till she was quite tired and out of breath  and till the puppy s bark sounded quite faint in the distance \n",
            "  and yet what a dear little puppy it was   said alice  as she leant against a buttercup to rest herself  and fanned herself with one of the leaves   i should have liked teaching it tricks very much  if if i d only been the right size to do it \n",
            " oh dear \n",
            " i d nearly forgotten that i ve got to grow up again \n",
            " let me see how  is  it to be managed \n",
            " i suppose i ought to eat or drink something or other  but the great question is  what   the great question certainly was  what \n",
            " alice looked all round her at the flowers and the blades of grass  but she did not see anything that looked like the right thing to eat or drink under the circumstances \n",
            " there was a large mushroom growing near her  about the same height as herself  and when she had looked under it  and on both sides of it  and behind it  it occurred to her that she might as well look and see what was on the top of it \n",
            " she stretched herself up on tiptoe  and peeped over the edge of the mushroom  and her eyes immediately met those of a large caterpillar  that was sitting on the top with its arms folded  quietly smoking a long hookah  and taking not the smallest notice of her or of anything else \n",
            " chapter v  advice from a caterpillar the caterpillar and alice looked at each other for some time in silence  at last the caterpillar took the hookah out of its mouth  and addressed her in a languid  sleepy voice \n",
            "  who are  you    said the caterpillar \n",
            " this was not an encouraging opening for a conversation \n",
            " alice replied  rather shyly   i i hardly know  sir  just at present at least i know who i  was  when i got up this morning  but i think i must have been changed several times since then    what do you mean by that   said the caterpillar sternly \n",
            "  explain yourself    i can t explain  myself   i m afraid  sir   said alice   because i m not myself  you see    i don t see   said the caterpillar \n",
            "  i m afraid i can t put it more clearly   alice replied very politely   for i can t understand it myself to begin with  and being so many different sizes in a day is very confusing    it isn t   said the caterpillar \n",
            "  well  perhaps you haven t found it so yet   said alice   but when you have to turn into a chrysalis you will some day  you know and then after that into a butterfly  i should think you ll feel it a little queer  won t you    not a bit   said the caterpillar \n",
            "  well  perhaps your feelings may be different   said alice   all i know is  it would feel very queer to  me     you   said the caterpillar contemptuously \n",
            "  who are  you    which brought them back again to the beginning of the conversation \n",
            " alice felt a little irritated at the caterpillar s making such  very  short remarks  and she drew herself up and said  very gravely   i think  you ought to tell me who  you  are  first    why   said the caterpillar \n",
            " here was another puzzling question  and as alice could not think of any good reason  and as the caterpillar seemed to be in a  very  unpleasant state of mind  she turned away \n",
            "  come back   the caterpillar called after her \n",
            "  i ve something important to say   this sounded promising  certainly  alice turned and came back again \n",
            "  keep your temper   said the caterpillar \n",
            "  is that all   said alice  swallowing down her anger as well as she could \n",
            "  no   said the caterpillar \n",
            " alice thought she might as well wait  as she had nothing else to do  and perhaps after all it might tell her something worth hearing \n",
            " for some minutes it puffed away without speaking  but at last it unfolded its arms  took the hookah out of its mouth again  and said   so you think you re changed  do you    i m afraid i am  sir   said alice   i can t remember things as i used and i don t keep the same size for ten minutes together    can t remember  what  things   said the caterpillar \n",
            "  well  i ve tried to say  how doth the little busy bee   but it all came different   alice replied in a very melancholy voice \n",
            "  repeat    you are old  father william     said the caterpillar \n",
            " alice folded her hands  and began    you are old  father william   the young man said   and your hair has become very white  and yet you incessantly stand on your head  do you think  at your age  it is right    in my youth   father william replied to his son   i feared it might injure the brain  but  now that i m perfectly sure i have none  why  i do it again and again    you are old   said the youth   as i mentioned before  and have grown most uncommonly fat  yet you turned a back somersault in at the door  pray  what is the reason of that    in my youth   said the sage  as he shook his grey locks   i kept all my limbs very supple by the use of this ointment one shilling the box  allow me to sell you a couple    you are old   said the youth   and your jaws are too weak for anything tougher than suet  yet you finished the goose  with the bones and the beak  pray  how did you manage to do it    in my youth   said his father   i took to the law  and argued each case with my wife  and the muscular strength  which it gave to my jaw  has lasted the rest of my life    you are old   said the youth   one would hardly suppose that your eye was as steady as ever  yet you balanced an eel on the end of your nose  what made you so awfully clever    i have answered three questions  and that is enough   said his father   don t give yourself airs \n",
            " do you think i can listen all day to such stuff \n",
            " be off  or i ll kick you down stairs    that is not said right   said the caterpillar \n",
            "  not  quite  right  i m afraid   said alice  timidly   some of the words have got altered    it is wrong from beginning to end   said the caterpillar decidedly  and there was silence for some minutes \n",
            " the caterpillar was the first to speak \n",
            "  what size do you want to be   it asked \n",
            "  oh  i m not particular as to size   alice hastily replied   only one doesn t like changing so often  you know    i  don t  know   said the caterpillar \n",
            " alice said nothing  she had never been so much contradicted in her life before  and she felt that she was losing her temper \n",
            "  are you content now   said the caterpillar \n",
            "  well  i should like to be a  little  larger  sir  if you wouldn t mind   said alice   three inches is such a wretched height to be    it is a very good height indeed   said the caterpillar angrily  rearing itself upright as it spoke  it was exactly three inches high  \n",
            "  but i m not used to it   pleaded poor alice in a piteous tone \n",
            " and she thought of herself   i wish the creatures wouldn t be so easily offended    you ll get used to it in time   said the caterpillar  and it put the hookah into its mouth and began smoking again \n",
            " this time alice waited patiently until it chose to speak again \n",
            " in a minute or two the caterpillar took the hookah out of its mouth and yawned once or twice  and shook itself \n",
            " then it got down off the mushroom  and crawled away in the grass  merely remarking as it went   one side will make you grow taller  and the other side will make you grow shorter    one side of  what   the other side of  what    thought alice to herself \n",
            "  of the mushroom   said the caterpillar  just as if she had asked it aloud  and in another moment it was out of sight \n",
            " alice remained looking thoughtfully at the mushroom for a minute  trying to make out which were the two sides of it  and as it was perfectly round  she found this a very difficult question \n",
            " however  at last she stretched her arms round it as far as they would go  and broke off a bit of the edge with each hand \n",
            "  and now which is which   she said to herself  and nibbled a little of the right hand bit to try the effect  the next moment she felt a violent blow underneath her chin  it had struck her foot \n",
            " she was a good deal frightened by this very sudden change  but she felt that there was no time to be lost  as she was shrinking rapidly  so she set to work at once to eat some of the other bit \n",
            " her chin was pressed so closely against her foot  that there was hardly room to open her mouth  but she did it at last  and managed to swallow a morsel of the lefthand bit \n",
            "  come  my head s free at last   said alice in a tone of delight  which changed into alarm in another moment  when she found that her shoulders were nowhere to be found  all she could see  when she looked down  was an immense length of neck  which seemed to rise like a stalk out of a sea of green leaves that lay far below her \n",
            "  what  can  all that green stuff be   said alice \n",
            "  and where  have  my shoulders got to \n",
            " and oh  my poor hands  how is it i can t see you   she was moving them about as she spoke  but no result seemed to follow  except a little shaking among the distant green leaves \n",
            " as there seemed to be no chance of getting her hands up to her head  she tried to get her head down to them  and was delighted to find that her neck would bend about easily in any direction  like a serpent \n",
            " she had just succeeded in curving it down into a graceful zigzag  and was going to dive in among the leaves  which she found to be nothing but the tops of the trees under which she had been wandering  when a sharp hiss made her draw back in a hurry  a large pigeon had flown into her face  and was beating her violently with its wings \n",
            "  serpent   screamed the pigeon \n",
            "  i m  not  a serpent   said alice indignantly \n",
            "  let me alone    serpent  i say again   repeated the pigeon  but in a more subdued tone  and added with a kind of sob   i ve tried every way  and nothing seems to suit them    i haven t the least idea what you re talking about   said alice \n",
            "  i ve tried the roots of trees  and i ve tried banks  and i ve tried hedges   the pigeon went on  without attending to her   but those serpents \n",
            " there s no pleasing them   alice was more and more puzzled  but she thought there was no use in saying anything more till the pigeon had finished \n",
            "  as if it wasn t trouble enough hatching the eggs   said the pigeon   but i must be on the look out for serpents night and day \n",
            " why  i haven t had a wink of sleep these three weeks    i m very sorry you ve been annoyed   said alice  who was beginning to see its meaning \n",
            "  and just as i d taken the highest tree in the wood   continued the pigeon  raising its voice to a shriek   and just as i was thinking i should be free of them at last  they must needs come wriggling down from the sky \n",
            " ugh  serpent    but i m  not  a serpent  i tell you   said alice \n",
            "  i m a i m a    well \n",
            "  what  are you   said the pigeon \n",
            "  i can see you re trying to invent something    i i m a little girl   said alice  rather doubtfully  as she remembered the number of changes she had gone through that day \n",
            "  a likely story indeed   said the pigeon in a tone of the deepest contempt \n",
            "  i ve seen a good many little girls in my time  but never  one  with such a neck as that \n",
            " no  no \n",
            " you re a serpent  and there s no use denying it \n",
            " i suppose you ll be telling me next that you never tasted an egg    i  have  tasted eggs  certainly   said alice  who was a very truthful child   but little girls eat eggs quite as much as serpents do  you know    i don t believe it   said the pigeon   but if they do  why then they re a kind of serpent  that s all i can say   this was such a new idea to alice  that she was quite silent for a minute or two  which gave the pigeon the opportunity of adding   you re looking for eggs  i know  that  well enough  and what does it matter to me whether you re a little girl or a serpent    it matters a good deal to  me    said alice hastily   but i m not looking for eggs  as it happens  and if i was  i shouldn t want  yours   i don t like them raw    well  be off  then   said the pigeon in a sulky tone  as it settled down again into its nest \n",
            " alice crouched down among the trees as well as she could  for her neck kept getting entangled among the branches  and every now and then she had to stop and untwist it \n",
            " after a while she remembered that she still held the pieces of mushroom in her hands  and she set to work very carefully  nibbling first at one and then at the other  and growing sometimes taller and sometimes shorter  until she had succeeded in bringing herself down to her usual height \n",
            " it was so long since she had been anything near the right size  that it felt quite strange at first  but she got used to it in a few minutes  and began talking to herself  as usual \n",
            "  come  there s half my plan done now \n",
            " how puzzling all these changes are \n",
            " i m never sure what i m going to be  from one minute to another \n",
            " however  i ve got back to my right size  the next thing is  to get into that beautiful garden how  is  that to be done  i wonder   as she said this  she came suddenly upon an open place  with a little house in it about four feet high \n",
            "  whoever lives there   thought alice   it ll never do to come upon them  this  size  why  i should frighten them out of their wits   so she began nibbling at the righthand bit again  and did not venture to go near the house till she had brought herself down to nine inches high \n",
            " chapter vi \n",
            " pig and pepper for a minute or two she stood looking at the house  and wondering what to do next  when suddenly a footman in livery came running out of the wood  she considered him to be a footman because he was in livery  otherwise  judging by his face only  she would have called him a fish  and rapped loudly at the door with his knuckles \n",
            " it was opened by another footman in livery  with a round face  and large eyes like a frog  and both footmen  alice noticed  had powdered hair that curled all over their heads \n",
            " she felt very curious to know what it was all about  and crept a little way out of the wood to listen \n",
            " the fish footman began by producing from under his arm a great letter  nearly as large as himself  and this he handed over to the other  saying  in a solemn tone   for the duchess \n",
            " an invitation from the queen to play croquet   the frog footman repeated  in the same solemn tone  only changing the order of the words a little   from the queen \n",
            " an invitation for the duchess to play croquet   then they both bowed low  and their curls got entangled together \n",
            " alice laughed so much at this  that she had to run back into the wood for fear of their hearing her  and when she next peeped out the fish footman was gone  and the other was sitting on the ground near the door  staring stupidly up into the sky \n",
            " alice went timidly up to the door  and knocked \n",
            "  there s no sort of use in knocking   said the footman   and that for two reasons \n",
            " first  because i m on the same side of the door as you are  secondly  because they re making such a noise inside  no one could possibly hear you   and certainly there  was  a most extraordinary noise going on within a constant howling and sneezing  and every now and then a great crash  as if a dish or kettle had been broken to pieces \n",
            "  please  then   said alice   how am i to get in    there might be some sense in your knocking   the footman went on without attending to her   if we had the door between us \n",
            " for instance  if you were  inside   you might knock  and i could let you out  you know   he was looking up into the sky all the time he was speaking  and this alice thought decidedly uncivil \n",
            "  but perhaps he can t help it   she said to herself   his eyes are so  very  nearly at the top of his head \n",
            " but at any rate he might answer questions  how am i to get in   she repeated  aloud \n",
            "  i shall sit here   the footman remarked   till tomorrow   at this moment the door of the house opened  and a large plate came skimming out  straight at the footman s head  it just grazed his nose  and broke to pieces against one of the trees behind him \n",
            "   or next day  maybe   the footman continued in the same tone  exactly as if nothing had happened \n",
            "  how am i to get in   asked alice again  in a louder tone \n",
            "   are  you to get in at all   said the footman \n",
            "  that s the first question  you know   it was  no doubt  only alice did not like to be told so \n",
            "  it s really dreadful   she muttered to herself   the way all the creatures argue \n",
            " it s enough to drive one crazy   the footman seemed to think this a good opportunity for repeating his remark  with variations \n",
            "  i shall sit here   he said   on and off  for days and days    but what am  i  to do   said alice \n",
            "  anything you like   said the footman  and began whistling \n",
            "  oh  there s no use in talking to him   said alice desperately   he s perfectly idiotic   and she opened the door and went in \n",
            " the door led right into a large kitchen  which was full of smoke from one end to the other  the duchess was sitting on a three legged stool in the middle  nursing a baby  the cook was leaning over the fire  stirring a large cauldron which seemed to be full of soup \n",
            "  there s certainly too much pepper in that soup   alice said to herself  as well as she could for sneezing \n",
            " there was certainly too much of it in the air \n",
            " even the duchess sneezed occasionally  and as for the baby  it was sneezing and howling alternately without a moment s pause \n",
            " the only things in the kitchen that did not sneeze  were the cook  and a large cat which was sitting on the hearth and grinning from ear to ear \n",
            "  please would you tell me   said alice  a little timidly  for she was not quite sure whether it was good manners for her to speak first   why your cat grins like that    it s a cheshire cat   said the duchess   and that s why \n",
            " pig   she said the last word with such sudden violence that alice quite jumped  but she saw in another moment that it was addressed to the baby  and not to her  so she took courage  and went on again    i didn t know that cheshire cats always grinned  in fact  i didn t know that cats  could  grin    they all can   said the duchess   and most of  em do    i don t know of any that do   alice said very politely  feeling quite pleased to have got into a conversation \n",
            "  you don t know much   said the duchess   and that s a fact   alice did not at all like the tone of this remark  and thought it would be as well to introduce some other subject of conversation \n",
            " while she was trying to fix on one  the cook took the cauldron of soup off the fire  and at once set to work throwing everything within her reach at the duchess and the baby the fire irons came first  then followed a shower of saucepans  plates  and dishes \n",
            " the duchess took no notice of them even when they hit her  and the baby was howling so much already  that it was quite impossible to say whether the blows hurt it or not \n",
            "  oh   please  mind what you re doing   cried alice  jumping up and down in an agony of terror \n",
            "  oh  there goes his  precious  nose   as an unusually large saucepan flew close by it  and very nearly carried it off \n",
            "  if everybody minded their own business   the duchess said in a hoarse growl   the world would go round a deal faster than it does    which would  not  be an advantage   said alice  who felt very glad to get an opportunity of showing off a little of her knowledge \n",
            "  just think of what work it would make with the day and night \n",
            " you see the earth takes twenty four hours to turn round on its axis    talking of axes   said the duchess   chop off her head   alice glanced rather anxiously at the cook  to see if she meant to take the hint  but the cook was busily stirring the soup  and seemed not to be listening  so she went on again   twenty four hours  i  think   or is it twelve \n",
            " i    oh  don t bother  me    said the duchess   i never could abide figures   and with that she began nursing her child again  singing a sort of lullaby to it as she did so  and giving it a violent shake at the end of every line   speak roughly to your little boy  and beat him when he sneezes  he only does it to annoy  because he knows it teases   chorus \n",
            "  in which the cook and the baby joined    wow \n",
            " wow \n",
            " wow   while the duchess sang the second verse of the song  she kept tossing the baby violently up and down  and the poor little thing howled so  that alice could hardly hear the words    i speak severely to my boy  i beat him when he sneezes  for he can thoroughly enjoy the pepper when he pleases   chorus \n",
            "  wow \n",
            " wow \n",
            " wow    here \n",
            " you may nurse it a bit  if you like   the duchess said to alice  flinging the baby at her as she spoke \n",
            "  i must go and get ready to play croquet with the queen   and she hurried out of the room \n",
            " the cook threw a frying pan after her as she went out  but it just missed her \n",
            " alice caught the baby with some difficulty  as it was a queer shaped little creature  and held out its arms and legs in all directions   just like a star fish   thought alice \n",
            " the poor little thing was snorting like a steam engine when she caught it  and kept doubling itself up and straightening itself out again  so that altogether  for the first minute or two  it was as much as she could do to hold it \n",
            " as soon as she had made out the proper way of nursing it   which was to twist it up into a sort of knot  and then keep tight hold of its right ear and left foot  so as to prevent its undoing itself   she carried it out into the open air \n",
            "  if i don t take this child away with me   thought alice   they re sure to kill it in a day or two  wouldn t it be murder to leave it behind   she said the last words out loud  and the little thing grunted in reply  it had left off sneezing by this time  \n",
            "  don t grunt   said alice   that s not at all a proper way of expressing yourself   the baby grunted again  and alice looked very anxiously into its face to see what was the matter with it \n",
            " there could be no doubt that it had a  very  turn up nose  much more like a snout than a real nose  also its eyes were getting extremely small for a baby  altogether alice did not like the look of the thing at all \n",
            "  but perhaps it was only sobbing   she thought  and looked into its eyes again  to see if there were any tears \n",
            " no  there were no tears \n",
            "  if you re going to turn into a pig  my dear   said alice  seriously   i ll have nothing more to do with you \n",
            " mind now   the poor little thing sobbed again  or grunted  it was impossible to say which   and they went on for some while in silence \n",
            " alice was just beginning to think to herself   now  what am i to do with this creature when i get it home   when it grunted again  so violently  that she looked down into its face in some alarm \n",
            " this time there could be  no  mistake about it  it was neither more nor less than a pig  and she felt that it would be quite absurd for her to carry it further \n",
            " so she set the little creature down  and felt quite relieved to see it trot away quietly into the wood \n",
            "  if it had grown up   she said to herself   it would have made a dreadfully ugly child  but it makes rather a handsome pig  i think   and she began thinking over other children she knew  who might do very well as pigs  and was just saying to herself   if one only knew the right way to change them   when she was a little startled by seeing the cheshire cat sitting on a bough of a tree a few yards off \n",
            " the cat only grinned when it saw alice \n",
            " it looked good natured  she thought  still it had  very  long claws and a great many teeth  so she felt that it ought to be treated with respect \n",
            "  cheshire puss   she began  rather timidly  as she did not at all know whether it would like the name  however  it only grinned a little wider \n",
            "  come  it s pleased so far   thought alice  and she went on \n",
            "  would you tell me  please  which way i ought to go from here    that depends a good deal on where you want to get to   said the cat \n",
            "  i don t much care where   said alice \n",
            "  then it doesn t matter which way you go   said the cat \n",
            "   so long as i get  somewhere    alice added as an explanation \n",
            "  oh  you re sure to do that   said the cat   if you only walk long enough   alice felt that this could not be denied  so she tried another question \n",
            "  what sort of people live about here    in  that  direction   the cat said  waving its right paw round   lives a hatter  and in  that  direction   waving the other paw   lives a march hare \n",
            " visit either you like  they re both mad    but i don t want to go among mad people   alice remarked \n",
            "  oh  you can t help that   said the cat   we re all mad here \n",
            " i m mad \n",
            " you re mad    how do you know i m mad   said alice \n",
            "  you must be   said the cat   or you wouldn t have come here   alice didn t think that proved it at all  however  she went on  and how do you know that you re mad    to begin with   said the cat   a dog s not mad \n",
            " you grant that    i suppose so   said alice \n",
            "  well  then   the cat went on   you see  a dog growls when it s angry  and wags its tail when it s pleased \n",
            " now  i  growl when i m pleased  and wag my tail when i m angry \n",
            " therefore i m mad     i  call it purring  not growling   said alice \n",
            "  call it what you like   said the cat \n",
            "  do you play croquet with the queen to day    i should like it very much   said alice   but i haven t been invited yet    you ll see me there   said the cat  and vanished \n",
            " alice was not much surprised at this  she was getting so used to queer things happening \n",
            " while she was looking at the place where it had been  it suddenly appeared again \n",
            "  by the bye  what became of the baby   said the cat \n",
            "  i d nearly forgotten to ask    it turned into a pig   alice quietly said  just as if it had come back in a natural way \n",
            "  i thought it would   said the cat  and vanished again \n",
            " alice waited a little  half expecting to see it again  but it did not appear  and after a minute or two she walked on in the direction in which the march hare was said to live \n",
            "  i ve seen hatters before   she said to herself   the march hare will be much the most interesting  and perhaps as this is may it won t be raving mad at least not so mad as it was in march   as she said this  she looked up  and there was the cat again  sitting on a branch of a tree \n",
            "  did you say pig  or fig   said the cat \n",
            "  i said pig   replied alice   and i wish you wouldn t keep appearing and vanishing so suddenly  you make one quite giddy    all right   said the cat  and this time it vanished quite slowly  beginning with the end of the tail  and ending with the grin  which remained some time after the rest of it had gone \n",
            "  well \n",
            " i ve often seen a cat without a grin   thought alice   but a grin without a cat \n",
            " it s the most curious thing i ever saw in my life   she had not gone much farther before she came in sight of the house of the march hare  she thought it must be the right house  because the chimneys were shaped like ears and the roof was thatched with fur \n",
            " it was so large a house  that she did not like to go nearer till she had nibbled some more of the lefthand bit of mushroom  and raised herself to about two feet high  even then she walked up towards it rather timidly  saying to herself  suppose it should be raving mad after all \n",
            " i almost wish i d gone to see the hatter instead   chapter vii \n",
            " a mad tea party there was a table set out under a tree in front of the house  and the march hare and the hatter were having tea at it  a dormouse was sitting between them  fast asleep  and the other two were using it as a cushion  resting their elbows on it  and talking over its head \n",
            "  very uncomfortable for the dormouse   thought alice   only  as it s asleep  i suppose it doesn t mind   the table was a large one  but the three were all crowded together at one corner of it   no room \n",
            " no room   they cried out when they saw alice coming \n",
            "  there s  plenty  of room   said alice indignantly  and she sat down in a large arm chair at one end of the table \n",
            "  have some wine   the march hare said in an encouraging tone \n",
            " alice looked all round the table  but there was nothing on it but tea \n",
            "  i don t see any wine   she remarked \n",
            "  there isn t any   said the march hare \n",
            "  then it wasn t very civil of you to offer it   said alice angrily \n",
            "  it wasn t very civil of you to sit down without being invited   said the march hare \n",
            "  i didn t know it was  your  table   said alice   it s laid for a great many more than three    your hair wants cutting   said the hatter \n",
            " he had been looking at alice for some time with great curiosity  and this was his first speech \n",
            "  you should learn not to make personal remarks   alice said with some severity   it s very rude   the hatter opened his eyes very wide on hearing this  but all he  said  was   why is a raven like a writing desk    come  we shall have some fun now   thought alice \n",
            "  i m glad they ve begun asking riddles  i believe i can guess that   she added aloud \n",
            "  do you mean that you think you can find out the answer to it   said the march hare \n",
            "  exactly so   said alice \n",
            "  then you should say what you mean   the march hare went on \n",
            "  i do   alice hastily replied   at least at least i mean what i say that s the same thing  you know    not the same thing a bit   said the hatter \n",
            "  you might just as well say that  i see what i eat  is the same thing as  i eat what i see     you might just as well say   added the march hare   that  i like what i get  is the same thing as  i get what i like     you might just as well say   added the dormouse  who seemed to be talking in his sleep   that  i breathe when i sleep  is the same thing as  i sleep when i breathe     it  is  the same thing with you   said the hatter  and here the conversation dropped  and the party sat silent for a minute  while alice thought over all she could remember about ravens and writing desks  which wasn t much \n",
            " the hatter was the first to break the silence \n",
            "  what day of the month is it   he said  turning to alice  he had taken his watch out of his pocket  and was looking at it uneasily  shaking it every now and then  and holding it to his ear \n",
            " alice considered a little  and then said  the fourth    two days wrong   sighed the hatter \n",
            "  i told you butter wouldn t suit the works   he added looking angrily at the march hare \n",
            "  it was the  best  butter   the march hare meekly replied \n",
            "  yes  but some crumbs must have got in as well   the hatter grumbled   you shouldn t have put it in with the bread knife   the march hare took the watch and looked at it gloomily  then he dipped it into his cup of tea  and looked at it again  but he could think of nothing better to say than his first remark   it was the  best  butter  you know   alice had been looking over his shoulder with some curiosity \n",
            "  what a funny watch   she remarked \n",
            "  it tells the day of the month  and doesn t tell what o clock it is    why should it   muttered the hatter \n",
            "  does  your  watch tell you what year it is    of course not   alice replied very readily   but that s because it stays the same year for such a long time together    which is just the case with  mine    said the hatter \n",
            " alice felt dreadfully puzzled \n",
            " the hatter s remark seemed to have no sort of meaning in it  and yet it was certainly english \n",
            "  i don t quite understand you   she said  as politely as she could \n",
            "  the dormouse is asleep again   said the hatter  and he poured a little hot tea upon its nose \n",
            " the dormouse shook its head impatiently  and said  without opening its eyes   of course  of course  just what i was going to remark myself    have you guessed the riddle yet   the hatter said  turning to alice again \n",
            "  no  i give it up   alice replied   what s the answer    i haven t the slightest idea   said the hatter \n",
            "  nor i   said the march hare \n",
            " alice sighed wearily \n",
            "  i think you might do something better with the time   she said   than waste it in asking riddles that have no answers    if you knew time as well as i do   said the hatter   you wouldn t talk about wasting  it  \n",
            " it s  him     i don t know what you mean   said alice \n",
            "  of course you don t   the hatter said  tossing his head contemptuously \n",
            "  i dare say you never even spoke to time    perhaps not   alice cautiously replied   but i know i have to beat time when i learn music    ah \n",
            " that accounts for it   said the hatter \n",
            "  he won t stand beating \n",
            " now  if you only kept on good terms with him  he d do almost anything you liked with the clock \n",
            " for instance  suppose it were nine o clock in the morning  just time to begin lessons  you d only have to whisper a hint to time  and round goes the clock in a twinkling \n",
            " half past one  time for dinner     i only wish it was   the march hare said to itself in a whisper  \n",
            "  that would be grand  certainly   said alice thoughtfully   but then i shouldn t be hungry for it  you know    not at first  perhaps   said the hatter   but you could keep it to half past one as long as you liked    is that the way  you  manage   alice asked \n",
            " the hatter shook his head mournfully \n",
            "  not i   he replied \n",
            "  we quarrelled last march just before  he  went mad  you know    pointing with his tea spoon at the march hare     it was at the great concert given by the queen of hearts  and i had to sing  twinkle  twinkle  little bat \n",
            " how i wonder what you re at   you know the song  perhaps    i ve heard something like it   said alice \n",
            "  it goes on  you know   the hatter continued   in this way    up above the world you fly  like a tea tray in the sky \n",
            " twinkle  twinkle    here the dormouse shook itself  and began singing in its sleep   twinkle  twinkle  twinkle  twinkle    and went on so long that they had to pinch it to make it stop \n",
            "  well  i d hardly finished the first verse   said the hatter   when the queen jumped up and bawled out   he s murdering the time \n",
            " off with his head     how dreadfully savage   exclaimed alice \n",
            "  and ever since that   the hatter went on in a mournful tone   he won t do a thing i ask \n",
            " it s always six o clock now   a bright idea came into alice s head \n",
            "  is that the reason so many tea things are put out here   she asked \n",
            "  yes  that s it   said the hatter with a sigh   it s always tea time  and we ve no time to wash the things between whiles    then you keep moving round  i suppose   said alice \n",
            "  exactly so   said the hatter   as the things get used up    but what happens when you come to the beginning again   alice ventured to ask \n",
            "  suppose we change the subject   the march hare interrupted  yawning \n",
            "  i m getting tired of this \n",
            " i vote the young lady tells us a story    i m afraid i don t know one   said alice  rather alarmed at the proposal \n",
            "  then the dormouse shall   they both cried \n",
            "  wake up  dormouse   and they pinched it on both sides at once \n",
            " the dormouse slowly opened his eyes \n",
            "  i wasn t asleep   he said in a hoarse  feeble voice   i heard every word you fellows were saying    tell us a story   said the march hare \n",
            "  yes  please do   pleaded alice \n",
            "  and be quick about it   added the hatter   or you ll be asleep again before it s done    once upon a time there were three little sisters   the dormouse began in a great hurry   and their names were elsie  lacie  and tillie  and they lived at the bottom of a well    what did they live on   said alice  who always took a great interest in questions of eating and drinking \n",
            "  they lived on treacle   said the dormouse  after thinking a minute or two \n",
            "  they couldn t have done that  you know   alice gently remarked   they d have been ill    so they were   said the dormouse    very  ill   alice tried to fancy to herself what such an extraordinary ways of living would be like  but it puzzled her too much  so she went on   but why did they live at the bottom of a well    take some more tea   the march hare said to alice  very earnestly \n",
            "  i ve had nothing yet   alice replied in an offended tone   so i can t take more    you mean you can t take  less    said the hatter   it s very easy to take  more  than nothing    nobody asked  your  opinion   said alice \n",
            "  who s making personal remarks now   the hatter asked triumphantly \n",
            " alice did not quite know what to say to this  so she helped herself to some tea and bread and butter  and then turned to the dormouse  and repeated her question \n",
            "  why did they live at the bottom of a well   the dormouse again took a minute or two to think about it  and then said   it was a treacle well    there s no such thing   alice was beginning very angrily  but the hatter and the march hare went  sh \n",
            " sh   and the dormouse sulkily remarked   if you can t be civil  you d better finish the story for yourself    no  please go on   alice said very humbly   i won t interrupt again \n",
            " i dare say there may be  one     one  indeed   said the dormouse indignantly \n",
            " however  he consented to go on \n",
            "  and so these three little sisters they were learning to draw  you know    what did they draw   said alice  quite forgetting her promise \n",
            "  treacle   said the dormouse  without considering at all this time \n",
            "  i want a clean cup   interrupted the hatter   let s all move one place on   he moved on as he spoke  and the dormouse followed him  the march hare moved into the dormouse s place  and alice rather unwillingly took the place of the march hare \n",
            " the hatter was the only one who got any advantage from the change  and alice was a good deal worse off than before  as the march hare had just upset the milk jug into his plate \n",
            " alice did not wish to offend the dormouse again  so she began very cautiously   but i don t understand \n",
            " where did they draw the treacle from    you can draw water out of a water well   said the hatter   so i should think you could draw treacle out of a treacle well eh  stupid    but they were  in  the well   alice said to the dormouse  not choosing to notice this last remark \n",
            "  of course they were   said the dormouse    well in   this answer so confused poor alice  that she let the dormouse go on for some time without interrupting it \n",
            "  they were learning to draw   the dormouse went on  yawning and rubbing its eyes  for it was getting very sleepy   and they drew all manner of things everything that begins with an m    why with an m   said alice \n",
            "  why not   said the march hare \n",
            " alice was silent \n",
            " the dormouse had closed its eyes by this time  and was going off into a doze  but  on being pinched by the hatter  it woke up again with a little shriek  and went on    that begins with an m  such as mouse traps  and the moon  and memory  and muchness you know you say things are  much of a muchness  did you ever see such a thing as a drawing of a muchness    really  now you ask me   said alice  very much confused   i don t think    then you shouldn t talk   said the hatter \n",
            " this piece of rudeness was more than alice could bear  she got up in great disgust  and walked off  the dormouse fell asleep instantly  and neither of the others took the least notice of her going  though she looked back once or twice  half hoping that they would call after her  the last time she saw them  they were trying to put the dormouse into the teapot \n",
            "  at any rate i ll never go  there  again   said alice as she picked her way through the wood \n",
            "  it s the stupidest tea party i ever was at in all my life   just as she said this  she noticed that one of the trees had a door leading right into it \n",
            "  that s very curious   she thought \n",
            "  but everything s curious today \n",
            " i think i may as well go in at once   and in she went \n",
            " once more she found herself in the long hall  and close to the little glass table \n",
            "  now  i ll manage better this time   she said to herself  and began by taking the little golden key  and unlocking the door that led into the garden \n",
            " then she went to work nibbling at the mushroom  she had kept a piece of it in her pocket  till she was about a foot high  then she walked down the little passage  and  then  she found herself at last in the beautiful garden  among the bright flower beds and the cool fountains \n",
            " chapter viii \n",
            " the queen s croquet ground a large rose tree stood near the entrance of the garden  the roses growing on it were white  but there were three gardeners at it  busily painting them red \n",
            " alice thought this a very curious thing  and she went nearer to watch them  and just as she came up to them she heard one of them say   look out now  five \n",
            " don t go splashing paint over me like that    i couldn t help it   said five  in a sulky tone   seven jogged my elbow   on which seven looked up and said   that s right  five \n",
            " always lay the blame on others     you d  better not talk   said five \n",
            "  i heard the queen say only yesterday you deserved to be beheaded    what for   said the one who had spoken first \n",
            "  that s none of  your  business  two   said seven \n",
            "  yes  it  is  his business   said five   and i ll tell him it was for bringing the cook tulip roots instead of onions   seven flung down his brush  and had just begun  well  of all the unjust things   when his eye chanced to fall upon alice  as she stood watching them  and he checked himself suddenly  the others looked round also  and all of them bowed low \n",
            "  would you tell me   said alice  a little timidly   why you are painting those roses   five and seven said nothing  but looked at two \n",
            " two began in a low voice   why the fact is  you see  miss  this here ought to have been a  red  rose tree  and we put a white one in by mistake  and if the queen was to find it out  we should all have our heads cut off  you know \n",
            " so you see  miss  we re doing our best  afore she comes  to   at this moment five  who had been anxiously looking across the garden  called out  the queen \n",
            " the queen   and the three gardeners instantly threw themselves flat upon their faces \n",
            " there was a sound of many footsteps  and alice looked round  eager to see the queen \n",
            " first came ten soldiers carrying clubs  these were all shaped like the three gardeners  oblong and flat  with their hands and feet at the corners  next the ten courtiers  these were ornamented all over with diamonds  and walked two and two  as the soldiers did \n",
            " after these came the royal children  there were ten of them  and the little dears came jumping merrily along hand in hand  in couples  they were all ornamented with hearts \n",
            " next came the guests  mostly kings and queens  and among them alice recognised the white rabbit  it was talking in a hurried nervous manner  smiling at everything that was said  and went by without noticing her \n",
            " then followed the knave of hearts  carrying the king s crown on a crimson velvet cushion  and  last of all this grand procession  came the king and queen of hearts \n",
            " alice was rather doubtful whether she ought not to lie down on her face like the three gardeners  but she could not remember ever having heard of such a rule at processions   and besides  what would be the use of a procession   thought she   if people had all to lie down upon their faces  so that they couldn t see it   so she stood still where she was  and waited \n",
            " when the procession came opposite to alice  they all stopped and looked at her  and the queen said severely  who is this   she said it to the knave of hearts  who only bowed and smiled in reply \n",
            "  idiot   said the queen  tossing her head impatiently  and  turning to alice  she went on   what s your name  child    my name is alice  so please your majesty   said alice very politely  but she added  to herself   why  they re only a pack of cards  after all \n",
            " i needn t be afraid of them    and who are  these    said the queen  pointing to the three gardeners who were lying round the rose tree  for  you see  as they were lying on their faces  and the pattern on their backs was the same as the rest of the pack  she could not tell whether they were gardeners  or soldiers  or courtiers  or three of her own children \n",
            "  how should  i  know   said alice  surprised at her own courage \n",
            "  it s no business of  mine    the queen turned crimson with fury  and  after glaring at her for a moment like a wild beast  screamed  off with her head \n",
            " off    nonsense   said alice  very loudly and decidedly  and the queen was silent \n",
            " the king laid his hand upon her arm  and timidly said  consider  my dear  she is only a child   the queen turned angrily away from him  and said to the knave  turn them over   the knave did so  very carefully  with one foot \n",
            "  get up   said the queen  in a shrill  loud voice  and the three gardeners instantly jumped up  and began bowing to the king  the queen  the royal children  and everybody else \n",
            "  leave off that   screamed the queen \n",
            "  you make me giddy   and then  turning to the rose tree  she went on   what  have  you been doing here    may it please your majesty   said two  in a very humble tone  going down on one knee as he spoke   we were trying     i  see   said the queen  who had meanwhile been examining the roses \n",
            "  off with their heads   and the procession moved on  three of the soldiers remaining behind to execute the unfortunate gardeners  who ran to alice for protection \n",
            "  you shan t be beheaded   said alice  and she put them into a large flower pot that stood near \n",
            " the three soldiers wandered about for a minute or two  looking for them  and then quietly marched off after the others \n",
            "  are their heads off   shouted the queen \n",
            "  their heads are gone  if it please your majesty   the soldiers shouted in reply \n",
            "  that s right   shouted the queen \n",
            "  can you play croquet   the soldiers were silent  and looked at alice  as the question was evidently meant for her \n",
            "  yes   shouted alice \n",
            "  come on  then   roared the queen  and alice joined the procession  wondering very much what would happen next \n",
            "  it s it s a very fine day   said a timid voice at her side \n",
            " she was walking by the white rabbit  who was peeping anxiously into her face \n",
            "  very   said alice    where s the duchess    hush \n",
            " hush   said the rabbit in a low  hurried tone \n",
            " he looked anxiously over his shoulder as he spoke  and then raised himself upon tiptoe  put his mouth close to her ear  and whispered  she s under sentence of execution    what for   said alice \n",
            "  did you say  what a pity     the rabbit asked \n",
            "  no  i didn t   said alice   i don t think it s at all a pity \n",
            " i said  what for     she boxed the queen s ears   the rabbit began \n",
            " alice gave a little scream of laughter \n",
            "  oh  hush   the rabbit whispered in a frightened tone \n",
            "  the queen will hear you \n",
            " you see  she came rather late  and the queen said    get to your places   shouted the queen in a voice of thunder  and people began running about in all directions  tumbling up against each other  however  they got settled down in a minute or two  and the game began \n",
            " alice thought she had never seen such a curious croquet ground in her life  it was all ridges and furrows  the balls were live hedgehogs  the mallets live flamingoes  and the soldiers had to double themselves up and to stand on their hands and feet  to make the arches \n",
            " the chief difficulty alice found at first was in managing her flamingo  she succeeded in getting its body tucked away  comfortably enough  under her arm  with its legs hanging down  but generally  just as she had got its neck nicely straightened out  and was going to give the hedgehog a blow with its head  it  would  twist itself round and look up in her face  with such a puzzled expression that she could not help bursting out laughing  and when she had got its head down  and was going to begin again  it was very provoking to find that the hedgehog had unrolled itself  and was in the act of crawling away  besides all this  there was generally a ridge or furrow in the way wherever she wanted to send the hedgehog to  and  as the doubled up soldiers were always getting up and walking off to other parts of the ground  alice soon came to the conclusion that it was a very difficult game indeed \n",
            " the players all played at once without waiting for turns  quarrelling all the while  and fighting for the hedgehogs  and in a very short time the queen was in a furious passion  and went stamping about  and shouting  off with his head   or  off with her head   about once in a minute \n",
            " alice began to feel very uneasy  to be sure  she had not as yet had any dispute with the queen  but she knew that it might happen any minute   and then   thought she   what would become of me \n",
            " they re dreadfully fond of beheading people here  the great wonder is  that there s any one left alive   she was looking about for some way of escape  and wondering whether she could get away without being seen  when she noticed a curious appearance in the air  it puzzled her very much at first  but  after watching it a minute or two  she made it out to be a grin  and she said to herself  it s the cheshire cat  now i shall have somebody to talk to    how are you getting on   said the cat  as soon as there was mouth enough for it to speak with \n",
            " alice waited till the eyes appeared  and then nodded \n",
            "  it s no use speaking to it   she thought   till its ears have come  or at least one of them   in another minute the whole head appeared  and then alice put down her flamingo  and began an account of the game  feeling very glad she had someone to listen to her \n",
            " the cat seemed to think that there was enough of it now in sight  and no more of it appeared \n",
            "  i don t think they play at all fairly   alice began  in rather a complaining tone   and they all quarrel so dreadfully one can t hear oneself speak and they don t seem to have any rules in particular  at least  if there are  nobody attends to them and you ve no idea how confusing it is all the things being alive  for instance  there s the arch i ve got to go through next walking about at the other end of the ground and i should have croqueted the queen s hedgehog just now  only it ran away when it saw mine coming    how do you like the queen   said the cat in a low voice \n",
            "  not at all   said alice   she s so extremely   just then she noticed that the queen was close behind her  listening  so she went on    likely to win  that it s hardly worth while finishing the game   the queen smiled and passed on \n",
            "  who  are  you talking to   said the king  going up to alice  and looking at the cat s head with great curiosity \n",
            "  it s a friend of mine a cheshire cat   said alice   allow me to introduce it    i don t like the look of it at all   said the king   however  it may kiss my hand if it likes    i d rather not   the cat remarked \n",
            "  don t be impertinent   said the king   and don t look at me like that   he got behind alice as he spoke \n",
            "  a cat may look at a king   said alice \n",
            "  i ve read that in some book  but i don t remember where    well  it must be removed   said the king very decidedly  and he called the queen  who was passing at the moment   my dear \n",
            " i wish you would have this cat removed   the queen had only one way of settling all difficulties  great or small \n",
            "  off with his head   she said  without even looking round \n",
            "  i ll fetch the executioner myself   said the king eagerly  and he hurried off \n",
            " alice thought she might as well go back  and see how the game was going on  as she heard the queen s voice in the distance  screaming with passion \n",
            " she had already heard her sentence three of the players to be executed for having missed their turns  and she did not like the look of things at all  as the game was in such confusion that she never knew whether it was her turn or not \n",
            " so she went in search of her hedgehog \n",
            " the hedgehog was engaged in a fight with another hedgehog  which seemed to alice an excellent opportunity for croqueting one of them with the other  the only difficulty was  that her flamingo was gone across to the other side of the garden  where alice could see it trying in a helpless sort of way to fly up into a tree \n",
            " by the time she had caught the flamingo and brought it back  the fight was over  and both the hedgehogs were out of sight   but it doesn t matter much   thought alice   as all the arches are gone from this side of the ground   so she tucked it away under her arm  that it might not escape again  and went back for a little more conversation with her friend \n",
            " when she got back to the cheshire cat  she was surprised to find quite a large crowd collected round it  there was a dispute going on between the executioner  the king  and the queen  who were all talking at once  while all the rest were quite silent  and looked very uncomfortable \n",
            " the moment alice appeared  she was appealed to by all three to settle the question  and they repeated their arguments to her  though  as they all spoke at once  she found it very hard indeed to make out exactly what they said \n",
            " the executioner s argument was  that you couldn t cut off a head unless there was a body to cut it off from  that he had never had to do such a thing before  and he wasn t going to begin at  his  time of life \n",
            " the king s argument was  that anything that had a head could be beheaded  and that you weren t to talk nonsense \n",
            " the queen s argument was  that if something wasn t done about it in less than no time she d have everybody executed  all round \n",
            "  it was this last remark that had made the whole party look so grave and anxious  \n",
            " alice could think of nothing else to say but  it belongs to the duchess  you d better ask  her  about it    she s in prison   the queen said to the executioner   fetch her here   and the executioner went off like an arrow \n",
            " the cat s head began fading away the moment he was gone  and  by the time he had come back with the duchess  it had entirely disappeared  so the king and the executioner ran wildly up and down looking for it  while the rest of the party went back to the game \n",
            " chapter ix \n",
            " the mock turtle s story  you can t think how glad i am to see you again  you dear old thing   said the duchess  as she tucked her arm affectionately into alice s  and they walked off together \n",
            " alice was very glad to find her in such a pleasant temper  and thought to herself that perhaps it was only the pepper that had made her so savage when they met in the kitchen \n",
            "  when  i m  a duchess   she said to herself   not in a very hopeful tone though    i won t have any pepper in my kitchen  at all  \n",
            " soup does very well without maybe it s always pepper that makes people hot tempered   she went on  very much pleased at having found out a new kind of rule   and vinegar that makes them sour and camomile that makes them bitter and and barley sugar and such things that make children sweet tempered \n",
            " i only wish people knew  that   then they wouldn t be so stingy about it  you know   she had quite forgotten the duchess by this time  and was a little startled when she heard her voice close to her ear \n",
            "  you re thinking about something  my dear  and that makes you forget to talk \n",
            " i can t tell you just now what the moral of that is  but i shall remember it in a bit    perhaps it hasn t one   alice ventured to remark \n",
            "  tut  tut  child   said the duchess \n",
            "  everything s got a moral  if only you can find it   and she squeezed herself up closer to alice s side as she spoke \n",
            " alice did not much like keeping so close to her  first  because the duchess was  very  ugly  and secondly  because she was exactly the right height to rest her chin upon alice s shoulder  and it was an uncomfortably sharp chin \n",
            " however  she did not like to be rude  so she bore it as well as she could \n",
            "  the game s going on rather better now   she said  by way of keeping up the conversation a little \n",
            "   tis so   said the duchess   and the moral of that is  oh   tis love   tis love  that makes the world go round     somebody said   alice whispered   that it s done by everybody minding their own business    ah  well \n",
            " it means much the same thing   said the duchess  digging her sharp little chin into alice s shoulder as she added   and the moral of  that  is  take care of the sense  and the sounds will take care of themselves     how fond she is of finding morals in things   alice thought to herself \n",
            "  i dare say you re wondering why i don t put my arm round your waist   the duchess said after a pause   the reason is  that i m doubtful about the temper of your flamingo \n",
            " shall i try the experiment    he might bite   alice cautiously replied  not feeling at all anxious to have the experiment tried \n",
            "  very true   said the duchess   flamingoes and mustard both bite \n",
            " and the moral of that is  birds of a feather flock together     only mustard isn t a bird   alice remarked \n",
            "  right  as usual   said the duchess   what a clear way you have of putting things    it s a mineral  i  think    said alice \n",
            "  of course it is   said the duchess  who seemed ready to agree to everything that alice said   there s a large mustard mine near here \n",
            " and the moral of that is  the more there is of mine  the less there is of yours     oh  i know   exclaimed alice  who had not attended to this last remark   it s a vegetable \n",
            " it doesn t look like one  but it is    i quite agree with you   said the duchess   and the moral of that is  be what you would seem to be  or if you d like it put more simply  never imagine yourself not to be otherwise than what it might appear to others that what you were or might have been was not otherwise than what you had been would have appeared to them to be otherwise     i think i should understand that better   alice said very politely   if i had it written down  but i can t quite follow it as you say it    that s nothing to what i could say if i chose   the duchess replied  in a pleased tone \n",
            "  pray don t trouble yourself to say it any longer than that   said alice \n",
            "  oh  don t talk about trouble   said the duchess \n",
            "  i make you a present of everything i ve said as yet    a cheap sort of present   thought alice \n",
            "  i m glad they don t give birthday presents like that   but she did not venture to say it out loud \n",
            "  thinking again   the duchess asked  with another dig of her sharp little chin \n",
            "  i ve a right to think   said alice sharply  for she was beginning to feel a little worried \n",
            "  just about as much right   said the duchess   as pigs have to fly  and the m   but here  to alice s great surprise  the duchess s voice died away  even in the middle of her favourite word  moral   and the arm that was linked into hers began to tremble \n",
            " alice looked up  and there stood the queen in front of them  with her arms folded  frowning like a thunderstorm \n",
            "  a fine day  your majesty   the duchess began in a low  weak voice \n",
            "  now  i give you fair warning   shouted the queen  stamping on the ground as she spoke   either you or your head must be off  and that in about half no time \n",
            " take your choice   the duchess took her choice  and was gone in a moment \n",
            "  let s go on with the game   the queen said to alice  and alice was too much frightened to say a word  but slowly followed her back to the croquet ground \n",
            " the other guests had taken advantage of the queen s absence  and were resting in the shade  however  the moment they saw her  they hurried back to the game  the queen merely remarking that a moment s delay would cost them their lives \n",
            " all the time they were playing the queen never left off quarrelling with the other players  and shouting  off with his head   or  off with her head   those whom she sentenced were taken into custody by the soldiers  who of course had to leave off being arches to do this  so that by the end of half an hour or so there were no arches left  and all the players  except the king  the queen  and alice  were in custody and under sentence of execution \n",
            " then the queen left off  quite out of breath  and said to alice   have you seen the mock turtle yet    no   said alice \n",
            "  i don t even know what a mock turtle is    it s the thing mock turtle soup is made from   said the queen \n",
            "  i never saw one  or heard of one   said alice \n",
            "  come on  then   said the queen   and he shall tell you his history   as they walked off together  alice heard the king say in a low voice  to the company generally   you are all pardoned    come   that s  a good thing   she said to herself  for she had felt quite unhappy at the number of executions the queen had ordered \n",
            " they very soon came upon a gryphon  lying fast asleep in the sun \n",
            "  if you don t know what a gryphon is  look at the picture  \n",
            "  up  lazy thing   said the queen   and take this young lady to see the mock turtle  and to hear his history \n",
            " i must go back and see after some executions i have ordered   and she walked off  leaving alice alone with the gryphon \n",
            " alice did not quite like the look of the creature  but on the whole she thought it would be quite as safe to stay with it as to go after that savage queen  so she waited \n",
            " the gryphon sat up and rubbed its eyes  then it watched the queen till she was out of sight  then it chuckled \n",
            "  what fun   said the gryphon  half to itself  half to alice \n",
            "  what  is  the fun   said alice \n",
            "  why   she    said the gryphon \n",
            "  it s all her fancy  that  they never executes nobody  you know \n",
            " come on    everybody says  come on   here   thought alice  as she went slowly after it   i never was so ordered about in all my life  never   they had not gone far before they saw the mock turtle in the distance  sitting sad and lonely on a little ledge of rock  and  as they came nearer  alice could hear him sighing as if his heart would break \n",
            " she pitied him deeply \n",
            "  what is his sorrow   she asked the gryphon  and the gryphon answered  very nearly in the same words as before   it s all his fancy  that  he hasn t got no sorrow  you know \n",
            " come on   so they went up to the mock turtle  who looked at them with large eyes full of tears  but said nothing \n",
            "  this here young lady   said the gryphon   she wants for to know your history  she do    i ll tell it her   said the mock turtle in a deep  hollow tone   sit down  both of you  and don t speak a word till i ve finished   so they sat down  and nobody spoke for some minutes \n",
            " alice thought to herself   i don t see how he can  ever  finish  if he doesn t begin   but she waited patiently \n",
            "  once   said the mock turtle at last  with a deep sigh   i was a real turtle   these words were followed by a very long silence  broken only by an occasional exclamation of  hjckrrh   from the gryphon  and the constant heavy sobbing of the mock turtle \n",
            " alice was very nearly getting up and saying   thank you  sir  for your interesting story   but she could not help thinking there  must  be more to come  so she sat still and said nothing \n",
            "  when we were little   the mock turtle went on at last  more calmly  though still sobbing a little now and then   we went to school in the sea \n",
            " the master was an old turtle we used to call him tortoise    why did you call him tortoise  if he wasn t one   alice asked \n",
            "  we called him tortoise because he taught us   said the mock turtle angrily   really you are very dull    you ought to be ashamed of yourself for asking such a simple question   added the gryphon  and then they both sat silent and looked at poor alice  who felt ready to sink into the earth \n",
            " at last the gryphon said to the mock turtle   drive on  old fellow \n",
            " don t be all day about it   and he went on in these words   yes  we went to school in the sea  though you mayn t believe it    i never said i didn t   interrupted alice \n",
            "  you did   said the mock turtle \n",
            "  hold your tongue   added the gryphon  before alice could speak again \n",
            " the mock turtle went on \n",
            "  we had the best of educations in fact  we went to school every day     i ve  been to a day school  too   said alice   you needn t be so proud as all that    with extras   asked the mock turtle a little anxiously \n",
            "  yes   said alice   we learned french and music    and washing   said the mock turtle \n",
            "  certainly not   said alice indignantly \n",
            "  ah \n",
            " then yours wasn t a really good school   said the mock turtle in a tone of great relief \n",
            "  now at  ours  they had at the end of the bill   french  music   and washing  extra     you couldn t have wanted it much   said alice   living at the bottom of the sea    i couldn t afford to learn it   said the mock turtle with a sigh \n",
            "  i only took the regular course    what was that   inquired alice \n",
            "  reeling and writhing  of course  to begin with   the mock turtle replied   and then the different branches of arithmetic ambition  distraction  uglification  and derision    i never heard of  uglification    alice ventured to say \n",
            "  what is it   the gryphon lifted up both its paws in surprise \n",
            "  what \n",
            " never heard of uglifying   it exclaimed \n",
            "  you know what to beautify is  i suppose    yes   said alice doubtfully   it means to make anything prettier    well  then   the gryphon went on   if you don t know what to uglify is  you  are  a simpleton   alice did not feel encouraged to ask any more questions about it  so she turned to the mock turtle  and said  what else had you to learn    well  there was mystery   the mock turtle replied  counting off the subjects on his flappers    mystery  ancient and modern  with seaography  then drawling the drawling master was an old conger eel  that used to come once a week   he  taught us drawling  stretching  and fainting in coils    what was  that  like   said alice \n",
            "  well  i can t show it you myself   the mock turtle said   i m too stiff \n",
            " and the gryphon never learnt it    hadn t time   said the gryphon   i went to the classics master  though \n",
            " he was an old crab   he  was    i never went to him   the mock turtle said with a sigh   he taught laughing and grief  they used to say    so he did  so he did   said the gryphon  sighing in his turn  and both creatures hid their faces in their paws \n",
            "  and how many hours a day did you do lessons   said alice  in a hurry to change the subject \n",
            "  ten hours the first day   said the mock turtle   nine the next  and so on    what a curious plan   exclaimed alice \n",
            "  that s the reason they re called lessons   the gryphon remarked   because they lessen from day to day   this was quite a new idea to alice  and she thought it over a little before she made her next remark \n",
            "  then the eleventh day must have been a holiday    of course it was   said the mock turtle \n",
            "  and how did you manage on the twelfth   alice went on eagerly \n",
            "  that s enough about lessons   the gryphon interrupted in a very decided tone   tell her something about the games now   chapter x \n",
            " the lobster quadrille the mock turtle sighed deeply  and drew the back of one flapper across his eyes \n",
            " he looked at alice  and tried to speak  but for a minute or two sobs choked his voice \n",
            "  same as if he had a bone in his throat   said the gryphon  and it set to work shaking him and punching him in the back \n",
            " at last the mock turtle recovered his voice  and  with tears running down his cheeks  he went on again    you may not have lived much under the sea     i haven t   said alice   and perhaps you were never even introduced to a lobster    alice began to say  i once tasted   but checked herself hastily  and said  no  never     so you can have no idea what a delightful thing a lobster quadrille is    no  indeed   said alice \n",
            "  what sort of a dance is it    why   said the gryphon   you first form into a line along the sea shore    two lines   cried the mock turtle \n",
            "  seals  turtles  salmon  and so on  then  when you ve cleared all the jelly fish out of the way     that  generally takes some time   interrupted the gryphon \n",
            "   you advance twice    each with a lobster as a partner   cried the gryphon \n",
            "  of course   the mock turtle said   advance twice  set to partners     change lobsters  and retire in same order   continued the gryphon \n",
            "  then  you know   the mock turtle went on   you throw the    the lobsters   shouted the gryphon  with a bound into the air \n",
            "   as far out to sea as you can    swim after them   screamed the gryphon \n",
            "  turn a somersault in the sea   cried the mock turtle  capering wildly about \n",
            "  change lobsters again   yelled the gryphon at the top of its voice \n",
            "  back to land again  and that s all the first figure   said the mock turtle  suddenly dropping his voice  and the two creatures  who had been jumping about like mad things all this time  sat down again very sadly and quietly  and looked at alice \n",
            "  it must be a very pretty dance   said alice timidly \n",
            "  would you like to see a little of it   said the mock turtle \n",
            "  very much indeed   said alice \n",
            "  come  let s try the first figure   said the mock turtle to the gryphon \n",
            "  we can do without lobsters  you know \n",
            " which shall sing    oh   you  sing   said the gryphon \n",
            "  i ve forgotten the words   so they began solemnly dancing round and round alice  every now and then treading on her toes when they passed too close  and waving their forepaws to mark the time  while the mock turtle sang this  very slowly and sadly    will you walk a little faster   said a whiting to a snail \n",
            "  there s a porpoise close behind us  and he s treading on my tail \n",
            " see how eagerly the lobsters and the turtles all advance \n",
            " they are waiting on the shingle will you come and join the dance \n",
            " will you  won t you  will you  won t you  will you join the dance \n",
            " will you  won t you  will you  won t you  won t you join the dance \n",
            "  you can really have no notion how delightful it will be when they take us up and throw us  with the lobsters  out to sea   but the snail replied  too far  too far   and gave a look askance  said he thanked the whiting kindly  but he would not join the dance \n",
            " would not  could not  would not  could not  would not join the dance \n",
            " would not  could not  would not  could not  could not join the dance \n",
            "  what matters it how far we go   his scaly friend replied \n",
            "  there is another shore  you know  upon the other side \n",
            " the further off from england the nearer is to france  then turn not pale  beloved snail  but come and join the dance \n",
            " will you  won t you  will you  won t you  will you join the dance \n",
            " will you  won t you  will you  won t you  won t you join the dance    thank you  it s a very interesting dance to watch   said alice  feeling very glad that it was over at last   and i do so like that curious song about the whiting    oh  as to the whiting   said the mock turtle   they you ve seen them  of course    yes   said alice   i ve often seen them at dinn   she checked herself hastily \n",
            "  i don t know where dinn may be   said the mock turtle   but if you ve seen them so often  of course you know what they re like    i believe so   alice replied thoughtfully \n",
            "  they have their tails in their mouths and they re all over crumbs    you re wrong about the crumbs   said the mock turtle   crumbs would all wash off in the sea \n",
            " but they  have  their tails in their mouths  and the reason is   here the mock turtle yawned and shut his eyes   tell her about the reason and all that   he said to the gryphon \n",
            "  the reason is   said the gryphon   that they  would  go with the lobsters to the dance \n",
            " so they got thrown out to sea \n",
            " so they had to fall a long way \n",
            " so they got their tails fast in their mouths \n",
            " so they couldn t get them out again \n",
            " that s all    thank you   said alice   it s very interesting \n",
            " i never knew so much about a whiting before    i can tell you more than that  if you like   said the gryphon \n",
            "  do you know why it s called a whiting    i never thought about it   said alice \n",
            "  why     it does the boots and shoes    the gryphon replied very solemnly \n",
            " alice was thoroughly puzzled \n",
            "  does the boots and shoes   she repeated in a wondering tone \n",
            "  why  what are  your  shoes done with   said the gryphon \n",
            "  i mean  what makes them so shiny   alice looked down at them  and considered a little before she gave her answer \n",
            "  they re done with blacking  i believe    boots and shoes under the sea   the gryphon went on in a deep voice   are done with a whiting \n",
            " now you know    and what are they made of   alice asked in a tone of great curiosity \n",
            "  soles and eels  of course   the gryphon replied rather impatiently   any shrimp could have told you that    if i d been the whiting   said alice  whose thoughts were still running on the song   i d have said to the porpoise   keep back  please  we don t want  you  with us     they were obliged to have him with them   the mock turtle said   no wise fish would go anywhere without a porpoise    wouldn t it really   said alice in a tone of great surprise \n",
            "  of course not   said the mock turtle   why  if a fish came to  me   and told me he was going a journey  i should say  with what porpoise     don t you mean  purpose    said alice \n",
            "  i mean what i say   the mock turtle replied in an offended tone \n",
            " and the gryphon added  come  let s hear some of  your  adventures    i could tell you my adventures beginning from this morning   said alice a little timidly   but it s no use going back to yesterday  because i was a different person then    explain all that   said the mock turtle \n",
            "  no  no \n",
            " the adventures first   said the gryphon in an impatient tone   explanations take such a dreadful time   so alice began telling them her adventures from the time when she first saw the white rabbit \n",
            " she was a little nervous about it just at first  the two creatures got so close to her  one on each side  and opened their eyes and mouths so  very  wide  but she gained courage as she went on \n",
            " her listeners were perfectly quiet till she got to the part about her repeating   you are old  father william    to the caterpillar  and the words all coming different  and then the mock turtle drew a long breath  and said  that s very curious    it s all about as curious as it can be   said the gryphon \n",
            "  it all came different   the mock turtle repeated thoughtfully \n",
            "  i should like to hear her try and repeat something now \n",
            " tell her to begin   he looked at the gryphon as if he thought it had some kind of authority over alice \n",
            "  stand up and repeat    tis the voice of the sluggard     said the gryphon \n",
            "  how the creatures order one about  and make one repeat lessons   thought alice   i might as well be at school at once   however  she got up  and began to repeat it  but her head was so full of the lobster quadrille  that she hardly knew what she was saying  and the words came very queer indeed     tis the voice of the lobster  i heard him declare   you have baked me too brown  i must sugar my hair   as a duck with its eyelids  so he with his nose trims his belt and his buttons  and turns out his toes    later editions continued as follows when the sands are all dry  he is gay as a lark  and will talk in contemptuous tones of the shark  but  when the tide rises and sharks are around  his voice has a timid and tremulous sound  \n",
            "  that s different from what  i  used to say when i was a child   said the gryphon \n",
            "  well  i never heard it before   said the mock turtle   but it sounds uncommon nonsense   alice said nothing  she had sat down with her face in her hands  wondering if anything would  ever  happen in a natural way again \n",
            "  i should like to have it explained   said the mock turtle \n",
            "  she can t explain it   said the gryphon hastily \n",
            "  go on with the next verse    but about his toes   the mock turtle persisted \n",
            "  how  could  he turn them out with his nose  you know    it s the first position in dancing   alice said  but was dreadfully puzzled by the whole thing  and longed to change the subject \n",
            "  go on with the next verse   the gryphon repeated impatiently   it begins   i passed by his garden     alice did not dare to disobey  though she felt sure it would all come wrong  and she went on in a trembling voice    i passed by his garden  and marked  with one eye  how the owl and the panther were sharing a pie    later editions continued as follows the panther took pie crust  and gravy  and meat  while the owl had the dish as its share of the treat \n",
            " when the pie was all finished  the owl  as a boon  was kindly permitted to pocket the spoon  while the panther received knife and fork with a growl  and concluded the banquet    what  is  the use of repeating all that stuff   the mock turtle interrupted   if you don t explain it as you go on \n",
            " it s by far the most confusing thing  i  ever heard    yes  i think you d better leave off   said the gryphon  and alice was only too glad to do so \n",
            "  shall we try another figure of the lobster quadrille   the gryphon went on \n",
            "  or would you like the mock turtle to sing you a song    oh  a song  please  if the mock turtle would be so kind   alice replied  so eagerly that the gryphon said  in a rather offended tone   hm \n",
            " no accounting for tastes \n",
            " sing her   turtle soup    will you  old fellow   the mock turtle sighed deeply  and began  in a voice sometimes choked with sobs  to sing this    beautiful soup  so rich and green  waiting in a hot tureen \n",
            " who for such dainties would not stoop \n",
            " soup of the evening  beautiful soup \n",
            " soup of the evening  beautiful soup \n",
            " beau ootiful soo oop \n",
            " beau ootiful soo oop \n",
            " soo oop of the e e evening  beautiful  beautiful soup \n",
            "  beautiful soup \n",
            " who cares for fish  game  or any other dish \n",
            " who would not give all else for two p ennyworth only of beautiful soup \n",
            " pennyworth only of beautiful soup \n",
            " beau ootiful soo oop \n",
            " beau ootiful soo oop \n",
            " soo oop of the e e evening  beautiful  beauti ful soup    chorus again   cried the gryphon  and the mock turtle had just begun to repeat it  when a cry of  the trial s beginning   was heard in the distance \n",
            "  come on   cried the gryphon  and  taking alice by the hand  it hurried off  without waiting for the end of the song \n",
            "  what trial is it   alice panted as she ran  but the gryphon only answered  come on   and ran the faster  while more and more faintly came  carried on the breeze that followed them  the melancholy words    soo oop of the e e evening  beautiful  beautiful soup   chapter xi \n",
            " who stole the tarts \n",
            " the king and queen of hearts were seated on their throne when they arrived  with a great crowd assembled about them all sorts of little birds and beasts  as well as the whole pack of cards  the knave was standing before them  in chains  with a soldier on each side to guard him  and near the king was the white rabbit  with a trumpet in one hand  and a scroll of parchment in the other \n",
            " in the very middle of the court was a table  with a large dish of tarts upon it  they looked so good  that it made alice quite hungry to look at them  i wish they d get the trial done   she thought   and hand round the refreshments   but there seemed to be no chance of this  so she began looking at everything about her  to pass away the time \n",
            " alice had never been in a court of justice before  but she had read about them in books  and she was quite pleased to find that she knew the name of nearly everything there \n",
            "  that s the judge   she said to herself   because of his great wig   the judge  by the way  was the king  and as he wore his crown over the wig   look at the frontispiece if you want to see how he did it   he did not look at all comfortable  and it was certainly not becoming \n",
            "  and that s the jury box   thought alice   and those twelve creatures    she was obliged to say  creatures   you see  because some of them were animals  and some were birds    i suppose they are the jurors   she said this last word two or three times over to herself  being rather proud of it  for she thought  and rightly too  that very few little girls of her age knew the meaning of it at all \n",
            " however   jury men  would have done just as well \n",
            " the twelve jurors were all writing very busily on slates \n",
            "  what are they doing   alice whispered to the gryphon \n",
            "  they can t have anything to put down yet  before the trial s begun    they re putting down their names   the gryphon whispered in reply   for fear they should forget them before the end of the trial    stupid things   alice began in a loud  indignant voice  but she stopped hastily  for the white rabbit cried out   silence in the court   and the king put on his spectacles and looked anxiously round  to make out who was talking \n",
            " alice could see  as well as if she were looking over their shoulders  that all the jurors were writing down  stupid things   on their slates  and she could even make out that one of them didn t know how to spell  stupid   and that he had to ask his neighbour to tell him \n",
            "  a nice muddle their slates ll be in before the trial s over   thought alice \n",
            " one of the jurors had a pencil that squeaked \n",
            " this of course  alice could  not  stand  and she went round the court and got behind him  and very soon found an opportunity of taking it away \n",
            " she did it so quickly that the poor little juror  it was bill  the lizard  could not make out at all what had become of it  so  after hunting all about for it  he was obliged to write with one finger for the rest of the day  and this was of very little use  as it left no mark on the slate \n",
            "  herald  read the accusation   said the king \n",
            " on this the white rabbit blew three blasts on the trumpet  and then unrolled the parchment scroll  and read as follows    the queen of hearts  she made some tarts  all on a summer day  the knave of hearts  he stole those tarts  and took them quite away    consider your verdict   the king said to the jury \n",
            "  not yet  not yet   the rabbit hastily interrupted \n",
            "  there s a great deal to come before that    call the first witness   said the king  and the white rabbit blew three blasts on the trumpet  and called out   first witness   the first witness was the hatter \n",
            " he came in with a teacup in one hand and a piece of bread and butter in the other \n",
            "  i beg pardon  your majesty   he began   for bringing these in  but i hadn t quite finished my tea when i was sent for    you ought to have finished   said the king \n",
            "  when did you begin   the hatter looked at the march hare  who had followed him into the court  arm in arm with the dormouse \n",
            "  fourteenth of march  i  think  it was   he said \n",
            "  fifteenth   said the march hare \n",
            "  sixteenth   added the dormouse \n",
            "  write that down   the king said to the jury  and the jury eagerly wrote down all three dates on their slates  and then added them up  and reduced the answer to shillings and pence \n",
            "  take off your hat   the king said to the hatter \n",
            "  it isn t mine   said the hatter \n",
            "   stolen    the king exclaimed  turning to the jury  who instantly made a memorandum of the fact \n",
            "  i keep them to sell   the hatter added as an explanation   i ve none of my own \n",
            " i m a hatter   here the queen put on her spectacles  and began staring at the hatter  who turned pale and fidgeted \n",
            "  give your evidence   said the king   and don t be nervous  or i ll have you executed on the spot   this did not seem to encourage the witness at all  he kept shifting from one foot to the other  looking uneasily at the queen  and in his confusion he bit a large piece out of his teacup instead of the bread and butter \n",
            " just at this moment alice felt a very curious sensation  which puzzled her a good deal until she made out what it was  she was beginning to grow larger again  and she thought at first she would get up and leave the court  but on second thoughts she decided to remain where she was as long as there was room for her \n",
            "  i wish you wouldn t squeeze so   said the dormouse  who was sitting next to her \n",
            "  i can hardly breathe    i can t help it   said alice very meekly   i m growing    you ve no right to grow  here    said the dormouse \n",
            "  don t talk nonsense   said alice more boldly   you know you re growing too    yes  but  i  grow at a reasonable pace   said the dormouse   not in that ridiculous fashion   and he got up very sulkily and crossed over to the other side of the court \n",
            " all this time the queen had never left off staring at the hatter  and  just as the dormouse crossed the court  she said to one of the officers of the court   bring me the list of the singers in the last concert   on which the wretched hatter trembled so  that he shook both his shoes off \n",
            "  give your evidence   the king repeated angrily   or i ll have you executed  whether you re nervous or not    i m a poor man  your majesty   the hatter began  in a trembling voice    and i hadn t begun my tea not above a week or so and what with the bread and butter getting so thin and the twinkling of the tea    the twinkling of the  what    said the king \n",
            "  it  began  with the tea   the hatter replied \n",
            "  of course twinkling begins with a t   said the king sharply \n",
            "  do you take me for a dunce \n",
            " go on    i m a poor man   the hatter went on   and most things twinkled after that only the march hare said    i didn t   the march hare interrupted in a great hurry \n",
            "  you did   said the hatter \n",
            "  i deny it   said the march hare \n",
            "  he denies it   said the king   leave out that part    well  at any rate  the dormouse said   the hatter went on  looking anxiously round to see if he would deny it too  but the dormouse denied nothing  being fast asleep \n",
            "  after that   continued the hatter   i cut some more bread and butter    but what did the dormouse say   one of the jury asked \n",
            "  that i can t remember   said the hatter \n",
            "  you  must  remember   remarked the king   or i ll have you executed   the miserable hatter dropped his teacup and bread and butter  and went down on one knee \n",
            "  i m a poor man  your majesty   he began \n",
            "  you re a  very  poor  speaker    said the king \n",
            " here one of the guinea pigs cheered  and was immediately suppressed by the officers of the court \n",
            "  as that is rather a hard word  i will just explain to you how it was done \n",
            " they had a large canvas bag  which tied up at the mouth with strings  into this they slipped the guinea pig  head first  and then sat upon it  \n",
            "  i m glad i ve seen that done   thought alice \n",
            "  i ve so often read in the newspapers  at the end of trials   there was some attempts at applause  which was immediately suppressed by the officers of the court   and i never understood what it meant till now    if that s all you know about it  you may stand down   continued the king \n",
            "  i can t go no lower   said the hatter   i m on the floor  as it is    then you may  sit  down   the king replied \n",
            " here the other guinea pig cheered  and was suppressed \n",
            "  come  that finished the guinea pigs   thought alice \n",
            "  now we shall get on better    i d rather finish my tea   said the hatter  with an anxious look at the queen  who was reading the list of singers \n",
            "  you may go   said the king  and the hatter hurriedly left the court  without even waiting to put his shoes on \n",
            "   and just take his head off outside   the queen added to one of the officers  but the hatter was out of sight before the officer could get to the door \n",
            "  call the next witness   said the king \n",
            " the next witness was the duchess s cook \n",
            " she carried the pepper box in her hand  and alice guessed who it was  even before she got into the court  by the way the people near the door began sneezing all at once \n",
            "  give your evidence   said the king \n",
            "  shan t   said the cook \n",
            " the king looked anxiously at the white rabbit  who said in a low voice   your majesty must cross examine  this  witness    well  if i must  i must   the king said  with a melancholy air  and  after folding his arms and frowning at the cook till his eyes were nearly out of sight  he said in a deep voice   what are tarts made of    pepper  mostly   said the cook \n",
            "  treacle   said a sleepy voice behind her \n",
            "  collar that dormouse   the queen shrieked out \n",
            "  behead that dormouse \n",
            " turn that dormouse out of court \n",
            " suppress him \n",
            " pinch him \n",
            " off with his whiskers   for some minutes the whole court was in confusion  getting the dormouse turned out  and  by the time they had settled down again  the cook had disappeared \n",
            "  never mind   said the king  with an air of great relief \n",
            "  call the next witness   and he added in an undertone to the queen   really  my dear   you  must cross examine the next witness \n",
            " it quite makes my forehead ache   alice watched the white rabbit as he fumbled over the list  feeling very curious to see what the next witness would be like    for they haven t got much evidence  yet    she said to herself \n",
            " imagine her surprise  when the white rabbit read out  at the top of his shrill little voice  the name  alice   chapter xii \n",
            " alice s evidence  here   cried alice  quite forgetting in the flurry of the moment how large she had grown in the last few minutes  and she jumped up in such a hurry that she tipped over the jury box with the edge of her skirt  upsetting all the jurymen on to the heads of the crowd below  and there they lay sprawling about  reminding her very much of a globe of goldfish she had accidentally upset the week before \n",
            "  oh  i  beg  your pardon   she exclaimed in a tone of great dismay  and began picking them up again as quickly as she could  for the accident of the goldfish kept running in her head  and she had a vague sort of idea that they must be collected at once and put back into the jury box  or they would die \n",
            "  the trial cannot proceed   said the king in a very grave voice   until all the jurymen are back in their proper places  all    he repeated with great emphasis  looking hard at alice as he said so \n",
            " alice looked at the jury box  and saw that  in her haste  she had put the lizard in head downwards  and the poor little thing was waving its tail about in a melancholy way  being quite unable to move \n",
            " she soon got it out again  and put it right   not that it signifies much   she said to herself   i should think it would be  quite  as much use in the trial one way up as the other   as soon as the jury had a little recovered from the shock of being upset  and their slates and pencils had been found and handed back to them  they set to work very diligently to write out a history of the accident  all except the lizard  who seemed too much overcome to do anything but sit with its mouth open  gazing up into the roof of the court \n",
            "  what do you know about this business   the king said to alice \n",
            "  nothing   said alice \n",
            "  nothing  whatever    persisted the king \n",
            "  nothing whatever   said alice \n",
            "  that s very important   the king said  turning to the jury \n",
            " they were just beginning to write this down on their slates  when the white rabbit interrupted    un important  your majesty means  of course   he said in a very respectful tone  but frowning and making faces at him as he spoke \n",
            "   un important  of course  i meant   the king hastily said  and went on to himself in an undertone   important unimportant unimportant important   as if he were trying which word sounded best \n",
            " some of the jury wrote it down  important   and some  unimportant   alice could see this  as she was near enough to look over their slates   but it doesn t matter a bit   she thought to herself \n",
            " at this moment the king  who had been for some time busily writing in his note book  cackled out  silence   and read out from his book   rule forty two \n",
            "  all persons more than a mile high to leave the court    everybody looked at alice \n",
            "   i m  not a mile high   said alice \n",
            "  you are   said the king \n",
            "  nearly two miles high   added the queen \n",
            "  well  i shan t go  at any rate   said alice   besides  that s not a regular rule  you invented it just now    it s the oldest rule in the book   said the king \n",
            "  then it ought to be number one   said alice \n",
            " the king turned pale  and shut his note book hastily \n",
            "  consider your verdict   he said to the jury  in a low  trembling voice \n",
            "  there s more evidence to come yet  please your majesty   said the white rabbit  jumping up in a great hurry   this paper has just been picked up    what s in it   said the queen \n",
            "  i haven t opened it yet   said the white rabbit   but it seems to be a letter  written by the prisoner to to somebody    it must have been that   said the king   unless it was written to nobody  which isn t usual  you know    who is it directed to   said one of the jurymen \n",
            "  it isn t directed at all   said the white rabbit   in fact  there s nothing written on the  outside    he unfolded the paper as he spoke  and added  it isn t a letter  after all  it s a set of verses    are they in the prisoner s handwriting   asked another of the jurymen \n",
            "  no  they re not   said the white rabbit   and that s the queerest thing about it    the jury all looked puzzled  \n",
            "  he must have imitated somebody else s hand   said the king \n",
            "  the jury all brightened up again  \n",
            "  please your majesty   said the knave   i didn t write it  and they can t prove i did  there s no name signed at the end    if you didn t sign it   said the king   that only makes the matter worse \n",
            " you  must  have meant some mischief  or else you d have signed your name like an honest man   there was a general clapping of hands at this  it was the first really clever thing the king had said that day \n",
            "  that  proves  his guilt   said the queen \n",
            "  it proves nothing of the sort   said alice \n",
            "  why  you don t even know what they re about    read them   said the king \n",
            " the white rabbit put on his spectacles \n",
            "  where shall i begin  please your majesty   he asked \n",
            "  begin at the beginning   the king said gravely   and go on till you come to the end  then stop   these were the verses the white rabbit read    they told me you had been to her  and mentioned me to him  she gave me a good character  but said i could not swim \n",
            " he sent them word i had not gone  we know it to be true   if she should push the matter on  what would become of you \n",
            " i gave her one  they gave him two  you gave us three or more  they all returned from him to you  though they were mine before \n",
            " if i or she should chance to be involved in this affair  he trusts to you to set them free  exactly as we were \n",
            " my notion was that you had been  before she had this fit  an obstacle that came between him  and ourselves  and it \n",
            " don t let him know she liked them best  for this must ever be a secret  kept from all the rest  between yourself and me    that s the most important piece of evidence we ve heard yet   said the king  rubbing his hands   so now let the jury    if any one of them can explain it   said alice   she had grown so large in the last few minutes that she wasn t a bit afraid of interrupting him    i ll give him sixpence \n",
            "  i  don t believe there s an atom of meaning in it   the jury all wrote down on their slates    she  doesn t believe there s an atom of meaning in it   but none of them attempted to explain the paper \n",
            "  if there s no meaning in it   said the king   that saves a world of trouble  you know  as we needn t try to find any \n",
            " and yet i don t know   he went on  spreading out the verses on his knee  and looking at them with one eye   i seem to see some meaning in them  after all \n",
            "    said i could not swim    you can t swim  can you   he added  turning to the knave \n",
            " the knave shook his head sadly \n",
            "  do i look like it   he said \n",
            "  which he certainly did  not   being made entirely of cardboard  \n",
            "  all right  so far   said the king  and he went on muttering over the verses to himself     we know it to be true    that s the jury  of course   i gave her one  they gave him two    why  that must be what he did with the tarts  you know    but  it goes on   they all returned from him to you     said alice \n",
            "  why  there they are   said the king triumphantly  pointing to the tarts on the table \n",
            "  nothing can be clearer than  that  \n",
            " then again   before she had this fit    you never had fits  my dear  i think   he said to the queen \n",
            "  never   said the queen furiously  throwing an inkstand at the lizard as she spoke \n",
            "  the unfortunate little bill had left off writing on his slate with one finger  as he found it made no mark  but he now hastily began again  using the ink  that was trickling down his face  as long as it lasted  \n",
            "  then the words don t  fit  you   said the king  looking round the court with a smile \n",
            " there was a dead silence \n",
            "  it s a pun   the king added in an offended tone  and everybody laughed   let the jury consider their verdict   the king said  for about the twentieth time that day \n",
            "  no  no   said the queen \n",
            "  sentence first verdict afterwards    stuff and nonsense   said alice loudly \n",
            "  the idea of having the sentence first    hold your tongue   said the queen  turning purple \n",
            "  i won t   said alice \n",
            "  off with her head   the queen shouted at the top of her voice \n",
            " nobody moved \n",
            "  who cares for you   said alice   she had grown to her full size by this time  \n",
            "  you re nothing but a pack of cards   at this the whole pack rose up into the air  and came flying down upon her  she gave a little scream  half of fright and half of anger  and tried to beat them off  and found herself lying on the bank  with her head in the lap of her sister  who was gently brushing away some dead leaves that had fluttered down from the trees upon her face \n",
            "  wake up  alice dear   said her sister   why  what a long sleep you ve had    oh  i ve had such a curious dream   said alice  and she told her sister  as well as she could remember them  all these strange adventures of hers that you have just been reading about  and when she had finished  her sister kissed her  and said   it  was  a curious dream  dear  certainly  but now run in to your tea  it s getting late   so alice got up and ran off  thinking while she ran  as well she might  what a wonderful dream it had been \n",
            " but her sister sat still just as she left her  leaning her head on her hand  watching the setting sun  and thinking of little alice and all her wonderful adventures  till she too began dreaming after a fashion  and this was her dream   first  she dreamed of little alice herself  and once again the tiny hands were clasped upon her knee  and the bright eager eyes were looking up into hers she could hear the very tones of her voice  and see that queer little toss of her head to keep back the wandering hair that  would  always get into her eyes and still as she listened  or seemed to listen  the whole place around her became alive with the strange creatures of her little sister s dream \n",
            " the long grass rustled at her feet as the white rabbit hurried by the frightened mouse splashed his way through the neighbouring pool she could hear the rattle of the teacups as the march hare and his friends shared their never ending meal  and the shrill voice of the queen ordering off her unfortunate guests to execution once more the pig baby was sneezing on the duchess s knee  while plates and dishes crashed around it once more the shriek of the gryphon  the squeaking of the lizard s slate pencil  and the choking of the suppressed guinea pigs  filled the air  mixed up with the distant sobs of the miserable mock turtle \n",
            " so she sat on  with closed eyes  and half believed herself in wonderland  though she knew she had but to open them again  and all would change to dull reality the grass would be only rustling in the wind  and the pool rippling to the waving of the reeds the rattling teacups would change to tinkling sheep bells  and the queen s shrill cries to the voice of the shepherd boy and the sneeze of the baby  the shriek of the gryphon  and all the other queer noises  would change  she knew  to the confused clamour of the busy farm yard while the lowing of the cattle in the distance would take the place of the mock turtle s heavy sobs \n",
            " lastly  she pictured to herself how this same little sister of hers would  in the after time  be herself a grown woman  and how she would keep  through all her riper years  the simple and loving heart of her childhood  and how she would gather about her other little children  and make  their  eyes bright and eager with many a strange tale  perhaps even with the dream of wonderland of long ago  and how she would feel with all their simple sorrows  and find a pleasure in all their simple joys  remembering her own child life  and the happy summer days \n",
            " the end\n",
            "\n"
          ],
          "name": "stdout"
        }
      ]
    },
    {
      "cell_type": "code",
      "metadata": {
        "id": "eug68GOecM8Z"
      },
      "source": [
        "# Hyperparameters of the model\n",
        "vocab_size = 2500 # choose based on statistics\n",
        "oov_tok = '<OOV>'\n",
        "embedding_dim = 100\n",
        "padding_type='post'\n",
        "trunc_type='post'"
      ],
      "execution_count": 203,
      "outputs": []
    },
    {
      "cell_type": "code",
      "metadata": {
        "id": "bWNBOlJ5cQym"
      },
      "source": [
        "# tokenize sentences\n",
        "tokenizer = Tokenizer(num_words = vocab_size, oov_token=oov_tok)\n",
        "tokenizer.fit_on_texts([text])\n",
        "word_index = tokenizer.word_index"
      ],
      "execution_count": 204,
      "outputs": []
    },
    {
      "cell_type": "code",
      "metadata": {
        "id": "LNRJDbFcdHbO",
        "outputId": "bb5079c5-d415-43da-da67-0868507b9125",
        "colab": {
          "base_uri": "https://localhost:8080/"
        }
      },
      "source": [
        "seq_length = 50\n",
        "tokens = tokenizer.texts_to_sequences([text])[0]\n",
        "print(tokens)\n",
        "print(len(tokens))\n",
        "print(len(set(tokens)))"
      ],
      "execution_count": 205,
      "outputs": [
        {
          "output_type": "stream",
          "text": [
            "[308, 8, 39, 2, 93, 598, 12, 14, 257, 4, 107, 31, 476, 9, 349, 78, 17, 385, 21, 2, 832, 3, 9, 350, 135, 4, 55, 136, 58, 599, 7, 24, 833, 66, 2, 326, 17, 385, 14, 834, 25, 6, 24, 46, 689, 58, 1061, 13, 6, 3, 32, 37, 2, 212, 9, 5, 326, 61, 12, 171, 689, 58, 1061, 27, 7, 14, 835, 13, 17, 351, 327, 16, 68, 16, 7, 59, 26, 2, 477, 156, 151, 17, 422, 31, 600, 3, 536, 328, 2, 1062, 9, 423, 5, 1459, 1460, 51, 29, 690, 2, 537, 9, 189, 40, 3, 1063, 2, 1461, 57, 283, 5, 152, 93, 23, 1462, 157, 231, 284, 78, 17, 41, 14, 135, 27, 31, 1064, 13, 15, 836, 69, 12, 90, 6, 27, 31, 94, 36, 9, 2, 84, 4, 258, 2, 93, 95, 4, 259, 109, 158, 109, 158, 8, 176, 29, 538, 57, 7, 61, 6, 120, 1065, 6, 1066, 4, 17, 15, 7, 260, 4, 56, 1463, 19, 33, 25, 19, 2, 63, 6, 22, 165, 87, 691, 25, 57, 2, 93, 1464, 182, 5, 424, 36, 9, 81, 1067, 478, 3, 110, 19, 6, 3, 44, 329, 21, 12, 1068, 4, 17, 205, 26, 6, 1465, 601, 17, 327, 15, 7, 24, 105, 130, 241, 5, 93, 23, 352, 5, 1067, 478, 58, 5, 424, 4, 190, 36, 9, 6, 3, 1466, 23, 602, 7, 231, 601, 2, 1467, 115, 6, 3, 1468, 14, 91, 13, 63, 4, 67, 6, 1469, 39, 5, 139, 93, 598, 232, 2, 1069, 13, 191, 147, 39, 52, 12, 115, 6, 105, 136, 835, 64, 13, 2, 479, 7, 14, 4, 107, 36, 53, 2, 93, 598, 52, 1070, 21, 49, 5, 1470, 26, 96, 84, 3, 44, 1071, 283, 39, 27, 283, 15, 12, 24, 30, 5, 147, 4, 90, 45, 1471, 54, 130, 7, 142, 54, 1072, 39, 5, 31, 480, 68, 352, 2, 68, 14, 31, 480, 58, 7, 539, 31, 425, 26, 7, 24, 1073, 9, 63, 16, 7, 52, 39, 4, 159, 45, 17, 3, 4, 213, 32, 14, 166, 4, 426, 153, 97, 7, 206, 4, 159, 39, 3, 167, 36, 32, 7, 14, 386, 4, 25, 6, 14, 172, 837, 4, 67, 201, 44, 7, 110, 19, 2, 692, 9, 2, 68, 3, 427, 15, 28, 50, 838, 23, 1074, 3, 326, 1075, 98, 3, 41, 7, 261, 1472, 3, 689, 1473, 173, 1474, 7, 182, 39, 5, 1076, 134, 38, 9, 2, 1075, 16, 7, 603, 6, 14, 1475, 1476, 1477, 25, 4, 17, 127, 1478, 6, 14, 1479, 7, 69, 30, 49, 4, 1480, 2, 1076, 26, 693, 9, 1481, 481, 1077, 27, 694, 4, 148, 6, 66, 38, 9, 2, 1074, 16, 7, 539, 839, 6, 68, 61, 12, 4, 54, 115, 118, 5, 482, 16, 33, 8, 176, 90, 135, 9, 1078, 39, 840, 64, 1482, 28, 82, 22, 90, 65, 19, 604, 121, 8, 285, 18, 95, 201, 45, 6, 214, 42, 8, 539, 62, 2, 428, 9, 2, 215, 102, 14, 31, 605, 695, 39, 39, 39, 51, 2, 482, 105, 108, 4, 83, 216, 8, 213, 64, 309, 841, 8, 112, 696, 78, 33, 63, 7, 10, 606, 8, 113, 29, 189, 842, 242, 2, 1483, 9, 2, 697, 192, 65, 67, 15, 51, 29, 429, 1079, 841, 39, 8, 90, 26, 11, 67, 12, 24, 1080, 698, 149, 9, 33, 202, 13, 17, 353, 13, 2, 1484, 3, 330, 33, 14, 30, 5, 31, 168, 430, 26, 1081, 62, 17, 843, 16, 41, 14, 46, 38, 4, 483, 4, 17, 286, 6, 14, 168, 1485, 4, 95, 6, 120, 287, 15, 20, 45, 2, 143, 431, 25, 44, 8, 213, 32, 1082, 58, 1083, 8, 112, 111, 4, 12, 24, 46, 243, 32, 1082, 14, 58, 1083, 352, 25, 61, 28, 50, 540, 844, 195, 4, 95, 1084, 7, 79, 53, 8, 213, 42, 8, 176, 482, 143, 262, 2, 697, 64, 845, 6, 82, 432, 4, 108, 36, 310, 2, 288, 15, 607, 23, 92, 354, 1486, 2, 1487, 8, 90, 7, 14, 177, 331, 41, 14, 46, 38, 846, 33, 63, 16, 6, 263, 18, 699, 19, 22, 2, 143, 355, 25, 8, 176, 56, 4, 332, 47, 32, 2, 356, 9, 2, 1488, 37, 11, 48, 207, 847, 233, 37, 33, 608, 1489, 58, 1490, 3, 7, 206, 4, 1491, 16, 7, 223, 484, 1492, 16, 11, 131, 1072, 262, 2, 244, 55, 11, 90, 11, 59, 485, 6, 3, 32, 83, 1493, 34, 700, 7, 82, 90, 65, 26, 609, 46, 6, 82, 105, 55, 4, 332, 224, 8, 176, 67, 6, 541, 40, 842, 39, 39, 39, 41, 14, 135, 311, 4, 55, 27, 12, 178, 79, 225, 53, 264, 82, 701, 65, 31, 94, 4, 610, 8, 169, 90, 264, 14, 2, 133, 8, 848, 28, 82, 265, 17, 1494, 9, 1085, 19, 208, 63, 264, 80, 158, 8, 196, 11, 50, 39, 98, 23, 65, 41, 89, 46, 702, 13, 2, 244, 8, 70, 312, 25, 11, 162, 703, 5, 849, 3, 15, 20, 31, 49, 5, 114, 11, 48, 25, 55, 289, 217, 704, 8, 213, 3, 98, 12, 79, 4, 107, 177, 600, 3, 52, 21, 245, 4, 54, 13, 5, 1495, 202, 9, 84, 55, 289, 217, 704, 55, 289, 217, 704, 3, 611, 55, 704, 217, 289, 26, 11, 67, 16, 7, 387, 18, 388, 352, 226, 6, 263, 18, 94, 389, 102, 84, 7, 148, 6, 7, 186, 15, 7, 14, 1496, 62, 3, 24, 91, 486, 4, 487, 15, 7, 14, 612, 197, 13, 197, 23, 264, 3, 245, 4, 17, 31, 1086, 76, 264, 144, 65, 2, 1497, 69, 11, 193, 217, 5, 849, 57, 283, 1087, 1087, 39, 7, 122, 173, 5, 1498, 9, 1499, 3, 433, 542, 3, 2, 482, 14, 120, 12, 14, 30, 5, 234, 850, 3, 7, 543, 40, 21, 4, 17, 205, 13, 5, 147, 7, 110, 40, 25, 6, 14, 22, 837, 1500, 130, 17, 14, 191, 145, 705, 3, 2, 152, 93, 14, 286, 13, 357, 1501, 39, 6, 41, 14, 30, 5, 147, 4, 29, 851, 179, 52, 12, 49, 2, 1088, 3, 14, 91, 13, 63, 4, 258, 6, 95, 16, 6, 235, 5, 706, 109, 80, 613, 3, 852, 64, 538, 6, 20, 189, 7, 14, 284, 290, 6, 57, 7, 235, 2, 706, 25, 2, 93, 14, 46, 853, 4, 29, 241, 7, 142, 54, 13, 5, 145, 246, 390, 102, 14, 1502, 40, 78, 5, 1089, 9, 1503, 854, 134, 2, 544, 41, 50, 1090, 22, 119, 2, 390, 25, 28, 50, 22, 1504, 3, 57, 12, 24, 132, 22, 2, 84, 39, 38, 227, 3, 40, 2, 123, 266, 313, 154, 7, 358, 614, 39, 2, 488, 489, 64, 7, 14, 193, 4, 107, 36, 53, 283, 7, 122, 173, 5, 34, 163, 1091, 218, 22, 151, 9, 1505, 359, 41, 14, 135, 21, 6, 707, 5, 708, 490, 391, 3, 12, 20, 97, 61, 14, 15, 6, 162, 1506, 4, 38, 9, 2, 1090, 9, 2, 390, 25, 709, 352, 2, 1092, 50, 172, 139, 58, 2, 391, 14, 172, 360, 25, 19, 128, 392, 6, 51, 30, 491, 128, 9, 47, 203, 21, 2, 710, 63, 119, 7, 122, 173, 5, 246, 1507, 7, 24, 30, 427, 130, 3, 290, 6, 14, 5, 34, 154, 45, 1508, 545, 236, 7, 206, 2, 34, 490, 391, 13, 2, 1509, 3, 4, 17, 127, 855, 6, 1510, 12, 361, 2, 154, 3, 142, 15, 6, 711, 66, 5, 360, 705, 30, 94, 492, 183, 5, 1511, 598, 7, 1512, 39, 3, 110, 546, 2, 705, 66, 2, 1513, 237, 11, 193, 261, 64, 7, 1093, 4, 107, 36, 9, 15, 837, 390, 3, 1514, 45, 310, 362, 1094, 9, 434, 1095, 3, 362, 1096, 1097, 25, 7, 59, 30, 214, 107, 17, 99, 262, 2, 1515, 3, 214, 42, 80, 99, 51, 100, 262, 61, 170, 12, 6, 51, 29, 9, 31, 34, 212, 171, 80, 712, 109, 64, 8, 196, 8, 59, 615, 40, 49, 5, 856, 8, 90, 8, 59, 42, 8, 101, 247, 64, 4, 291, 26, 11, 67, 27, 309, 36, 9, 2, 84, 149, 24, 493, 1516, 15, 12, 24, 486, 4, 90, 15, 31, 393, 149, 238, 50, 292, 857, 41, 165, 4, 29, 46, 212, 13, 394, 78, 2, 34, 154, 27, 7, 52, 129, 4, 2, 218, 187, 858, 7, 162, 198, 191, 391, 21, 6, 58, 19, 128, 392, 5, 326, 9, 859, 26, 1098, 288, 40, 49, 1517, 33, 63, 7, 142, 5, 34, 363, 21, 6, 102, 267, 14, 30, 98, 130, 10, 12, 3, 119, 2, 494, 9, 2, 363, 14, 5, 713, 1099, 23, 2, 195, 495, 65, 1100, 1518, 21, 6, 13, 139, 1519, 6, 14, 22, 31, 68, 4, 95, 495, 65, 25, 2, 1101, 34, 12, 14, 30, 166, 4, 55, 15, 13, 5, 333, 46, 8, 82, 159, 97, 7, 10, 3, 67, 328, 6, 20, 547, 860, 58, 30, 26, 7, 24, 334, 698, 540, 34, 1520, 45, 364, 71, 24, 111, 1521, 3, 1522, 40, 78, 1102, 1103, 3, 123, 1104, 149, 22, 248, 28, 51, 30, 265, 2, 616, 859, 92, 1105, 24, 714, 47, 118, 16, 15, 5, 861, 477, 1523, 140, 1106, 11, 42, 11, 365, 6, 172, 145, 3, 15, 42, 11, 617, 74, 618, 31, 715, 23, 5, 862, 6, 1107, 1524, 3, 7, 24, 105, 548, 15, 42, 11, 495, 94, 134, 5, 363, 547, 860, 6, 37, 549, 863, 4, 1525, 23, 11, 1108, 58, 864, 203, 33, 363, 14, 30, 547, 860, 27, 12, 716, 4, 1109, 6, 3, 865, 6, 31, 540, 6, 24, 13, 435, 5, 202, 9, 1110, 1526, 9, 1527, 1528, 1529, 1530, 1531, 1532, 1533, 1534, 3, 477, 1535, 1536, 7, 31, 178, 314, 6, 62, 32, 5, 209, 496, 10, 12, 8, 113, 29, 1098, 40, 49, 5, 856, 3, 27, 6, 14, 238, 7, 14, 76, 101, 550, 545, 236, 3, 17, 249, 1111, 40, 19, 2, 61, 15, 7, 14, 76, 2, 143, 293, 26, 166, 262, 2, 34, 154, 66, 15, 1112, 237, 97, 203, 7, 335, 26, 5, 393, 336, 4, 67, 42, 7, 14, 166, 4, 1537, 128, 866, 7, 186, 5, 34, 619, 45, 33, 26, 6, 162, 216, 11, 48, 10, 12, 4, 54, 13, 80, 166, 36, 620, 49, 5, 867, 8, 213, 32, 8, 169, 29, 49, 44, 3, 7, 206, 4, 484, 32, 2, 1538, 9, 5, 867, 37, 49, 115, 2, 867, 37, 1539, 36, 26, 7, 59, 30, 265, 193, 350, 241, 118, 5, 103, 115, 5, 180, 865, 15, 135, 104, 493, 7, 868, 21, 166, 66, 2, 237, 19, 136, 25, 709, 26, 170, 12, 57, 7, 111, 4, 2, 154, 7, 142, 7, 24, 548, 2, 34, 490, 391, 3, 57, 7, 52, 129, 4, 2, 218, 26, 6, 7, 142, 7, 59, 30, 869, 717, 6, 7, 59, 67, 6, 87, 1540, 262, 2, 359, 3, 7, 206, 17, 315, 4, 1541, 40, 38, 9, 2, 870, 9, 2, 218, 25, 6, 14, 172, 1542, 3, 57, 7, 24, 476, 54, 36, 23, 266, 2, 170, 34, 103, 228, 39, 3, 204, 108, 41, 20, 46, 212, 13, 1113, 49, 15, 10, 12, 4, 54, 177, 718, 8, 1543, 11, 4, 395, 62, 33, 199, 7, 497, 250, 54, 31, 168, 1114, 330, 7, 31, 1544, 436, 6, 3, 611, 7, 1545, 54, 27, 719, 16, 4, 871, 337, 66, 17, 157, 3, 136, 7, 621, 266, 4, 366, 17, 351, 613, 26, 350, 1546, 54, 13, 5, 294, 9, 396, 7, 14, 1115, 397, 54, 26, 33, 209, 338, 14, 31, 720, 9, 1547, 4, 29, 124, 288, 25, 6, 20, 46, 212, 76, 61, 170, 12, 4, 1548, 4, 29, 124, 288, 121, 41, 20, 316, 219, 9, 65, 268, 4, 167, 38, 1549, 721, 178, 17, 498, 539, 21, 5, 34, 359, 366, 15, 14, 437, 232, 2, 218, 7, 361, 6, 3, 142, 13, 6, 5, 31, 360, 872, 21, 102, 2, 195, 217, 65, 50, 1100, 547, 13, 1550, 68, 8, 82, 217, 6, 10, 12, 3, 42, 6, 339, 65, 295, 492, 8, 72, 717, 2, 391, 3, 42, 6, 339, 65, 295, 873, 8, 72, 1551, 232, 2, 154, 27, 352, 84, 8, 82, 107, 66, 2, 237, 3, 8, 75, 18, 722, 102, 622, 7, 1552, 5, 34, 234, 3, 10, 269, 4, 54, 102, 84, 102, 84, 874, 17, 197, 21, 2, 428, 9, 17, 99, 4, 422, 102, 84, 6, 14, 340, 3, 7, 14, 87, 499, 4, 198, 15, 7, 875, 2, 184, 293, 4, 29, 185, 33, 497, 622, 57, 38, 1553, 872, 25, 12, 24, 111, 27, 94, 66, 2, 84, 9, 876, 135, 25, 36, 9, 2, 84, 149, 4, 426, 15, 6, 165, 87, 877, 3, 536, 26, 317, 4, 100, 21, 13, 2, 1554, 84, 27, 7, 270, 4, 438, 3, 31, 178, 314, 62, 2, 872, 308, 1555, 2, 341, 9, 337, 1116, 3, 1116, 204, 12, 7, 14, 27, 94, 499, 15, 26, 2, 147, 7, 87, 1117, 64, 4, 251, 168, 551, 76, 8, 70, 878, 36, 49, 2, 1556, 856, 15, 193, 14, 168, 1118, 205, 26, 57, 7, 110, 39, 19, 17, 205, 28, 165, 4, 29, 549, 36, 9, 357, 28, 50, 189, 27, 296, 62, 109, 80, 170, 34, 205, 8, 213, 71, 140, 148, 21, 74, 500, 3, 1557, 26, 11, 76, 879, 8, 70, 185, 8, 552, 18, 29, 1558, 8, 176, 29, 5, 127, 318, 172, 296, 62, 4, 537, 501, 45, 11, 11, 113, 485, 2, 315, 84, 11, 72, 25, 8, 113, 29, 502, 4, 47, 61, 12, 58, 224, 28, 174, 18, 607, 2, 84, 8, 398, 4, 100, 192, 65, 67, 8, 82, 319, 47, 5, 608, 623, 9, 723, 313, 1559, 3, 7, 52, 21, 1560, 4, 54, 64, 7, 51, 485, 6, 28, 113, 100, 78, 2, 1561, 7, 61, 3, 64, 845, 6, 82, 432, 1119, 1120, 4, 38, 20, 351, 205, 3, 64, 1562, 2, 880, 140, 159, 12, 20, 143, 367, 1563, 1564, 242, 2, 1565, 23, 12, 20, 881, 109, 158, 32, 503, 8, 70, 225, 91, 44, 17, 99, 1121, 397, 2, 544, 9, 2, 390, 13, 435, 7, 14, 76, 104, 183, 624, 205, 236, 3, 7, 19, 136, 182, 40, 2, 34, 490, 391, 3, 329, 62, 4, 2, 237, 154, 170, 12, 6, 14, 16, 94, 16, 7, 59, 55, 437, 39, 21, 38, 227, 4, 159, 262, 66, 2, 237, 23, 38, 498, 25, 4, 107, 262, 14, 104, 1566, 183, 193, 7, 228, 39, 3, 79, 4, 882, 53, 11, 260, 4, 29, 1122, 9, 368, 10, 12, 5, 127, 700, 49, 11, 7, 162, 68, 95, 33, 4, 100, 21, 1113, 13, 33, 84, 553, 33, 147, 8, 144, 11, 25, 7, 52, 21, 22, 2, 184, 1567, 1568, 9, 337, 625, 41, 14, 5, 139, 341, 22, 119, 17, 45, 429, 545, 480, 3, 1569, 187, 39, 2, 390, 115, 5, 63, 7, 155, 5, 34, 883, 9, 205, 13, 2, 431, 3, 7, 239, 1570, 17, 157, 4, 67, 32, 14, 386, 6, 14, 2, 152, 93, 1571, 1572, 1573, 23, 5, 623, 9, 152, 626, 342, 13, 38, 197, 3, 5, 139, 369, 13, 2, 123, 35, 122, 1123, 546, 13, 5, 127, 333, 884, 4, 554, 16, 35, 122, 109, 2, 117, 2, 117, 109, 174, 18, 7, 29, 724, 42, 8, 112, 297, 17, 394, 12, 186, 27, 1574, 15, 7, 14, 439, 4, 332, 399, 9, 128, 38, 27, 57, 2, 93, 122, 242, 17, 7, 79, 13, 5, 246, 885, 106, 42, 11, 207, 504, 2, 93, 1068, 725, 627, 2, 152, 626, 342, 3, 2, 369, 3, 1575, 179, 66, 2, 1576, 16, 440, 16, 35, 59, 100, 12, 182, 40, 2, 369, 3, 342, 3, 16, 2, 390, 14, 31, 477, 7, 297, 1577, 54, 22, 2, 63, 7, 52, 21, 225, 158, 158, 64, 320, 271, 37, 4, 156, 3, 886, 149, 52, 21, 91, 16, 628, 8, 213, 42, 8, 112, 132, 441, 13, 2, 610, 192, 65, 90, 14, 8, 2, 184, 57, 8, 111, 40, 33, 629, 8, 549, 90, 8, 72, 265, 496, 5, 34, 400, 25, 42, 8, 70, 30, 2, 184, 2, 153, 226, 37, 71, 13, 2, 479, 233, 8, 630, 15, 20, 2, 127, 1578, 3, 7, 79, 343, 120, 22, 2, 364, 7, 247, 15, 50, 9, 2, 184, 726, 16, 54, 4, 67, 42, 7, 59, 56, 132, 441, 26, 128, 9, 47, 8, 70, 185, 8, 70, 30, 1579, 7, 10, 26, 17, 505, 506, 13, 118, 145, 1124, 3, 370, 240, 18, 100, 13, 1124, 19, 22, 3, 8, 70, 185, 8, 72, 18, 29, 727, 26, 8, 48, 22, 887, 9, 149, 3, 7, 109, 7, 1125, 118, 5, 31, 34, 728, 7, 20, 7, 3, 8, 70, 8, 3, 109, 158, 64, 729, 6, 22, 37, 8, 82, 321, 42, 8, 48, 22, 2, 149, 8, 298, 4, 48, 192, 65, 67, 429, 555, 442, 37, 730, 3, 429, 555, 1126, 37, 1580, 3, 429, 555, 556, 37, 109, 158, 8, 176, 105, 107, 4, 888, 19, 15, 392, 203, 2, 1581, 218, 240, 18, 1582, 192, 20, 321, 1583, 1584, 37, 2, 731, 9, 1127, 3, 1127, 37, 2, 731, 9, 1128, 3, 1128, 46, 15, 20, 22, 631, 8, 70, 863, 8, 113, 56, 132, 441, 26, 727, 8, 82, 321, 3, 95, 64, 889, 2, 34, 3, 7, 890, 17, 322, 21, 17, 1129, 16, 42, 7, 50, 245, 353, 3, 79, 4, 507, 6, 25, 17, 106, 632, 891, 3, 633, 3, 2, 195, 69, 30, 108, 2, 184, 16, 28, 298, 4, 55, 64, 889, 2, 34, 1585, 1586, 43, 1587, 401, 3, 1588, 2, 1589, 9, 2, 1590, 21, 313, 490, 1591, 64, 1592, 35, 634, 4, 557, 64, 1130, 892, 43, 1131, 3, 1593, 34, 1594, 13, 23, 893, 1132, 1133, 8, 70, 185, 362, 89, 30, 2, 143, 195, 10, 170, 12, 3, 17, 157, 838, 23, 337, 53, 16, 7, 52, 21, 8, 113, 29, 727, 115, 22, 3, 8, 176, 56, 4, 100, 3, 443, 13, 15, 1595, 34, 215, 3, 56, 153, 4, 46, 1596, 4, 444, 23, 3, 109, 193, 27, 309, 353, 4, 508, 46, 8, 112, 151, 40, 80, 327, 45, 6, 42, 8, 70, 727, 8, 82, 635, 39, 98, 6, 82, 29, 46, 212, 92, 894, 92, 354, 39, 3, 245, 108, 40, 53, 158, 8, 176, 101, 159, 40, 3, 95, 71, 233, 8, 44, 144, 65, 15, 97, 3, 44, 42, 8, 49, 210, 15, 721, 8, 82, 108, 40, 42, 30, 8, 82, 635, 39, 98, 200, 8, 70, 481, 311, 25, 109, 158, 204, 12, 23, 5, 636, 1597, 9, 337, 8, 55, 196, 28, 51, 148, 92, 354, 39, 8, 233, 27, 31, 476, 9, 210, 22, 732, 98, 16, 7, 10, 33, 7, 110, 39, 19, 17, 322, 3, 14, 499, 4, 67, 15, 7, 24, 148, 21, 38, 9, 2, 93, 20, 34, 152, 626, 342, 180, 7, 14, 225, 64, 72, 8, 56, 252, 15, 7, 61, 8, 113, 29, 340, 360, 53, 7, 111, 40, 3, 52, 4, 2, 218, 4, 1598, 54, 78, 6, 3, 142, 15, 16, 344, 16, 7, 59, 895, 7, 14, 76, 45, 124, 205, 236, 3, 14, 166, 21, 733, 1134, 7, 178, 142, 36, 15, 2, 896, 9, 33, 14, 2, 369, 7, 14, 874, 3, 7, 627, 6, 239, 91, 13, 63, 4, 1599, 733, 179, 620, 15, 14, 5, 1135, 734, 10, 12, 5, 168, 318, 509, 19, 2, 636, 272, 25, 31, 331, 4, 198, 54, 286, 13, 1600, 3, 76, 26, 2, 237, 3, 7, 231, 23, 22, 1601, 129, 4, 2, 34, 154, 25, 709, 2, 34, 154, 14, 615, 53, 3, 2, 34, 490, 391, 14, 437, 21, 2, 359, 218, 16, 130, 3, 149, 89, 897, 183, 193, 61, 2, 170, 338, 26, 8, 105, 14, 27, 360, 16, 33, 130, 105, 3, 8, 1136, 6, 20, 172, 1137, 15, 6, 37, 16, 7, 10, 273, 195, 17, 367, 898, 3, 13, 191, 147, 1602, 7, 14, 40, 4, 17, 510, 13, 1138, 637, 17, 97, 243, 14, 15, 7, 24, 1603, 696, 66, 2, 274, 3, 13, 15, 638, 8, 72, 100, 129, 78, 1139, 7, 10, 4, 54, 12, 24, 132, 4, 2, 1604, 136, 13, 17, 317, 3, 24, 108, 4, 2, 899, 1140, 15, 1141, 11, 100, 4, 21, 2, 551, 1605, 11, 198, 5, 639, 9, 1606, 1607, 13, 2, 274, 96, 364, 735, 13, 2, 1608, 23, 1609, 1610, 44, 5, 1089, 9, 1611, 1612, 3, 290, 47, 5, 1139, 1613, 203, 7, 178, 151, 36, 15, 7, 14, 13, 2, 341, 9, 337, 102, 7, 24, 1614, 57, 7, 14, 624, 205, 236, 8, 196, 8, 445, 18, 204, 27, 94, 10, 12, 16, 7, 640, 45, 266, 4, 198, 17, 84, 36, 8, 176, 29, 1615, 26, 6, 76, 8, 275, 78, 210, 1616, 13, 80, 351, 337, 15, 140, 29, 5, 320, 103, 4, 29, 185, 203, 271, 37, 320, 4, 156, 91, 44, 7, 155, 220, 1142, 45, 13, 2, 341, 5, 34, 84, 62, 3, 7, 640, 641, 4, 167, 36, 32, 6, 14, 19, 97, 7, 61, 6, 113, 29, 5, 1617, 58, 1618, 25, 44, 7, 621, 64, 360, 7, 14, 76, 3, 7, 178, 151, 36, 15, 6, 14, 101, 5, 114, 15, 24, 898, 13, 49, 54, 51, 6, 29, 9, 128, 212, 76, 61, 12, 4, 251, 4, 33, 114, 271, 37, 27, 36, 9, 2, 84, 39, 98, 15, 8, 169, 90, 31, 605, 6, 72, 276, 19, 128, 392, 41, 20, 46, 1619, 13, 266, 27, 7, 79, 558, 114, 55, 11, 48, 2, 84, 36, 9, 33, 341, 8, 233, 31, 476, 9, 1143, 45, 98, 558, 114, 12, 61, 33, 113, 29, 2, 143, 84, 9, 642, 4, 5, 114, 7, 24, 105, 252, 118, 5, 103, 130, 25, 7, 621, 350, 241, 13, 17, 1620, 20, 1621, 1622, 5, 114, 9, 5, 114, 4, 5, 114, 5, 114, 558, 114, 2, 114, 110, 19, 17, 177, 1623, 3, 165, 4, 17, 4, 1144, 23, 38, 9, 81, 34, 157, 25, 6, 10, 135, 224, 6, 240, 18, 559, 551, 61, 12, 8, 1624, 6, 20, 5, 736, 114, 108, 120, 23, 446, 2, 1145, 26, 23, 22, 17, 843, 9, 511, 12, 24, 46, 31, 1146, 900, 64, 145, 1147, 201, 24, 493, 27, 7, 79, 53, 1625, 1626, 847, 1627, 102, 14, 2, 97, 560, 13, 17, 736, 901, 326, 2, 114, 250, 5, 636, 1628, 36, 9, 2, 637, 3, 165, 4, 1629, 22, 120, 23, 1148, 109, 8, 447, 74, 561, 204, 12, 239, 312, 15, 7, 24, 850, 2, 170, 1149, 20, 1150, 8, 87, 1117, 11, 263, 18, 49, 289, 30, 49, 289, 204, 2, 114, 13, 5, 643, 1630, 106, 51, 11, 49, 289, 42, 11, 50, 65, 68, 224, 30, 10, 12, 13, 5, 1631, 125, 75, 18, 29, 644, 45, 6, 3, 181, 8, 196, 8, 59, 902, 11, 448, 133, 264, 8, 90, 11, 160, 190, 5, 484, 4, 289, 42, 11, 59, 101, 67, 17, 7, 37, 118, 5, 158, 1151, 103, 12, 52, 21, 187, 4, 54, 16, 7, 640, 1632, 45, 13, 2, 341, 3, 7, 1633, 1152, 27, 1153, 78, 2, 737, 1634, 17, 738, 3, 903, 17, 249, 3, 7, 37, 118, 5, 540, 1635, 103, 4, 904, 3, 7, 20, 118, 5, 731, 38, 26, 1154, 702, 109, 8, 447, 74, 561, 204, 12, 53, 26, 33, 63, 2, 114, 14, 1636, 22, 120, 3, 7, 186, 863, 6, 113, 29, 292, 371, 137, 174, 18, 276, 45, 17, 128, 104, 42, 11, 160, 177, 30, 137, 238, 204, 2, 114, 71, 14, 562, 39, 4, 2, 216, 9, 43, 401, 16, 42, 8, 51, 276, 21, 118, 5, 563, 448, 1637, 299, 1638, 289, 1639, 246, 1640, 149, 75, 18, 192, 65, 258, 2, 356, 53, 8, 174, 18, 238, 10, 12, 13, 5, 127, 333, 4, 272, 2, 563, 9, 402, 89, 11, 89, 11, 720, 9, 9, 905, 2, 114, 69, 30, 388, 27, 12, 52, 21, 449, 41, 37, 118, 5, 540, 34, 906, 242, 448, 215, 8, 169, 49, 4, 902, 11, 5, 34, 434, 1641, 1642, 11, 48, 23, 109, 118, 145, 1643, 1155, 505, 3, 6, 82, 512, 149, 57, 11, 907, 47, 3, 6, 82, 450, 40, 3, 447, 26, 81, 1156, 3, 22, 887, 9, 149, 8, 72, 18, 265, 187, 9, 47, 3, 6, 1157, 4, 5, 1644, 11, 48, 3, 35, 739, 6, 20, 27, 1158, 6, 20, 690, 5, 1645, 1646, 35, 739, 6, 1647, 22, 2, 1648, 3, 109, 158, 204, 12, 13, 5, 1159, 125, 8, 70, 312, 8, 112, 371, 6, 53, 26, 2, 114, 14, 1143, 179, 134, 17, 16, 440, 16, 6, 59, 100, 3, 423, 87, 5, 1649, 13, 2, 341, 16, 6, 52, 27, 7, 253, 1650, 115, 6, 114, 158, 55, 108, 129, 53, 3, 137, 174, 18, 276, 45, 289, 58, 905, 352, 42, 11, 75, 18, 49, 47, 57, 2, 114, 155, 33, 6, 235, 119, 3, 640, 425, 129, 4, 17, 81, 249, 14, 87, 740, 23, 908, 12, 61, 3, 6, 10, 13, 5, 246, 562, 106, 192, 277, 107, 4, 2, 741, 3, 44, 8, 82, 144, 11, 80, 511, 3, 11, 82, 559, 121, 6, 37, 8, 1160, 289, 3, 905, 6, 14, 236, 63, 4, 100, 26, 2, 341, 14, 189, 87, 645, 23, 2, 372, 3, 742, 15, 24, 696, 66, 6, 41, 50, 5, 743, 3, 5, 300, 5, 513, 3, 83, 909, 3, 698, 123, 209, 373, 12, 711, 2, 84, 3, 2, 301, 374, 640, 4, 2, 741, 308, 1651, 5, 910, 564, 3, 5, 145, 744, 28, 50, 238, 5, 320, 146, 374, 15, 1161, 21, 2, 832, 2, 372, 23, 1652, 1653, 2, 742, 23, 92, 911, 1654, 284, 4, 47, 3, 22, 1655, 1162, 912, 3, 745, 2, 97, 226, 9, 175, 14, 64, 4, 107, 433, 53, 28, 24, 5, 1656, 45, 33, 3, 115, 5, 393, 336, 6, 165, 87, 691, 4, 12, 4, 198, 54, 225, 1657, 23, 47, 16, 42, 7, 24, 1658, 47, 22, 17, 317, 238, 7, 24, 87, 5, 145, 746, 23, 2, 513, 71, 19, 141, 235, 913, 3, 51, 101, 95, 8, 233, 1163, 183, 11, 3, 113, 48, 278, 3, 33, 12, 51, 30, 914, 171, 1164, 64, 211, 6, 14, 3, 16, 2, 513, 1659, 1660, 4, 144, 81, 726, 41, 14, 46, 104, 4, 29, 10, 19, 141, 2, 114, 71, 165, 4, 29, 5, 721, 9, 1165, 310, 47, 253, 36, 450, 39, 22, 9, 11, 3, 483, 4, 65, 8, 82, 178, 167, 11, 433, 219, 28, 22, 228, 39, 19, 136, 13, 5, 139, 1166, 23, 2, 114, 13, 2, 488, 12, 297, 17, 157, 269, 1661, 21, 6, 26, 7, 186, 185, 7, 51, 703, 5, 1137, 1662, 42, 7, 69, 30, 107, 433, 31, 178, 1663, 10, 2, 114, 23, 83, 403, 244, 89, 11, 22, 439, 33, 37, 2, 1664, 103, 8, 48, 279, 22, 119, 42, 11, 207, 446, 2, 1145, 1167, 896, 14, 1665, 78, 2, 1666, 14, 178, 1667, 4, 78, 2, 551, 71, 747, 1668, 3, 24, 132, 9, 538, 94, 1669, 4, 1670, 3, 1671, 1168, 3, 1169, 2, 1170, 9, 1171, 3, 1172, 1173, 10, 2, 513, 23, 5, 1672, 8, 447, 74, 561, 10, 2, 114, 748, 25, 31, 565, 69, 11, 251, 30, 8, 10, 2, 513, 239, 8, 61, 11, 69, 10, 2, 114, 8, 1174, 1168, 3, 1169, 2, 1170, 9, 1171, 3, 1172, 1673, 26, 116, 3, 214, 1674, 2, 1675, 1175, 9, 1676, 142, 6, 1176, 142, 32, 10, 2, 743, 142, 6, 2, 114, 161, 177, 1677, 9, 175, 11, 48, 32, 6, 646, 8, 48, 32, 6, 646, 68, 219, 57, 8, 198, 5, 103, 10, 2, 743, 6, 20, 497, 5, 915, 58, 5, 1678, 2, 226, 37, 32, 69, 2, 1175, 198, 2, 114, 69, 30, 647, 33, 226, 25, 1177, 52, 21, 142, 6, 1176, 4, 100, 23, 1679, 1680, 4, 1178, 446, 3, 1179, 116, 2, 916, 446, 20, 1681, 19, 97, 14, 1682, 25, 2, 1683, 9, 43, 1684, 64, 89, 11, 189, 21, 76, 80, 158, 6, 404, 323, 4, 12, 16, 6, 223, 16, 1162, 16, 193, 10, 12, 13, 5, 566, 125, 6, 240, 18, 432, 4, 433, 65, 19, 22, 13, 15, 638, 10, 2, 300, 749, 1685, 4, 81, 205, 8, 917, 15, 2, 1686, 1687, 26, 2, 1688, 1689, 9, 104, 1690, 1691, 251, 551, 10, 2, 909, 8, 75, 18, 48, 2, 451, 9, 187, 362, 145, 195, 3, 32, 20, 104, 8, 75, 18, 405, 11, 55, 352, 3, 2, 909, 1692, 39, 81, 99, 4, 1693, 5, 1180, 96, 9, 2, 123, 372, 1694, 1695, 32, 8, 14, 166, 4, 95, 10, 2, 300, 13, 83, 371, 125, 14, 15, 2, 315, 103, 4, 107, 277, 433, 51, 29, 5, 910, 564, 32, 37, 5, 910, 564, 10, 12, 30, 15, 7, 747, 94, 4, 48, 25, 2, 300, 24, 1696, 16, 42, 6, 61, 15, 481, 260, 4, 251, 3, 46, 38, 311, 165, 1697, 4, 95, 201, 121, 10, 2, 300, 2, 315, 84, 4, 375, 6, 37, 4, 55, 6, 3, 16, 11, 162, 49, 4, 321, 2, 103, 368, 96, 1698, 156, 8, 140, 144, 11, 64, 2, 300, 694, 6, 97, 6, 547, 36, 5, 564, 175, 13, 5, 202, 9, 1699, 2, 1700, 1701, 240, 18, 389, 6, 10, 3, 44, 22, 2, 374, 50, 1702, 546, 2, 175, 98, 3, 41, 41, 14, 46, 38, 124, 163, 3, 179, 25, 28, 79, 452, 57, 28, 567, 3, 268, 62, 57, 28, 567, 27, 15, 6, 14, 30, 1181, 4, 48, 57, 2, 564, 14, 120, 203, 57, 28, 24, 132, 452, 187, 83, 1182, 58, 27, 3, 50, 87, 433, 53, 2, 300, 283, 253, 36, 2, 564, 37, 120, 3, 28, 22, 645, 119, 6, 1183, 3, 609, 25, 71, 514, 174, 33, 226, 2, 300, 59, 30, 388, 171, 5, 127, 318, 9, 61, 3, 6, 228, 26, 5, 145, 63, 23, 38, 618, 918, 173, 81, 1184, 2, 1185, 13, 102, 11, 1107, 67, 1703, 13, 2, 689, 9, 116, 180, 2, 376, 335, 13, 279, 19, 141, 2, 300, 10, 453, 514, 174, 3, 22, 113, 56, 648, 25, 71, 37, 4, 319, 2, 648, 87, 5, 568, 9, 919, 229, 121, 7, 9, 175, 10, 2, 300, 750, 4, 12, 23, 38, 618, 3, 2, 301, 374, 19, 136, 645, 119, 17, 1704, 36, 13, 5, 751, 84, 648, 648, 12, 24, 46, 243, 32, 4, 55, 3, 13, 1705, 7, 148, 17, 197, 13, 17, 478, 3, 1706, 36, 5, 366, 9, 1186, 1187, 2, 1138, 637, 24, 30, 111, 66, 6, 3, 920, 47, 119, 16, 648, 41, 14, 454, 38, 5, 569, 22, 119, 25, 7, 113, 56, 5, 1707, 54, 11, 48, 10, 2, 114, 9, 175, 2, 300, 161, 31, 921, 32, 311, 56, 11, 111, 13, 74, 478, 35, 52, 21, 323, 4, 12, 101, 5, 752, 10, 12, 614, 197, 6, 120, 98, 10, 2, 300, 44, 28, 22, 645, 119, 17, 136, 104, 180, 2, 300, 749, 1708, 2, 752, 245, 137, 447, 74, 1709, 9, 33, 1710, 752, 3, 57, 6, 24, 314, 33, 753, 922, 28, 22, 923, 12, 61, 2, 301, 103, 31, 1188, 25, 28, 22, 110, 27, 924, 15, 7, 69, 30, 649, 4, 1711, 3, 16, 7, 59, 30, 90, 9, 201, 4, 95, 7, 925, 754, 3, 182, 2, 752, 146, 16, 926, 16, 7, 59, 2, 153, 103, 14, 4, 217, 2, 1186, 33, 1189, 96, 927, 3, 650, 16, 2, 139, 372, 1712, 15, 28, 59, 30, 1109, 1713, 3, 2, 360, 1714, 928, 3, 24, 4, 29, 1715, 21, 2, 129, 203, 6, 14, 120, 19, 141, 3, 28, 228, 39, 53, 13, 5, 1166, 3, 1716, 2, 114, 4, 144, 47, 220, 104, 11, 1717, 4, 144, 65, 74, 511, 11, 48, 10, 12, 3, 121, 6, 37, 11, 1160, 1718, 3, 160, 7, 188, 13, 5, 929, 187, 312, 15, 6, 51, 29, 371, 53, 370, 37, 5, 145, 3, 5, 930, 744, 10, 2, 114, 323, 4, 12, 3, 931, 6, 37, 5, 145, 401, 267, 10, 12, 146, 39, 23, 213, 19, 2, 114, 20, 401, 25, 121, 55, 11, 406, 6, 930, 3, 7, 297, 21, 729, 45, 6, 180, 2, 114, 14, 642, 27, 15, 17, 243, 9, 2, 744, 14, 220, 49, 33, 932, 10, 4, 5, 114, 15, 35, 933, 13, 2, 215, 192, 277, 280, 100, 4, 1190, 8, 140, 1719, 11, 108, 8, 82, 190, 46, 1720, 137, 113, 56, 5, 377, 26, 292, 33, 629, 8, 112, 135, 4, 55, 10, 2, 114, 4, 2, 1721, 118, 5, 377, 158, 504, 23, 46, 194, 58, 755, 51, 29, 1191, 448, 756, 8, 82, 29, 755, 8, 82, 29, 194, 10, 1722, 211, 932, 8, 82, 321, 2, 301, 896, 3, 1723, 11, 4, 1724, 11, 89, 30, 934, 10, 2, 114, 4, 12, 719, 32, 89, 11, 343, 9, 8, 447, 74, 561, 10, 12, 31, 1192, 11, 24, 111, 4, 2, 1725, 1193, 8, 90, 8, 24, 30, 204, 2, 114, 718, 3, 31, 407, 5, 1194, 10, 12, 299, 439, 4, 167, 54, 1158, 3, 146, 269, 45, 17, 109, 55, 192, 65, 399, 4, 1726, 6, 8, 176, 55, 135, 9, 2, 202, 10, 2, 114, 189, 40, 3, 612, 179, 11, 1727, 65, 78, 225, 118, 503, 8, 263, 18, 378, 6, 935, 170, 12, 25, 11, 131, 27, 936, 371, 11, 48, 2, 114, 101, 1728, 13, 651, 207, 108, 129, 3, 652, 74, 455, 12, 253, 115, 6, 3, 2, 515, 22, 937, 13, 568, 287, 207, 55, 25, 2, 114, 101, 408, 81, 99, 653, 3, 358, 5, 34, 1729, 32, 5, 938, 6, 285, 18, 635, 654, 2, 513, 16, 178, 16, 6, 14, 87, 36, 9, 357, 3, 83, 211, 939, 182, 2, 430, 9, 245, 4, 17, 1730, 630, 80, 158, 192, 33, 29, 5, 901, 4, 11, 105, 4, 1731, 74, 655, 365, 74, 757, 847, 10, 2, 656, 939, 5, 34, 1732, 11, 131, 219, 4, 321, 2, 1733, 9, 83, 1734, 8, 196, 8, 24, 448, 264, 98, 8, 48, 8, 55, 10, 12, 606, 1735, 456, 13, 758, 7, 160, 178, 512, 6, 129, 3, 71, 37, 264, 42, 8, 162, 940, 4, 332, 2, 226, 10, 2, 513, 12, 161, 449, 26, 7, 14, 299, 439, 4, 276, 45, 17, 1736, 264, 20, 448, 133, 3, 7, 20, 118, 5, 731, 38, 26, 1154, 702, 11, 72, 18, 90, 3, 109, 8, 196, 11, 59, 67, 17, 115, 2, 372, 121, 7, 82, 217, 5, 34, 1195, 16, 178, 16, 159, 19, 6, 33, 922, 1189, 5, 1064, 1196, 310, 2, 374, 96, 9, 2, 372, 329, 62, 19, 136, 38, 211, 1737, 79, 1738, 259, 40, 31, 941, 942, 8, 292, 113, 29, 189, 604, 2, 610, 244, 240, 18, 943, 80, 1197, 3, 5, 1739, 253, 36, 13, 5, 562, 106, 4, 81, 364, 108, 179, 80, 879, 6, 20, 236, 63, 11, 50, 22, 13, 1740, 21, 1741, 1742, 28, 22, 657, 62, 3, 12, 14, 178, 268, 732, 8, 196, 8, 445, 18, 944, 264, 7, 10, 4, 54, 13, 5, 566, 125, 456, 634, 4, 49, 17, 39, 98, 3, 8, 70, 185, 7, 20, 2, 315, 133, 13, 2, 479, 109, 80, 158, 264, 8, 213, 42, 8, 176, 193, 67, 11, 128, 104, 3, 98, 170, 12, 79, 4, 882, 53, 26, 7, 186, 31, 1198, 3, 246, 1743, 13, 5, 34, 180, 203, 7, 53, 155, 5, 34, 883, 9, 1199, 13, 2, 431, 3, 7, 110, 40, 449, 187, 858, 15, 2, 114, 24, 441, 43, 327, 3, 14, 386, 129, 4, 652, 43, 455, 308, 1744, 2, 93, 1745, 13, 5, 34, 230, 6, 14, 2, 152, 93, 1123, 425, 129, 53, 3, 146, 269, 45, 16, 6, 52, 16, 42, 6, 24, 851, 220, 3, 7, 155, 6, 884, 4, 259, 2, 117, 2, 117, 109, 80, 158, 738, 109, 80, 911, 3, 852, 7, 82, 107, 65, 570, 16, 185, 16, 1200, 89, 1200, 254, 72, 8, 56, 627, 47, 8, 213, 12, 945, 13, 5, 147, 15, 6, 14, 146, 26, 2, 369, 3, 2, 623, 9, 152, 626, 342, 3, 7, 31, 168, 1746, 79, 946, 45, 26, 47, 25, 28, 50, 1201, 4, 29, 241, 271, 165, 4, 56, 441, 759, 17, 658, 13, 2, 341, 3, 2, 127, 390, 23, 2, 359, 218, 3, 2, 34, 154, 24, 760, 1747, 31, 178, 2, 93, 427, 12, 16, 7, 52, 946, 45, 3, 253, 36, 4, 17, 13, 83, 644, 125, 121, 761, 762, 32, 89, 11, 659, 36, 98, 763, 604, 33, 147, 3, 512, 65, 5, 623, 9, 342, 3, 5, 369, 1202, 76, 3, 12, 14, 27, 94, 509, 15, 7, 231, 62, 19, 136, 13, 2, 660, 6, 1748, 4, 171, 266, 4, 375, 2, 947, 6, 24, 151, 35, 182, 65, 26, 43, 1749, 7, 10, 4, 54, 16, 7, 231, 64, 499, 35, 82, 29, 57, 35, 1750, 36, 71, 8, 233, 25, 8, 160, 278, 190, 116, 43, 369, 3, 342, 15, 37, 42, 8, 72, 198, 47, 16, 7, 10, 33, 7, 122, 173, 5, 1751, 34, 215, 21, 2, 154, 9, 102, 14, 5, 434, 1752, 948, 23, 2, 356, 1753, 93, 1754, 173, 6, 7, 52, 13, 171, 949, 3, 329, 1755, 13, 127, 693, 1756, 7, 169, 1178, 2, 950, 761, 762, 3, 29, 235, 36, 9, 2, 215, 130, 7, 24, 142, 2, 369, 3, 342, 64, 320, 6, 634, 12, 10, 4, 54, 4, 29, 166, 1203, 26, 5, 93, 8, 275, 264, 82, 29, 1119, 65, 21, 1203, 153, 3, 7, 79, 1757, 2, 202, 9, 103, 15, 51, 426, 701, 12, 108, 98, 1204, 3, 107, 439, 26, 74, 607, 386, 13, 5, 199, 904, 25, 8, 112, 111, 4, 67, 15, 2, 114, 240, 18, 107, 36, 101, 8, 75, 18, 90, 12, 52, 21, 15, 28, 160, 192, 264, 553, 13, 2, 215, 42, 6, 79, 1205, 288, 45, 49, 15, 78, 33, 63, 7, 24, 142, 17, 84, 66, 5, 1758, 34, 302, 23, 5, 218, 13, 2, 457, 3, 21, 6, 16, 7, 24, 1759, 5, 369, 3, 124, 58, 163, 1760, 9, 708, 152, 626, 342, 7, 182, 40, 2, 369, 3, 5, 623, 9, 2, 342, 3, 14, 91, 166, 4, 395, 2, 302, 57, 17, 498, 539, 173, 5, 34, 363, 15, 516, 242, 2, 146, 359, 41, 14, 46, 1099, 33, 63, 23, 2, 195, 495, 65, 25, 1761, 7, 1762, 6, 3, 148, 6, 4, 17, 1763, 8, 48, 220, 661, 37, 185, 4, 426, 7, 10, 4, 54, 1764, 8, 217, 58, 495, 201, 27, 8, 82, 91, 67, 32, 33, 363, 409, 8, 55, 848, 6, 82, 167, 65, 295, 139, 53, 26, 292, 8, 70, 87, 476, 9, 210, 118, 5, 708, 34, 103, 6, 69, 27, 238, 3, 94, 1108, 183, 7, 24, 1765, 130, 7, 24, 1206, 187, 2, 363, 7, 142, 17, 99, 1766, 397, 2, 1767, 3, 24, 4, 1207, 4, 1768, 17, 494, 134, 210, 571, 7, 239, 148, 39, 2, 363, 245, 4, 54, 15, 20, 87, 219, 8, 848, 8, 552, 18, 295, 128, 104, 16, 6, 37, 8, 72, 18, 107, 36, 19, 2, 154, 8, 55, 196, 8, 445, 18, 1206, 87, 27, 94, 709, 6, 14, 172, 538, 4, 196, 15, 7, 52, 21, 340, 3, 340, 3, 31, 178, 24, 4, 1769, 39, 21, 2, 951, 13, 191, 199, 41, 14, 30, 214, 302, 26, 33, 3, 7, 206, 2, 952, 9, 437, 39, 23, 38, 953, 397, 2, 154, 3, 2, 123, 255, 1208, 119, 17, 99, 286, 7, 52, 21, 340, 3, 16, 5, 141, 1770, 7, 148, 38, 255, 36, 9, 2, 457, 3, 38, 367, 40, 2, 572, 3, 10, 4, 54, 76, 8, 72, 55, 46, 104, 954, 622, 32, 140, 662, 9, 65, 1187, 26, 12, 2, 34, 1771, 363, 24, 76, 24, 81, 573, 952, 3, 7, 1772, 46, 492, 286, 6, 14, 31, 745, 3, 16, 41, 165, 4, 29, 46, 202, 9, 764, 9, 17, 193, 189, 36, 9, 2, 302, 53, 46, 213, 7, 186, 1209, 6, 14, 94, 1773, 19, 604, 61, 170, 12, 57, 38, 345, 18, 299, 340, 492, 3, 873, 3, 210, 765, 45, 78, 702, 3, 1774, 8, 549, 196, 8, 445, 18, 303, 39, 15, 93, 598, 3, 181, 3, 181, 6, 20, 177, 209, 11, 48, 33, 202, 9, 317, 8, 55, 213, 32, 72, 56, 493, 4, 65, 57, 8, 298, 4, 334, 1775, 1776, 8, 1210, 15, 502, 9, 103, 105, 493, 3, 76, 98, 8, 233, 13, 2, 488, 9, 38, 41, 260, 4, 29, 5, 326, 541, 45, 65, 15, 41, 260, 3, 57, 8, 295, 40, 8, 82, 574, 38, 25, 8, 70, 517, 40, 76, 7, 188, 13, 5, 1159, 125, 19, 410, 41, 20, 46, 302, 4, 295, 40, 128, 104, 98, 25, 44, 61, 12, 176, 8, 105, 107, 128, 1163, 183, 8, 233, 76, 15, 82, 29, 5, 1777, 38, 84, 105, 4, 29, 83, 211, 1211, 25, 44, 299, 4, 56, 353, 4, 508, 109, 8, 663, 18, 49, 15, 109, 11, 1778, 12, 7, 766, 54, 64, 72, 11, 508, 353, 13, 98, 121, 41, 20, 316, 302, 26, 11, 3, 46, 302, 19, 22, 26, 128, 901, 1212, 3, 27, 7, 52, 21, 664, 97, 38, 227, 3, 44, 2, 123, 3, 423, 87, 5, 402, 9, 6, 620, 25, 115, 5, 393, 336, 7, 155, 5, 106, 767, 3, 955, 4, 483, 761, 762, 761, 762, 10, 2, 106, 512, 65, 80, 342, 33, 147, 44, 122, 5, 34, 883, 9, 205, 21, 2, 840, 12, 247, 6, 14, 2, 93, 386, 4, 159, 26, 17, 3, 7, 1213, 200, 7, 408, 2, 215, 87, 956, 15, 7, 14, 76, 45, 5, 1079, 555, 16, 139, 16, 2, 93, 3, 24, 46, 411, 4, 29, 312, 9, 6, 1084, 2, 93, 122, 40, 4, 2, 154, 3, 206, 4, 491, 6, 25, 16, 2, 154, 361, 1779, 3, 12, 20, 953, 14, 918, 440, 397, 6, 15, 1780, 1214, 5, 1781, 12, 155, 6, 95, 4, 259, 44, 8, 82, 100, 119, 3, 107, 13, 19, 2, 457, 15, 11, 174, 18, 61, 12, 3, 115, 394, 200, 7, 1210, 7, 155, 2, 93, 91, 232, 2, 457, 7, 283, 892, 36, 17, 197, 3, 151, 5, 1215, 13, 2, 244, 7, 69, 30, 107, 365, 9, 201, 25, 7, 155, 5, 34, 665, 3, 5, 482, 3, 5, 957, 9, 571, 359, 134, 102, 7, 1216, 15, 6, 14, 91, 1782, 6, 24, 696, 66, 5, 1217, 1783, 58, 220, 9, 2, 202, 153, 122, 83, 644, 106, 2, 93, 20, 958, 958, 254, 89, 11, 3, 44, 5, 106, 7, 24, 105, 155, 130, 185, 44, 8, 70, 98, 735, 26, 1218, 768, 769, 735, 26, 1218, 238, 10, 2, 93, 407, 98, 108, 3, 399, 65, 36, 9, 33, 770, 9, 104, 571, 359, 76, 144, 65, 958, 32, 20, 15, 13, 2, 457, 185, 6, 20, 83, 255, 768, 769, 35, 1784, 6, 1785, 83, 255, 11, 1219, 71, 193, 261, 38, 15, 293, 121, 6, 1786, 2, 301, 457, 185, 6, 409, 768, 769, 25, 6, 20, 83, 255, 26, 22, 15, 68, 6, 20, 111, 46, 518, 41, 19, 128, 392, 100, 3, 190, 6, 179, 41, 14, 5, 145, 279, 115, 33, 3, 12, 59, 101, 258, 1787, 76, 3, 44, 118, 16, 185, 8, 75, 18, 49, 6, 768, 769, 19, 22, 19, 22, 55, 16, 8, 144, 11, 11, 1788, 3, 19, 141, 7, 892, 36, 17, 197, 53, 3, 151, 191, 1215, 13, 2, 244, 33, 63, 41, 50, 124, 34, 1789, 3, 104, 770, 9, 571, 359, 32, 5, 639, 9, 1217, 1790, 41, 113, 29, 61, 12, 8, 213, 32, 28, 82, 55, 153, 16, 26, 1791, 65, 36, 9, 2, 457, 8, 101, 196, 28, 59, 8, 70, 185, 8, 75, 18, 398, 4, 635, 13, 98, 128, 853, 7, 335, 26, 96, 63, 171, 771, 201, 104, 19, 141, 122, 5, 1792, 9, 34, 1793, 3, 2, 699, 9, 5, 168, 309, 919, 22, 225, 412, 7, 151, 36, 2, 195, 254, 20, 2, 123, 1794, 121, 8, 445, 18, 4, 871, 25, 38, 230, 20, 111, 2, 123, 230, 512, 6, 98, 1795, 98, 148, 959, 40, 19, 33, 706, 46, 1796, 959, 412, 97, 28, 75, 18, 717, 187, 236, 219, 181, 109, 28, 82, 55, 68, 219, 75, 18, 29, 758, 98, 230, 703, 365, 9, 33, 1797, 140, 2, 544, 1220, 327, 15, 1798, 772, 109, 6, 20, 386, 39, 354, 960, 5, 575, 957, 76, 71, 69, 15, 6, 14, 230, 8, 484, 71, 20, 4, 100, 39, 2, 572, 1799, 8, 552, 18, 11, 55, 6, 15, 8, 174, 18, 44, 230, 20, 4, 100, 39, 98, 230, 2, 773, 739, 11, 131, 4, 100, 39, 2, 572, 109, 27, 230, 20, 111, 4, 108, 39, 2, 572, 514, 35, 10, 12, 4, 54, 1800, 28, 432, 4, 148, 271, 173, 230, 8, 285, 18, 29, 13, 230, 20, 458, 26, 5, 168, 318, 33, 1801, 37, 1135, 4, 29, 185, 25, 8, 90, 8, 72, 961, 5, 34, 7, 666, 17, 367, 16, 296, 39, 2, 572, 16, 7, 59, 3, 335, 200, 7, 155, 5, 34, 1149, 7, 387, 18, 895, 9, 32, 202, 6, 14, 1802, 3, 1803, 45, 13, 2, 572, 284, 962, 17, 44, 245, 4, 54, 33, 37, 230, 7, 250, 38, 576, 961, 3, 335, 4, 67, 32, 51, 426, 153, 2, 97, 103, 7, 155, 14, 5, 899, 568, 9, 41, 506, 230, 44, 2, 93, 20, 106, 546, 703, 116, 11, 78, 2, 1069, 44, 279, 3, 44, 191, 650, 9, 919, 365, 40, 43, 99, 1804, 76, 75, 18, 1805, 116, 64, 14, 6, 211, 774, 32, 493, 4, 11, 144, 277, 22, 45, 6, 141, 122, 5, 34, 1221, 1222, 106, 15, 20, 230, 61, 12, 68, 8, 316, 48, 46, 104, 775, 1806, 8, 70, 278, 76, 25, 8, 70, 5, 318, 172, 1807, 4, 144, 11, 22, 8, 48, 37, 220, 1223, 19, 65, 49, 5, 1808, 13, 2, 366, 3, 40, 8, 506, 49, 5, 667, 1809, 27, 11, 69, 211, 774, 10, 2, 515, 137, 113, 1106, 2, 215, 39, 10, 2, 93, 20, 106, 3, 12, 253, 36, 16, 575, 16, 7, 59, 42, 11, 55, 8, 82, 270, 264, 19, 11, 41, 14, 5, 776, 279, 668, 3, 12, 61, 4, 54, 8, 213, 32, 28, 140, 55, 153, 42, 28, 24, 128, 963, 28, 160, 190, 2, 544, 62, 115, 5, 199, 58, 124, 28, 79, 964, 45, 53, 3, 12, 155, 2, 93, 95, 5, 1224, 140, 55, 4, 291, 23, 5, 1224, 9, 32, 61, 12, 25, 7, 24, 30, 145, 4, 777, 26, 2, 153, 147, 5, 1225, 9, 34, 1226, 122, 1227, 13, 19, 2, 457, 3, 96, 9, 47, 1228, 17, 13, 2, 249, 8, 82, 148, 5, 553, 4, 33, 7, 10, 4, 54, 3, 413, 36, 11, 160, 278, 30, 55, 15, 53, 102, 1810, 191, 776, 279, 12, 427, 23, 96, 669, 15, 2, 1226, 50, 22, 323, 66, 34, 965, 16, 28, 778, 21, 2, 951, 3, 5, 434, 243, 122, 66, 17, 99, 42, 8, 217, 38, 9, 273, 965, 7, 61, 6, 20, 185, 4, 167, 96, 272, 13, 80, 293, 3, 16, 6, 72, 18, 869, 167, 65, 492, 6, 113, 167, 65, 873, 8, 275, 27, 7, 1811, 38, 9, 2, 965, 3, 14, 1229, 4, 198, 15, 7, 79, 733, 1204, 16, 178, 16, 7, 14, 360, 219, 4, 107, 262, 2, 154, 7, 231, 36, 9, 2, 215, 3, 142, 87, 5, 779, 9, 34, 742, 3, 372, 394, 767, 2, 170, 34, 577, 230, 14, 13, 2, 488, 210, 780, 40, 78, 124, 578, 579, 71, 50, 1230, 6, 220, 36, 9, 5, 363, 28, 22, 151, 5, 1231, 19, 12, 2, 147, 7, 459, 25, 7, 231, 62, 16, 440, 16, 7, 59, 3, 178, 142, 54, 1232, 13, 5, 1812, 460, 2, 97, 103, 8, 112, 111, 4, 55, 10, 12, 4, 54, 16, 7, 1233, 45, 13, 2, 460, 37, 4, 295, 4, 80, 143, 293, 53, 3, 2, 710, 103, 37, 4, 198, 80, 84, 66, 15, 1112, 237, 8, 90, 15, 140, 29, 2, 315, 781, 6, 632, 83, 1234, 781, 46, 777, 3, 31, 1130, 3, 925, 1813, 2, 101, 782, 14, 15, 7, 24, 30, 2, 1235, 243, 64, 4, 270, 45, 6, 3, 180, 7, 14, 1814, 45, 269, 310, 2, 519, 5, 34, 576, 1236, 91, 120, 17, 99, 151, 17, 159, 40, 13, 5, 127, 333, 83, 1815, 520, 14, 146, 39, 19, 17, 23, 139, 119, 157, 3, 1816, 1237, 36, 38, 966, 266, 4, 1817, 17, 170, 34, 103, 10, 12, 13, 5, 1238, 125, 3, 7, 206, 440, 4, 1818, 4, 6, 25, 7, 14, 1819, 509, 22, 2, 63, 19, 2, 61, 15, 6, 162, 29, 967, 13, 102, 638, 6, 51, 29, 31, 605, 4, 217, 17, 40, 13, 1820, 9, 22, 17, 1238, 316, 1164, 32, 7, 69, 7, 968, 40, 5, 34, 234, 9, 783, 3, 780, 6, 36, 4, 2, 520, 1821, 2, 520, 543, 66, 2, 244, 62, 22, 81, 205, 19, 136, 23, 5, 1822, 9, 855, 3, 1823, 19, 2, 783, 3, 151, 405, 4, 1824, 6, 44, 12, 1825, 290, 5, 127, 1239, 4, 346, 54, 134, 210, 763, 120, 3, 2, 147, 7, 459, 21, 2, 123, 227, 2, 520, 151, 191, 1231, 19, 2, 783, 3, 1826, 99, 120, 1827, 13, 81, 333, 4, 107, 365, 9, 6, 44, 12, 343, 6, 14, 31, 49, 350, 5, 294, 9, 444, 23, 5, 1828, 1829, 3, 876, 313, 147, 4, 29, 1830, 232, 81, 205, 231, 119, 2, 1239, 53, 44, 2, 520, 79, 5, 1831, 9, 753, 1832, 19, 2, 783, 452, 5, 31, 34, 84, 1833, 461, 63, 3, 5, 145, 84, 129, 3, 1834, 1835, 22, 2, 180, 200, 19, 141, 6, 228, 39, 5, 168, 84, 62, 1183, 23, 81, 757, 854, 36, 9, 81, 379, 3, 81, 127, 157, 187, 615, 33, 165, 4, 12, 5, 168, 430, 26, 423, 17, 734, 27, 7, 270, 62, 19, 136, 3, 231, 200, 7, 14, 87, 476, 3, 36, 9, 756, 3, 200, 2, 520, 20, 1236, 632, 87, 1836, 13, 2, 431, 3, 181, 32, 5, 158, 34, 520, 6, 14, 10, 12, 16, 7, 1837, 397, 5, 1838, 4, 376, 54, 3, 1839, 54, 23, 38, 9, 2, 542, 8, 169, 56, 567, 1840, 6, 1841, 31, 94, 42, 42, 8, 160, 101, 132, 2, 143, 293, 4, 55, 6, 109, 158, 8, 160, 344, 548, 15, 8, 112, 111, 4, 295, 40, 53, 192, 65, 67, 64, 37, 6, 4, 29, 694, 8, 275, 8, 260, 4, 217, 58, 495, 220, 58, 123, 25, 2, 127, 226, 37, 32, 2, 127, 226, 267, 14, 32, 12, 110, 22, 119, 17, 19, 2, 1095, 3, 2, 1842, 9, 784, 25, 7, 69, 30, 67, 201, 15, 110, 49, 2, 143, 103, 4, 217, 58, 495, 232, 2, 1843, 41, 14, 5, 139, 462, 340, 242, 17, 45, 2, 184, 670, 16, 54, 3, 57, 7, 24, 110, 232, 6, 3, 21, 280, 692, 9, 6, 3, 290, 6, 6, 1066, 4, 17, 15, 7, 162, 16, 68, 159, 3, 67, 32, 14, 21, 2, 428, 9, 6, 7, 1240, 54, 40, 21, 1241, 3, 833, 120, 2, 969, 9, 2, 462, 3, 17, 157, 970, 933, 362, 9, 5, 139, 164, 15, 14, 349, 21, 2, 428, 23, 81, 580, 971, 671, 1242, 5, 145, 672, 3, 664, 30, 2, 1235, 647, 9, 17, 58, 9, 201, 311, 308, 1844, 1114, 134, 5, 164, 2, 164, 3, 12, 110, 19, 461, 123, 26, 96, 63, 13, 279, 19, 141, 2, 164, 182, 2, 672, 36, 9, 81, 379, 3, 1243, 17, 13, 5, 1845, 600, 106, 71, 89, 11, 10, 2, 164, 33, 14, 30, 83, 1244, 878, 26, 5, 402, 12, 161, 177, 1846, 8, 8, 316, 48, 504, 91, 19, 972, 19, 410, 8, 48, 71, 8, 14, 57, 8, 111, 40, 33, 629, 25, 8, 90, 8, 113, 56, 132, 441, 698, 555, 759, 44, 32, 55, 11, 378, 78, 15, 10, 2, 164, 1847, 375, 368, 8, 72, 18, 375, 501, 8, 70, 312, 504, 10, 12, 248, 8, 70, 30, 501, 11, 67, 8, 75, 18, 67, 10, 2, 164, 8, 70, 312, 8, 72, 18, 148, 6, 104, 1848, 12, 161, 31, 565, 26, 8, 72, 18, 559, 6, 501, 4, 291, 23, 3, 210, 27, 309, 400, 1849, 13, 5, 156, 37, 31, 973, 6, 521, 18, 10, 2, 164, 68, 224, 11, 463, 18, 142, 6, 27, 181, 10, 12, 25, 57, 11, 56, 4, 347, 66, 5, 1850, 11, 140, 96, 156, 11, 48, 3, 44, 115, 15, 66, 5, 1851, 8, 169, 90, 11, 82, 422, 6, 5, 34, 320, 174, 18, 11, 30, 5, 234, 10, 2, 164, 68, 224, 74, 1150, 304, 29, 400, 10, 12, 22, 8, 48, 37, 6, 51, 422, 31, 320, 4, 65, 11, 10, 2, 164, 1245, 71, 89, 11, 102, 974, 47, 129, 53, 4, 2, 257, 9, 2, 402, 12, 186, 5, 34, 1852, 19, 2, 164, 20, 423, 118, 31, 753, 975, 3, 7, 666, 54, 40, 3, 10, 31, 921, 8, 90, 11, 260, 4, 144, 65, 71, 11, 89, 97, 121, 10, 2, 164, 98, 14, 191, 729, 226, 3, 16, 12, 59, 30, 90, 9, 128, 168, 411, 3, 16, 2, 164, 165, 4, 29, 13, 5, 31, 1104, 1853, 9, 327, 7, 235, 179, 108, 129, 2, 164, 253, 115, 17, 8, 112, 220, 403, 4, 95, 33, 632, 1854, 267, 12, 235, 3, 122, 129, 53, 346, 74, 655, 10, 2, 164, 37, 15, 22, 10, 12, 1855, 39, 17, 1246, 16, 68, 16, 7, 59, 46, 10, 2, 164, 12, 61, 7, 162, 16, 68, 1856, 16, 7, 24, 135, 311, 4, 55, 3, 224, 115, 22, 6, 162, 144, 17, 220, 690, 771, 26, 96, 336, 6, 1857, 179, 171, 642, 25, 19, 141, 6, 1247, 81, 580, 182, 2, 672, 36, 9, 81, 379, 53, 3, 10, 27, 11, 90, 11, 131, 441, 55, 11, 8, 70, 312, 8, 233, 504, 10, 12, 8, 72, 18, 265, 149, 16, 8, 298, 3, 8, 75, 18, 346, 2, 184, 293, 26, 550, 336, 412, 72, 18, 265, 32, 149, 10, 2, 164, 68, 8, 112, 206, 4, 95, 64, 889, 2, 34, 1248, 1858, 25, 6, 22, 122, 400, 12, 161, 13, 5, 31, 566, 106, 507, 11, 89, 211, 581, 446, 10, 2, 164, 12, 971, 17, 322, 3, 79, 11, 89, 211, 581, 446, 2, 656, 673, 10, 3, 74, 505, 514, 662, 31, 152, 3, 181, 11, 1859, 582, 21, 74, 99, 55, 11, 90, 19, 74, 726, 6, 37, 143, 13, 80, 583, 581, 446, 161, 4, 43, 1860, 8, 1861, 6, 162, 1862, 2, 1863, 25, 76, 15, 8, 70, 785, 185, 8, 56, 786, 121, 8, 55, 6, 53, 3, 53, 11, 89, 211, 10, 2, 583, 16, 8, 944, 130, 3, 56, 517, 464, 1864, 1865, 181, 11, 235, 5, 129, 1249, 13, 19, 2, 154, 976, 32, 37, 2, 411, 9, 15, 13, 80, 583, 10, 2, 1866, 16, 35, 408, 43, 1867, 1092, 8, 297, 22, 80, 1868, 31, 1869, 78, 2, 212, 9, 33, 1870, 38, 1871, 2, 366, 914, 65, 4, 1250, 11, 5, 1872, 11, 89, 211, 10, 2, 583, 3, 74, 1133, 89, 172, 1251, 26, 201, 1873, 183, 1874, 181, 11, 314, 2, 1219, 23, 2, 1875, 3, 2, 1876, 976, 64, 69, 11, 485, 4, 55, 6, 13, 80, 583, 10, 43, 581, 8, 182, 4, 2, 1190, 3, 1877, 461, 638, 23, 80, 1878, 3, 2, 1879, 1880, 102, 6, 250, 4, 80, 1881, 514, 1252, 2, 376, 9, 80, 317, 11, 89, 211, 10, 2, 583, 38, 51, 316, 275, 15, 74, 498, 14, 16, 1882, 16, 193, 181, 11, 1883, 83, 1253, 21, 2, 216, 9, 74, 465, 32, 151, 11, 27, 1884, 1254, 8, 56, 766, 163, 787, 3, 15, 37, 219, 10, 43, 581, 75, 18, 319, 368, 1885, 55, 11, 90, 8, 72, 483, 22, 156, 4, 118, 788, 29, 62, 58, 8, 82, 961, 11, 39, 840, 15, 37, 30, 10, 143, 10, 2, 164, 30, 87, 143, 8, 70, 312, 10, 12, 414, 96, 9, 2, 195, 56, 111, 1886, 6, 37, 631, 134, 257, 4, 216, 10, 2, 164, 789, 3, 41, 14, 279, 26, 96, 336, 2, 164, 14, 2, 97, 4, 251, 32, 293, 55, 11, 398, 4, 29, 6, 229, 109, 8, 70, 30, 758, 16, 4, 293, 12, 239, 161, 101, 38, 240, 18, 49, 1255, 27, 674, 11, 48, 8, 75, 18, 48, 10, 2, 164, 12, 10, 135, 7, 24, 105, 132, 27, 94, 1887, 13, 17, 317, 130, 3, 7, 186, 15, 7, 14, 1888, 17, 655, 89, 11, 1889, 76, 10, 2, 164, 68, 8, 169, 49, 4, 29, 5, 34, 492, 504, 42, 11, 285, 18, 327, 10, 12, 163, 545, 37, 118, 5, 1256, 670, 4, 29, 6, 37, 5, 31, 168, 670, 238, 10, 2, 164, 407, 1890, 259, 1891, 16, 6, 223, 6, 14, 454, 163, 545, 236, 25, 8, 70, 30, 298, 4, 6, 935, 170, 12, 13, 5, 1892, 125, 3, 7, 61, 9, 54, 8, 196, 2, 373, 285, 18, 29, 27, 936, 371, 11, 82, 107, 298, 4, 6, 13, 63, 10, 2, 164, 3, 6, 148, 2, 672, 66, 81, 379, 3, 79, 1242, 53, 33, 63, 12, 335, 1257, 625, 6, 1258, 4, 251, 53, 13, 5, 199, 58, 124, 2, 164, 182, 2, 672, 36, 9, 81, 379, 3, 1259, 136, 58, 599, 3, 408, 259, 44, 6, 111, 39, 62, 2, 462, 3, 1893, 179, 13, 2, 784, 1260, 942, 16, 6, 52, 38, 227, 140, 167, 11, 295, 1261, 3, 2, 123, 227, 140, 167, 11, 295, 1262, 38, 227, 9, 32, 2, 123, 227, 9, 32, 61, 12, 4, 54, 9, 2, 462, 10, 2, 164, 91, 16, 42, 7, 24, 229, 6, 606, 3, 13, 191, 147, 6, 14, 36, 9, 357, 12, 875, 146, 790, 19, 2, 462, 26, 5, 199, 266, 4, 167, 36, 102, 50, 2, 124, 692, 9, 6, 3, 16, 6, 14, 785, 119, 7, 142, 33, 5, 31, 1263, 226, 203, 19, 141, 7, 1240, 17, 580, 119, 6, 16, 296, 16, 28, 51, 100, 3, 1264, 62, 5, 234, 9, 2, 969, 23, 461, 197, 3, 76, 102, 37, 102, 7, 10, 4, 54, 3, 1265, 5, 34, 9, 2, 143, 197, 234, 4, 321, 2, 952, 2, 153, 147, 7, 186, 5, 1266, 1267, 1077, 17, 510, 6, 24, 1121, 17, 367, 7, 14, 5, 168, 318, 509, 78, 33, 31, 636, 272, 25, 7, 186, 15, 41, 14, 46, 63, 4, 29, 851, 16, 7, 14, 733, 1134, 27, 7, 270, 4, 438, 19, 136, 4, 217, 96, 9, 2, 123, 234, 17, 510, 14, 918, 27, 1894, 397, 17, 367, 15, 41, 14, 316, 302, 4, 491, 17, 379, 25, 7, 69, 6, 19, 141, 3, 694, 4, 1895, 5, 1896, 9, 2, 1268, 234, 108, 80, 99, 20, 977, 19, 141, 10, 12, 13, 5, 125, 9, 855, 102, 441, 66, 1269, 13, 191, 147, 57, 7, 142, 15, 17, 712, 50, 1201, 4, 29, 142, 22, 7, 59, 67, 57, 7, 110, 39, 14, 83, 1897, 1898, 9, 494, 102, 165, 4, 1899, 49, 5, 1900, 36, 9, 5, 274, 9, 791, 542, 15, 778, 296, 960, 17, 32, 72, 22, 15, 791, 788, 29, 10, 12, 3, 254, 56, 80, 712, 111, 4, 3, 109, 80, 170, 322, 64, 37, 6, 8, 72, 18, 67, 11, 7, 14, 964, 47, 45, 16, 7, 223, 25, 46, 1901, 165, 4, 1270, 707, 5, 34, 978, 310, 2, 1271, 791, 542, 16, 41, 165, 4, 29, 46, 764, 9, 189, 17, 322, 40, 4, 17, 99, 7, 206, 4, 107, 17, 99, 39, 4, 47, 3, 14, 1229, 4, 198, 15, 17, 494, 51, 1193, 45, 936, 13, 128, 660, 49, 5, 415, 7, 24, 91, 979, 13, 1902, 6, 39, 66, 5, 1903, 1904, 3, 14, 166, 4, 1905, 13, 310, 2, 542, 102, 7, 142, 4, 29, 135, 25, 2, 1906, 9, 2, 519, 232, 102, 7, 24, 132, 1272, 57, 5, 576, 1907, 151, 17, 522, 129, 13, 5, 333, 5, 139, 324, 24, 1908, 66, 17, 249, 3, 14, 1273, 17, 725, 23, 81, 1909, 415, 792, 2, 324, 8, 70, 30, 5, 415, 10, 12, 793, 192, 65, 732, 415, 8, 95, 53, 380, 2, 324, 25, 13, 5, 104, 1910, 125, 3, 188, 23, 5, 502, 9, 1911, 8, 112, 206, 313, 84, 3, 135, 634, 4, 943, 47, 8, 463, 18, 2, 410, 243, 32, 11, 131, 225, 45, 10, 12, 8, 112, 206, 2, 1274, 9, 519, 3, 8, 112, 206, 1912, 3, 8, 112, 206, 1913, 2, 324, 52, 21, 171, 934, 4, 17, 25, 362, 980, 41, 20, 46, 1914, 47, 12, 14, 104, 3, 104, 416, 25, 7, 61, 41, 14, 46, 212, 13, 245, 201, 104, 200, 2, 324, 24, 314, 16, 42, 6, 345, 18, 537, 219, 1915, 2, 675, 10, 2, 324, 25, 8, 113, 29, 21, 2, 159, 36, 26, 980, 610, 3, 156, 121, 8, 463, 18, 24, 5, 1144, 9, 584, 273, 163, 1916, 8, 70, 31, 1917, 11, 112, 132, 1918, 10, 12, 71, 14, 257, 4, 67, 81, 451, 3, 91, 16, 8, 160, 794, 2, 1919, 417, 13, 2, 460, 404, 2, 324, 1920, 81, 106, 4, 5, 665, 3, 91, 16, 8, 14, 343, 8, 169, 29, 977, 9, 47, 19, 141, 28, 113, 1921, 108, 1922, 39, 134, 2, 667, 1173, 415, 25, 8, 70, 30, 5, 415, 8, 144, 11, 10, 12, 8, 70, 5, 8, 70, 5, 68, 32, 89, 11, 10, 2, 324, 8, 72, 67, 11, 131, 266, 4, 1923, 220, 8, 8, 70, 5, 34, 700, 10, 12, 177, 1275, 16, 7, 621, 2, 639, 9, 1276, 7, 24, 303, 262, 15, 156, 5, 605, 455, 238, 10, 2, 324, 13, 5, 125, 9, 2, 1924, 1925, 8, 112, 241, 5, 168, 309, 34, 981, 13, 80, 63, 25, 105, 38, 23, 118, 5, 494, 16, 15, 46, 46, 11, 131, 5, 415, 3, 41, 20, 46, 212, 1926, 6, 8, 275, 11, 82, 29, 1277, 65, 153, 15, 11, 105, 982, 83, 1927, 8, 56, 982, 675, 267, 10, 12, 71, 14, 5, 31, 1928, 338, 25, 34, 981, 217, 675, 87, 16, 94, 16, 980, 55, 11, 48, 8, 75, 18, 405, 6, 10, 2, 324, 25, 42, 28, 55, 121, 44, 28, 131, 5, 502, 9, 415, 15, 20, 22, 8, 72, 95, 33, 14, 118, 5, 608, 243, 4, 12, 15, 7, 14, 87, 523, 26, 5, 199, 58, 124, 102, 250, 2, 324, 2, 430, 9, 1929, 11, 131, 146, 26, 675, 8, 48, 15, 68, 219, 3, 32, 409, 6, 389, 4, 65, 328, 11, 131, 5, 34, 700, 58, 5, 415, 6, 1278, 5, 168, 318, 4, 65, 10, 12, 239, 25, 8, 70, 30, 146, 26, 675, 16, 6, 622, 3, 42, 8, 14, 8, 663, 18, 398, 983, 8, 75, 18, 49, 47, 1930, 68, 29, 62, 44, 10, 2, 324, 13, 5, 913, 125, 16, 6, 984, 39, 53, 66, 81, 1931, 12, 1932, 39, 310, 2, 519, 16, 68, 16, 7, 59, 26, 17, 494, 297, 189, 1279, 310, 2, 1280, 3, 313, 76, 3, 44, 7, 24, 4, 553, 3, 1933, 6, 115, 5, 180, 7, 621, 15, 7, 286, 780, 2, 985, 9, 462, 13, 17, 322, 3, 7, 270, 4, 438, 31, 941, 986, 97, 19, 38, 3, 44, 19, 2, 123, 3, 340, 611, 1261, 3, 611, 1262, 625, 7, 24, 979, 13, 987, 54, 39, 4, 17, 628, 670, 6, 14, 27, 145, 759, 7, 24, 132, 201, 242, 2, 143, 293, 15, 6, 186, 87, 633, 19, 97, 25, 7, 111, 298, 4, 6, 13, 5, 393, 336, 3, 79, 225, 4, 54, 16, 628, 108, 41, 20, 187, 80, 781, 252, 76, 64, 729, 22, 273, 1276, 89, 8, 70, 105, 185, 32, 8, 70, 166, 4, 29, 134, 38, 199, 4, 191, 203, 8, 112, 111, 129, 4, 80, 143, 293, 2, 153, 103, 37, 4, 107, 66, 15, 305, 237, 64, 37, 15, 4, 29, 252, 8, 213, 16, 7, 10, 33, 7, 122, 283, 173, 83, 491, 458, 23, 5, 34, 215, 13, 6, 45, 429, 205, 236, 1934, 795, 41, 61, 12, 6, 82, 105, 55, 4, 108, 173, 47, 33, 293, 121, 8, 169, 1935, 47, 36, 9, 92, 1936, 27, 7, 79, 986, 19, 2, 1937, 234, 53, 3, 69, 30, 940, 4, 100, 242, 2, 215, 200, 7, 24, 974, 54, 39, 4, 624, 545, 236, 308, 1938, 348, 3, 466, 26, 5, 199, 58, 124, 7, 516, 146, 19, 2, 215, 3, 489, 32, 4, 55, 153, 57, 283, 5, 281, 13, 988, 122, 452, 36, 9, 2, 460, 7, 989, 116, 4, 29, 5, 281, 248, 35, 14, 13, 988, 796, 1939, 78, 43, 249, 101, 7, 51, 56, 253, 116, 5, 467, 3, 1940, 990, 19, 2, 154, 23, 43, 1941, 6, 14, 361, 78, 191, 281, 13, 988, 23, 5, 119, 249, 3, 139, 157, 49, 5, 915, 3, 280, 1942, 12, 427, 24, 1943, 505, 15, 1208, 22, 120, 92, 354, 7, 186, 31, 209, 4, 48, 32, 6, 14, 22, 45, 3, 1944, 5, 34, 84, 36, 9, 2, 460, 4, 483, 2, 467, 281, 79, 78, 1945, 134, 232, 43, 255, 5, 127, 991, 344, 16, 139, 16, 554, 3, 33, 35, 920, 120, 4, 2, 123, 245, 13, 5, 926, 125, 26, 2, 117, 83, 1281, 134, 2, 60, 4, 444, 396, 2, 915, 281, 380, 13, 2, 184, 926, 125, 101, 1255, 2, 992, 9, 2, 195, 5, 34, 134, 2, 60, 83, 1281, 26, 2, 117, 4, 444, 396, 44, 28, 280, 754, 246, 3, 92, 1946, 111, 1279, 412, 12, 1282, 27, 94, 19, 33, 15, 7, 24, 4, 763, 129, 66, 2, 460, 26, 693, 9, 92, 771, 17, 3, 57, 7, 153, 833, 36, 2, 467, 281, 14, 303, 3, 2, 123, 14, 349, 21, 2, 468, 242, 2, 154, 993, 1947, 40, 66, 2, 667, 12, 52, 414, 40, 4, 2, 154, 3, 1948, 41, 20, 46, 202, 9, 212, 13, 949, 10, 2, 281, 3, 15, 26, 124, 1949, 97, 248, 8, 70, 21, 2, 184, 227, 9, 2, 154, 16, 11, 89, 1283, 248, 28, 131, 423, 118, 5, 927, 1284, 46, 38, 59, 869, 258, 11, 3, 267, 41, 14, 5, 464, 1285, 927, 166, 21, 1286, 5, 1287, 994, 3, 585, 3, 313, 76, 3, 44, 5, 127, 957, 16, 42, 5, 797, 58, 1950, 24, 132, 571, 4, 985, 207, 44, 10, 12, 64, 233, 8, 4, 107, 13, 41, 162, 29, 96, 963, 13, 74, 949, 2, 281, 52, 21, 171, 934, 4, 17, 42, 137, 24, 2, 154, 586, 277, 26, 995, 42, 11, 50, 1284, 11, 162, 1951, 3, 8, 59, 192, 11, 36, 11, 48, 35, 14, 146, 40, 66, 2, 667, 22, 2, 63, 35, 14, 642, 3, 33, 12, 61, 789, 1952, 25, 224, 35, 72, 18, 399, 6, 7, 10, 4, 54, 43, 157, 89, 27, 31, 344, 19, 2, 428, 9, 43, 99, 25, 19, 128, 392, 35, 162, 388, 787, 64, 233, 8, 4, 107, 13, 7, 380, 606, 8, 176, 450, 98, 2, 281, 381, 200, 1953, 19, 33, 147, 2, 154, 9, 2, 215, 361, 3, 5, 139, 948, 122, 1954, 36, 1070, 19, 2, 281, 20, 99, 6, 91, 1955, 43, 465, 3, 1264, 4, 985, 397, 38, 9, 2, 519, 290, 116, 58, 153, 156, 1288, 2, 281, 404, 13, 2, 184, 125, 454, 16, 42, 135, 24, 493, 64, 233, 8, 4, 107, 13, 229, 12, 53, 13, 5, 1956, 125, 89, 11, 4, 107, 13, 19, 22, 10, 2, 281, 15, 20, 2, 97, 226, 11, 48, 6, 14, 46, 777, 101, 12, 69, 30, 49, 4, 29, 587, 27, 6, 20, 292, 1289, 7, 1290, 4, 54, 2, 84, 22, 2, 373, 1957, 6, 20, 219, 4, 1291, 38, 1958, 2, 281, 165, 4, 90, 33, 5, 168, 430, 26, 996, 43, 382, 23, 1959, 8, 176, 450, 98, 35, 10, 21, 3, 62, 26, 798, 3, 798, 25, 32, 233, 8, 4, 55, 10, 12, 201, 11, 49, 10, 2, 281, 3, 79, 1960, 109, 41, 20, 46, 212, 13, 225, 4, 116, 10, 12, 1961, 35, 20, 785, 1962, 3, 7, 361, 2, 154, 3, 52, 13, 2, 154, 711, 143, 66, 5, 139, 799, 102, 14, 573, 9, 1963, 134, 38, 216, 4, 2, 123, 2, 117, 14, 349, 21, 5, 163, 1091, 1964, 13, 2, 488, 997, 5, 282, 2, 306, 14, 1292, 120, 2, 737, 1293, 5, 139, 1294, 102, 165, 4, 29, 573, 9, 221, 41, 20, 267, 172, 94, 466, 13, 15, 221, 12, 10, 4, 54, 16, 68, 16, 7, 59, 26, 585, 41, 14, 267, 172, 94, 9, 6, 13, 2, 244, 214, 2, 117, 1965, 1966, 3, 16, 26, 2, 282, 6, 14, 585, 3, 994, 1967, 171, 5, 147, 20, 1295, 2, 101, 149, 13, 2, 799, 15, 69, 30, 1296, 50, 2, 306, 3, 5, 139, 133, 102, 14, 349, 21, 2, 1968, 3, 1969, 134, 588, 4, 588, 207, 51, 11, 144, 65, 10, 12, 5, 34, 414, 26, 7, 14, 30, 87, 185, 328, 6, 14, 168, 1970, 26, 17, 4, 251, 97, 121, 74, 133, 1971, 49, 15, 6, 20, 5, 524, 133, 10, 2, 117, 3, 15, 20, 121, 348, 7, 10, 2, 141, 355, 23, 118, 636, 1972, 15, 12, 87, 543, 25, 7, 261, 13, 191, 147, 15, 6, 14, 1243, 4, 2, 282, 3, 30, 4, 17, 27, 7, 182, 998, 3, 52, 21, 53, 8, 263, 18, 48, 15, 524, 289, 299, 999, 13, 435, 8, 263, 18, 48, 15, 289, 59, 557, 28, 22, 72, 10, 2, 117, 3, 464, 9, 959, 55, 8, 75, 18, 48, 9, 128, 15, 55, 12, 10, 31, 565, 496, 87, 525, 4, 56, 111, 66, 5, 402, 11, 75, 18, 48, 94, 10, 2, 117, 3, 15, 20, 5, 435, 12, 69, 30, 19, 22, 49, 2, 125, 9, 33, 382, 3, 61, 6, 51, 29, 16, 68, 4, 1297, 96, 123, 563, 9, 402, 180, 7, 14, 266, 4, 1973, 21, 38, 2, 306, 182, 2, 1294, 9, 221, 62, 2, 737, 3, 19, 136, 270, 4, 438, 1298, 271, 1286, 17, 717, 19, 2, 117, 3, 2, 282, 2, 737, 1974, 122, 97, 44, 436, 5, 1225, 9, 1975, 1299, 3, 1300, 2, 117, 182, 46, 647, 9, 47, 214, 57, 28, 1228, 17, 3, 2, 282, 14, 994, 27, 94, 1301, 15, 6, 14, 87, 857, 4, 95, 328, 2, 1976, 850, 6, 58, 30, 109, 207, 327, 32, 11, 131, 659, 204, 12, 800, 40, 3, 39, 13, 83, 1977, 9, 1978, 109, 41, 506, 43, 1979, 465, 16, 83, 1980, 139, 1981, 1982, 284, 78, 6, 3, 31, 344, 801, 6, 62, 42, 453, 1983, 92, 351, 518, 2, 117, 10, 13, 5, 891, 1000, 2, 479, 51, 100, 119, 5, 318, 1001, 183, 6, 409, 102, 51, 30, 29, 83, 1002, 10, 12, 71, 186, 31, 331, 4, 107, 83, 430, 9, 1081, 62, 5, 34, 9, 17, 843, 91, 90, 9, 32, 438, 6, 51, 167, 23, 2, 156, 3, 610, 11, 67, 2, 697, 1302, 888, 429, 802, 4, 347, 119, 21, 81, 1984, 225, 9, 1985, 10, 2, 117, 1986, 62, 17, 99, 12, 1987, 177, 269, 19, 2, 306, 4, 67, 42, 7, 676, 4, 190, 2, 1303, 25, 2, 306, 14, 803, 1293, 2, 221, 3, 165, 30, 4, 29, 846, 27, 7, 52, 21, 53, 888, 429, 802, 8, 90, 58, 37, 6, 730, 8, 109, 75, 18, 1988, 65, 10, 2, 117, 8, 105, 59, 1989, 1990, 3, 23, 15, 7, 79, 997, 17, 338, 53, 1304, 5, 202, 9, 1991, 4, 6, 16, 7, 69, 27, 3, 1230, 6, 5, 1266, 1992, 19, 2, 216, 9, 313, 1305, 251, 1993, 4, 74, 34, 1003, 3, 804, 116, 57, 35, 1306, 35, 101, 409, 6, 4, 1994, 248, 35, 1125, 6, 1995, 568, 13, 102, 2, 306, 3, 2, 282, 937, 589, 589, 589, 180, 2, 117, 1307, 2, 710, 805, 9, 2, 526, 7, 297, 1004, 2, 282, 725, 40, 3, 39, 3, 2, 170, 34, 103, 1996, 27, 15, 12, 59, 316, 258, 2, 195, 8, 251, 719, 4, 80, 1003, 8, 804, 116, 57, 35, 1306, 26, 35, 72, 1308, 1997, 2, 466, 57, 35, 1998, 568, 589, 589, 589, 98, 11, 304, 904, 6, 5, 234, 42, 11, 49, 2, 117, 10, 4, 12, 1999, 2, 282, 19, 17, 16, 7, 223, 8, 113, 100, 3, 107, 439, 4, 444, 396, 23, 2, 60, 3, 7, 329, 36, 9, 2, 302, 2, 306, 1309, 5, 2000, 2001, 115, 17, 16, 7, 52, 36, 25, 6, 91, 1310, 17, 12, 1005, 2, 282, 23, 96, 782, 16, 6, 14, 5, 320, 1006, 34, 806, 3, 780, 36, 81, 580, 3, 870, 13, 22, 880, 91, 49, 5, 2002, 467, 61, 12, 2, 170, 34, 103, 14, 2003, 49, 5, 2004, 2005, 57, 7, 1005, 6, 3, 297, 2006, 259, 40, 3, 2007, 259, 36, 53, 27, 15, 620, 26, 2, 97, 199, 58, 124, 6, 14, 16, 94, 16, 7, 59, 55, 4, 365, 6, 16, 178, 16, 7, 24, 151, 36, 2, 1007, 84, 9, 997, 6, 102, 14, 4, 1311, 6, 40, 66, 5, 202, 9, 1194, 3, 44, 346, 2008, 365, 9, 81, 143, 588, 3, 268, 367, 27, 16, 4, 2009, 81, 2010, 259, 7, 801, 6, 36, 66, 2, 491, 244, 42, 8, 75, 18, 190, 33, 338, 179, 23, 65, 61, 12, 28, 131, 185, 4, 2011, 6, 13, 5, 156, 58, 124, 285, 18, 6, 29, 2012, 4, 395, 6, 290, 7, 10, 2, 141, 195, 36, 575, 3, 2, 34, 103, 807, 13, 651, 6, 24, 268, 62, 585, 78, 33, 63, 75, 18, 2013, 10, 12, 15, 20, 30, 19, 22, 5, 1007, 84, 9, 2014, 368, 2, 282, 807, 53, 3, 12, 110, 31, 269, 66, 81, 249, 4, 67, 32, 14, 2, 389, 23, 6, 41, 59, 29, 46, 777, 15, 6, 24, 5, 31, 347, 40, 465, 94, 104, 49, 5, 2015, 183, 5, 950, 465, 1312, 81, 157, 50, 189, 1313, 360, 26, 5, 282, 620, 12, 69, 30, 49, 2, 159, 9, 2, 103, 19, 22, 25, 224, 6, 14, 101, 1008, 7, 61, 3, 110, 66, 81, 157, 53, 4, 67, 42, 41, 50, 128, 337, 46, 41, 50, 46, 337, 42, 11, 131, 166, 4, 347, 66, 5, 348, 80, 158, 10, 12, 2016, 8, 82, 56, 135, 104, 4, 55, 23, 11, 327, 76, 2, 170, 34, 103, 2017, 53, 58, 807, 6, 14, 857, 4, 95, 102, 3, 28, 52, 21, 26, 96, 180, 13, 279, 12, 14, 91, 257, 4, 90, 4, 54, 76, 32, 233, 8, 4, 55, 23, 33, 806, 57, 8, 107, 6, 604, 57, 6, 807, 53, 27, 725, 15, 7, 110, 39, 66, 81, 249, 13, 96, 1269, 33, 63, 41, 59, 29, 46, 947, 45, 6, 6, 14, 1314, 104, 836, 808, 183, 5, 348, 3, 7, 186, 15, 6, 51, 29, 87, 1188, 26, 17, 4, 2018, 6, 866, 27, 7, 270, 2, 34, 806, 39, 3, 186, 87, 2019, 4, 67, 6, 2020, 179, 671, 66, 2, 460, 42, 6, 24, 517, 40, 7, 10, 4, 54, 6, 51, 56, 151, 5, 590, 1315, 338, 25, 6, 339, 177, 5, 2021, 348, 8, 90, 3, 7, 79, 343, 120, 123, 364, 7, 247, 71, 162, 55, 31, 68, 16, 579, 3, 14, 91, 245, 4, 54, 42, 38, 101, 247, 2, 143, 84, 4, 272, 47, 57, 7, 14, 5, 34, 1316, 78, 2022, 2, 524, 133, 349, 21, 5, 2023, 9, 5, 417, 5, 393, 2024, 62, 2, 133, 101, 999, 57, 6, 261, 12, 6, 110, 168, 2025, 7, 61, 286, 6, 24, 31, 145, 1131, 3, 5, 127, 309, 2026, 27, 7, 186, 15, 6, 260, 4, 29, 2027, 23, 2028, 524, 2029, 7, 79, 177, 414, 16, 7, 69, 30, 19, 22, 48, 328, 6, 51, 49, 2, 356, 203, 6, 101, 999, 5, 34, 2030, 108, 6, 20, 525, 27, 296, 61, 12, 3, 7, 52, 21, 51, 11, 144, 65, 207, 102, 84, 8, 260, 4, 100, 134, 98, 15, 2031, 5, 168, 318, 21, 254, 11, 398, 4, 107, 4, 10, 2, 133, 8, 75, 18, 94, 722, 254, 10, 12, 44, 6, 240, 18, 389, 102, 84, 11, 100, 10, 2, 133, 27, 145, 16, 8, 107, 842, 12, 188, 16, 83, 1317, 109, 11, 131, 185, 4, 55, 15, 10, 2, 133, 42, 11, 101, 607, 145, 219, 12, 186, 15, 33, 59, 30, 29, 1318, 27, 7, 206, 191, 226, 32, 202, 9, 288, 443, 45, 98, 13, 15, 660, 2, 133, 10, 677, 81, 143, 966, 119, 795, 5, 85, 3, 13, 15, 660, 677, 2, 123, 966, 795, 5, 138, 150, 2032, 352, 11, 49, 28, 131, 280, 256, 25, 8, 75, 18, 398, 4, 100, 310, 256, 288, 12, 381, 109, 11, 72, 18, 399, 15, 10, 2, 133, 137, 131, 22, 256, 98, 8, 70, 256, 11, 131, 256, 64, 55, 11, 48, 8, 70, 256, 10, 12, 11, 113, 29, 10, 2, 133, 58, 11, 285, 18, 56, 108, 98, 12, 263, 18, 90, 15, 1214, 6, 19, 22, 203, 7, 52, 21, 3, 64, 55, 11, 48, 15, 11, 131, 256, 4, 291, 23, 10, 2, 133, 5, 906, 20, 30, 256, 11, 2033, 15, 8, 275, 27, 10, 12, 68, 44, 2, 133, 52, 21, 11, 67, 5, 906, 2034, 57, 6, 20, 644, 3, 2035, 81, 401, 57, 6, 20, 525, 76, 8, 1000, 57, 8, 70, 525, 3, 2036, 80, 401, 57, 8, 70, 644, 2037, 8, 70, 256, 8, 406, 6, 1152, 30, 2038, 10, 12, 406, 6, 32, 11, 49, 10, 2, 133, 55, 11, 444, 396, 23, 2, 60, 4, 156, 8, 169, 49, 6, 31, 94, 10, 12, 25, 8, 463, 18, 132, 1319, 181, 11, 82, 67, 65, 41, 10, 2, 133, 3, 760, 12, 14, 30, 94, 499, 19, 33, 7, 14, 189, 27, 298, 4, 320, 149, 2039, 180, 7, 14, 146, 19, 2, 458, 254, 6, 24, 132, 6, 283, 459, 53, 78, 2, 1118, 32, 1320, 9, 2, 282, 10, 2, 133, 8, 160, 344, 548, 4, 332, 6, 235, 66, 5, 348, 12, 671, 10, 91, 16, 42, 6, 24, 108, 129, 13, 5, 691, 84, 8, 61, 6, 51, 10, 2, 133, 3, 760, 53, 12, 335, 5, 34, 187, 876, 4, 67, 6, 53, 25, 6, 69, 30, 1321, 3, 115, 5, 199, 58, 124, 7, 358, 21, 13, 2, 660, 13, 102, 2, 138, 150, 14, 10, 4, 443, 8, 112, 241, 2040, 130, 7, 10, 4, 54, 2, 138, 150, 140, 29, 94, 2, 464, 661, 3, 224, 16, 33, 37, 304, 6, 174, 18, 29, 1322, 256, 19, 410, 30, 27, 256, 16, 6, 14, 13, 138, 16, 7, 10, 33, 7, 110, 40, 3, 41, 14, 2, 133, 53, 349, 21, 5, 2041, 9, 5, 417, 69, 11, 95, 348, 58, 2042, 10, 2, 133, 8, 10, 348, 161, 12, 3, 8, 196, 11, 285, 18, 346, 2043, 3, 2044, 27, 283, 11, 167, 38, 87, 1323, 22, 143, 10, 2, 133, 3, 33, 63, 6, 760, 87, 425, 257, 23, 2, 216, 9, 2, 401, 3, 1324, 23, 2, 557, 102, 875, 96, 63, 115, 2, 376, 9, 6, 24, 303, 68, 8, 112, 674, 241, 5, 133, 171, 5, 557, 61, 12, 25, 5, 557, 171, 5, 133, 6, 20, 2, 464, 209, 103, 8, 193, 261, 13, 80, 317, 7, 24, 30, 303, 94, 2045, 130, 7, 122, 13, 357, 9, 2, 215, 9, 2, 138, 150, 7, 61, 6, 113, 29, 2, 143, 215, 248, 2, 2046, 50, 1006, 49, 613, 3, 2, 544, 14, 2047, 23, 911, 6, 14, 27, 139, 5, 215, 15, 7, 69, 30, 49, 4, 100, 641, 200, 7, 24, 1265, 96, 104, 9, 2, 1268, 234, 9, 462, 3, 1325, 54, 4, 45, 124, 205, 236, 214, 44, 7, 358, 40, 2048, 6, 177, 414, 245, 4, 54, 275, 6, 169, 29, 1322, 256, 115, 22, 8, 549, 196, 8, 160, 303, 4, 67, 2, 85, 1009, 308, 2049, 5, 256, 208, 374, 41, 14, 5, 218, 270, 36, 232, 5, 417, 13, 1326, 9, 2, 215, 3, 2, 138, 150, 3, 2, 85, 50, 350, 208, 19, 6, 5, 126, 14, 349, 586, 47, 809, 469, 3, 2, 123, 124, 50, 1327, 6, 16, 5, 1328, 1329, 92, 2050, 21, 6, 3, 225, 120, 81, 99, 31, 745, 26, 2, 126, 61, 12, 101, 16, 6, 20, 469, 8, 275, 6, 240, 18, 327, 2, 218, 14, 5, 139, 38, 25, 2, 163, 50, 22, 645, 412, 19, 38, 706, 9, 6, 46, 302, 46, 302, 28, 204, 36, 57, 28, 261, 12, 386, 41, 20, 1073, 9, 302, 10, 12, 793, 3, 7, 228, 39, 13, 5, 139, 255, 2051, 19, 38, 216, 9, 2, 218, 56, 96, 1330, 2, 138, 150, 10, 13, 83, 1244, 125, 12, 110, 22, 119, 2, 218, 25, 41, 14, 135, 21, 6, 25, 208, 8, 75, 18, 67, 128, 1330, 7, 381, 41, 521, 18, 128, 10, 2, 138, 150, 44, 6, 345, 18, 31, 1010, 9, 11, 4, 1179, 6, 10, 12, 407, 6, 345, 18, 31, 1010, 9, 11, 4, 450, 39, 171, 210, 1319, 10, 2, 138, 150, 8, 263, 18, 48, 6, 14, 74, 218, 10, 12, 6, 20, 1331, 26, 5, 127, 309, 104, 183, 163, 74, 505, 1332, 2052, 10, 2, 85, 35, 24, 132, 146, 19, 12, 26, 96, 63, 23, 127, 602, 3, 33, 14, 43, 97, 922, 11, 169, 508, 30, 4, 167, 1333, 975, 12, 10, 23, 96, 2053, 6, 20, 31, 1334, 2, 85, 361, 43, 157, 31, 1335, 21, 771, 33, 25, 22, 35, 10, 14, 121, 37, 5, 2054, 49, 5, 591, 2055, 108, 137, 176, 56, 96, 1011, 76, 61, 12, 8, 70, 331, 28, 112, 486, 609, 1336, 8, 405, 8, 72, 895, 15, 7, 188, 606, 55, 11, 378, 15, 11, 90, 11, 72, 198, 36, 2, 388, 4, 6, 10, 2, 138, 150, 454, 27, 10, 12, 44, 11, 169, 95, 32, 11, 378, 2, 138, 150, 52, 21, 8, 55, 12, 239, 161, 19, 410, 19, 410, 8, 378, 32, 8, 95, 15, 20, 2, 184, 103, 11, 48, 30, 2, 184, 103, 5, 234, 10, 2, 85, 11, 162, 91, 16, 68, 95, 15, 8, 67, 32, 8, 217, 37, 2, 184, 103, 16, 8, 217, 32, 8, 67, 11, 162, 91, 16, 68, 95, 188, 2, 138, 150, 15, 8, 49, 32, 8, 107, 37, 2, 184, 103, 16, 8, 107, 32, 8, 49, 11, 162, 91, 16, 68, 95, 188, 2, 126, 71, 165, 4, 29, 225, 13, 43, 584, 15, 8, 1012, 57, 8, 584, 37, 2, 184, 103, 16, 8, 584, 57, 8, 1012, 6, 37, 2, 184, 103, 23, 11, 10, 2, 85, 3, 98, 2, 402, 627, 3, 2, 374, 228, 523, 26, 5, 199, 180, 12, 61, 120, 22, 7, 59, 265, 45, 2056, 3, 591, 2057, 102, 345, 18, 94, 2, 85, 14, 2, 97, 4, 1337, 2, 279, 32, 156, 9, 2, 1338, 37, 6, 35, 10, 323, 4, 12, 35, 24, 794, 43, 424, 36, 9, 43, 478, 3, 14, 146, 19, 6, 1339, 978, 6, 313, 76, 3, 44, 3, 874, 6, 4, 43, 588, 12, 989, 5, 34, 3, 44, 10, 2, 2058, 124, 798, 631, 654, 2, 85, 8, 587, 11, 418, 285, 18, 943, 2, 2059, 35, 188, 146, 407, 19, 2, 138, 150, 6, 14, 2, 315, 418, 2, 138, 150, 1340, 161, 287, 25, 96, 810, 113, 56, 111, 13, 16, 68, 2, 85, 2060, 11, 663, 18, 56, 148, 6, 13, 23, 2, 527, 862, 2, 138, 150, 182, 2, 424, 3, 110, 19, 6, 2061, 44, 35, 1071, 6, 66, 43, 1341, 9, 208, 3, 110, 19, 6, 53, 25, 35, 59, 90, 9, 135, 278, 4, 95, 183, 43, 97, 382, 6, 14, 2, 315, 418, 11, 48, 12, 24, 132, 146, 120, 43, 811, 23, 96, 602, 32, 5, 845, 424, 7, 381, 6, 1342, 2, 156, 9, 2, 1338, 3, 240, 18, 144, 32, 558, 678, 6, 37, 121, 169, 6, 1290, 2, 85, 409, 74, 424, 144, 11, 32, 1343, 6, 37, 9, 175, 30, 12, 161, 31, 2062, 25, 15, 20, 248, 6, 2063, 2, 184, 1343, 26, 118, 5, 145, 63, 412, 102, 37, 91, 2, 638, 23, 370, 10, 2, 85, 12, 186, 590, 416, 2, 85, 20, 382, 165, 4, 56, 46, 202, 9, 451, 13, 6, 3, 181, 6, 14, 267, 551, 8, 75, 18, 87, 559, 11, 7, 10, 16, 565, 16, 7, 59, 2, 126, 37, 469, 53, 10, 2, 85, 3, 35, 2064, 5, 34, 477, 208, 173, 81, 465, 2, 126, 408, 81, 99, 653, 3, 10, 171, 878, 81, 157, 9, 175, 9, 175, 91, 32, 8, 14, 166, 4, 382, 501, 56, 11, 945, 2, 2065, 181, 2, 85, 10, 323, 4, 12, 53, 46, 8, 319, 6, 40, 12, 161, 32, 20, 2, 388, 8, 463, 18, 2, 2066, 243, 10, 2, 85, 836, 8, 10, 2, 138, 150, 12, 654, 2067, 8, 90, 11, 162, 55, 220, 278, 23, 2, 63, 7, 10, 183, 2068, 6, 13, 609, 1336, 15, 56, 46, 2069, 42, 11, 247, 63, 16, 68, 16, 8, 55, 10, 2, 85, 11, 285, 18, 276, 45, 1191, 6, 6, 20, 116, 8, 75, 18, 48, 32, 11, 378, 10, 12, 9, 175, 11, 75, 18, 2, 85, 10, 1004, 43, 99, 1245, 8, 649, 95, 11, 105, 214, 223, 4, 63, 224, 30, 12, 1013, 161, 25, 8, 48, 8, 56, 4, 804, 63, 57, 8, 508, 1014, 630, 15, 2070, 26, 6, 10, 2, 85, 35, 174, 18, 582, 1273, 76, 42, 11, 101, 297, 21, 168, 2071, 23, 116, 35, 160, 55, 549, 201, 11, 567, 23, 2, 678, 26, 995, 275, 6, 50, 624, 558, 678, 13, 2, 629, 91, 63, 4, 291, 353, 11, 160, 101, 56, 4, 929, 5, 1303, 4, 63, 3, 119, 506, 2, 678, 13, 5, 812, 187, 839, 38, 63, 26, 1156, 8, 101, 196, 6, 14, 2, 138, 150, 10, 4, 259, 13, 5, 929, 15, 51, 29, 844, 267, 10, 12, 790, 25, 44, 8, 663, 18, 29, 967, 26, 6, 11, 48, 30, 19, 97, 224, 10, 2, 85, 25, 11, 59, 346, 6, 4, 187, 839, 38, 16, 145, 16, 11, 567, 37, 15, 2, 84, 11, 485, 12, 229, 2, 85, 408, 43, 99, 2072, 30, 8, 35, 161, 137, 2073, 141, 138, 91, 130, 35, 52, 256, 11, 48, 750, 23, 43, 208, 1344, 19, 2, 138, 150, 6, 14, 19, 2, 127, 1345, 2074, 78, 2, 60, 9, 470, 3, 8, 24, 4, 592, 471, 471, 34, 849, 64, 8, 213, 32, 11, 131, 19, 11, 48, 2, 526, 224, 8, 112, 155, 220, 49, 6, 10, 12, 6, 506, 21, 11, 48, 2, 85, 404, 13, 33, 84, 40, 962, 2, 479, 11, 1015, 49, 5, 208, 2075, 13, 2, 667, 471, 471, 98, 2, 126, 408, 259, 3, 79, 1304, 13, 81, 584, 471, 471, 471, 471, 3, 52, 21, 27, 145, 15, 28, 24, 4, 1346, 6, 4, 167, 6, 553, 68, 8, 160, 316, 314, 2, 97, 805, 10, 2, 85, 57, 2, 60, 543, 40, 3, 2076, 36, 35, 20, 2077, 2, 63, 62, 23, 43, 99, 64, 590, 724, 593, 12, 3, 193, 759, 15, 2, 85, 52, 21, 13, 5, 2078, 125, 35, 174, 18, 55, 5, 103, 8, 332, 6, 20, 299, 1126, 558, 678, 76, 5, 434, 243, 122, 66, 12, 20, 99, 37, 15, 2, 411, 27, 309, 208, 149, 89, 148, 36, 98, 7, 229, 287, 15, 20, 6, 10, 2, 85, 23, 5, 813, 6, 20, 299, 208, 63, 3, 137, 112, 46, 63, 4, 1347, 2, 149, 586, 2079, 44, 11, 346, 964, 119, 8, 275, 10, 12, 454, 27, 10, 2, 85, 16, 2, 149, 107, 298, 40, 25, 32, 622, 57, 11, 108, 4, 2, 257, 53, 12, 716, 4, 332, 275, 137, 272, 2, 563, 2, 138, 150, 419, 1348, 8, 70, 189, 476, 9, 33, 8, 2080, 2, 656, 1016, 1342, 277, 5, 455, 8, 70, 312, 8, 75, 18, 48, 38, 10, 12, 177, 2081, 19, 2, 2082, 44, 2, 126, 176, 28, 280, 204, 1349, 40, 126, 3, 28, 1350, 6, 21, 280, 692, 19, 136, 2, 126, 425, 361, 43, 157, 8, 345, 18, 469, 35, 10, 13, 5, 891, 1221, 106, 8, 155, 313, 355, 11, 2083, 50, 245, 144, 277, 5, 455, 10, 2, 138, 150, 287, 207, 55, 935, 12, 3, 29, 1202, 45, 6, 188, 2, 85, 58, 11, 82, 29, 469, 53, 130, 6, 20, 252, 136, 173, 5, 63, 41, 50, 163, 34, 1351, 2, 126, 79, 13, 5, 127, 333, 3, 92, 1352, 50, 2084, 2085, 3, 2086, 3, 28, 1017, 19, 2, 814, 9, 5, 68, 32, 69, 28, 443, 21, 10, 12, 71, 299, 182, 5, 127, 2087, 13, 787, 9, 2088, 3, 2089, 28, 1017, 21, 528, 10, 2, 126, 115, 343, 5, 199, 58, 124, 28, 387, 18, 56, 252, 15, 11, 48, 12, 893, 381, 28, 160, 56, 132, 1353, 27, 28, 50, 10, 2, 126, 31, 1353, 12, 206, 4, 484, 4, 54, 32, 118, 83, 1285, 2090, 9, 1354, 51, 29, 49, 25, 6, 416, 17, 172, 94, 27, 7, 52, 21, 25, 121, 69, 28, 443, 19, 2, 814, 9, 5, 68, 190, 96, 104, 208, 2, 138, 150, 10, 4, 12, 31, 1086, 8, 112, 24, 135, 181, 12, 161, 13, 83, 371, 125, 27, 8, 72, 18, 190, 104, 11, 378, 11, 72, 18, 190, 808, 10, 2, 85, 6, 20, 31, 1181, 4, 190, 104, 183, 135, 456, 229, 74, 2091, 10, 12, 71, 20, 423, 1333, 975, 76, 2, 85, 229, 1355, 12, 69, 30, 87, 48, 32, 4, 95, 4, 33, 27, 7, 2092, 54, 4, 96, 208, 3, 527, 3, 418, 3, 44, 235, 4, 2, 126, 3, 380, 17, 226, 121, 69, 28, 443, 19, 2, 814, 9, 5, 68, 2, 126, 53, 182, 5, 199, 58, 124, 4, 90, 45, 6, 3, 44, 10, 6, 14, 5, 528, 68, 41, 20, 46, 118, 103, 12, 14, 257, 31, 407, 25, 2, 85, 3, 2, 138, 150, 52, 1356, 1356, 3, 2, 126, 1357, 381, 42, 11, 72, 18, 29, 1010, 11, 160, 278, 652, 2, 455, 26, 368, 46, 207, 100, 21, 12, 10, 31, 1192, 8, 174, 18, 2093, 53, 8, 649, 95, 41, 304, 29, 38, 38, 238, 10, 2, 126, 793, 203, 35, 2094, 4, 100, 21, 3, 27, 273, 163, 34, 1351, 28, 50, 1358, 4, 522, 11, 48, 32, 69, 28, 522, 10, 12, 87, 956, 17, 2095, 528, 10, 2, 126, 171, 835, 19, 22, 33, 63, 8, 398, 5, 2096, 1341, 419, 2, 85, 192, 20, 22, 917, 38, 458, 21, 35, 657, 21, 16, 35, 223, 3, 2, 126, 436, 116, 2, 138, 150, 657, 66, 2, 126, 20, 458, 3, 12, 177, 2097, 182, 2, 458, 9, 2, 138, 150, 2, 85, 14, 2, 101, 38, 71, 111, 128, 1002, 134, 2, 272, 3, 12, 14, 5, 168, 318, 897, 62, 183, 130, 16, 2, 138, 150, 24, 91, 1018, 2, 1085, 2098, 66, 43, 948, 12, 69, 30, 196, 4, 2099, 2, 126, 53, 27, 7, 79, 31, 1013, 25, 8, 75, 18, 559, 254, 69, 28, 522, 2, 528, 134, 11, 72, 522, 637, 36, 9, 5, 637, 68, 10, 2, 85, 27, 8, 169, 90, 11, 59, 522, 528, 36, 9, 5, 528, 68, 2100, 536, 25, 28, 50, 13, 2, 68, 12, 10, 4, 2, 126, 30, 2101, 4, 647, 33, 141, 382, 9, 175, 28, 50, 10, 2, 126, 68, 13, 33, 388, 27, 751, 170, 12, 15, 7, 192, 2, 126, 100, 21, 26, 96, 63, 171, 1359, 6, 28, 50, 1358, 4, 522, 2, 126, 52, 21, 1348, 3, 1360, 81, 157, 26, 6, 14, 189, 31, 600, 3, 28, 666, 22, 1361, 9, 149, 271, 15, 815, 23, 83, 70, 121, 23, 83, 70, 10, 12, 121, 30, 10, 2, 138, 150, 12, 14, 523, 2, 126, 24, 1362, 81, 157, 78, 33, 63, 3, 14, 166, 62, 66, 5, 2102, 25, 21, 210, 1350, 78, 2, 85, 6, 2103, 40, 53, 23, 5, 34, 665, 3, 52, 21, 15, 815, 23, 83, 70, 118, 16, 114, 2104, 3, 2, 2105, 3, 2106, 3, 1019, 11, 48, 11, 95, 149, 89, 94, 9, 5, 1019, 69, 11, 193, 67, 118, 5, 103, 16, 5, 2107, 9, 5, 1019, 292, 76, 11, 332, 65, 10, 12, 31, 94, 751, 8, 75, 18, 90, 44, 11, 663, 18, 276, 10, 2, 85, 33, 569, 9, 2108, 14, 104, 183, 12, 59, 1220, 7, 111, 40, 13, 127, 2109, 3, 358, 62, 2, 126, 539, 469, 668, 3, 1314, 9, 2, 515, 182, 2, 410, 647, 9, 17, 166, 330, 7, 110, 129, 136, 58, 599, 187, 858, 15, 28, 51, 406, 115, 17, 2, 141, 63, 7, 261, 47, 28, 50, 266, 4, 148, 2, 126, 66, 2, 2110, 19, 128, 392, 8, 82, 105, 100, 41, 53, 10, 12, 16, 7, 968, 17, 84, 262, 2, 460, 6, 20, 2, 2111, 208, 374, 8, 193, 14, 19, 13, 22, 80, 317, 91, 16, 7, 10, 33, 7, 427, 15, 38, 9, 2, 519, 24, 5, 154, 2112, 143, 66, 6, 15, 20, 31, 209, 7, 61, 25, 271, 20, 209, 2113, 8, 90, 8, 304, 16, 68, 100, 13, 19, 136, 3, 13, 7, 52, 136, 104, 7, 142, 54, 13, 2, 145, 390, 3, 284, 4, 2, 34, 359, 218, 76, 8, 82, 485, 278, 33, 63, 7, 10, 4, 54, 3, 79, 78, 664, 2, 34, 490, 391, 3, 2114, 2, 154, 15, 711, 66, 2, 237, 44, 7, 52, 4, 438, 986, 19, 2, 462, 7, 24, 297, 5, 569, 9, 6, 13, 17, 478, 200, 7, 14, 45, 5, 367, 236, 44, 7, 358, 39, 2, 34, 705, 3, 44, 7, 142, 54, 19, 141, 13, 2, 305, 237, 310, 2, 434, 1363, 1094, 3, 2, 1096, 1097, 308, 2115, 2, 60, 20, 396, 468, 5, 139, 679, 417, 516, 242, 2, 2116, 9, 2, 237, 2, 1020, 340, 21, 6, 50, 152, 25, 41, 50, 163, 472, 19, 6, 803, 1364, 47, 861, 12, 61, 33, 5, 31, 209, 103, 3, 7, 52, 641, 4, 424, 47, 3, 91, 16, 7, 122, 40, 4, 47, 7, 155, 38, 9, 47, 95, 159, 36, 76, 442, 75, 18, 100, 1142, 2117, 120, 65, 49, 15, 8, 387, 18, 399, 6, 10, 442, 13, 5, 913, 125, 556, 2118, 80, 953, 21, 102, 556, 110, 40, 3, 10, 15, 20, 143, 442, 299, 778, 2, 2119, 21, 515, 11, 160, 278, 30, 276, 10, 442, 8, 155, 2, 60, 95, 101, 886, 11, 2120, 4, 29, 1021, 32, 26, 10, 2, 38, 71, 24, 2121, 97, 15, 20, 786, 9, 74, 518, 124, 10, 556, 287, 6, 37, 43, 518, 10, 442, 3, 8, 82, 144, 116, 6, 14, 26, 987, 2, 306, 2122, 1274, 1009, 9, 2123, 556, 2124, 39, 43, 2125, 3, 24, 91, 486, 68, 9, 22, 2, 2126, 149, 57, 43, 498, 2127, 4, 482, 173, 12, 16, 7, 516, 1022, 47, 3, 35, 1023, 554, 283, 2, 515, 110, 119, 1312, 3, 22, 9, 47, 754, 246, 51, 11, 144, 65, 10, 12, 5, 34, 414, 121, 11, 89, 1364, 362, 1020, 442, 3, 556, 10, 135, 25, 110, 19, 124, 124, 79, 13, 5, 246, 106, 121, 2, 435, 37, 11, 67, 701, 33, 98, 260, 4, 56, 132, 5, 861, 679, 417, 3, 137, 148, 5, 152, 38, 13, 78, 947, 3, 42, 2, 60, 14, 4, 198, 6, 36, 137, 169, 22, 56, 448, 354, 617, 62, 11, 48, 27, 11, 67, 701, 137, 131, 659, 448, 315, 2128, 7, 1223, 4, 19, 33, 147, 442, 71, 24, 132, 269, 146, 601, 2, 237, 253, 36, 2, 60, 2, 60, 3, 2, 163, 472, 668, 1309, 1024, 1365, 173, 92, 680, 41, 14, 5, 699, 9, 309, 1199, 3, 12, 110, 119, 1025, 4, 67, 2, 60, 97, 122, 550, 383, 1366, 2129, 273, 50, 22, 1006, 49, 2, 163, 472, 2130, 3, 1365, 23, 92, 322, 3, 205, 19, 2, 2131, 153, 2, 550, 1367, 273, 50, 1368, 22, 120, 23, 2132, 3, 358, 124, 3, 124, 16, 2, 383, 69, 115, 273, 122, 2, 1369, 364, 41, 50, 550, 9, 47, 3, 2, 34, 879, 122, 800, 2133, 546, 197, 13, 197, 13, 2134, 28, 50, 22, 1368, 23, 470, 153, 122, 2, 1026, 1370, 2135, 3, 2136, 3, 310, 47, 12, 2137, 2, 152, 93, 6, 14, 225, 13, 5, 329, 619, 1361, 1132, 19, 271, 15, 14, 10, 3, 52, 78, 171, 2138, 17, 44, 436, 2, 420, 9, 470, 1366, 2, 73, 20, 916, 21, 5, 1371, 2139, 1328, 3, 141, 9, 22, 33, 844, 681, 122, 2, 73, 3, 60, 9, 470, 12, 14, 177, 1372, 328, 7, 260, 30, 4, 1373, 39, 21, 17, 249, 49, 2, 163, 472, 25, 7, 59, 30, 265, 193, 350, 155, 9, 118, 5, 682, 19, 2140, 3, 728, 32, 51, 29, 2, 212, 9, 5, 681, 61, 7, 42, 288, 24, 22, 4, 1373, 39, 173, 92, 680, 27, 15, 28, 387, 18, 67, 6, 27, 7, 516, 286, 254, 7, 14, 3, 335, 57, 2, 681, 122, 2141, 4, 12, 28, 22, 955, 3, 110, 19, 17, 3, 2, 60, 10, 719, 71, 37, 33, 7, 10, 6, 4, 2, 420, 9, 470, 71, 101, 754, 3, 1374, 13, 651, 2142, 10, 2, 60, 1004, 17, 99, 653, 3, 323, 4, 12, 7, 52, 21, 32, 20, 74, 356, 338, 80, 356, 37, 12, 27, 207, 74, 325, 10, 12, 31, 565, 25, 7, 188, 4, 54, 121, 28, 131, 101, 5, 683, 9, 1027, 115, 22, 8, 1028, 18, 29, 312, 9, 47, 3, 71, 89, 273, 10, 2, 60, 750, 4, 2, 163, 472, 71, 50, 437, 119, 2, 679, 417, 26, 11, 67, 16, 28, 50, 437, 21, 92, 680, 3, 2, 2143, 21, 92, 2144, 14, 2, 184, 16, 2, 376, 9, 2, 683, 7, 59, 30, 144, 328, 28, 50, 472, 58, 383, 58, 1367, 58, 163, 9, 17, 351, 364, 64, 169, 8, 48, 10, 12, 499, 19, 17, 351, 998, 6, 20, 46, 518, 9, 370, 2, 60, 235, 1371, 23, 932, 3, 115, 2145, 19, 17, 26, 5, 147, 49, 5, 1102, 2146, 792, 62, 23, 17, 99, 62, 503, 10, 12, 31, 990, 3, 789, 3, 2, 60, 14, 523, 2, 73, 1331, 43, 197, 173, 17, 255, 3, 414, 10, 816, 80, 158, 7, 37, 101, 5, 338, 2, 60, 235, 407, 179, 134, 116, 3, 10, 4, 2, 420, 347, 47, 120, 2, 420, 69, 27, 31, 941, 23, 38, 367, 107, 40, 10, 2, 60, 13, 5, 643, 575, 106, 3, 2, 163, 472, 668, 543, 40, 3, 79, 2147, 4, 2, 73, 2, 60, 2, 1369, 364, 3, 453, 311, 395, 62, 15, 792, 2, 60, 11, 167, 65, 1323, 3, 44, 323, 4, 2, 679, 417, 7, 52, 21, 32, 56, 11, 132, 659, 98, 304, 6, 207, 74, 325, 10, 124, 13, 5, 31, 2148, 125, 166, 39, 21, 38, 684, 16, 35, 223, 137, 50, 266, 8, 67, 10, 2, 60, 71, 24, 2149, 132, 2150, 2, 1020, 62, 23, 92, 354, 3, 2, 681, 657, 21, 163, 9, 2, 383, 2151, 290, 4, 2152, 2, 1029, 472, 71, 231, 4, 12, 26, 2153, 11, 552, 18, 29, 1021, 10, 12, 3, 7, 148, 47, 66, 5, 139, 1363, 2154, 15, 516, 242, 2, 163, 383, 1233, 45, 26, 5, 199, 58, 124, 146, 26, 47, 3, 44, 671, 2155, 62, 115, 2, 515, 89, 92, 354, 62, 413, 2, 60, 92, 354, 89, 303, 42, 6, 207, 74, 325, 2, 383, 413, 13, 651, 15, 20, 143, 413, 2, 60, 72, 11, 444, 396, 2, 383, 50, 523, 3, 110, 19, 12, 16, 2, 226, 14, 2156, 676, 26, 17, 287, 413, 12, 108, 21, 44, 2157, 2, 60, 3, 12, 937, 2, 681, 489, 31, 94, 32, 51, 426, 153, 6, 20, 6, 20, 5, 31, 1375, 156, 10, 5, 885, 106, 19, 17, 227, 7, 14, 612, 78, 2, 152, 93, 71, 14, 2158, 269, 66, 17, 249, 31, 10, 12, 254, 20, 2, 117, 1030, 1030, 10, 2, 93, 13, 5, 246, 329, 125, 35, 110, 269, 120, 43, 811, 16, 35, 223, 3, 44, 1325, 554, 173, 1241, 148, 43, 379, 284, 4, 17, 588, 3, 685, 7, 20, 232, 560, 9, 1031, 32, 26, 10, 12, 69, 11, 95, 32, 5, 938, 2, 93, 229, 46, 8, 263, 18, 10, 12, 8, 75, 18, 90, 6, 20, 19, 22, 5, 938, 8, 10, 32, 26, 7, 2159, 2, 60, 20, 613, 2, 93, 79, 12, 250, 5, 34, 1376, 9, 2160, 109, 1030, 2, 93, 685, 13, 5, 509, 125, 2, 60, 140, 258, 11, 11, 67, 7, 122, 177, 538, 3, 2, 60, 10, 107, 4, 74, 1377, 413, 2, 60, 13, 5, 106, 9, 2161, 3, 288, 79, 452, 45, 13, 22, 880, 1078, 40, 397, 461, 123, 203, 28, 111, 984, 39, 13, 5, 199, 58, 124, 3, 2, 294, 79, 12, 61, 7, 24, 105, 241, 118, 5, 209, 396, 468, 13, 17, 317, 6, 14, 22, 2162, 3, 2163, 2, 2164, 50, 443, 1032, 2, 2165, 443, 1378, 3, 2, 383, 24, 4, 2166, 1024, 40, 3, 4, 582, 21, 92, 322, 3, 205, 4, 167, 2, 817, 2, 2167, 782, 12, 142, 19, 97, 14, 13, 2168, 17, 686, 7, 979, 13, 189, 81, 1379, 1033, 179, 2169, 219, 232, 17, 255, 23, 81, 870, 854, 39, 25, 497, 91, 16, 7, 24, 111, 81, 494, 1153, 2170, 36, 3, 14, 166, 4, 319, 2, 529, 5, 1267, 23, 81, 99, 6, 51, 1311, 259, 119, 3, 159, 40, 13, 17, 249, 23, 118, 5, 416, 2171, 15, 7, 59, 30, 399, 2172, 36, 1380, 3, 57, 7, 24, 111, 81, 99, 39, 3, 14, 166, 4, 291, 53, 6, 14, 31, 2173, 4, 198, 15, 2, 529, 24, 1381, 259, 3, 14, 13, 2, 2174, 9, 2175, 179, 728, 22, 33, 41, 14, 497, 5, 2176, 58, 2177, 13, 2, 84, 1141, 7, 747, 4, 2178, 2, 529, 4, 3, 16, 2, 2179, 40, 383, 50, 299, 189, 40, 3, 612, 62, 4, 123, 2180, 9, 2, 468, 12, 178, 122, 4, 2, 1140, 15, 6, 14, 5, 31, 1263, 294, 238, 2, 818, 22, 2181, 19, 136, 171, 394, 26, 1034, 1382, 22, 2, 180, 3, 2182, 26, 2, 1032, 3, 13, 5, 31, 753, 63, 2, 60, 14, 13, 5, 2183, 908, 3, 52, 1383, 45, 3, 1384, 62, 23, 43, 99, 58, 62, 23, 17, 99, 45, 136, 13, 5, 199, 12, 79, 4, 422, 31, 2184, 4, 29, 185, 7, 24, 30, 16, 181, 24, 128, 1385, 23, 2, 60, 25, 7, 247, 15, 6, 162, 426, 128, 199, 3, 44, 61, 7, 32, 51, 662, 9, 65, 28, 131, 590, 720, 9, 2185, 288, 98, 2, 127, 213, 37, 15, 41, 20, 128, 38, 268, 1035, 7, 14, 146, 45, 26, 96, 84, 9, 734, 3, 489, 328, 7, 59, 107, 179, 171, 210, 241, 57, 7, 427, 5, 209, 2186, 13, 2, 244, 6, 416, 17, 31, 94, 19, 97, 25, 115, 1022, 6, 5, 199, 58, 124, 7, 151, 6, 36, 4, 29, 5, 557, 3, 7, 10, 4, 54, 6, 20, 2, 524, 133, 76, 8, 176, 56, 481, 4, 276, 4, 64, 89, 11, 189, 21, 10, 2, 133, 16, 178, 16, 41, 14, 379, 219, 26, 6, 4, 251, 23, 12, 335, 200, 2, 157, 459, 3, 44, 2187, 6, 20, 46, 212, 642, 4, 6, 7, 61, 200, 81, 613, 56, 108, 58, 19, 410, 38, 9, 47, 13, 191, 199, 2, 301, 99, 459, 3, 44, 12, 148, 39, 17, 686, 3, 79, 83, 2188, 9, 2, 294, 496, 31, 331, 7, 24, 2189, 4, 483, 4, 17, 2, 133, 165, 4, 90, 15, 41, 14, 219, 9, 6, 76, 13, 357, 3, 46, 104, 9, 6, 459, 8, 75, 18, 90, 28, 444, 19, 22, 2190, 12, 79, 13, 177, 5, 2191, 125, 3, 28, 22, 2192, 27, 590, 38, 72, 18, 258, 2193, 251, 3, 28, 75, 18, 432, 4, 56, 128, 859, 13, 758, 19, 410, 42, 41, 89, 456, 2194, 4, 47, 3, 11, 112, 46, 243, 64, 973, 6, 37, 22, 2, 149, 210, 1035, 26, 995, 41, 20, 2, 2195, 8, 112, 111, 4, 100, 262, 153, 612, 45, 19, 2, 123, 216, 9, 2, 468, 3, 8, 169, 56, 2196, 2, 60, 20, 529, 91, 76, 101, 6, 231, 179, 57, 6, 261, 370, 386, 64, 55, 11, 49, 2, 60, 10, 2, 133, 13, 5, 246, 106, 30, 19, 22, 10, 12, 7, 20, 27, 1313, 91, 44, 7, 427, 15, 2, 60, 14, 284, 290, 17, 846, 27, 7, 52, 21, 605, 4, 2197, 15, 6, 20, 316, 690, 180, 2198, 2, 294, 2, 60, 1374, 3, 603, 21, 71, 89, 11, 225, 4, 10, 2, 73, 166, 40, 4, 12, 3, 146, 19, 2, 133, 20, 99, 23, 127, 602, 6, 20, 5, 1036, 9, 370, 5, 524, 133, 10, 12, 914, 65, 4, 1297, 6, 8, 75, 18, 49, 2, 159, 9, 6, 19, 22, 10, 2, 73, 203, 6, 304, 2199, 80, 197, 42, 6, 2200, 8, 160, 177, 30, 2, 133, 381, 75, 18, 29, 2201, 10, 2, 73, 3, 75, 18, 159, 19, 65, 49, 15, 35, 111, 290, 12, 16, 35, 223, 5, 133, 304, 159, 19, 5, 73, 10, 12, 8, 112, 334, 15, 13, 96, 326, 25, 8, 75, 18, 265, 254, 68, 6, 113, 29, 1386, 10, 2, 73, 31, 789, 3, 35, 253, 2, 60, 71, 14, 2202, 19, 2, 147, 80, 158, 8, 196, 11, 51, 56, 33, 133, 1386, 2, 60, 24, 101, 38, 84, 9, 2203, 22, 2204, 127, 58, 360, 62, 23, 43, 99, 7, 10, 171, 214, 146, 119, 8, 82, 512, 2, 594, 501, 10, 2, 73, 449, 3, 35, 329, 62, 12, 61, 7, 162, 16, 68, 100, 129, 3, 67, 64, 2, 294, 14, 166, 21, 16, 7, 155, 2, 60, 20, 106, 13, 2, 431, 2205, 23, 908, 7, 24, 1301, 155, 17, 560, 163, 9, 2, 818, 4, 29, 570, 26, 350, 1310, 92, 1034, 3, 7, 69, 30, 49, 2, 159, 9, 149, 19, 22, 16, 2, 294, 14, 13, 118, 650, 15, 7, 105, 247, 328, 6, 14, 17, 347, 58, 30, 27, 7, 52, 13, 2206, 9, 17, 529, 2, 529, 14, 2207, 13, 5, 1387, 23, 191, 529, 102, 165, 4, 12, 83, 1234, 430, 26, 2208, 38, 9, 47, 23, 2, 123, 2, 101, 782, 14, 15, 17, 686, 14, 303, 601, 4, 2, 123, 227, 9, 2, 237, 254, 12, 59, 67, 6, 266, 13, 5, 2209, 202, 9, 84, 4, 1015, 40, 66, 5, 417, 78, 2, 63, 7, 24, 1005, 2, 686, 3, 974, 6, 129, 2, 1387, 14, 120, 3, 280, 2, 1032, 50, 36, 9, 357, 25, 6, 240, 18, 389, 94, 61, 12, 16, 22, 2, 817, 89, 303, 134, 33, 227, 9, 2, 468, 27, 7, 1033, 6, 179, 232, 17, 255, 15, 6, 162, 30, 734, 53, 3, 52, 129, 26, 5, 34, 104, 402, 23, 17, 1036, 57, 7, 111, 129, 4, 2, 524, 133, 7, 14, 499, 4, 198, 87, 5, 139, 779, 1388, 119, 6, 41, 14, 5, 1385, 166, 21, 586, 2, 594, 2, 73, 3, 2, 60, 71, 50, 22, 225, 19, 136, 180, 22, 2, 376, 50, 87, 523, 3, 110, 31, 745, 2, 147, 12, 459, 7, 14, 2210, 4, 78, 22, 163, 4, 2211, 2, 226, 3, 28, 380, 92, 2212, 4, 17, 330, 16, 28, 22, 223, 19, 136, 7, 142, 6, 31, 440, 238, 4, 167, 36, 454, 32, 28, 10, 2, 594, 20, 746, 14, 15, 11, 387, 18, 617, 62, 5, 99, 1389, 41, 14, 5, 1379, 4, 617, 6, 62, 134, 15, 35, 24, 105, 24, 4, 55, 118, 5, 103, 130, 3, 35, 345, 18, 166, 4, 291, 19, 43, 63, 9, 317, 2, 73, 20, 746, 14, 15, 201, 15, 24, 5, 99, 59, 29, 1021, 3, 15, 11, 2213, 18, 4, 276, 503, 2, 60, 20, 746, 14, 15, 42, 220, 345, 18, 252, 45, 6, 13, 808, 183, 46, 63, 7, 160, 56, 453, 570, 22, 119, 6, 14, 33, 141, 382, 15, 24, 151, 2, 301, 374, 159, 27, 924, 3, 1037, 12, 59, 90, 9, 135, 311, 4, 95, 25, 6, 1157, 4, 2, 117, 11, 160, 278, 332, 17, 45, 6, 7, 20, 13, 2214, 2, 60, 10, 4, 2, 594, 512, 17, 98, 3, 2, 594, 52, 62, 49, 83, 2215, 2, 133, 20, 99, 79, 2216, 179, 2, 147, 35, 14, 303, 3, 78, 2, 63, 35, 24, 108, 129, 23, 2, 117, 6, 24, 1390, 1391, 27, 2, 73, 3, 2, 594, 231, 1392, 40, 3, 39, 146, 26, 6, 180, 2, 376, 9, 2, 374, 52, 129, 4, 2, 294, 308, 2217, 2, 86, 77, 20, 455, 11, 72, 18, 90, 64, 331, 8, 233, 4, 67, 11, 53, 11, 158, 211, 103, 10, 2, 117, 16, 7, 1033, 17, 255, 2218, 66, 12, 20, 3, 28, 358, 62, 412, 12, 14, 31, 331, 4, 198, 17, 13, 118, 5, 2219, 655, 3, 61, 4, 54, 15, 224, 6, 14, 101, 2, 466, 15, 24, 151, 17, 27, 724, 57, 28, 933, 13, 2, 799, 57, 8, 70, 5, 117, 7, 10, 4, 54, 30, 13, 5, 31, 2220, 125, 330, 8, 174, 18, 56, 128, 466, 13, 80, 799, 19, 22, 221, 409, 31, 68, 171, 1288, 6, 20, 299, 466, 15, 339, 288, 477, 1393, 7, 52, 21, 31, 94, 525, 19, 350, 142, 36, 5, 608, 502, 9, 682, 3, 2221, 15, 339, 47, 2222, 3, 2223, 15, 339, 47, 2224, 3, 3, 2225, 1394, 3, 118, 149, 15, 167, 364, 2226, 1393, 8, 101, 196, 288, 247, 15, 44, 28, 285, 18, 29, 27, 2227, 45, 6, 11, 48, 7, 24, 87, 548, 2, 117, 78, 33, 63, 3, 14, 5, 34, 1316, 57, 7, 155, 17, 106, 284, 4, 17, 588, 11, 131, 343, 45, 220, 80, 158, 3, 15, 339, 11, 1395, 4, 276, 8, 72, 18, 144, 11, 91, 76, 32, 2, 473, 9, 15, 37, 25, 8, 176, 265, 6, 13, 5, 234, 224, 6, 1396, 18, 38, 12, 716, 4, 382, 1397, 1397, 338, 10, 2, 117, 271, 20, 111, 5, 473, 42, 101, 11, 72, 198, 6, 3, 7, 2228, 54, 40, 2229, 4, 12, 20, 227, 16, 7, 223, 12, 69, 30, 94, 49, 1398, 27, 284, 4, 17, 97, 248, 2, 117, 14, 31, 1315, 3, 1283, 248, 7, 14, 454, 2, 143, 670, 4, 376, 17, 510, 173, 12, 20, 811, 3, 6, 14, 83, 2230, 576, 510, 203, 7, 69, 30, 49, 4, 29, 1334, 27, 7, 2231, 6, 16, 68, 16, 7, 59, 2, 294, 20, 166, 21, 177, 278, 76, 7, 10, 78, 84, 9, 1398, 40, 2, 402, 5, 34, 687, 27, 10, 2, 117, 3, 2, 473, 9, 15, 37, 109, 687, 881, 687, 881, 15, 339, 2, 479, 100, 119, 481, 10, 12, 685, 15, 6, 20, 252, 78, 453, 2232, 92, 351, 518, 630, 68, 6, 646, 94, 2, 184, 103, 10, 2, 117, 735, 17, 576, 34, 510, 66, 12, 20, 811, 16, 7, 188, 3, 2, 473, 9, 15, 37, 190, 722, 9, 2, 963, 3, 2, 770, 140, 190, 722, 9, 1024, 64, 720, 7, 37, 9, 865, 2233, 13, 149, 12, 61, 4, 54, 8, 649, 95, 11, 131, 489, 121, 8, 75, 18, 148, 80, 255, 119, 74, 2234, 2, 117, 10, 115, 5, 1295, 2, 411, 37, 15, 8, 70, 1372, 45, 2, 655, 9, 74, 686, 176, 8, 321, 2, 1399, 35, 162, 1400, 12, 1013, 161, 30, 496, 19, 22, 1037, 4, 56, 2, 1399, 206, 31, 695, 10, 2, 117, 1378, 3, 1038, 280, 1400, 3, 2, 473, 9, 15, 37, 372, 9, 5, 2235, 2236, 412, 101, 1038, 521, 18, 5, 1195, 12, 381, 143, 16, 628, 10, 2, 117, 32, 5, 1146, 84, 11, 56, 9, 894, 149, 6, 20, 5, 2237, 8, 90, 10, 12, 9, 175, 6, 37, 10, 2, 117, 71, 165, 439, 4, 1401, 4, 271, 15, 12, 10, 41, 20, 5, 139, 1038, 370, 242, 98, 3, 2, 473, 9, 15, 37, 2, 104, 41, 37, 9, 370, 2, 808, 41, 37, 9, 983, 109, 8, 48, 593, 12, 71, 24, 30, 2238, 4, 33, 141, 382, 6, 20, 5, 2239, 6, 240, 18, 159, 49, 38, 25, 6, 37, 8, 87, 1401, 23, 11, 10, 2, 117, 3, 2, 473, 9, 15, 37, 29, 32, 11, 51, 432, 4, 29, 58, 42, 11, 160, 49, 6, 148, 104, 925, 105, 1402, 368, 30, 4, 29, 796, 183, 32, 6, 162, 1321, 4, 515, 15, 32, 11, 50, 58, 162, 56, 132, 14, 30, 796, 183, 32, 11, 24, 132, 51, 56, 459, 4, 47, 4, 29, 796, 8, 90, 8, 169, 559, 15, 278, 12, 10, 31, 565, 42, 8, 24, 6, 541, 39, 25, 8, 72, 18, 87, 1270, 6, 16, 11, 95, 6, 15, 20, 135, 4, 32, 8, 59, 95, 42, 8, 1258, 2, 117, 161, 13, 5, 525, 125, 976, 75, 18, 537, 368, 4, 95, 6, 128, 853, 183, 15, 10, 12, 109, 75, 18, 276, 45, 537, 10, 2, 117, 8, 167, 11, 5, 972, 9, 271, 8, 112, 10, 16, 181, 5, 2240, 202, 9, 972, 61, 12, 8, 70, 331, 28, 75, 18, 319, 2241, 1120, 49, 15, 25, 7, 69, 30, 940, 4, 95, 6, 36, 575, 343, 53, 2, 117, 229, 23, 191, 2242, 9, 17, 576, 34, 510, 8, 112, 5, 143, 4, 90, 10, 12, 718, 26, 7, 14, 257, 4, 422, 5, 34, 2243, 91, 45, 16, 94, 143, 10, 2, 117, 16, 579, 56, 4, 1015, 3, 2, 70, 25, 98, 4, 12, 20, 127, 669, 2, 117, 20, 106, 2244, 179, 214, 13, 2, 488, 9, 17, 2245, 355, 473, 3, 2, 255, 15, 14, 2246, 66, 819, 79, 4, 2247, 12, 110, 40, 3, 41, 516, 2, 60, 13, 1326, 9, 47, 23, 17, 580, 971, 748, 49, 5, 2248, 5, 1375, 156, 74, 325, 2, 117, 79, 13, 5, 246, 1251, 106, 76, 8, 319, 11, 2249, 2250, 413, 2, 60, 1383, 21, 2, 468, 16, 7, 223, 352, 11, 58, 74, 99, 113, 29, 62, 3, 15, 13, 45, 187, 46, 63, 190, 74, 1403, 2, 117, 182, 17, 1403, 3, 14, 303, 13, 5, 147, 192, 20, 100, 21, 23, 2, 294, 2, 60, 10, 4, 12, 3, 12, 14, 172, 94, 509, 4, 95, 5, 355, 25, 425, 436, 17, 129, 4, 2, 396, 468, 2, 123, 1026, 24, 794, 1002, 9, 2, 60, 20, 2251, 3, 50, 1329, 13, 2, 2252, 203, 2, 147, 28, 261, 17, 28, 329, 129, 4, 2, 294, 2, 60, 1260, 942, 15, 5, 147, 20, 2253, 51, 2254, 47, 92, 795, 22, 2, 63, 28, 50, 1115, 2, 60, 105, 268, 62, 1382, 23, 2, 123, 818, 3, 1384, 62, 23, 43, 99, 58, 62, 23, 17, 99, 362, 2255, 7, 2256, 50, 794, 66, 1404, 78, 2, 383, 71, 9, 175, 24, 4, 395, 62, 210, 817, 4, 55, 33, 27, 15, 78, 2, 216, 9, 187, 83, 1182, 58, 27, 41, 50, 46, 817, 268, 3, 22, 2, 818, 707, 2, 73, 2, 60, 3, 12, 50, 13, 1404, 3, 232, 560, 9, 1031, 44, 2, 60, 268, 62, 87, 36, 9, 756, 3, 10, 4, 12, 56, 11, 241, 2, 86, 77, 181, 46, 10, 12, 8, 75, 18, 214, 48, 32, 5, 86, 77, 37, 6, 20, 2, 103, 86, 77, 221, 37, 151, 134, 10, 2, 60, 8, 105, 261, 38, 58, 155, 9, 38, 10, 12, 108, 21, 44, 10, 2, 60, 3, 35, 176, 144, 11, 43, 511, 16, 28, 358, 62, 412, 12, 155, 2, 73, 95, 13, 5, 246, 106, 4, 2, 2257, 497, 11, 89, 22, 2258, 108, 15, 20, 5, 168, 103, 7, 10, 4, 54, 26, 7, 24, 186, 87, 1209, 19, 2, 639, 9, 1405, 2, 60, 24, 765, 28, 31, 178, 122, 173, 5, 88, 437, 809, 469, 13, 2, 1406, 42, 11, 75, 18, 48, 32, 5, 88, 37, 159, 19, 2, 2259, 40, 2260, 103, 10, 2, 60, 3, 190, 33, 656, 1016, 4, 67, 2, 86, 77, 3, 4, 258, 43, 511, 8, 113, 100, 129, 3, 67, 115, 96, 1405, 8, 56, 765, 3, 7, 358, 62, 2261, 12, 732, 23, 2, 88, 12, 69, 30, 87, 49, 2, 159, 9, 2, 806, 25, 21, 2, 301, 7, 61, 6, 51, 29, 87, 16, 1232, 4, 635, 23, 6, 16, 4, 100, 115, 15, 724, 60, 27, 7, 335, 2, 88, 228, 40, 3, 2262, 81, 157, 44, 6, 1407, 2, 60, 200, 7, 14, 36, 9, 357, 44, 6, 2263, 32, 1011, 10, 2, 88, 187, 4, 259, 187, 4, 12, 32, 37, 2, 1011, 10, 12, 121, 7, 10, 2, 88, 6, 20, 22, 17, 484, 15, 28, 105, 2264, 456, 11, 48, 108, 21, 453, 739, 108, 21, 98, 61, 12, 16, 7, 52, 425, 115, 6, 8, 105, 14, 27, 765, 45, 13, 22, 80, 317, 105, 28, 24, 30, 303, 296, 130, 28, 261, 2, 86, 77, 13, 2, 431, 349, 930, 3, 1198, 21, 5, 34, 2265, 9, 2266, 3, 16, 28, 122, 641, 12, 59, 258, 116, 931, 16, 42, 43, 1408, 51, 1337, 7, 2267, 116, 715, 32, 37, 43, 1409, 7, 229, 2, 88, 3, 2, 88, 766, 31, 344, 13, 2, 184, 195, 16, 130, 6, 20, 22, 43, 484, 15, 35, 1396, 18, 111, 46, 1409, 11, 48, 108, 21, 27, 28, 52, 40, 4, 2, 86, 77, 71, 110, 19, 47, 23, 139, 157, 573, 9, 337, 25, 10, 135, 33, 98, 656, 1016, 10, 2, 88, 7, 1332, 26, 4, 48, 74, 511, 7, 55, 8, 82, 144, 6, 17, 10, 2, 86, 77, 13, 5, 480, 2268, 125, 450, 39, 280, 9, 11, 3, 75, 18, 251, 5, 355, 200, 8, 112, 314, 27, 28, 228, 39, 3, 456, 223, 26, 96, 336, 12, 61, 4, 54, 8, 75, 18, 67, 64, 35, 72, 193, 652, 42, 35, 240, 18, 291, 25, 7, 335, 1257, 136, 10, 2, 86, 77, 19, 141, 23, 5, 480, 813, 8, 14, 5, 950, 77, 273, 195, 50, 436, 78, 5, 31, 145, 279, 571, 101, 78, 83, 2269, 2270, 9, 2271, 134, 2, 88, 3, 2, 1287, 1410, 1008, 9, 2, 86, 77, 12, 14, 31, 344, 189, 40, 3, 245, 775, 11, 504, 26, 74, 661, 455, 25, 7, 59, 30, 399, 343, 41, 113, 29, 104, 4, 108, 27, 7, 228, 286, 3, 10, 135, 57, 137, 50, 34, 2, 86, 77, 52, 21, 19, 141, 104, 2272, 330, 286, 1008, 5, 34, 76, 3, 44, 137, 52, 4, 595, 13, 2, 274, 2, 773, 14, 83, 211, 77, 137, 298, 4, 406, 116, 1039, 121, 69, 11, 406, 116, 1039, 42, 35, 345, 18, 38, 12, 229, 137, 253, 116, 1039, 248, 35, 714, 277, 10, 2, 86, 77, 407, 292, 11, 89, 31, 877, 11, 260, 4, 29, 1122, 9, 368, 26, 609, 118, 5, 616, 226, 188, 2, 88, 3, 44, 28, 280, 228, 523, 3, 110, 19, 170, 12, 71, 186, 439, 4, 2273, 66, 2, 697, 19, 141, 2, 88, 10, 4, 2, 86, 77, 1291, 21, 211, 774, 75, 18, 29, 22, 156, 45, 6, 3, 35, 52, 21, 13, 273, 195, 287, 137, 52, 4, 595, 13, 2, 274, 330, 11, 2274, 18, 405, 6, 8, 105, 10, 8, 263, 18, 419, 12, 11, 69, 10, 2, 86, 77, 365, 74, 757, 188, 2, 88, 130, 12, 59, 251, 53, 2, 86, 77, 52, 21, 137, 24, 2, 315, 9, 2275, 13, 435, 137, 52, 4, 595, 313, 156, 8, 112, 132, 4, 5, 156, 595, 172, 10, 12, 11, 1028, 18, 29, 27, 1411, 16, 22, 15, 23, 2276, 229, 2, 86, 77, 5, 34, 269, 287, 10, 12, 137, 2277, 736, 3, 1014, 3, 903, 10, 2, 86, 77, 267, 30, 10, 12, 793, 630, 44, 983, 345, 18, 5, 292, 168, 595, 10, 2, 86, 77, 13, 5, 125, 9, 127, 1412, 76, 19, 2278, 28, 24, 19, 2, 216, 9, 2, 230, 736, 1014, 3, 903, 2279, 11, 387, 18, 56, 747, 6, 94, 10, 12, 1354, 19, 2, 814, 9, 2, 274, 8, 387, 18, 2280, 4, 508, 6, 10, 2, 86, 77, 23, 5, 813, 8, 101, 182, 2, 1413, 175, 32, 14, 15, 2281, 12, 2282, 3, 2283, 9, 175, 4, 291, 23, 2, 86, 77, 161, 3, 44, 2, 400, 1280, 9, 2284, 2285, 2286, 1414, 3, 2287, 8, 105, 155, 9, 1414, 12, 716, 4, 95, 32, 37, 6, 2, 88, 2288, 40, 280, 81, 738, 13, 669, 32, 105, 155, 9, 2289, 6, 593, 11, 48, 32, 4, 2290, 37, 8, 275, 287, 10, 12, 1275, 6, 646, 4, 167, 201, 2291, 68, 44, 2, 88, 52, 21, 42, 11, 75, 18, 48, 32, 4, 2292, 37, 11, 89, 5, 2293, 12, 69, 30, 422, 2294, 4, 332, 128, 104, 787, 45, 6, 27, 7, 235, 4, 2, 86, 77, 3, 10, 32, 311, 24, 11, 4, 508, 68, 41, 14, 1415, 2, 86, 77, 161, 2295, 62, 2, 2296, 21, 43, 2297, 1415, 2298, 3, 2299, 23, 2300, 44, 1040, 2, 1040, 773, 14, 83, 211, 2301, 1253, 15, 298, 4, 108, 136, 5, 1041, 35, 714, 277, 1040, 1237, 3, 2302, 13, 2303, 32, 14, 15, 49, 10, 12, 68, 8, 72, 18, 902, 6, 11, 501, 2, 86, 77, 10, 8, 70, 172, 2304, 3, 2, 88, 105, 1080, 6, 445, 18, 63, 10, 2, 88, 8, 52, 4, 2, 2305, 773, 330, 35, 14, 83, 211, 939, 35, 14, 8, 105, 52, 4, 116, 2, 86, 77, 10, 23, 5, 813, 35, 714, 1380, 3, 2306, 28, 298, 4, 95, 27, 35, 69, 27, 35, 69, 10, 2, 88, 931, 13, 43, 347, 3, 280, 373, 2307, 92, 680, 13, 92, 738, 3, 64, 309, 802, 5, 156, 69, 11, 55, 353, 10, 12, 13, 5, 333, 4, 272, 2, 563, 550, 802, 2, 97, 156, 10, 2, 86, 77, 624, 2, 153, 3, 27, 21, 32, 5, 209, 781, 593, 12, 15, 20, 2, 411, 28, 131, 253, 353, 2, 88, 381, 248, 28, 2308, 134, 156, 4, 156, 33, 14, 87, 5, 608, 243, 4, 12, 3, 7, 61, 6, 120, 5, 34, 130, 7, 151, 17, 153, 382, 44, 2, 2309, 156, 113, 56, 132, 5, 2310, 9, 175, 6, 14, 10, 2, 86, 77, 3, 64, 69, 11, 485, 21, 2, 2311, 12, 52, 21, 449, 15, 20, 219, 45, 353, 2, 88, 419, 13, 5, 31, 868, 125, 144, 17, 220, 45, 2, 2312, 76, 308, 2313, 2, 530, 820, 2, 86, 77, 654, 715, 3, 666, 2, 129, 9, 38, 2314, 601, 43, 157, 35, 110, 19, 12, 3, 206, 4, 251, 25, 26, 5, 199, 58, 124, 821, 928, 43, 106, 184, 16, 42, 35, 24, 5, 2315, 13, 43, 1197, 10, 2, 88, 3, 6, 270, 4, 438, 978, 116, 3, 2316, 116, 13, 2, 129, 19, 141, 2, 86, 77, 1416, 43, 106, 3, 23, 337, 452, 39, 43, 2317, 35, 52, 21, 53, 11, 304, 30, 56, 1017, 94, 232, 2, 274, 8, 463, 18, 10, 12, 3, 224, 11, 50, 105, 214, 2318, 4, 5, 530, 12, 79, 4, 95, 8, 136, 982, 25, 1023, 54, 239, 3, 10, 46, 105, 27, 11, 72, 56, 46, 243, 32, 5, 1417, 103, 5, 530, 820, 37, 46, 238, 10, 12, 32, 202, 9, 5, 307, 37, 6, 121, 10, 2, 88, 11, 97, 2319, 66, 5, 1305, 546, 2, 274, 741, 124, 2320, 204, 2, 86, 77, 2321, 1418, 2322, 3, 27, 21, 44, 57, 11, 112, 2323, 22, 2, 2324, 467, 36, 9, 2, 84, 15, 497, 1302, 96, 63, 419, 2, 88, 11, 1042, 599, 461, 23, 5, 530, 16, 5, 2325, 204, 2, 88, 9, 175, 2, 86, 77, 10, 1042, 599, 270, 4, 2326, 272, 531, 3, 2327, 13, 184, 992, 404, 2, 88, 44, 11, 48, 2, 86, 77, 52, 21, 11, 907, 2, 2, 531, 413, 2, 88, 23, 5, 2328, 66, 2, 244, 16, 296, 36, 4, 274, 16, 11, 72, 658, 115, 47, 792, 2, 88, 347, 5, 1249, 13, 2, 274, 204, 2, 86, 77, 2329, 1392, 45, 272, 531, 53, 2330, 2, 88, 19, 2, 428, 9, 81, 106, 129, 4, 2331, 53, 3, 15, 20, 22, 2, 97, 1043, 10, 2, 86, 77, 283, 2332, 43, 106, 3, 2, 124, 373, 71, 24, 132, 800, 45, 49, 256, 149, 22, 33, 63, 228, 39, 53, 31, 614, 3, 671, 3, 110, 19, 12, 6, 113, 29, 5, 31, 2333, 307, 10, 12, 414, 51, 11, 49, 4, 67, 5, 34, 9, 6, 10, 2, 86, 77, 31, 94, 238, 10, 12, 108, 192, 20, 321, 2, 97, 1043, 10, 2, 86, 77, 4, 2, 88, 137, 72, 55, 171, 531, 11, 48, 102, 176, 592, 109, 11, 592, 10, 2, 88, 8, 112, 548, 2, 195, 27, 28, 79, 749, 1419, 119, 3, 119, 12, 313, 76, 3, 44, 1420, 21, 17, 1044, 57, 28, 603, 172, 284, 3, 677, 92, 2334, 4, 1045, 2, 63, 180, 2, 86, 77, 1307, 33, 31, 425, 3, 614, 140, 11, 607, 5, 34, 1001, 10, 5, 474, 4, 5, 1046, 41, 20, 5, 822, 284, 290, 277, 3, 35, 20, 1420, 21, 80, 401, 67, 64, 449, 2, 531, 3, 2, 1418, 22, 1042, 28, 89, 394, 21, 2, 2335, 140, 11, 108, 3, 421, 2, 307, 140, 11, 174, 18, 11, 140, 11, 174, 18, 11, 140, 11, 421, 2, 307, 140, 11, 174, 18, 11, 140, 11, 174, 18, 11, 174, 18, 11, 421, 2, 307, 11, 72, 292, 56, 46, 900, 64, 1417, 6, 140, 29, 57, 28, 190, 277, 40, 3, 907, 277, 23, 2, 531, 36, 4, 274, 25, 2, 1046, 161, 172, 296, 172, 296, 3, 250, 5, 159, 2336, 10, 35, 2337, 2, 474, 1421, 25, 35, 51, 30, 421, 2, 307, 51, 30, 59, 30, 51, 30, 59, 30, 51, 30, 421, 2, 307, 51, 30, 59, 30, 51, 30, 59, 30, 59, 30, 421, 2, 307, 32, 1278, 6, 64, 296, 137, 100, 43, 2338, 1036, 161, 41, 37, 191, 741, 11, 48, 173, 2, 123, 227, 2, 866, 62, 134, 2339, 2, 641, 37, 4, 2340, 44, 347, 30, 740, 2341, 1046, 25, 108, 3, 421, 2, 307, 140, 11, 174, 18, 11, 140, 11, 174, 18, 11, 140, 11, 421, 2, 307, 140, 11, 174, 18, 11, 140, 11, 174, 18, 11, 174, 18, 11, 421, 2, 307, 775, 11, 6, 20, 5, 31, 661, 307, 4, 424, 10, 12, 496, 31, 331, 15, 6, 14, 120, 19, 141, 3, 8, 55, 27, 49, 15, 209, 526, 45, 2, 474, 109, 16, 4, 2, 474, 10, 2, 86, 77, 28, 11, 112, 241, 47, 9, 175, 287, 10, 12, 8, 112, 674, 241, 47, 19, 1422, 7, 1023, 54, 239, 8, 75, 18, 48, 254, 1422, 304, 29, 10, 2, 86, 77, 25, 42, 11, 112, 241, 47, 27, 674, 9, 175, 11, 48, 32, 28, 131, 49, 8, 405, 27, 12, 161, 790, 28, 56, 92, 1047, 13, 92, 823, 3, 28, 131, 22, 120, 810, 11, 131, 631, 45, 2, 810, 10, 2, 86, 77, 810, 51, 22, 1347, 62, 13, 2, 274, 25, 28, 56, 92, 1047, 13, 92, 823, 3, 2, 411, 37, 98, 2, 86, 77, 1259, 3, 615, 43, 157, 144, 17, 45, 2, 411, 3, 22, 15, 35, 10, 4, 2, 88, 2, 411, 37, 10, 2, 88, 15, 28, 51, 100, 23, 2, 531, 4, 2, 307, 27, 28, 111, 2342, 36, 4, 274, 27, 28, 24, 4, 482, 5, 145, 84, 27, 28, 111, 92, 1047, 809, 13, 92, 823, 27, 28, 387, 18, 107, 47, 36, 53, 15, 20, 22, 775, 11, 10, 12, 6, 20, 31, 661, 8, 105, 247, 27, 94, 45, 5, 474, 130, 8, 72, 144, 11, 104, 183, 15, 42, 11, 49, 10, 2, 88, 55, 11, 48, 121, 6, 20, 253, 5, 474, 8, 105, 61, 45, 6, 10, 12, 121, 6, 409, 2, 723, 3, 500, 2, 88, 161, 31, 749, 12, 14, 1308, 416, 409, 2, 723, 3, 500, 7, 380, 13, 5, 489, 125, 121, 32, 89, 74, 500, 252, 23, 10, 2, 88, 8, 378, 32, 339, 47, 27, 2343, 12, 110, 39, 19, 47, 3, 989, 5, 34, 130, 7, 250, 17, 388, 28, 131, 252, 23, 2344, 8, 405, 723, 3, 500, 232, 2, 274, 2, 88, 52, 21, 13, 5, 480, 106, 89, 252, 23, 5, 474, 76, 11, 48, 3, 32, 89, 28, 151, 9, 12, 229, 13, 5, 125, 9, 127, 602, 2345, 3, 2346, 9, 175, 2, 88, 161, 177, 653, 128, 2347, 59, 56, 587, 11, 15, 42, 8, 160, 132, 2, 474, 10, 12, 1167, 1423, 50, 286, 452, 21, 2, 526, 8, 160, 56, 10, 4, 2, 822, 346, 129, 207, 137, 75, 18, 398, 11, 23, 277, 28, 50, 1048, 4, 56, 116, 23, 47, 2, 86, 77, 10, 46, 1101, 467, 51, 100, 2348, 171, 5, 822, 285, 18, 6, 292, 10, 12, 13, 5, 125, 9, 127, 669, 9, 175, 30, 10, 2, 86, 77, 121, 42, 5, 467, 122, 4, 65, 3, 587, 65, 35, 14, 166, 5, 2349, 8, 169, 95, 23, 32, 822, 75, 18, 11, 378, 2350, 10, 12, 8, 378, 32, 8, 95, 2, 86, 77, 161, 13, 83, 371, 125, 3, 2, 88, 188, 108, 192, 20, 258, 96, 9, 74, 596, 8, 59, 144, 11, 80, 596, 257, 134, 33, 629, 10, 12, 5, 34, 414, 25, 6, 20, 46, 212, 166, 129, 4, 886, 248, 8, 14, 5, 400, 721, 44, 375, 22, 15, 10, 2, 86, 77, 46, 46, 2, 596, 97, 10, 2, 88, 13, 83, 2351, 125, 2352, 190, 118, 5, 1289, 63, 27, 12, 79, 1277, 47, 17, 596, 134, 2, 63, 57, 7, 97, 261, 2, 152, 93, 7, 14, 5, 34, 619, 45, 6, 91, 19, 97, 2, 124, 373, 111, 27, 284, 4, 17, 38, 21, 461, 227, 3, 361, 92, 157, 3, 823, 27, 31, 1335, 25, 7, 2353, 998, 16, 7, 52, 21, 17, 2354, 50, 785, 1151, 200, 7, 111, 4, 2, 1424, 45, 17, 996, 11, 89, 211, 581, 446, 4, 2, 164, 3, 2, 195, 22, 386, 400, 3, 44, 2, 86, 77, 666, 5, 145, 756, 3, 10, 15, 20, 31, 209, 6, 20, 22, 45, 16, 209, 16, 6, 72, 29, 10, 2, 88, 6, 22, 122, 400, 2, 86, 77, 380, 790, 8, 169, 49, 4, 258, 17, 321, 3, 507, 220, 76, 144, 17, 4, 291, 35, 110, 19, 2, 88, 16, 42, 35, 61, 6, 24, 96, 502, 9, 1165, 120, 12, 582, 40, 3, 507, 687, 2, 106, 9, 2, 2355, 10, 2, 88, 64, 2, 373, 992, 38, 45, 3, 167, 38, 507, 353, 61, 12, 8, 162, 16, 68, 29, 19, 595, 19, 136, 203, 7, 111, 40, 3, 79, 4, 507, 6, 25, 17, 99, 14, 27, 573, 9, 2, 530, 820, 15, 7, 316, 247, 32, 7, 14, 245, 3, 2, 195, 122, 31, 320, 238, 687, 2, 106, 9, 2, 530, 8, 155, 116, 1136, 11, 56, 2356, 65, 172, 1155, 8, 113, 1394, 80, 505, 16, 5, 743, 23, 81, 2357, 27, 35, 23, 43, 465, 2358, 43, 2359, 3, 43, 2360, 3, 1034, 36, 43, 1044, 864, 1425, 404, 16, 1049, 57, 2, 2361, 89, 22, 433, 35, 37, 2362, 16, 5, 2363, 3, 140, 276, 13, 2364, 1426, 9, 2, 2365, 25, 57, 2, 2366, 2367, 3, 2368, 89, 1050, 43, 106, 514, 5, 885, 3, 2369, 699, 15, 20, 400, 134, 32, 8, 298, 4, 95, 57, 8, 14, 5, 338, 10, 2, 88, 68, 8, 105, 155, 6, 130, 10, 2, 86, 77, 25, 6, 770, 2370, 503, 12, 10, 135, 7, 24, 228, 39, 23, 17, 249, 13, 17, 322, 489, 42, 201, 51, 193, 426, 13, 5, 691, 84, 53, 8, 169, 49, 4, 56, 6, 2371, 10, 2, 86, 77, 7, 72, 18, 375, 6, 10, 2, 88, 239, 100, 21, 23, 2, 153, 805, 25, 45, 43, 1044, 2, 86, 77, 1427, 64, 59, 35, 347, 47, 36, 23, 43, 465, 11, 48, 6, 20, 2, 97, 1185, 13, 1419, 12, 10, 25, 14, 590, 416, 78, 2, 301, 103, 3, 1093, 4, 272, 2, 563, 100, 21, 23, 2, 153, 805, 2, 88, 380, 653, 6, 815, 8, 603, 78, 43, 237, 12, 69, 30, 649, 4, 2372, 330, 7, 186, 185, 6, 51, 22, 108, 631, 3, 7, 52, 21, 13, 5, 562, 106, 8, 603, 78, 43, 237, 3, 547, 23, 38, 498, 64, 2, 1051, 3, 2, 1052, 50, 2373, 5, 1053, 864, 1425, 404, 16, 1049, 2, 1052, 182, 1053, 2374, 3, 2375, 3, 2376, 180, 2, 1051, 24, 2, 797, 16, 81, 2377, 9, 2, 2378, 57, 2, 1053, 14, 22, 314, 2, 1051, 16, 5, 2379, 14, 1421, 2380, 4, 478, 2, 1344, 180, 2, 1052, 2381, 862, 3, 2382, 23, 5, 1000, 3, 1216, 2, 2383, 32, 37, 2, 212, 9, 996, 22, 15, 788, 2, 86, 77, 419, 42, 11, 75, 18, 375, 6, 16, 11, 100, 21, 6, 20, 78, 296, 2, 464, 973, 103, 8, 193, 155, 287, 8, 90, 11, 160, 278, 395, 62, 10, 2, 88, 3, 12, 14, 101, 172, 331, 4, 55, 27, 176, 137, 321, 191, 1043, 9, 2, 530, 820, 2, 88, 52, 21, 58, 51, 11, 49, 2, 86, 77, 4, 592, 11, 5, 526, 109, 5, 526, 207, 42, 2, 86, 77, 51, 29, 27, 502, 12, 161, 27, 449, 15, 2, 88, 10, 13, 5, 177, 371, 125, 2384, 46, 2385, 26, 2386, 592, 17, 77, 221, 140, 11, 211, 774, 2, 86, 77, 654, 715, 3, 79, 13, 5, 106, 611, 928, 23, 821, 4, 592, 33, 305, 221, 27, 2387, 3, 791, 394, 13, 5, 477, 2388, 71, 26, 118, 2389, 51, 30, 1207, 221, 9, 2, 688, 305, 221, 221, 9, 2, 688, 305, 221, 824, 825, 532, 533, 824, 825, 532, 533, 532, 533, 9, 2, 597, 597, 688, 305, 305, 221, 305, 221, 71, 1428, 26, 467, 294, 58, 128, 123, 797, 71, 51, 30, 319, 22, 311, 26, 124, 2390, 2391, 101, 9, 305, 221, 2392, 101, 9, 305, 221, 824, 825, 532, 533, 824, 825, 532, 533, 532, 533, 9, 2, 597, 597, 688, 305, 2393, 2394, 221, 568, 53, 204, 2, 88, 3, 2, 86, 77, 24, 91, 486, 4, 507, 6, 57, 5, 882, 9, 2, 377, 20, 257, 14, 155, 13, 2, 431, 108, 21, 204, 2, 88, 3, 664, 12, 78, 2, 197, 6, 329, 62, 171, 394, 26, 2, 216, 9, 2, 526, 32, 377, 37, 6, 12, 2395, 16, 7, 231, 25, 2, 88, 101, 766, 108, 21, 3, 231, 2, 1001, 180, 104, 3, 104, 2396, 122, 801, 21, 2, 2397, 15, 436, 47, 2, 566, 195, 532, 533, 9, 2, 597, 597, 688, 305, 305, 221, 308, 2398, 71, 1429, 2, 534, 2, 73, 3, 60, 9, 470, 50, 2399, 21, 92, 2400, 57, 28, 2401, 23, 5, 127, 779, 1161, 45, 47, 22, 887, 9, 34, 372, 3, 1103, 16, 68, 16, 2, 301, 683, 9, 1027, 2, 420, 14, 2402, 130, 47, 13, 2403, 23, 5, 2404, 21, 461, 227, 4, 2405, 116, 3, 242, 2, 73, 14, 2, 152, 93, 23, 5, 1054, 13, 38, 197, 3, 5, 1430, 9, 1431, 13, 2, 123, 13, 2, 31, 488, 9, 2, 222, 14, 5, 218, 23, 5, 139, 797, 9, 534, 173, 6, 28, 110, 27, 168, 15, 6, 151, 12, 87, 967, 4, 159, 19, 47, 8, 196, 28, 160, 107, 2, 377, 252, 7, 61, 3, 197, 119, 2, 2406, 25, 41, 165, 4, 29, 46, 764, 9, 33, 27, 7, 79, 146, 19, 271, 45, 17, 4, 2407, 179, 2, 63, 12, 24, 105, 132, 13, 5, 222, 9, 2408, 130, 25, 7, 24, 334, 45, 47, 13, 1212, 3, 7, 14, 87, 525, 4, 198, 15, 7, 247, 2, 356, 9, 344, 271, 41, 15, 20, 2, 755, 7, 10, 4, 54, 248, 9, 43, 127, 1432, 2, 755, 78, 2, 84, 14, 2, 73, 3, 16, 35, 2409, 43, 916, 120, 2, 1432, 159, 19, 2, 2410, 42, 11, 398, 4, 67, 64, 35, 69, 6, 35, 69, 30, 159, 19, 22, 2411, 3, 6, 14, 267, 30, 2412, 3, 15, 20, 2, 194, 366, 61, 12, 3, 362, 730, 373, 7, 14, 1048, 4, 95, 373, 11, 67, 248, 96, 9, 47, 50, 742, 3, 96, 50, 372, 8, 275, 28, 89, 2, 826, 7, 10, 33, 141, 355, 124, 58, 163, 555, 120, 4, 54, 210, 177, 1411, 9, 6, 26, 7, 61, 3, 2413, 172, 15, 31, 393, 34, 981, 9, 17, 726, 247, 2, 451, 9, 6, 19, 22, 203, 194, 2414, 51, 56, 252, 91, 16, 68, 2, 730, 826, 50, 22, 591, 31, 803, 21, 475, 32, 89, 28, 659, 12, 685, 4, 2, 88, 28, 72, 18, 56, 201, 4, 148, 39, 181, 130, 2, 377, 20, 486, 28, 131, 894, 39, 92, 1352, 2, 88, 685, 13, 651, 26, 693, 28, 169, 1395, 47, 130, 2, 216, 9, 2, 377, 536, 149, 12, 79, 13, 5, 575, 2415, 106, 25, 7, 955, 239, 26, 2, 152, 93, 204, 36, 279, 13, 2, 222, 3, 2, 73, 148, 21, 43, 1055, 3, 110, 269, 119, 4, 167, 36, 71, 14, 225, 12, 59, 67, 16, 68, 16, 42, 7, 50, 146, 120, 92, 712, 15, 22, 2, 826, 50, 591, 39, 536, 149, 21, 92, 475, 3, 7, 59, 214, 167, 36, 15, 38, 9, 47, 263, 18, 48, 64, 4, 2416, 536, 3, 15, 35, 24, 4, 332, 43, 2417, 4, 144, 116, 5, 540, 2418, 92, 475, 82, 29, 13, 130, 2, 377, 20, 120, 61, 12, 38, 9, 2, 826, 24, 5, 1433, 15, 2419, 33, 9, 175, 12, 59, 30, 582, 3, 7, 52, 119, 2, 222, 3, 111, 290, 116, 3, 31, 178, 142, 83, 430, 9, 664, 6, 179, 7, 69, 6, 27, 1434, 15, 2, 170, 34, 2420, 6, 14, 230, 2, 577, 59, 30, 167, 36, 19, 22, 32, 24, 662, 9, 6, 27, 115, 946, 22, 45, 26, 6, 35, 14, 1048, 4, 574, 23, 38, 618, 26, 2, 376, 9, 2, 156, 3, 33, 14, 9, 31, 34, 212, 16, 6, 268, 46, 1045, 21, 2, 772, 2421, 334, 2, 2422, 10, 2, 73, 21, 33, 2, 152, 93, 1435, 163, 1436, 21, 2, 1054, 3, 44, 1381, 2, 1431, 1430, 3, 334, 16, 1049, 2, 60, 9, 470, 7, 151, 96, 534, 22, 21, 5, 1437, 156, 2, 420, 9, 470, 35, 1429, 362, 534, 3, 182, 47, 87, 179, 816, 74, 827, 2, 73, 10, 4, 2, 194, 30, 181, 30, 181, 2, 93, 239, 419, 41, 20, 5, 127, 318, 4, 108, 130, 15, 406, 2, 97, 384, 10, 2, 73, 3, 2, 152, 93, 1435, 163, 1436, 21, 2, 1054, 3, 253, 36, 97, 384, 2, 97, 384, 14, 2, 85, 35, 122, 13, 23, 5, 1056, 13, 38, 197, 3, 5, 569, 9, 527, 3, 418, 13, 2, 123, 8, 447, 561, 74, 325, 35, 79, 26, 987, 273, 13, 25, 8, 445, 18, 87, 314, 80, 208, 57, 8, 14, 1438, 26, 11, 260, 4, 56, 314, 10, 2, 73, 57, 69, 11, 291, 2, 85, 110, 19, 2, 138, 150, 71, 24, 436, 116, 66, 2, 222, 255, 13, 255, 23, 2, 126, 2423, 9, 138, 8, 90, 6, 14, 35, 10, 2424, 10, 2, 138, 150, 2425, 188, 2, 126, 574, 15, 39, 2, 73, 10, 4, 2, 194, 3, 2, 194, 449, 1057, 39, 22, 163, 2426, 21, 92, 475, 3, 44, 188, 47, 40, 3, 2427, 2, 388, 4, 2428, 3, 2429, 190, 62, 74, 2430, 2, 73, 10, 4, 2, 85, 6, 521, 18, 370, 10, 2, 85, 2431, 2, 73, 593, 323, 4, 2, 194, 71, 668, 151, 5, 2432, 9, 2, 435, 8, 346, 47, 4, 1250, 2, 85, 188, 16, 83, 1317, 8, 112, 786, 9, 80, 351, 8, 70, 5, 85, 98, 2, 60, 148, 21, 17, 1055, 3, 79, 993, 19, 2, 85, 71, 235, 740, 3, 2433, 319, 74, 535, 10, 2, 73, 3, 75, 18, 29, 619, 58, 8, 82, 56, 11, 570, 21, 2, 2434, 33, 69, 30, 432, 4, 2435, 2, 384, 19, 22, 35, 297, 2436, 134, 38, 367, 4, 2, 123, 146, 1339, 19, 2, 60, 3, 13, 43, 650, 35, 234, 5, 139, 569, 36, 9, 43, 1056, 1009, 9, 2, 527, 3, 418, 91, 19, 33, 147, 12, 186, 5, 31, 209, 1196, 102, 416, 17, 5, 168, 318, 625, 7, 151, 36, 32, 6, 14, 7, 14, 257, 4, 295, 492, 53, 3, 7, 61, 19, 97, 7, 51, 107, 40, 3, 395, 2, 222, 25, 21, 710, 1423, 7, 868, 4, 2437, 254, 7, 14, 16, 145, 16, 41, 14, 302, 26, 17, 8, 196, 11, 285, 18, 2438, 27, 10, 2, 126, 71, 14, 349, 153, 4, 17, 8, 72, 316, 1012, 8, 72, 18, 399, 6, 10, 12, 31, 1340, 8, 70, 340, 11, 112, 46, 143, 4, 295, 98, 10, 2, 126, 75, 18, 276, 503, 10, 12, 104, 2439, 11, 48, 11, 131, 340, 172, 287, 25, 8, 295, 19, 5, 2440, 2441, 10, 2, 126, 30, 13, 15, 2442, 1439, 3, 35, 111, 40, 31, 1357, 3, 890, 120, 4, 2, 123, 227, 9, 2, 222, 22, 33, 63, 2, 60, 24, 105, 268, 62, 993, 19, 2, 85, 3, 91, 16, 2, 126, 890, 2, 222, 7, 10, 4, 38, 9, 2, 828, 9, 2, 222, 871, 65, 2, 1058, 9, 2, 1440, 13, 2, 141, 1345, 21, 102, 2, 1256, 85, 1213, 27, 15, 35, 408, 280, 43, 500, 62, 319, 74, 535, 2, 73, 380, 407, 58, 8, 82, 56, 11, 570, 328, 11, 131, 619, 58, 30, 8, 70, 5, 170, 673, 74, 325, 2, 85, 79, 13, 5, 562, 106, 3, 8, 445, 18, 486, 80, 208, 30, 962, 5, 1041, 58, 27, 3, 32, 23, 2, 527, 3, 418, 189, 27, 2443, 3, 2, 812, 9, 2, 208, 2, 812, 9, 2, 32, 10, 2, 73, 6, 79, 23, 2, 208, 2, 85, 161, 9, 175, 812, 815, 23, 5, 18, 10, 2, 73, 718, 55, 11, 190, 65, 26, 5, 2444, 100, 21, 8, 70, 5, 170, 673, 2, 85, 52, 21, 3, 464, 149, 2445, 115, 15, 101, 2, 138, 150, 10, 8, 263, 18, 2, 138, 150, 419, 13, 5, 127, 333, 11, 69, 10, 2, 85, 8, 1441, 6, 10, 2, 138, 150, 35, 2446, 6, 10, 2, 73, 395, 36, 15, 1424, 68, 19, 128, 392, 2, 126, 10, 2, 85, 52, 21, 146, 269, 119, 4, 67, 42, 35, 51, 1441, 6, 172, 25, 2, 126, 1318, 135, 210, 809, 469, 115, 15, 404, 2, 85, 8, 617, 96, 104, 527, 3, 418, 25, 32, 69, 2, 126, 95, 38, 9, 2, 194, 229, 15, 8, 72, 18, 265, 10, 2, 85, 11, 113, 265, 381, 2, 73, 58, 8, 82, 56, 11, 570, 2, 1442, 85, 627, 43, 1056, 3, 527, 3, 418, 3, 52, 39, 21, 38, 684, 8, 70, 5, 170, 673, 74, 325, 35, 79, 11, 131, 5, 31, 170, 2447, 10, 2, 73, 98, 38, 9, 2, 578, 579, 923, 3, 14, 970, 829, 78, 2, 828, 9, 2, 222, 16, 15, 37, 177, 5, 440, 355, 8, 140, 91, 375, 4, 11, 64, 6, 14, 252, 28, 24, 5, 139, 2448, 2449, 102, 2450, 40, 19, 2, 379, 23, 2451, 66, 33, 28, 898, 2, 578, 348, 99, 97, 3, 44, 228, 173, 6, 8, 70, 331, 8, 112, 241, 15, 252, 61, 12, 8, 112, 27, 674, 334, 13, 2, 2452, 19, 2, 216, 9, 2453, 41, 14, 96, 2454, 19, 2455, 102, 14, 970, 829, 78, 2, 828, 9, 2, 222, 3, 8, 105, 2456, 32, 6, 676, 200, 76, 42, 15, 20, 22, 11, 48, 45, 6, 11, 304, 582, 39, 404, 2, 73, 8, 72, 18, 100, 46, 2457, 10, 2, 85, 8, 70, 21, 2, 951, 16, 6, 37, 44, 11, 304, 450, 39, 2, 73, 161, 98, 2, 123, 578, 348, 923, 3, 14, 829, 108, 15, 314, 2, 578, 579, 61, 12, 76, 137, 176, 107, 21, 278, 8, 160, 177, 652, 80, 208, 10, 2, 85, 23, 83, 1037, 159, 19, 2, 60, 71, 14, 834, 2, 1058, 9, 1440, 11, 304, 100, 10, 2, 73, 3, 2, 85, 1177, 268, 2, 222, 171, 214, 394, 4, 148, 43, 500, 21, 3, 91, 190, 43, 99, 62, 767, 2, 60, 188, 4, 38, 9, 2, 828, 25, 2, 85, 14, 36, 9, 357, 130, 2, 2458, 59, 107, 4, 2, 154, 406, 2, 153, 384, 10, 2, 73, 2, 153, 384, 14, 2, 117, 20, 306, 7, 801, 2, 466, 366, 13, 17, 197, 3, 12, 945, 71, 6, 14, 214, 130, 7, 111, 66, 2, 222, 78, 2, 84, 2, 288, 242, 2, 154, 79, 585, 22, 19, 136, 319, 74, 535, 10, 2, 73, 552, 18, 10, 2, 306, 2, 73, 110, 269, 19, 2, 152, 93, 71, 10, 13, 5, 246, 106, 74, 325, 113, 912, 1443, 33, 384, 68, 42, 8, 113, 8, 113, 2, 73, 10, 23, 5, 566, 244, 3, 115, 2459, 43, 580, 3, 748, 19, 2, 306, 200, 43, 157, 50, 344, 36, 9, 357, 35, 10, 13, 5, 480, 106, 32, 89, 534, 151, 9, 466, 1370, 10, 2, 306, 528, 10, 5, 600, 106, 290, 17, 2460, 15, 126, 2, 60, 2461, 36, 2462, 15, 126, 347, 15, 126, 36, 9, 222, 2463, 116, 1346, 116, 62, 23, 43, 852, 26, 96, 336, 2, 301, 222, 14, 13, 650, 189, 2, 126, 235, 36, 3, 78, 2, 63, 28, 24, 984, 39, 53, 2, 306, 24, 1391, 105, 327, 10, 2, 73, 23, 83, 244, 9, 127, 1412, 406, 2, 153, 384, 3, 35, 188, 13, 83, 1444, 4, 2, 60, 292, 80, 158, 11, 113, 912, 1443, 2, 153, 384, 6, 87, 339, 80, 1184, 2464, 12, 1407, 2, 152, 93, 16, 35, 2465, 120, 2, 1058, 496, 31, 209, 4, 67, 32, 2, 153, 384, 51, 29, 49, 26, 28, 463, 18, 111, 94, 535, 181, 7, 10, 4, 54, 1402, 17, 669, 57, 2, 152, 93, 334, 36, 19, 2, 428, 9, 43, 643, 34, 106, 2, 356, 12, 308, 2466, 12, 20, 535, 98, 204, 12, 87, 956, 13, 2, 2467, 9, 2, 147, 64, 139, 7, 24, 517, 13, 2, 141, 393, 336, 3, 7, 543, 40, 13, 118, 5, 333, 15, 7, 2468, 120, 2, 194, 366, 23, 2, 969, 9, 17, 2469, 2470, 22, 2, 830, 21, 4, 2, 354, 9, 2, 779, 960, 3, 41, 28, 778, 2471, 45, 2472, 17, 31, 94, 9, 5, 2473, 9, 1445, 7, 24, 2474, 1018, 2, 1041, 130, 109, 8, 447, 74, 561, 7, 593, 13, 5, 125, 9, 127, 2475, 3, 79, 1063, 47, 40, 53, 16, 1434, 16, 7, 59, 26, 2, 1446, 9, 2, 1445, 297, 452, 13, 17, 99, 3, 7, 24, 5, 2476, 202, 9, 243, 15, 28, 113, 29, 1388, 19, 136, 3, 148, 129, 66, 2, 194, 366, 58, 28, 51, 2477, 2, 377, 2478, 1174, 10, 2, 73, 13, 5, 31, 924, 106, 625, 22, 2, 830, 89, 129, 13, 92, 1007, 1377, 22, 35, 380, 23, 127, 2479, 146, 440, 19, 12, 16, 35, 10, 27, 12, 110, 19, 2, 194, 366, 3, 261, 15, 13, 17, 2480, 7, 24, 148, 2, 577, 13, 99, 2481, 3, 2, 170, 34, 103, 14, 677, 81, 401, 45, 13, 5, 566, 84, 210, 87, 2482, 4, 917, 7, 178, 111, 6, 36, 53, 3, 148, 6, 143, 30, 15, 6, 2483, 94, 7, 10, 4, 54, 8, 169, 90, 6, 51, 29, 87, 16, 94, 212, 13, 2, 377, 38, 84, 40, 16, 2, 123, 16, 178, 16, 2, 194, 24, 5, 34, 1416, 134, 2, 2484, 9, 210, 1018, 3, 92, 475, 3, 2485, 24, 132, 142, 3, 920, 129, 4, 47, 28, 270, 4, 438, 31, 2486, 4, 574, 36, 5, 511, 9, 2, 1446, 22, 707, 2, 577, 71, 165, 172, 94, 2487, 4, 55, 201, 25, 450, 23, 81, 379, 491, 2488, 40, 66, 2, 544, 9, 2, 222, 32, 55, 11, 48, 45, 33, 518, 2, 73, 10, 4, 12, 135, 10, 12, 135, 954, 1427, 2, 73, 135, 954, 10, 12, 15, 20, 31, 403, 2, 73, 10, 323, 4, 2, 194, 28, 50, 91, 257, 4, 574, 33, 39, 21, 92, 475, 57, 2, 152, 93, 419, 1447, 403, 74, 325, 646, 9, 175, 35, 10, 13, 5, 31, 2489, 125, 25, 748, 3, 423, 680, 19, 116, 16, 35, 223, 1447, 403, 9, 175, 8, 676, 2, 73, 239, 10, 3, 52, 21, 4, 554, 13, 83, 1444, 403, 1059, 1059, 403, 16, 42, 35, 50, 266, 102, 355, 632, 315, 96, 9, 2, 194, 1057, 6, 39, 403, 3, 96, 1059, 12, 59, 67, 33, 16, 7, 14, 242, 219, 4, 159, 120, 92, 475, 25, 6, 240, 18, 389, 5, 234, 7, 61, 4, 54, 19, 33, 147, 2, 73, 71, 24, 132, 26, 96, 63, 803, 591, 13, 43, 1448, 326, 2490, 36, 279, 3, 334, 36, 134, 43, 326, 682, 2491, 124, 22, 2492, 104, 183, 5, 1449, 236, 4, 395, 2, 222, 453, 110, 19, 12, 8, 70, 30, 5, 1449, 236, 10, 12, 11, 89, 10, 2, 73, 344, 124, 841, 236, 188, 2, 60, 68, 8, 552, 18, 100, 19, 128, 392, 10, 12, 728, 15, 20, 30, 5, 1413, 682, 11, 2493, 6, 91, 76, 6, 20, 2, 2494, 682, 13, 2, 326, 10, 2, 73, 44, 6, 260, 4, 29, 639, 38, 10, 12, 2, 73, 235, 740, 3, 615, 43, 1448, 326, 239, 816, 74, 827, 35, 10, 4, 2, 194, 13, 5, 246, 562, 106, 41, 20, 104, 535, 4, 108, 181, 207, 74, 325, 10, 2, 152, 93, 800, 40, 13, 5, 127, 333, 33, 713, 514, 91, 132, 968, 40, 32, 20, 13, 6, 10, 2, 60, 8, 463, 18, 361, 6, 181, 10, 2, 152, 93, 25, 6, 634, 4, 29, 5, 991, 541, 78, 2, 1450, 4, 4, 481, 6, 113, 56, 132, 15, 10, 2, 73, 1389, 6, 14, 541, 4, 456, 102, 521, 18, 628, 11, 48, 71, 37, 6, 1451, 4, 10, 38, 9, 2, 830, 6, 521, 18, 1451, 19, 22, 10, 2, 152, 93, 13, 435, 41, 20, 135, 541, 21, 2, 767, 35, 1247, 2, 713, 16, 35, 223, 3, 188, 6, 521, 18, 5, 991, 115, 22, 6, 20, 5, 270, 9, 831, 89, 28, 13, 2, 1450, 20, 2495, 229, 191, 9, 2, 830, 46, 28, 131, 30, 10, 2, 152, 93, 3, 15, 20, 2, 2496, 103, 45, 6, 2, 194, 22, 110, 416, 35, 113, 56, 2497, 481, 311, 20, 197, 10, 2, 73, 2, 194, 22, 1111, 40, 53, 207, 74, 325, 10, 2, 420, 8, 263, 18, 574, 6, 3, 28, 72, 18, 2498, 8, 69, 41, 20, 46, 356, 1452, 19, 2, 216, 42, 11, 263, 18, 2499, 6, 10, 2, 73, 15, 101, 339, 2, 389, 897, 11, 113, 56, 676, 96, 1, 58, 311, 11, 160, 56, 1452, 74, 356, 49, 83, 1, 673, 41, 14, 5, 899, 1, 9, 322, 19, 33, 6, 14, 2, 97, 292, 1254, 103, 2, 73, 24, 10, 15, 156, 15, 1453, 43, 1, 10, 2, 60, 6, 1453, 135, 9, 2, 202, 10, 12, 121, 11, 75, 18, 214, 48, 32, 28, 131, 45, 334, 47, 10, 2, 73, 2, 152, 93, 148, 21, 43, 1055, 254, 176, 8, 291, 207, 74, 325, 35, 229, 291, 19, 2, 257, 2, 73, 10, 921, 3, 100, 21, 200, 11, 108, 4, 2, 216, 44, 553, 273, 50, 2, 831, 2, 152, 93, 334, 28, 587, 65, 11, 24, 132, 4, 17, 3, 944, 65, 4, 116, 7, 250, 65, 5, 168, 1, 25, 10, 8, 59, 30, 658, 35, 1438, 47, 355, 8, 24, 30, 303, 137, 48, 6, 4, 29, 695, 42, 7, 169, 1, 2, 389, 21, 32, 51, 662, 9, 11, 8, 250, 17, 38, 28, 250, 116, 124, 11, 250, 277, 163, 58, 104, 28, 22, 1454, 134, 116, 4, 11, 330, 28, 50, 370, 130, 42, 8, 58, 7, 169, 764, 4, 29, 1, 13, 33, 1, 35, 1, 4, 11, 4, 270, 47, 977, 454, 16, 137, 50, 80, 900, 14, 15, 11, 24, 132, 130, 7, 24, 33, 1060, 83, 1, 15, 122, 586, 116, 3, 1, 3, 6, 75, 18, 192, 116, 48, 7, 567, 47, 315, 26, 33, 113, 193, 29, 5, 1, 297, 134, 22, 2, 376, 586, 368, 3, 65, 15, 20, 2, 464, 403, 569, 9, 535, 137, 112, 155, 181, 10, 2, 73, 1360, 43, 322, 27, 76, 192, 2, 194, 42, 128, 38, 9, 47, 72, 375, 6, 10, 12, 7, 24, 517, 27, 139, 13, 2, 141, 393, 336, 15, 7, 345, 18, 5, 234, 312, 9, 1359, 116, 8, 82, 319, 116, 1, 8, 75, 18, 405, 41, 20, 83, 1455, 9, 451, 13, 6, 2, 194, 22, 1057, 39, 21, 92, 475, 7, 240, 18, 405, 41, 20, 83, 1455, 9, 451, 13, 6, 25, 786, 9, 47, 1, 4, 375, 2, 713, 42, 41, 20, 46, 451, 13, 6, 10, 2, 73, 15, 1, 5, 479, 9, 537, 11, 48, 16, 137, 1028, 18, 321, 4, 198, 128, 3, 181, 8, 75, 18, 48, 35, 52, 21, 1, 36, 2, 831, 21, 43, 684, 3, 146, 19, 47, 23, 38, 498, 8, 432, 4, 67, 96, 451, 13, 47, 115, 22, 10, 8, 59, 30, 658, 11, 72, 18, 658, 72, 11, 35, 188, 323, 4, 2, 420, 2, 420, 408, 43, 99, 614, 55, 8, 159, 49, 6, 35, 10, 102, 35, 267, 69, 30, 210, 151, 1390, 9, 1, 22, 143, 27, 296, 10, 2, 73, 3, 35, 52, 21, 884, 120, 2, 831, 4, 554, 137, 48, 6, 4, 29, 695, 15, 20, 2, 194, 9, 175, 8, 250, 17, 38, 28, 250, 116, 124, 121, 15, 113, 29, 32, 35, 69, 23, 2, 534, 11, 48, 25, 6, 506, 21, 28, 22, 1454, 134, 116, 4, 11, 10, 12, 121, 41, 28, 89, 10, 2, 73, 1355, 750, 4, 2, 534, 21, 2, 218, 135, 72, 29, 1, 183, 15, 44, 53, 130, 7, 24, 33, 1060, 11, 105, 24, 1, 80, 158, 8, 90, 35, 10, 4, 2, 60, 105, 10, 2, 60, 1, 1298, 83, 1, 19, 2, 577, 16, 7, 223, 2, 1029, 34, 230, 24, 268, 62, 591, 21, 43, 772, 23, 38, 618, 16, 35, 142, 6, 151, 46, 1045, 25, 35, 76, 239, 79, 53, 1327, 2, 1, 15, 14, 1, 39, 43, 249, 16, 145, 16, 6, 1252, 44, 2, 195, 75, 18, 1060, 11, 10, 2, 73, 146, 119, 2, 222, 23, 5, 1180, 41, 14, 5, 776, 279, 6, 20, 5, 1, 2, 73, 188, 13, 83, 371, 125, 3, 453, 1282, 192, 2, 194, 816, 92, 827, 2, 73, 10, 26, 45, 2, 1, 63, 15, 156, 46, 46, 10, 2, 60, 560, 97, 827, 1065, 788, 3, 503, 10, 12, 990, 2, 243, 9, 350, 2, 560, 97, 365, 74, 757, 10, 2, 60, 323, 1, 8, 174, 18, 10, 12, 62, 23, 17, 99, 2, 60, 413, 19, 2, 428, 9, 17, 106, 456, 657, 71, 1428, 26, 11, 10, 12, 7, 24, 517, 4, 17, 573, 293, 78, 33, 63, 11, 131, 135, 25, 5, 683, 9, 1027, 19, 33, 2, 301, 683, 679, 40, 66, 2, 244, 3, 122, 1, 39, 173, 17, 7, 250, 5, 34, 1376, 187, 9, 1148, 3, 187, 9, 1246, 3, 206, 4, 804, 47, 62, 3, 142, 54, 437, 21, 2, 832, 23, 17, 99, 13, 2, 1129, 9, 17, 385, 71, 14, 893, 1, 179, 96, 776, 542, 15, 24, 1, 39, 134, 2, 519, 173, 17, 249, 1349, 40, 12, 158, 10, 17, 385, 121, 32, 5, 145, 584, 11, 112, 24, 109, 8, 112, 24, 118, 5, 209, 487, 10, 12, 3, 7, 587, 17, 385, 16, 68, 16, 7, 59, 265, 47, 22, 273, 633, 596, 9, 819, 15, 11, 56, 91, 132, 834, 45, 3, 57, 7, 24, 314, 17, 385, 1, 17, 3, 10, 6, 14, 5, 209, 487, 158, 267, 25, 76, 763, 13, 4, 74, 208, 6, 20, 189, 538, 27, 12, 111, 40, 3, 231, 62, 343, 180, 7, 231, 16, 68, 7, 162, 32, 5, 1456, 487, 6, 24, 132, 25, 17, 385, 228, 286, 91, 16, 7, 268, 17, 1292, 17, 99, 21, 17, 197, 1022, 2, 1, 1406, 3, 343, 9, 34, 12, 3, 22, 17, 1456, 596, 200, 7, 172, 79, 1, 115, 5, 1439, 3, 33, 14, 17, 487, 97, 7, 1, 9, 34, 12, 54, 3, 136, 53, 2, 708, 322, 50, 1, 173, 17, 684, 3, 2, 434, 1025, 157, 50, 146, 40, 66, 819, 7, 59, 258, 2, 31, 1426, 9, 17, 106, 3, 67, 15, 320, 34, 1, 9, 17, 99, 4, 346, 129, 2, 1272, 505, 15, 51, 299, 107, 66, 17, 157, 3, 286, 16, 7, 1, 58, 165, 4, 483, 2, 301, 458, 1050, 17, 1320, 1035, 23, 2, 633, 373, 9, 17, 34, 385, 20, 487, 2, 145, 784, 1, 19, 17, 205, 16, 2, 152, 93, 329, 78, 2, 509, 114, 1, 43, 84, 262, 2, 1, 341, 7, 59, 258, 2, 1, 9, 2, 1457, 16, 2, 138, 150, 3, 43, 1105, 1, 92, 105, 1324, 1, 3, 2, 643, 106, 9, 2, 60, 1205, 62, 17, 1029, 1026, 4, 1031, 136, 104, 2, 348, 282, 14, 585, 21, 2, 117, 20, 684, 180, 1299, 3, 1300, 1, 1050, 6, 136, 104, 2, 665, 9, 2, 88, 2, 1222, 9, 2, 577, 20, 772, 1433, 3, 2, 1, 9, 2, 829, 578, 579, 838, 2, 244, 1110, 40, 23, 2, 1271, 821, 9, 2, 1442, 86, 77, 27, 7, 228, 21, 23, 1362, 157, 3, 187, 1, 54, 13, 1458, 330, 7, 247, 7, 24, 25, 4, 491, 47, 53, 3, 22, 51, 272, 4, 877, 1, 2, 784, 51, 29, 101, 1, 13, 2, 1088, 3, 2, 341, 1, 4, 2, 677, 9, 2, 1, 2, 1227, 1457, 51, 272, 4, 1, 1, 1, 3, 2, 60, 20, 643, 1, 4, 2, 106, 9, 2, 1, 1003, 3, 2, 1296, 9, 2, 282, 2, 665, 9, 2, 88, 3, 22, 2, 123, 320, 1, 51, 272, 7, 247, 4, 2, 751, 1, 9, 2, 1248, 1, 1, 180, 2, 1, 9, 2, 1, 13, 2, 431, 51, 190, 2, 458, 9, 2, 86, 77, 20, 1410, 821, 1, 7, 1, 4, 54, 64, 33, 184, 34, 385, 9, 819, 51, 13, 2, 115, 63, 29, 54, 5, 517, 1211, 3, 64, 7, 51, 346, 262, 22, 17, 1, 1, 2, 616, 3, 1, 1408, 9, 17, 1, 3, 64, 7, 51, 1, 45, 17, 123, 34, 364, 3, 167, 92, 157, 434, 3, 1025, 23, 309, 5, 633, 744, 224, 214, 23, 2, 487, 9, 1458, 9, 145, 1147, 3, 64, 7, 51, 422, 23, 22, 92, 616, 1, 3, 198, 5, 1062, 13, 22, 92, 616, 1, 1, 17, 351, 338, 317, 3, 2, 1, 1437, 798, 2, 216]\n",
            "27335\n",
            "2499\n"
          ],
          "name": "stdout"
        }
      ]
    },
    {
      "cell_type": "code",
      "metadata": {
        "id": "ykfI4FrwdyJe",
        "outputId": "e5c5388f-9319-46b8-d4d7-01d9f55d9386",
        "colab": {
          "base_uri": "https://localhost:8080/"
        }
      },
      "source": [
        "dataX = []\n",
        "dataY = []\n",
        "\n",
        "for i in range(0, len(tokens) - seq_length-1 , 1):\n",
        "  seq_in = tokens[i:i + seq_length]\n",
        "  seq_out = tokens[i + seq_length]\n",
        "\n",
        "  if seq_out==1: #Skip samples where target word is OOV\n",
        "    continue\n",
        "    \n",
        "  dataX.append(seq_in)\n",
        "  dataY.append(seq_out)\n",
        " \n",
        "N = len(dataX)\n",
        "print (\"Total training data size: \", N)"
      ],
      "execution_count": 206,
      "outputs": [
        {
          "output_type": "stream",
          "text": [
            "Total training data size:  27213\n"
          ],
          "name": "stdout"
        }
      ]
    },
    {
      "cell_type": "code",
      "metadata": {
        "id": "cJmGr1xId8cO"
      },
      "source": [
        "X = numpy.array(dataX)\n",
        "\n",
        "# one hot encode the output variable\n",
        "y = numpy.array(dataY)\n",
        "y = np_utils.to_categorical(dataY)"
      ],
      "execution_count": 207,
      "outputs": []
    },
    {
      "cell_type": "code",
      "metadata": {
        "id": "8QPApRA-d9JV",
        "outputId": "8936d60c-e6e3-4481-ce50-fc0797a1e4d9",
        "colab": {
          "base_uri": "https://localhost:8080/"
        }
      },
      "source": [
        "# with embedding\n",
        "model = keras.Sequential([\n",
        "    keras.layers.Embedding(vocab_size, embedding_dim, input_length=seq_length),\n",
        "    keras.layers.Bidirectional(keras.layers.LSTM(64)),\n",
        "    keras.layers.Dense(vocab_size, activation='softmax')\n",
        "])\n",
        "# compile model\n",
        "model.compile(loss='categorical_crossentropy',\n",
        "              optimizer='adam',\n",
        "              metrics=['accuracy'])\n",
        "\n",
        "# model summary\n",
        "model.summary()"
      ],
      "execution_count": 209,
      "outputs": [
        {
          "output_type": "stream",
          "text": [
            "Model: \"sequential_11\"\n",
            "_________________________________________________________________\n",
            "Layer (type)                 Output Shape              Param #   \n",
            "=================================================================\n",
            "embedding_11 (Embedding)     (None, 50, 100)           250000    \n",
            "_________________________________________________________________\n",
            "bidirectional_11 (Bidirectio (None, 128)               84480     \n",
            "_________________________________________________________________\n",
            "dense_11 (Dense)             (None, 2500)              322500    \n",
            "=================================================================\n",
            "Total params: 656,980\n",
            "Trainable params: 656,980\n",
            "Non-trainable params: 0\n",
            "_________________________________________________________________\n"
          ],
          "name": "stdout"
        }
      ]
    },
    {
      "cell_type": "code",
      "metadata": {
        "id": "14ClAAYpeCVO",
        "outputId": "074f89b4-b630-46b0-f511-61c11b124735",
        "colab": {
          "base_uri": "https://localhost:8080/"
        }
      },
      "source": [
        "# Use validation split of 0.2 while training\n",
        "model.fit(X, y, epochs=120, batch_size=128, validation_split = 0.2 ) "
      ],
      "execution_count": 210,
      "outputs": [
        {
          "output_type": "stream",
          "text": [
            "Epoch 1/120\n",
            "171/171 [==============================] - 4s 21ms/step - loss: 6.3424 - accuracy: 0.0514 - val_loss: 6.1317 - val_accuracy: 0.0829\n",
            "Epoch 2/120\n",
            "171/171 [==============================] - 3s 17ms/step - loss: 5.8784 - accuracy: 0.0543 - val_loss: 6.0626 - val_accuracy: 0.0829\n",
            "Epoch 3/120\n",
            "171/171 [==============================] - 3s 17ms/step - loss: 5.7632 - accuracy: 0.0586 - val_loss: 6.0492 - val_accuracy: 0.0841\n",
            "Epoch 4/120\n",
            "171/171 [==============================] - 3s 17ms/step - loss: 5.6689 - accuracy: 0.0615 - val_loss: 6.0518 - val_accuracy: 0.0889\n",
            "Epoch 5/120\n",
            "171/171 [==============================] - 3s 17ms/step - loss: 5.5790 - accuracy: 0.0673 - val_loss: 6.0113 - val_accuracy: 0.0863\n",
            "Epoch 6/120\n",
            "171/171 [==============================] - 3s 17ms/step - loss: 5.4816 - accuracy: 0.0737 - val_loss: 5.9939 - val_accuracy: 0.0950\n",
            "Epoch 7/120\n",
            "171/171 [==============================] - 3s 17ms/step - loss: 5.3696 - accuracy: 0.0849 - val_loss: 5.9472 - val_accuracy: 0.0976\n",
            "Epoch 8/120\n",
            "171/171 [==============================] - 3s 17ms/step - loss: 5.2447 - accuracy: 0.1015 - val_loss: 5.9028 - val_accuracy: 0.1067\n",
            "Epoch 9/120\n",
            "171/171 [==============================] - 3s 17ms/step - loss: 5.1261 - accuracy: 0.1155 - val_loss: 5.8820 - val_accuracy: 0.1112\n",
            "Epoch 10/120\n",
            "171/171 [==============================] - 3s 17ms/step - loss: 5.0156 - accuracy: 0.1263 - val_loss: 5.8768 - val_accuracy: 0.1123\n",
            "Epoch 11/120\n",
            "171/171 [==============================] - 3s 17ms/step - loss: 4.9146 - accuracy: 0.1351 - val_loss: 5.8699 - val_accuracy: 0.1167\n",
            "Epoch 12/120\n",
            "171/171 [==============================] - 3s 17ms/step - loss: 4.8190 - accuracy: 0.1434 - val_loss: 5.8663 - val_accuracy: 0.1168\n",
            "Epoch 13/120\n",
            "171/171 [==============================] - 3s 17ms/step - loss: 4.7270 - accuracy: 0.1521 - val_loss: 5.8735 - val_accuracy: 0.1192\n",
            "Epoch 14/120\n",
            "171/171 [==============================] - 3s 17ms/step - loss: 4.6363 - accuracy: 0.1588 - val_loss: 5.8748 - val_accuracy: 0.1213\n",
            "Epoch 15/120\n",
            "171/171 [==============================] - 3s 17ms/step - loss: 4.5484 - accuracy: 0.1654 - val_loss: 5.8852 - val_accuracy: 0.1273\n",
            "Epoch 16/120\n",
            "171/171 [==============================] - 3s 17ms/step - loss: 4.4605 - accuracy: 0.1721 - val_loss: 5.9172 - val_accuracy: 0.1253\n",
            "Epoch 17/120\n",
            "171/171 [==============================] - 3s 17ms/step - loss: 4.3721 - accuracy: 0.1774 - val_loss: 5.9195 - val_accuracy: 0.1279\n",
            "Epoch 18/120\n",
            "171/171 [==============================] - 3s 17ms/step - loss: 4.2863 - accuracy: 0.1838 - val_loss: 5.9545 - val_accuracy: 0.1281\n",
            "Epoch 19/120\n",
            "171/171 [==============================] - 3s 17ms/step - loss: 4.2010 - accuracy: 0.1900 - val_loss: 5.9613 - val_accuracy: 0.1299\n",
            "Epoch 20/120\n",
            "171/171 [==============================] - 3s 17ms/step - loss: 4.1115 - accuracy: 0.1989 - val_loss: 5.9861 - val_accuracy: 0.1258\n",
            "Epoch 21/120\n",
            "171/171 [==============================] - 3s 17ms/step - loss: 4.0269 - accuracy: 0.2054 - val_loss: 6.0039 - val_accuracy: 0.1314\n",
            "Epoch 22/120\n",
            "171/171 [==============================] - 3s 17ms/step - loss: 3.9425 - accuracy: 0.2129 - val_loss: 6.0367 - val_accuracy: 0.1315\n",
            "Epoch 23/120\n",
            "171/171 [==============================] - 3s 16ms/step - loss: 3.8581 - accuracy: 0.2219 - val_loss: 6.0549 - val_accuracy: 0.1358\n",
            "Epoch 24/120\n",
            "171/171 [==============================] - 3s 17ms/step - loss: 3.7759 - accuracy: 0.2304 - val_loss: 6.0888 - val_accuracy: 0.1328\n",
            "Epoch 25/120\n",
            "171/171 [==============================] - 3s 17ms/step - loss: 3.6924 - accuracy: 0.2380 - val_loss: 6.1213 - val_accuracy: 0.1288\n",
            "Epoch 26/120\n",
            "171/171 [==============================] - 3s 17ms/step - loss: 3.6102 - accuracy: 0.2492 - val_loss: 6.1525 - val_accuracy: 0.1306\n",
            "Epoch 27/120\n",
            "171/171 [==============================] - 3s 16ms/step - loss: 3.5306 - accuracy: 0.2610 - val_loss: 6.1924 - val_accuracy: 0.1315\n",
            "Epoch 28/120\n",
            "171/171 [==============================] - 3s 16ms/step - loss: 3.4508 - accuracy: 0.2702 - val_loss: 6.2235 - val_accuracy: 0.1286\n",
            "Epoch 29/120\n",
            "171/171 [==============================] - 3s 17ms/step - loss: 3.3720 - accuracy: 0.2831 - val_loss: 6.2651 - val_accuracy: 0.1299\n",
            "Epoch 30/120\n",
            "171/171 [==============================] - 3s 17ms/step - loss: 3.2946 - accuracy: 0.2971 - val_loss: 6.3039 - val_accuracy: 0.1225\n",
            "Epoch 31/120\n",
            "171/171 [==============================] - 3s 17ms/step - loss: 3.2180 - accuracy: 0.3110 - val_loss: 6.3386 - val_accuracy: 0.1242\n",
            "Epoch 32/120\n",
            "171/171 [==============================] - 3s 17ms/step - loss: 3.1446 - accuracy: 0.3248 - val_loss: 6.3706 - val_accuracy: 0.1262\n",
            "Epoch 33/120\n",
            "171/171 [==============================] - 3s 17ms/step - loss: 3.0707 - accuracy: 0.3408 - val_loss: 6.4166 - val_accuracy: 0.1253\n",
            "Epoch 34/120\n",
            "171/171 [==============================] - 3s 17ms/step - loss: 2.9992 - accuracy: 0.3529 - val_loss: 6.4539 - val_accuracy: 0.1222\n",
            "Epoch 35/120\n",
            "171/171 [==============================] - 3s 17ms/step - loss: 2.9297 - accuracy: 0.3680 - val_loss: 6.5035 - val_accuracy: 0.1262\n",
            "Epoch 36/120\n",
            "171/171 [==============================] - 3s 17ms/step - loss: 2.8612 - accuracy: 0.3815 - val_loss: 6.5384 - val_accuracy: 0.1268\n",
            "Epoch 37/120\n",
            "171/171 [==============================] - 3s 17ms/step - loss: 2.7958 - accuracy: 0.3958 - val_loss: 6.5946 - val_accuracy: 0.1211\n",
            "Epoch 38/120\n",
            "171/171 [==============================] - 3s 17ms/step - loss: 2.7330 - accuracy: 0.4070 - val_loss: 6.6243 - val_accuracy: 0.1233\n",
            "Epoch 39/120\n",
            "171/171 [==============================] - 3s 17ms/step - loss: 2.6712 - accuracy: 0.4183 - val_loss: 6.6784 - val_accuracy: 0.1192\n",
            "Epoch 40/120\n",
            "171/171 [==============================] - 3s 17ms/step - loss: 2.6112 - accuracy: 0.4316 - val_loss: 6.7155 - val_accuracy: 0.1211\n",
            "Epoch 41/120\n",
            "171/171 [==============================] - 3s 17ms/step - loss: 2.5512 - accuracy: 0.4446 - val_loss: 6.7702 - val_accuracy: 0.1194\n",
            "Epoch 42/120\n",
            "171/171 [==============================] - 3s 17ms/step - loss: 2.4949 - accuracy: 0.4541 - val_loss: 6.8096 - val_accuracy: 0.1156\n",
            "Epoch 43/120\n",
            "171/171 [==============================] - 3s 17ms/step - loss: 2.4396 - accuracy: 0.4653 - val_loss: 6.8608 - val_accuracy: 0.1181\n",
            "Epoch 44/120\n",
            "171/171 [==============================] - 3s 16ms/step - loss: 2.3872 - accuracy: 0.4755 - val_loss: 6.9083 - val_accuracy: 0.1179\n",
            "Epoch 45/120\n",
            "171/171 [==============================] - 3s 16ms/step - loss: 2.3327 - accuracy: 0.4867 - val_loss: 6.9586 - val_accuracy: 0.1145\n",
            "Epoch 46/120\n",
            "171/171 [==============================] - 3s 16ms/step - loss: 2.2792 - accuracy: 0.4970 - val_loss: 7.0059 - val_accuracy: 0.1130\n",
            "Epoch 47/120\n",
            "171/171 [==============================] - 3s 17ms/step - loss: 2.2300 - accuracy: 0.5090 - val_loss: 7.0491 - val_accuracy: 0.1132\n",
            "Epoch 48/120\n",
            "171/171 [==============================] - 3s 17ms/step - loss: 2.1813 - accuracy: 0.5207 - val_loss: 7.1080 - val_accuracy: 0.1123\n",
            "Epoch 49/120\n",
            "171/171 [==============================] - 3s 17ms/step - loss: 2.1332 - accuracy: 0.5294 - val_loss: 7.1599 - val_accuracy: 0.1102\n",
            "Epoch 50/120\n",
            "171/171 [==============================] - 3s 17ms/step - loss: 2.0883 - accuracy: 0.5383 - val_loss: 7.1921 - val_accuracy: 0.1095\n",
            "Epoch 51/120\n",
            "171/171 [==============================] - 3s 17ms/step - loss: 2.0405 - accuracy: 0.5516 - val_loss: 7.2465 - val_accuracy: 0.1112\n",
            "Epoch 52/120\n",
            "171/171 [==============================] - 3s 17ms/step - loss: 1.9970 - accuracy: 0.5594 - val_loss: 7.3008 - val_accuracy: 0.1102\n",
            "Epoch 53/120\n",
            "171/171 [==============================] - 3s 17ms/step - loss: 1.9539 - accuracy: 0.5702 - val_loss: 7.3495 - val_accuracy: 0.1071\n",
            "Epoch 54/120\n",
            "171/171 [==============================] - 3s 17ms/step - loss: 1.9104 - accuracy: 0.5811 - val_loss: 7.3969 - val_accuracy: 0.1038\n",
            "Epoch 55/120\n",
            "171/171 [==============================] - 3s 17ms/step - loss: 1.8670 - accuracy: 0.5887 - val_loss: 7.4461 - val_accuracy: 0.1088\n",
            "Epoch 56/120\n",
            "171/171 [==============================] - 3s 17ms/step - loss: 1.8266 - accuracy: 0.5978 - val_loss: 7.5008 - val_accuracy: 0.1047\n",
            "Epoch 57/120\n",
            "171/171 [==============================] - 3s 16ms/step - loss: 1.7870 - accuracy: 0.6077 - val_loss: 7.5503 - val_accuracy: 0.1060\n",
            "Epoch 58/120\n",
            "171/171 [==============================] - 3s 17ms/step - loss: 1.7484 - accuracy: 0.6148 - val_loss: 7.5967 - val_accuracy: 0.1084\n",
            "Epoch 59/120\n",
            "171/171 [==============================] - 3s 17ms/step - loss: 1.7090 - accuracy: 0.6237 - val_loss: 7.6400 - val_accuracy: 0.1033\n",
            "Epoch 60/120\n",
            "171/171 [==============================] - 3s 17ms/step - loss: 1.6712 - accuracy: 0.6325 - val_loss: 7.7040 - val_accuracy: 0.1066\n",
            "Epoch 61/120\n",
            "171/171 [==============================] - 3s 17ms/step - loss: 1.6345 - accuracy: 0.6412 - val_loss: 7.7495 - val_accuracy: 0.1075\n",
            "Epoch 62/120\n",
            "171/171 [==============================] - 3s 17ms/step - loss: 1.5977 - accuracy: 0.6520 - val_loss: 7.7982 - val_accuracy: 0.1056\n",
            "Epoch 63/120\n",
            "171/171 [==============================] - 3s 17ms/step - loss: 1.5619 - accuracy: 0.6584 - val_loss: 7.8482 - val_accuracy: 0.1060\n",
            "Epoch 64/120\n",
            "171/171 [==============================] - 3s 17ms/step - loss: 1.5253 - accuracy: 0.6693 - val_loss: 7.9033 - val_accuracy: 0.1021\n",
            "Epoch 65/120\n",
            "171/171 [==============================] - 3s 17ms/step - loss: 1.4920 - accuracy: 0.6751 - val_loss: 7.9621 - val_accuracy: 0.1036\n",
            "Epoch 66/120\n",
            "171/171 [==============================] - 3s 17ms/step - loss: 1.4568 - accuracy: 0.6853 - val_loss: 7.9970 - val_accuracy: 0.1038\n",
            "Epoch 67/120\n",
            "171/171 [==============================] - 3s 17ms/step - loss: 1.4231 - accuracy: 0.6926 - val_loss: 8.0589 - val_accuracy: 0.1033\n",
            "Epoch 68/120\n",
            "171/171 [==============================] - 3s 17ms/step - loss: 1.3923 - accuracy: 0.6996 - val_loss: 8.0947 - val_accuracy: 0.1031\n",
            "Epoch 69/120\n",
            "171/171 [==============================] - 3s 18ms/step - loss: 1.3613 - accuracy: 0.7059 - val_loss: 8.1509 - val_accuracy: 0.0994\n",
            "Epoch 70/120\n",
            "171/171 [==============================] - 3s 18ms/step - loss: 1.3286 - accuracy: 0.7147 - val_loss: 8.1945 - val_accuracy: 0.0998\n",
            "Epoch 71/120\n",
            "171/171 [==============================] - 3s 18ms/step - loss: 1.2989 - accuracy: 0.7212 - val_loss: 8.2575 - val_accuracy: 0.1033\n",
            "Epoch 72/120\n",
            "171/171 [==============================] - 3s 17ms/step - loss: 1.2696 - accuracy: 0.7298 - val_loss: 8.2886 - val_accuracy: 0.1012\n",
            "Epoch 73/120\n",
            "171/171 [==============================] - 3s 17ms/step - loss: 1.2393 - accuracy: 0.7372 - val_loss: 8.3544 - val_accuracy: 0.0990\n",
            "Epoch 74/120\n",
            "171/171 [==============================] - 3s 17ms/step - loss: 1.2097 - accuracy: 0.7445 - val_loss: 8.4029 - val_accuracy: 0.0990\n",
            "Epoch 75/120\n",
            "171/171 [==============================] - 3s 17ms/step - loss: 1.1812 - accuracy: 0.7490 - val_loss: 8.4455 - val_accuracy: 0.0985\n",
            "Epoch 76/120\n",
            "171/171 [==============================] - 3s 17ms/step - loss: 1.1523 - accuracy: 0.7594 - val_loss: 8.5054 - val_accuracy: 0.0998\n",
            "Epoch 77/120\n",
            "171/171 [==============================] - 3s 17ms/step - loss: 1.1242 - accuracy: 0.7659 - val_loss: 8.5586 - val_accuracy: 0.0992\n",
            "Epoch 78/120\n",
            "171/171 [==============================] - 3s 17ms/step - loss: 1.0990 - accuracy: 0.7716 - val_loss: 8.6081 - val_accuracy: 0.0987\n",
            "Epoch 79/120\n",
            "171/171 [==============================] - 3s 17ms/step - loss: 1.0710 - accuracy: 0.7779 - val_loss: 8.6488 - val_accuracy: 0.0955\n",
            "Epoch 80/120\n",
            "171/171 [==============================] - 3s 17ms/step - loss: 1.0472 - accuracy: 0.7856 - val_loss: 8.7085 - val_accuracy: 0.0974\n",
            "Epoch 81/120\n",
            "171/171 [==============================] - 3s 17ms/step - loss: 1.0198 - accuracy: 0.7930 - val_loss: 8.7596 - val_accuracy: 0.0955\n",
            "Epoch 82/120\n",
            "171/171 [==============================] - 3s 17ms/step - loss: 0.9937 - accuracy: 0.8004 - val_loss: 8.8093 - val_accuracy: 0.0941\n",
            "Epoch 83/120\n",
            "171/171 [==============================] - 3s 17ms/step - loss: 0.9706 - accuracy: 0.8070 - val_loss: 8.8543 - val_accuracy: 0.0968\n",
            "Epoch 84/120\n",
            "171/171 [==============================] - 3s 17ms/step - loss: 0.9452 - accuracy: 0.8123 - val_loss: 8.8967 - val_accuracy: 0.0950\n",
            "Epoch 85/120\n",
            "171/171 [==============================] - 3s 17ms/step - loss: 0.9234 - accuracy: 0.8176 - val_loss: 8.9501 - val_accuracy: 0.0941\n",
            "Epoch 86/120\n",
            "171/171 [==============================] - 3s 17ms/step - loss: 0.8973 - accuracy: 0.8250 - val_loss: 9.0128 - val_accuracy: 0.0954\n",
            "Epoch 87/120\n",
            "171/171 [==============================] - 3s 17ms/step - loss: 0.8774 - accuracy: 0.8305 - val_loss: 9.0557 - val_accuracy: 0.0954\n",
            "Epoch 88/120\n",
            "171/171 [==============================] - 3s 17ms/step - loss: 0.8580 - accuracy: 0.8338 - val_loss: 9.1155 - val_accuracy: 0.0924\n",
            "Epoch 89/120\n",
            "171/171 [==============================] - 3s 17ms/step - loss: 0.8349 - accuracy: 0.8383 - val_loss: 9.1700 - val_accuracy: 0.0948\n",
            "Epoch 90/120\n",
            "171/171 [==============================] - 3s 17ms/step - loss: 0.8103 - accuracy: 0.8445 - val_loss: 9.2002 - val_accuracy: 0.0948\n",
            "Epoch 91/120\n",
            "171/171 [==============================] - 3s 17ms/step - loss: 0.7893 - accuracy: 0.8501 - val_loss: 9.2694 - val_accuracy: 0.0928\n",
            "Epoch 92/120\n",
            "171/171 [==============================] - 3s 17ms/step - loss: 0.7697 - accuracy: 0.8557 - val_loss: 9.3099 - val_accuracy: 0.0933\n",
            "Epoch 93/120\n",
            "171/171 [==============================] - 3s 17ms/step - loss: 0.7507 - accuracy: 0.8605 - val_loss: 9.3565 - val_accuracy: 0.0919\n",
            "Epoch 94/120\n",
            "171/171 [==============================] - 3s 17ms/step - loss: 0.7296 - accuracy: 0.8673 - val_loss: 9.4162 - val_accuracy: 0.0909\n",
            "Epoch 95/120\n",
            "171/171 [==============================] - 3s 17ms/step - loss: 0.7103 - accuracy: 0.8695 - val_loss: 9.4615 - val_accuracy: 0.0946\n",
            "Epoch 96/120\n",
            "171/171 [==============================] - 3s 17ms/step - loss: 0.6938 - accuracy: 0.8722 - val_loss: 9.5175 - val_accuracy: 0.0909\n",
            "Epoch 97/120\n",
            "171/171 [==============================] - 3s 17ms/step - loss: 0.6739 - accuracy: 0.8795 - val_loss: 9.5601 - val_accuracy: 0.0928\n",
            "Epoch 98/120\n",
            "171/171 [==============================] - 3s 17ms/step - loss: 0.6552 - accuracy: 0.8846 - val_loss: 9.6127 - val_accuracy: 0.0941\n",
            "Epoch 99/120\n",
            "171/171 [==============================] - 3s 17ms/step - loss: 0.6378 - accuracy: 0.8891 - val_loss: 9.6732 - val_accuracy: 0.0924\n",
            "Epoch 100/120\n",
            "171/171 [==============================] - 3s 17ms/step - loss: 0.6205 - accuracy: 0.8930 - val_loss: 9.7106 - val_accuracy: 0.0924\n",
            "Epoch 101/120\n",
            "171/171 [==============================] - 3s 17ms/step - loss: 0.6050 - accuracy: 0.8958 - val_loss: 9.7598 - val_accuracy: 0.0922\n",
            "Epoch 102/120\n",
            "171/171 [==============================] - 3s 17ms/step - loss: 0.5882 - accuracy: 0.9007 - val_loss: 9.8180 - val_accuracy: 0.0920\n",
            "Epoch 103/120\n",
            "171/171 [==============================] - 3s 17ms/step - loss: 0.5705 - accuracy: 0.9043 - val_loss: 9.8571 - val_accuracy: 0.0926\n",
            "Epoch 104/120\n",
            "171/171 [==============================] - 3s 17ms/step - loss: 0.5576 - accuracy: 0.9088 - val_loss: 9.8990 - val_accuracy: 0.0926\n",
            "Epoch 105/120\n",
            "171/171 [==============================] - 3s 17ms/step - loss: 0.5389 - accuracy: 0.9140 - val_loss: 9.9680 - val_accuracy: 0.0917\n",
            "Epoch 106/120\n",
            "171/171 [==============================] - 3s 17ms/step - loss: 0.5244 - accuracy: 0.9168 - val_loss: 10.0175 - val_accuracy: 0.0911\n",
            "Epoch 107/120\n",
            "171/171 [==============================] - 3s 17ms/step - loss: 0.5079 - accuracy: 0.9210 - val_loss: 10.0580 - val_accuracy: 0.0902\n",
            "Epoch 108/120\n",
            "171/171 [==============================] - 3s 17ms/step - loss: 0.4964 - accuracy: 0.9228 - val_loss: 10.0980 - val_accuracy: 0.0920\n",
            "Epoch 109/120\n",
            "171/171 [==============================] - 3s 17ms/step - loss: 0.4802 - accuracy: 0.9270 - val_loss: 10.1607 - val_accuracy: 0.0878\n",
            "Epoch 110/120\n",
            "171/171 [==============================] - 3s 17ms/step - loss: 0.4652 - accuracy: 0.9300 - val_loss: 10.2119 - val_accuracy: 0.0902\n",
            "Epoch 111/120\n",
            "171/171 [==============================] - 3s 17ms/step - loss: 0.4533 - accuracy: 0.9333 - val_loss: 10.2489 - val_accuracy: 0.0880\n",
            "Epoch 112/120\n",
            "171/171 [==============================] - 3s 17ms/step - loss: 0.4398 - accuracy: 0.9359 - val_loss: 10.2981 - val_accuracy: 0.0898\n",
            "Epoch 113/120\n",
            "171/171 [==============================] - 3s 17ms/step - loss: 0.4263 - accuracy: 0.9379 - val_loss: 10.3404 - val_accuracy: 0.0875\n",
            "Epoch 114/120\n",
            "171/171 [==============================] - 3s 17ms/step - loss: 0.4146 - accuracy: 0.9390 - val_loss: 10.4114 - val_accuracy: 0.0880\n",
            "Epoch 115/120\n",
            "171/171 [==============================] - 3s 17ms/step - loss: 0.4084 - accuracy: 0.9432 - val_loss: 10.4437 - val_accuracy: 0.0860\n",
            "Epoch 116/120\n",
            "171/171 [==============================] - 3s 16ms/step - loss: 0.3890 - accuracy: 0.9466 - val_loss: 10.5050 - val_accuracy: 0.0851\n",
            "Epoch 117/120\n",
            "171/171 [==============================] - 3s 16ms/step - loss: 0.3733 - accuracy: 0.9498 - val_loss: 10.5431 - val_accuracy: 0.0873\n",
            "Epoch 118/120\n",
            "171/171 [==============================] - 3s 16ms/step - loss: 0.3639 - accuracy: 0.9517 - val_loss: 10.5981 - val_accuracy: 0.0856\n",
            "Epoch 119/120\n",
            "171/171 [==============================] - 3s 16ms/step - loss: 0.3541 - accuracy: 0.9533 - val_loss: 10.6419 - val_accuracy: 0.0887\n",
            "Epoch 120/120\n",
            "171/171 [==============================] - 3s 16ms/step - loss: 0.3426 - accuracy: 0.9556 - val_loss: 10.6896 - val_accuracy: 0.0897\n"
          ],
          "name": "stdout"
        },
        {
          "output_type": "execute_result",
          "data": {
            "text/plain": [
              "<tensorflow.python.keras.callbacks.History at 0x7fe04a21c128>"
            ]
          },
          "metadata": {
            "tags": []
          },
          "execution_count": 210
        }
      ]
    },
    {
      "cell_type": "code",
      "metadata": {
        "id": "mg9WSEwYeMAH"
      },
      "source": [
        "#reverse_word_map = ##  word to idx map using tokenizeCreater.word_index\n",
        "reverse_word_map = dict(map(reversed, tokenizer.word_index.items()))"
      ],
      "execution_count": 212,
      "outputs": []
    },
    {
      "cell_type": "code",
      "metadata": {
        "id": "A_mhL0J0eQku"
      },
      "source": [
        "# Complete the code to return next n words greedily\n",
        "def next_tokens(input_str, n):\n",
        "\tfinal_string = ''\n",
        "\tprint (\"Seed: \\n\",  input_str)\n",
        "\tX1 =  numpy.array(tokenizer.texts_to_sequences([input_str])[0])\n",
        "\tfor i in range(n):\n",
        "\t\tX1 = numpy.reshape(X1, (1, len(X1), 1))\t\t\t\t\t#convert to input shape batchsizeXinput size\n",
        "\t\tprediction =  numpy.argmax(model.predict( X1 , verbose=0))\n",
        "\t\tnext_word = reverse_word_map[prediction]\n",
        "\t\tfinal_string += ' '+next_word\n",
        "\t\tX1 = numpy.append(X1,prediction)\n",
        "\t\tX1 = X1[1:]\n",
        "\treturn final_string"
      ],
      "execution_count": 213,
      "outputs": []
    },
    {
      "cell_type": "code",
      "metadata": {
        "id": "gZ_NTQezeWYO",
        "outputId": "b5085a72-1dd9-4a73-c209-c1090c5871ee",
        "colab": {
          "base_uri": "https://localhost:8080/"
        }
      },
      "source": [
        "import random\n",
        "# pick a random seed\n",
        "random.seed(30)\n",
        "start = numpy.random.randint(0, len(dataX)-1)\n",
        "pattern = dataX[start]\n",
        "input_str = ' '.join([reverse_word_map[value] for value in pattern])\n",
        "print(\"next generated words:\\n\",next_tokens( input_str , 10))"
      ],
      "execution_count": 214,
      "outputs": [
        {
          "output_type": "stream",
          "text": [
            "Seed: \n",
            " of canterbury found it advisable found what said the duck found it the mouse replied rather crossly of course you know what it means i know what it means well enough when i find a thing said the duck it s generally a frog or a worm the question is\n",
            "next generated words:\n",
            "  what did the archbishop find the mouse did not notice\n"
          ],
          "name": "stdout"
        }
      ]
    },
    {
      "cell_type": "code",
      "metadata": {
        "id": "u-x8W-OSVgNi",
        "outputId": "7234c772-81d5-43b4-dfba-cd8939ca1dee",
        "colab": {
          "base_uri": "https://localhost:8080/"
        }
      },
      "source": [
        "input_str = \"The boy laughed at the fright he had caused. This time, the villagers left angrily. The third day, as the boy went up\\\n",
        " the small hill, he suddenly saw a wolf attacking his sheep. He cried as hard as he could, “Wolf! Wolf! Wolf!”, but not \\\n",
        " a single villager came to help him. The villagers thought that he was trying to fool them again and did not come to rescue \\\n",
        " him or his sheep.\"\n",
        "\n",
        "# Use first 50 tokens from given input_str as input.(Use tokenizer to split to take first 50)\n",
        "print(\"next generated words:\\n\",next_tokens( text_to_word_sequence(input_str)[0:50] , 10))"
      ],
      "execution_count": 218,
      "outputs": [
        {
          "output_type": "stream",
          "text": [
            "Seed: \n",
            " ['the', 'boy', 'laughed', 'at', 'the', 'fright', 'he', 'had', 'caused', 'this', 'time', 'the', 'villagers', 'left', 'angrily', 'the', 'third', 'day', 'as', 'the', 'boy', 'went', 'up', 'the', 'small', 'hill', 'he', 'suddenly', 'saw', 'a', 'wolf', 'attacking', 'his', 'sheep', 'he', 'cried', 'as', 'hard', 'as', 'he', 'could', '“wolf', 'wolf', 'wolf', '”', 'but', 'not', 'a', 'single', 'villager']\n",
            "next generated words:\n",
            "  in the same words a pair of the queen and\n"
          ],
          "name": "stdout"
        }
      ]
    },
    {
      "cell_type": "markdown",
      "metadata": {
        "id": "B5_R5Tngo3_D"
      },
      "source": [
        "# Character based LSTM Model 1"
      ]
    },
    {
      "cell_type": "code",
      "metadata": {
        "id": "2zZaHsejo57p"
      },
      "source": [
        "# User the preprocess data and create raw_text\n",
        "text = data\n",
        "text = text.replace('_', ' ')\n",
        "text = text.replace('-', ' ')         #only remove _ and -. Kept remaining punctutions to use them \n",
        "text = text.lower()                 \n",
        "# create mapping of unique characters to integers\n",
        "ch = sorted(list(set(text)))\n",
        "\n",
        "char_to_int = dict((x, n) for n, x in enumerate(ch))"
      ],
      "execution_count": 281,
      "outputs": []
    },
    {
      "cell_type": "code",
      "metadata": {
        "id": "lkVVDbump0Wg",
        "outputId": "249d8642-d67d-43e4-896e-b11e81f4d037",
        "colab": {
          "base_uri": "https://localhost:8080/"
        }
      },
      "source": [
        "# Print the total characters and character vacob size\n",
        "n_chars = len(text)\n",
        "n_vocab = len(chars)\n",
        "print(n_chars)\n",
        "print(n_vocab)"
      ],
      "execution_count": 243,
      "outputs": [
        {
          "output_type": "stream",
          "text": [
            "142477\n",
            "44\n"
          ],
          "name": "stdout"
        }
      ]
    },
    {
      "cell_type": "code",
      "metadata": {
        "id": "2aVserymqE1b",
        "outputId": "d2993c33-d6a0-444a-9c89-8a2cc6b18e3a",
        "colab": {
          "base_uri": "https://localhost:8080/"
        }
      },
      "source": [
        "'''\n",
        "Prepare dataset where the input is sequence of 100 characters and target is next character.\n",
        "'''\n",
        "seq_length = 100\n",
        "dataX = []\n",
        "dataY = []\n",
        "for i in range(0, n_chars - seq_length, 1):\n",
        "  seq_in = text[i:i + seq_length]\n",
        "  seq_out = text[i + seq_length]\n",
        "  dataX.append([char_to_int[char] for char in seq_in])\n",
        "  dataY.append(char_to_int[seq_out])\n",
        "n_patterns = len(dataX)\n",
        "print (\"Total Patterns: \", n_patterns)"
      ],
      "execution_count": 244,
      "outputs": [
        {
          "output_type": "stream",
          "text": [
            "Total Patterns:  142377\n"
          ],
          "name": "stdout"
        }
      ]
    },
    {
      "cell_type": "code",
      "metadata": {
        "id": "Ic4yf4hNqc7T"
      },
      "source": [
        "# reshape X to be [samples, time steps, features]\n",
        "X = numpy.array(dataX)\n",
        "X = numpy.reshape(dataX, (n_patterns, seq_length, 1))\n",
        "# one hot encode the output variable\n",
        "dataY = numpy.array(dataY)\n",
        "y = np_utils.to_categorical(dataY)"
      ],
      "execution_count": 245,
      "outputs": []
    },
    {
      "cell_type": "code",
      "metadata": {
        "id": "XvawnjFVqhMi"
      },
      "source": [
        "embedding_dim =100\n",
        "max_length =100"
      ],
      "execution_count": 246,
      "outputs": []
    },
    {
      "cell_type": "code",
      "metadata": {
        "id": "ek5DqNeTqkAZ",
        "outputId": "46c4e7d9-026a-409c-ead4-6d1c5237773d",
        "colab": {
          "base_uri": "https://localhost:8080/"
        }
      },
      "source": [
        "model = Sequential()\n",
        "model.add(Embedding(n_vocab, embedding_dim, input_length=max_length))\n",
        "model.add(LSTM(256))\n",
        "model.add(Dropout(0.2))\n",
        "model.add(Dense(y.shape[1], activation='softmax'))\n",
        "model.compile(loss='categorical_crossentropy', optimizer='adam')\n",
        "model.summary()"
      ],
      "execution_count": 247,
      "outputs": [
        {
          "output_type": "stream",
          "text": [
            "Model: \"sequential_13\"\n",
            "_________________________________________________________________\n",
            "Layer (type)                 Output Shape              Param #   \n",
            "=================================================================\n",
            "embedding_13 (Embedding)     (None, 100, 100)          4400      \n",
            "_________________________________________________________________\n",
            "lstm_13 (LSTM)               (None, 256)               365568    \n",
            "_________________________________________________________________\n",
            "dropout_1 (Dropout)          (None, 256)               0         \n",
            "_________________________________________________________________\n",
            "dense_13 (Dense)             (None, 44)                11308     \n",
            "=================================================================\n",
            "Total params: 381,276\n",
            "Trainable params: 381,276\n",
            "Non-trainable params: 0\n",
            "_________________________________________________________________\n"
          ],
          "name": "stdout"
        }
      ]
    },
    {
      "cell_type": "code",
      "metadata": {
        "id": "gFoStJIOqpM6",
        "outputId": "c1815abb-c1a4-4677-f4d5-0d9928f04a02",
        "colab": {
          "base_uri": "https://localhost:8080/"
        }
      },
      "source": [
        "model.fit(X, y, epochs=20, batch_size=128)"
      ],
      "execution_count": 248,
      "outputs": [
        {
          "output_type": "stream",
          "text": [
            "Epoch 1/20\n",
            "1113/1113 [==============================] - 20s 18ms/step - loss: 2.2115\n",
            "Epoch 2/20\n",
            "1113/1113 [==============================] - 20s 18ms/step - loss: 1.7125\n",
            "Epoch 3/20\n",
            "1113/1113 [==============================] - 20s 18ms/step - loss: 1.5153\n",
            "Epoch 4/20\n",
            "1113/1113 [==============================] - 20s 18ms/step - loss: 1.3924\n",
            "Epoch 5/20\n",
            "1113/1113 [==============================] - 20s 18ms/step - loss: 1.3137\n",
            "Epoch 6/20\n",
            "1113/1113 [==============================] - 20s 18ms/step - loss: 1.2521\n",
            "Epoch 7/20\n",
            "1113/1113 [==============================] - 20s 18ms/step - loss: 1.2038\n",
            "Epoch 8/20\n",
            "1113/1113 [==============================] - 20s 18ms/step - loss: 1.1563\n",
            "Epoch 9/20\n",
            "1113/1113 [==============================] - 20s 18ms/step - loss: 1.1176\n",
            "Epoch 10/20\n",
            "1113/1113 [==============================] - 20s 18ms/step - loss: 1.0826\n",
            "Epoch 11/20\n",
            "1113/1113 [==============================] - 20s 18ms/step - loss: 1.0528\n",
            "Epoch 12/20\n",
            "1113/1113 [==============================] - 20s 18ms/step - loss: 1.0210\n",
            "Epoch 13/20\n",
            "1113/1113 [==============================] - 20s 18ms/step - loss: 0.9938\n",
            "Epoch 14/20\n",
            "1113/1113 [==============================] - 20s 18ms/step - loss: 0.9653\n",
            "Epoch 15/20\n",
            "1113/1113 [==============================] - 20s 18ms/step - loss: 0.9421\n",
            "Epoch 16/20\n",
            "1113/1113 [==============================] - 20s 18ms/step - loss: 0.9199\n",
            "Epoch 17/20\n",
            "1113/1113 [==============================] - 20s 18ms/step - loss: 0.8985\n",
            "Epoch 18/20\n",
            "1113/1113 [==============================] - 20s 18ms/step - loss: 0.8821\n",
            "Epoch 19/20\n",
            "1113/1113 [==============================] - 20s 18ms/step - loss: 0.8623\n",
            "Epoch 20/20\n",
            "1113/1113 [==============================] - 20s 18ms/step - loss: 0.8510\n"
          ],
          "name": "stdout"
        },
        {
          "output_type": "execute_result",
          "data": {
            "text/plain": [
              "<tensorflow.python.keras.callbacks.History at 0x7fe0458359b0>"
            ]
          },
          "metadata": {
            "tags": []
          },
          "execution_count": 248
        }
      ]
    },
    {
      "cell_type": "code",
      "metadata": {
        "id": "ekXYhzeUrGaq"
      },
      "source": [
        "#implement mapping of integer to character\n",
        "int_to_char = dict((j, ch) for j, ch in enumerate(chars))"
      ],
      "execution_count": 282,
      "outputs": []
    },
    {
      "cell_type": "code",
      "metadata": {
        "id": "OixPrw6vq15j"
      },
      "source": [
        "'''\n",
        "Complete code below to get the generated string using the model.\n",
        "'''\n",
        "def predict_next_100_chars(pattern,x):\n",
        "\tresult = ''\n",
        "\tX1 = []\n",
        "\tX1.append([char_to_int[char] for char in pattern])\n",
        "\tfor i in range(x):\n",
        "\t\t# Complete Code\n",
        "\t\tX1 = numpy.reshape(X1, (1, len(pattern), 1))\n",
        "\t\tprediction = model.predict(X1, verbose=0)\n",
        "\t\tindex = numpy.argmax(prediction)\n",
        "\t\tresult += int_to_char[index]\n",
        "\t\tX1 = numpy.append(X1,index)\n",
        "\t\tX1 = X1[1:len(X1)]\n",
        "\treturn result"
      ],
      "execution_count": 250,
      "outputs": []
    },
    {
      "cell_type": "code",
      "metadata": {
        "id": "vHH_I5QiUxnY",
        "outputId": "d6df77e3-a7a8-4330-fd1c-dfc8aa84df6f",
        "colab": {
          "base_uri": "https://localhost:8080/"
        }
      },
      "source": [
        "# pick a random seed\n",
        "start = numpy.random.randint(0, len(dataX)-1)\n",
        "pattern = dataX[start]\n",
        "input_str = ''.join([int_to_char[value] for value in pattern])\n",
        "print('input string: ',input_str)\n",
        "print('next generated: ',predict_next_100_chars(input_str,200))"
      ],
      "execution_count": 254,
      "outputs": [
        {
          "output_type": "stream",
          "text": [
            "input string:  have been changed for mabel!\n",
            "i’ll try and say ‘ how doth the little —’” and she crossed her hands on\n",
            "next generated:   the table, and she had not a bit hurt a brown of the sea, and she tried to be sure to say the things are to her feet high.\n",
            "“what did they live at the table, you know,” said the king, “i wonder what i\n"
          ],
          "name": "stdout"
        }
      ]
    },
    {
      "cell_type": "code",
      "metadata": {
        "id": "iutpuJAgrgU8",
        "outputId": "a4821448-1274-4a25-9a8a-b93e7695d838",
        "colab": {
          "base_uri": "https://localhost:8080/"
        }
      },
      "source": [
        "input_str = \"The boy laughed at the fright he had caused. This time, the villagers left angrily. The third day, as the boy went up\\\n",
        " the small hill, he suddenly saw a wolf attacking his sheep. He cried as hard as he could, “Wolf! Wolf! Wolf!”, but not \\\n",
        " a single villager came to help him. The villagers thought that he was trying to fool them again and did not come to rescue \\\n",
        " him or his sheep.\"\n",
        "input_str = input_str.lower()\n",
        "print('input string: ',input_str[0:100])\n",
        "print('next generated: ',predict_next_100_chars(input_str[0:100],200))"
      ],
      "execution_count": 266,
      "outputs": [
        {
          "output_type": "stream",
          "text": [
            "input string:  the boy laughed at the fright he had caused. this time, the villagers left angrily. the third day, a\n",
            "next generated:  nd the trial doesn’t got to see it head mouth one of the little golden key, and the white rabbit was silent, and then the dormouse shook its heads down, and the whole party shark any of them shrinking\n"
          ],
          "name": "stdout"
        }
      ]
    },
    {
      "cell_type": "markdown",
      "metadata": {
        "id": "n8shbcukr0tJ"
      },
      "source": [
        "## Character based LSTM Model 2\n"
      ]
    },
    {
      "cell_type": "code",
      "metadata": {
        "id": "BWBPCrTdr46U",
        "outputId": "8e3546da-fb46-4051-bd36-92d511282515",
        "colab": {
          "base_uri": "https://localhost:8080/"
        }
      },
      "source": [
        "model1 = Sequential()\n",
        "model1.add(Embedding(n_vocab, embedding_dim, input_length=max_length))\n",
        "model1.add(LSTM(256, input_shape=(X.shape[1], embedding_dim),return_sequences=True))\n",
        "model1.add(Dropout(0.2))\n",
        "model1.add(LSTM(256))\n",
        "model1.add(Dropout(0.2))\n",
        "model1.add(Dense(y.shape[1], activation='softmax'))\n",
        "model1.compile(loss='categorical_crossentropy', optimizer='adam')\n",
        "model1.summary()"
      ],
      "execution_count": 280,
      "outputs": [
        {
          "output_type": "stream",
          "text": [
            "Model: \"sequential_18\"\n",
            "_________________________________________________________________\n",
            "Layer (type)                 Output Shape              Param #   \n",
            "=================================================================\n",
            "embedding_18 (Embedding)     (None, 100, 100)          4400      \n",
            "_________________________________________________________________\n",
            "lstm_22 (LSTM)               (None, 100, 256)          365568    \n",
            "_________________________________________________________________\n",
            "dropout_10 (Dropout)         (None, 100, 256)          0         \n",
            "_________________________________________________________________\n",
            "lstm_23 (LSTM)               (None, 256)               525312    \n",
            "_________________________________________________________________\n",
            "dropout_11 (Dropout)         (None, 256)               0         \n",
            "_________________________________________________________________\n",
            "dense_18 (Dense)             (None, 44)                11308     \n",
            "=================================================================\n",
            "Total params: 906,588\n",
            "Trainable params: 906,588\n",
            "Non-trainable params: 0\n",
            "_________________________________________________________________\n"
          ],
          "name": "stdout"
        }
      ]
    },
    {
      "cell_type": "code",
      "metadata": {
        "id": "7ZxrtjFIr63L",
        "outputId": "9a649c5f-d5d6-410c-d48d-9133b809365d",
        "colab": {
          "base_uri": "https://localhost:8080/"
        }
      },
      "source": [
        "model1.fit(X, y, epochs=20, batch_size=64)"
      ],
      "execution_count": 270,
      "outputs": [
        {
          "output_type": "stream",
          "text": [
            "Epoch 1/20\n",
            "2225/2225 [==============================] - 51s 23ms/step - loss: 2.0814\n",
            "Epoch 2/20\n",
            "2225/2225 [==============================] - 50s 22ms/step - loss: 1.5285\n",
            "Epoch 3/20\n",
            "2225/2225 [==============================] - 50s 23ms/step - loss: 1.3559\n",
            "Epoch 4/20\n",
            "2225/2225 [==============================] - 50s 23ms/step - loss: 1.2566\n",
            "Epoch 5/20\n",
            "2225/2225 [==============================] - 50s 23ms/step - loss: 1.1902\n",
            "Epoch 6/20\n",
            "2225/2225 [==============================] - 50s 22ms/step - loss: 1.1399\n",
            "Epoch 7/20\n",
            "2225/2225 [==============================] - 50s 22ms/step - loss: 1.0930\n",
            "Epoch 8/20\n",
            "2225/2225 [==============================] - 50s 22ms/step - loss: 1.0582\n",
            "Epoch 9/20\n",
            "2225/2225 [==============================] - 50s 23ms/step - loss: 1.0250\n",
            "Epoch 10/20\n",
            "2225/2225 [==============================] - 50s 23ms/step - loss: 0.9996\n",
            "Epoch 11/20\n",
            "2225/2225 [==============================] - 50s 23ms/step - loss: 0.9720\n",
            "Epoch 12/20\n",
            "2225/2225 [==============================] - 50s 23ms/step - loss: 0.9515\n",
            "Epoch 13/20\n",
            "2225/2225 [==============================] - 50s 23ms/step - loss: 0.9292\n",
            "Epoch 14/20\n",
            "2225/2225 [==============================] - 50s 23ms/step - loss: 0.9139\n",
            "Epoch 15/20\n",
            "2225/2225 [==============================] - 50s 23ms/step - loss: 0.8971\n",
            "Epoch 16/20\n",
            "2225/2225 [==============================] - 50s 23ms/step - loss: 0.8847\n",
            "Epoch 17/20\n",
            "2225/2225 [==============================] - 50s 23ms/step - loss: 0.8723\n",
            "Epoch 18/20\n",
            "2225/2225 [==============================] - 50s 23ms/step - loss: 0.8628\n",
            "Epoch 19/20\n",
            "2225/2225 [==============================] - 50s 23ms/step - loss: 0.8530\n",
            "Epoch 20/20\n",
            "2225/2225 [==============================] - 50s 22ms/step - loss: 0.8456\n"
          ],
          "name": "stdout"
        },
        {
          "output_type": "execute_result",
          "data": {
            "text/plain": [
              "<tensorflow.python.keras.callbacks.History at 0x7fe03a26af98>"
            ]
          },
          "metadata": {
            "tags": []
          },
          "execution_count": 270
        }
      ]
    },
    {
      "cell_type": "code",
      "metadata": {
        "id": "L6RTfHN6r8wh"
      },
      "source": [
        "# Generate the sequence similar to above methods\n",
        "\n",
        "'''\n",
        "Complete code below to get the generated string using the model.\n",
        "'''\n",
        "def predict_next_100_chars(pattern,x):\n",
        "\tresult = ''\n",
        "\tX1 = []\n",
        "\tX1.append([char_to_int[char] for char in pattern])\n",
        "\tfor i in range(x):\n",
        "\t\t# Complete Code\n",
        "\t\tX1 = numpy.reshape(X1, (1, len(pattern), 1))\n",
        "\t\tprediction = model1.predict(X1, verbose=0)\n",
        "\t\tindex = numpy.argmax(prediction)\n",
        "\t\tresult += int_to_char[index]\n",
        "\t\tX1 = numpy.append(X1,index)\n",
        "\t\tX1 = X1[1:len(X1)]\n",
        "\n",
        "\treturn result"
      ],
      "execution_count": 271,
      "outputs": []
    },
    {
      "cell_type": "code",
      "metadata": {
        "id": "5CKJXZ4tYmL0",
        "outputId": "ee7dd10a-0c75-41c0-c96a-33f552d798f7",
        "colab": {
          "base_uri": "https://localhost:8080/"
        }
      },
      "source": [
        "# pick a random seed\n",
        "random.seed(30)\n",
        "start = numpy.random.randint(0, len(dataX)-1)\n",
        "pattern = dataX[start]\n",
        "input_str = ''.join([int_to_char[value] for value in pattern])\n",
        "\n",
        "print('input string: ',input_str)\n",
        "print('next generated: ',predict_next_100_chars(input_str,200))"
      ],
      "execution_count": 274,
      "outputs": [
        {
          "output_type": "stream",
          "text": [
            "input string:  please your majesty,” said the knave, “i didn’t write it, and they can’t prove i did: there’s no nam\n",
            "next generated:  e of the sea,” said the king, “and then it was a little bit.\n",
            "so they were much my life!” “i haven’t asked the sort of thing i should like the truals of the sea.” “i don’t know what they’re a little bo\n"
          ],
          "name": "stdout"
        }
      ]
    },
    {
      "cell_type": "code",
      "metadata": {
        "id": "YyRCfLe5YmL7",
        "outputId": "d7914216-00e2-40f7-91de-f087bd02e9ba",
        "colab": {
          "base_uri": "https://localhost:8080/"
        }
      },
      "source": [
        "input_str = \"The boy laughed at the fright he had caused. This time, the villagers left angrily. The third day, as the boy went up\\\n",
        " the small hill, he suddenly saw a wolf attacking his sheep. He cried as hard as he could, “Wolf! Wolf! Wolf!”, but not \\\n",
        "    a single villager came to help him. The villagers thought that he was trying to fool them again and did not come to rescue \\\n",
        "    him or his sheep.\"\n",
        "\n",
        " # Use first 100 characeters from given input_str as input and generate next 200 characters.\n",
        "input_str = input_str.lower()\n",
        "print('input string: ',input_str[0:100])\n",
        "print('next generated: ',predict_next_100_chars(input_str[0:100],200))"
      ],
      "execution_count": 277,
      "outputs": [
        {
          "output_type": "stream",
          "text": [
            "input string:  the boy laughed at the fright he had caused. this time, the villagers left angrily. the third day, a\n",
            "next generated:  nd she soon made out that she had not a moment that she had been any more than a large cat of kind of her voice, and she thought it must be the right size with the words “off with her head!\n",
            "off with h\n"
          ],
          "name": "stdout"
        }
      ]
    },
    {
      "cell_type": "markdown",
      "metadata": {
        "id": "XPrjxjoNsaQC"
      },
      "source": [
        "# Questions"
      ]
    },
    {
      "cell_type": "markdown",
      "metadata": {
        "id": "kW5_IlBeZAPq"
      },
      "source": [
        "**Question:** What are your observations based on the model(all) outputs on train data(in domain) vs unseen data(out of domain) ?"
      ]
    },
    {
      "cell_type": "markdown",
      "metadata": {
        "id": "YryzP1upZv5h"
      },
      "source": [
        "**Answer:** Based on the output, we observe that the accuray on train data is much higher than the accuracy on the unseen data.  \n",
        "\n",
        "The test data accuray increases initially for some epochs and then decreases (overfitting issue). The train set accuray keeps increasing with epochs.   \n",
        "\n",
        "The loss in the trainset keeps decreasing with epochs. However, the loss in the unseen data increases with number of epochs. "
      ]
    },
    {
      "cell_type": "markdown",
      "metadata": {
        "id": "aBzCD0I0Z3uP"
      },
      "source": [
        "**Question:** What did you observe in the outputs of char LSTM model1 vs char LSTM model2 ?"
      ]
    },
    {
      "cell_type": "markdown",
      "metadata": {
        "id": "PUHxHmXZaNdn"
      },
      "source": [
        "**Answer:**\n",
        "LSTM1 has single LSTM layer with dropout. LSTM2 has two LSTM layers. The number of parameters and hence computation time is more is case of LSTM2  \n",
        "                                    \n",
        "                                 \n",
        "Time per each epoch in LSTM1: 20 secs(approx)  \n",
        "Time per each epoch in LSTM2: 50 secs(approx)\n",
        "\n",
        "The loss after 20 epochs in LSTM1: 0.8510  \n",
        "The loss after 20 epochs on LSTM2: 0.8456\n",
        "\n",
        "The LSTM 2 is better trained in same number of epochs. "
      ]
    },
    {
      "cell_type": "markdown",
      "metadata": {
        "id": "rShXR9sYsc4D"
      },
      "source": [
        "# Bonus (Not to be graded)"
      ]
    },
    {
      "cell_type": "markdown",
      "metadata": {
        "id": "j2N-l6VSshhC"
      },
      "source": [
        "## Transformer based language model (Bert)\n",
        "You can run the below cells to predict the next word using pretrained BERT model. "
      ]
    },
    {
      "cell_type": "code",
      "metadata": {
        "id": "67c13Yx9sgiW"
      },
      "source": [
        "!pip install transformers"
      ],
      "execution_count": null,
      "outputs": []
    },
    {
      "cell_type": "code",
      "metadata": {
        "id": "5gF2nncdsqcx"
      },
      "source": [
        "import os\n",
        "import torch\n",
        "import string\n",
        "from transformers import BertTokenizer, BertForMaskedLM"
      ],
      "execution_count": null,
      "outputs": []
    },
    {
      "cell_type": "code",
      "metadata": {
        "id": "_tppcQN298Qs"
      },
      "source": [
        "def load_model(model_name):\n",
        "  try:\n",
        "    if model_name.lower() == \"bert\":\n",
        "      bert_tokenizer = BertTokenizer.from_pretrained('bert-base-uncased')\n",
        "      bert_model = BertForMaskedLM.from_pretrained('bert-base-uncased').eval()\n",
        "      return bert_tokenizer,bert_model\n",
        "  except Exception as e:\n",
        "    pass"
      ],
      "execution_count": null,
      "outputs": []
    },
    {
      "cell_type": "code",
      "metadata": {
        "id": "pOcQKOGG-H8F"
      },
      "source": [
        "def decode(tokenizer, pred_idx, top_clean):\n",
        "  ignore_tokens = string.punctuation + '[PAD]'\n",
        "  tokens = []\n",
        "  for w in pred_idx:\n",
        "    token = ''.join(tokenizer.decode(w).split())\n",
        "    if token not in ignore_tokens:\n",
        "      tokens.append(token.replace('##', ''))\n",
        "  return '\\n'.join(tokens[:top_clean])"
      ],
      "execution_count": null,
      "outputs": []
    },
    {
      "cell_type": "code",
      "metadata": {
        "id": "CQkjSmGv-TxO"
      },
      "source": [
        "def encode(tokenizer, text_sentence, add_special_tokens=True):\n",
        "  text_sentence = text_sentence.replace('<mask>', tokenizer.mask_token)\n",
        "  # if <mask> is the last token, append a \".\" so that models dont predict punctuation.\n",
        "  if tokenizer.mask_token == text_sentence.split()[-1]:\n",
        "    text_sentence += ' .'\n",
        "  input_ids = torch.tensor([tokenizer.encode(text_sentence, add_special_tokens=add_special_tokens)])\n",
        "  mask_idx = torch.where(input_ids == tokenizer.mask_token_id)[1].tolist()[0]\n",
        "  return input_ids, mask_idx"
      ],
      "execution_count": null,
      "outputs": []
    },
    {
      "cell_type": "code",
      "metadata": {
        "id": "fFWOHB5n-ZQh"
      },
      "source": [
        "def get_all_predictions(text_sentence, top_clean=5):\n",
        "  input_ids, mask_idx = encode(bert_tokenizer, text_sentence)\n",
        "  with torch.no_grad():\n",
        "    predict = bert_model(input_ids)[0]\n",
        "    print(predict.shape)\n",
        "    \n",
        "    bert = decode(bert_tokenizer, predict[0, mask_idx, :].topk(top_k).indices.tolist(), top_clean)\n",
        "  return {'bert': bert}"
      ],
      "execution_count": null,
      "outputs": []
    },
    {
      "cell_type": "code",
      "metadata": {
        "id": "4lQHVc0l-igk"
      },
      "source": [
        "def get_prediction_eos(input_text):\n",
        "  try:\n",
        "    input_text += ' <mask>'\n",
        "    res = get_all_predictions(input_text, top_clean=int(top_k))\n",
        "    return res\n",
        "  except Exception as error:\n",
        "    pass"
      ],
      "execution_count": null,
      "outputs": []
    },
    {
      "cell_type": "code",
      "metadata": {
        "id": "XQZ-swMD9lyU"
      },
      "source": [
        "# Below code predicts the next top_k words. You can modify this to get next n words using top_k=1 and greedy decoding it. \n",
        "top_k= 3\n",
        "print('Predict next ', top_k, ' words')\n",
        "model_name = 'BERT'\n",
        "bert_tokenizer, bert_model  = load_model(model_name) \n",
        "input_text = \"\" ### GIVE YOUR INPUT STRING HERE\n",
        "res = get_prediction_eos(input_text)\n",
        "answer = []\n",
        "print(res['bert'].split(\"\\n\"))\n",
        "for i in res['bert'].split(\"\\n\"):\n",
        "  answer.append(i)\n",
        "  answer_as_string = \"    \".join(answer)\n",
        "\n",
        "print(answer_as_string)"
      ],
      "execution_count": null,
      "outputs": []
    }
  ]
}
